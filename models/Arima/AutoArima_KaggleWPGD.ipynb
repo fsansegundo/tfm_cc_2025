{
 "cells": [
  {
   "cell_type": "markdown",
   "id": "50ef451e",
   "metadata": {},
   "source": [
    "# AutoARIMA Forecasting with Nixtla's NeuralForecast"
   ]
  },
  {
   "cell_type": "markdown",
   "id": "68234bc2",
   "metadata": {},
   "source": [
    "## Dataset: KaggleWPGD"
   ]
  },
  {
   "cell_type": "markdown",
   "id": "1b0bfb3a",
   "metadata": {},
   "source": [
    "This notebook demonstrates how to use the classic LTM forecasting model described in:\n",
    "\n",
    "\n",
    "\n",
    "The implementation we use is provided by Nixtla's NeuralForecast library:\n",
    "\n",
    "+ for the base model [`LSTM`](https://nixtlaverse.nixtla.io/neuralforecast/models.lstm.html#lstm)\n",
    "+ for the automodel [`AutoLSTM`](https://nixtlaverse.nixtla.io/neuralforecast/models.html#autolstm)\n",
    "\n",
    "## Important note:\n",
    "\n",
    "This notebook uses the following conda environments:\n",
    "\n",
    "+ Under linux: tfm_cc, described in the tfm_cc.yml file (see environments folder).\n",
    "+ Under macOS: tfm_cc_nixtla, described in the tfm_cc_nixtla.yml file (see environments folder). \n",
    "\n",
    "## Execution Notes:\n",
    "\n",
    "The run times that appear below correspond to the execution of the notebook in a Linux machine under Ubuntu 22.04 LTS with Intel Core i7-10870H CPU (2.20GHz), 64GB of RAM, NVIDIA GeForce RTX 3060 Laptop GPU with 6Gb VRAM."
   ]
  },
  {
   "cell_type": "markdown",
   "id": "2686166e",
   "metadata": {},
   "source": [
    "## Load basic libraries\n",
    "\n",
    "**Warning:** Model specific libraries will be loaded below."
   ]
  },
  {
   "cell_type": "code",
   "execution_count": 1,
   "id": "b8f9a3e9",
   "metadata": {},
   "outputs": [],
   "source": [
    "import pandas as pd\n",
    "import numpy as np\n",
    "import matplotlib.pyplot as plt\n",
    "\n",
    "import time\n",
    "import logging\n",
    "\n",
    "\n",
    "\n",
    "from sklearn.preprocessing import MinMaxScaler\n",
    "from sklearn.preprocessing import StandardScaler\n",
    "from sklearn.model_selection import train_test_split\n",
    "from sklearn.metrics import mean_absolute_error\n"
   ]
  },
  {
   "cell_type": "markdown",
   "id": "e09a52be",
   "metadata": {},
   "source": [
    "## Load dataset"
   ]
  },
  {
   "cell_type": "markdown",
   "id": "a39e23fc",
   "metadata": {},
   "source": [
    "The data in this notebook comes from the Kaggle dataset:\n",
    "\n",
    "[Wind Power Generation Data - Forecasting](https://www.kaggle.com/datasets/mubashirrahim/wind-power-generation-data-forecasting/data)"
   ]
  },
  {
   "cell_type": "code",
   "execution_count": 2,
   "id": "4c104580",
   "metadata": {},
   "outputs": [
    {
     "data": {
      "text/html": [
       "<div>\n",
       "<style scoped>\n",
       "    .dataframe tbody tr th:only-of-type {\n",
       "        vertical-align: middle;\n",
       "    }\n",
       "\n",
       "    .dataframe tbody tr th {\n",
       "        vertical-align: top;\n",
       "    }\n",
       "\n",
       "    .dataframe thead th {\n",
       "        text-align: right;\n",
       "    }\n",
       "</style>\n",
       "<table border=\"1\" class=\"dataframe\">\n",
       "  <thead>\n",
       "    <tr style=\"text-align: right;\">\n",
       "      <th></th>\n",
       "      <th>Time</th>\n",
       "      <th>temperature_2m</th>\n",
       "      <th>relativehumidity_2m</th>\n",
       "      <th>dewpoint_2m</th>\n",
       "      <th>windspeed_10m</th>\n",
       "      <th>windspeed_100m</th>\n",
       "      <th>winddirection_10m</th>\n",
       "      <th>winddirection_100m</th>\n",
       "      <th>windgusts_10m</th>\n",
       "      <th>Power</th>\n",
       "    </tr>\n",
       "  </thead>\n",
       "  <tbody>\n",
       "    <tr>\n",
       "      <th>0</th>\n",
       "      <td>2017-01-02 00:00:00</td>\n",
       "      <td>28.5</td>\n",
       "      <td>85</td>\n",
       "      <td>24.5</td>\n",
       "      <td>1.44</td>\n",
       "      <td>1.26</td>\n",
       "      <td>146</td>\n",
       "      <td>162</td>\n",
       "      <td>1.4</td>\n",
       "      <td>0.1635</td>\n",
       "    </tr>\n",
       "    <tr>\n",
       "      <th>1</th>\n",
       "      <td>2017-01-02 01:00:00</td>\n",
       "      <td>28.4</td>\n",
       "      <td>86</td>\n",
       "      <td>24.7</td>\n",
       "      <td>2.06</td>\n",
       "      <td>3.99</td>\n",
       "      <td>151</td>\n",
       "      <td>158</td>\n",
       "      <td>4.4</td>\n",
       "      <td>0.1424</td>\n",
       "    </tr>\n",
       "    <tr>\n",
       "      <th>2</th>\n",
       "      <td>2017-01-02 02:00:00</td>\n",
       "      <td>26.8</td>\n",
       "      <td>91</td>\n",
       "      <td>24.5</td>\n",
       "      <td>1.30</td>\n",
       "      <td>2.78</td>\n",
       "      <td>148</td>\n",
       "      <td>150</td>\n",
       "      <td>3.2</td>\n",
       "      <td>0.1214</td>\n",
       "    </tr>\n",
       "    <tr>\n",
       "      <th>3</th>\n",
       "      <td>2017-01-02 03:00:00</td>\n",
       "      <td>27.4</td>\n",
       "      <td>88</td>\n",
       "      <td>24.3</td>\n",
       "      <td>1.30</td>\n",
       "      <td>2.69</td>\n",
       "      <td>58</td>\n",
       "      <td>105</td>\n",
       "      <td>1.6</td>\n",
       "      <td>0.1003</td>\n",
       "    </tr>\n",
       "    <tr>\n",
       "      <th>4</th>\n",
       "      <td>2017-01-02 04:00:00</td>\n",
       "      <td>27.3</td>\n",
       "      <td>88</td>\n",
       "      <td>24.1</td>\n",
       "      <td>2.47</td>\n",
       "      <td>4.43</td>\n",
       "      <td>58</td>\n",
       "      <td>84</td>\n",
       "      <td>4.0</td>\n",
       "      <td>0.0793</td>\n",
       "    </tr>\n",
       "  </tbody>\n",
       "</table>\n",
       "</div>"
      ],
      "text/plain": [
       "                  Time  temperature_2m  relativehumidity_2m  dewpoint_2m  \\\n",
       "0  2017-01-02 00:00:00            28.5                   85         24.5   \n",
       "1  2017-01-02 01:00:00            28.4                   86         24.7   \n",
       "2  2017-01-02 02:00:00            26.8                   91         24.5   \n",
       "3  2017-01-02 03:00:00            27.4                   88         24.3   \n",
       "4  2017-01-02 04:00:00            27.3                   88         24.1   \n",
       "\n",
       "   windspeed_10m  windspeed_100m  winddirection_10m  winddirection_100m  \\\n",
       "0           1.44            1.26                146                 162   \n",
       "1           2.06            3.99                151                 158   \n",
       "2           1.30            2.78                148                 150   \n",
       "3           1.30            2.69                 58                 105   \n",
       "4           2.47            4.43                 58                  84   \n",
       "\n",
       "   windgusts_10m   Power  \n",
       "0            1.4  0.1635  \n",
       "1            4.4  0.1424  \n",
       "2            3.2  0.1214  \n",
       "3            1.6  0.1003  \n",
       "4            4.0  0.0793  "
      ]
     },
     "execution_count": 2,
     "metadata": {},
     "output_type": "execute_result"
    }
   ],
   "source": [
    "file_path = \"../../data/kaggleWPGD/Location1.csv\"\n",
    "df = pd.read_csv(file_path, delimiter=',')\n",
    "df.head()"
   ]
  },
  {
   "cell_type": "markdown",
   "id": "a20ce445",
   "metadata": {},
   "source": [
    "### Set datetime format and index"
   ]
  },
  {
   "cell_type": "code",
   "execution_count": 3,
   "id": "a4e5b23c",
   "metadata": {},
   "outputs": [
    {
     "data": {
      "text/html": [
       "<div>\n",
       "<style scoped>\n",
       "    .dataframe tbody tr th:only-of-type {\n",
       "        vertical-align: middle;\n",
       "    }\n",
       "\n",
       "    .dataframe tbody tr th {\n",
       "        vertical-align: top;\n",
       "    }\n",
       "\n",
       "    .dataframe thead th {\n",
       "        text-align: right;\n",
       "    }\n",
       "</style>\n",
       "<table border=\"1\" class=\"dataframe\">\n",
       "  <thead>\n",
       "    <tr style=\"text-align: right;\">\n",
       "      <th></th>\n",
       "      <th>temperature_2m</th>\n",
       "      <th>relativehumidity_2m</th>\n",
       "      <th>dewpoint_2m</th>\n",
       "      <th>windspeed_10m</th>\n",
       "      <th>windspeed_100m</th>\n",
       "      <th>winddirection_10m</th>\n",
       "      <th>winddirection_100m</th>\n",
       "      <th>windgusts_10m</th>\n",
       "      <th>Power</th>\n",
       "    </tr>\n",
       "    <tr>\n",
       "      <th>time</th>\n",
       "      <th></th>\n",
       "      <th></th>\n",
       "      <th></th>\n",
       "      <th></th>\n",
       "      <th></th>\n",
       "      <th></th>\n",
       "      <th></th>\n",
       "      <th></th>\n",
       "      <th></th>\n",
       "    </tr>\n",
       "  </thead>\n",
       "  <tbody>\n",
       "    <tr>\n",
       "      <th>2017-01-02 00:00:00</th>\n",
       "      <td>28.5</td>\n",
       "      <td>85</td>\n",
       "      <td>24.5</td>\n",
       "      <td>1.44</td>\n",
       "      <td>1.26</td>\n",
       "      <td>146</td>\n",
       "      <td>162</td>\n",
       "      <td>1.4</td>\n",
       "      <td>0.1635</td>\n",
       "    </tr>\n",
       "    <tr>\n",
       "      <th>2017-01-02 01:00:00</th>\n",
       "      <td>28.4</td>\n",
       "      <td>86</td>\n",
       "      <td>24.7</td>\n",
       "      <td>2.06</td>\n",
       "      <td>3.99</td>\n",
       "      <td>151</td>\n",
       "      <td>158</td>\n",
       "      <td>4.4</td>\n",
       "      <td>0.1424</td>\n",
       "    </tr>\n",
       "    <tr>\n",
       "      <th>2017-01-02 02:00:00</th>\n",
       "      <td>26.8</td>\n",
       "      <td>91</td>\n",
       "      <td>24.5</td>\n",
       "      <td>1.30</td>\n",
       "      <td>2.78</td>\n",
       "      <td>148</td>\n",
       "      <td>150</td>\n",
       "      <td>3.2</td>\n",
       "      <td>0.1214</td>\n",
       "    </tr>\n",
       "    <tr>\n",
       "      <th>2017-01-02 03:00:00</th>\n",
       "      <td>27.4</td>\n",
       "      <td>88</td>\n",
       "      <td>24.3</td>\n",
       "      <td>1.30</td>\n",
       "      <td>2.69</td>\n",
       "      <td>58</td>\n",
       "      <td>105</td>\n",
       "      <td>1.6</td>\n",
       "      <td>0.1003</td>\n",
       "    </tr>\n",
       "    <tr>\n",
       "      <th>2017-01-02 04:00:00</th>\n",
       "      <td>27.3</td>\n",
       "      <td>88</td>\n",
       "      <td>24.1</td>\n",
       "      <td>2.47</td>\n",
       "      <td>4.43</td>\n",
       "      <td>58</td>\n",
       "      <td>84</td>\n",
       "      <td>4.0</td>\n",
       "      <td>0.0793</td>\n",
       "    </tr>\n",
       "  </tbody>\n",
       "</table>\n",
       "</div>"
      ],
      "text/plain": [
       "                     temperature_2m  relativehumidity_2m  dewpoint_2m  \\\n",
       "time                                                                    \n",
       "2017-01-02 00:00:00            28.5                   85         24.5   \n",
       "2017-01-02 01:00:00            28.4                   86         24.7   \n",
       "2017-01-02 02:00:00            26.8                   91         24.5   \n",
       "2017-01-02 03:00:00            27.4                   88         24.3   \n",
       "2017-01-02 04:00:00            27.3                   88         24.1   \n",
       "\n",
       "                     windspeed_10m  windspeed_100m  winddirection_10m  \\\n",
       "time                                                                    \n",
       "2017-01-02 00:00:00           1.44            1.26                146   \n",
       "2017-01-02 01:00:00           2.06            3.99                151   \n",
       "2017-01-02 02:00:00           1.30            2.78                148   \n",
       "2017-01-02 03:00:00           1.30            2.69                 58   \n",
       "2017-01-02 04:00:00           2.47            4.43                 58   \n",
       "\n",
       "                     winddirection_100m  windgusts_10m   Power  \n",
       "time                                                            \n",
       "2017-01-02 00:00:00                 162            1.4  0.1635  \n",
       "2017-01-02 01:00:00                 158            4.4  0.1424  \n",
       "2017-01-02 02:00:00                 150            3.2  0.1214  \n",
       "2017-01-02 03:00:00                 105            1.6  0.1003  \n",
       "2017-01-02 04:00:00                  84            4.0  0.0793  "
      ]
     },
     "execution_count": 3,
     "metadata": {},
     "output_type": "execute_result"
    }
   ],
   "source": [
    "df['time'] = pd.to_datetime(df['Time'], format='%Y-%m-%d %H:%M:00')\n",
    "df.drop(columns=['Time'], inplace=True)\n",
    "df.set_index('time', inplace=True)\n",
    "df.head()"
   ]
  },
  {
   "cell_type": "code",
   "execution_count": 4,
   "id": "9c90ee1d",
   "metadata": {},
   "outputs": [
    {
     "name": "stdout",
     "output_type": "stream",
     "text": [
      "<class 'pandas.core.frame.DataFrame'>\n",
      "DatetimeIndex: 43800 entries, 2017-01-02 00:00:00 to 2021-12-31 23:00:00\n",
      "Data columns (total 9 columns):\n",
      " #   Column               Non-Null Count  Dtype  \n",
      "---  ------               --------------  -----  \n",
      " 0   temperature_2m       43800 non-null  float64\n",
      " 1   relativehumidity_2m  43800 non-null  int64  \n",
      " 2   dewpoint_2m          43800 non-null  float64\n",
      " 3   windspeed_10m        43800 non-null  float64\n",
      " 4   windspeed_100m       43800 non-null  float64\n",
      " 5   winddirection_10m    43800 non-null  int64  \n",
      " 6   winddirection_100m   43800 non-null  int64  \n",
      " 7   windgusts_10m        43800 non-null  float64\n",
      " 8   Power                43800 non-null  float64\n",
      "dtypes: float64(6), int64(3)\n",
      "memory usage: 3.3 MB\n"
     ]
    }
   ],
   "source": [
    "df.info()"
   ]
  },
  {
   "cell_type": "markdown",
   "id": "92c2a710",
   "metadata": {},
   "source": [
    "### Select a subset of the data\n"
   ]
  },
  {
   "cell_type": "code",
   "execution_count": 5,
   "id": "5cbb56bd",
   "metadata": {},
   "outputs": [],
   "source": [
    "df = df.head(7248)"
   ]
  },
  {
   "cell_type": "markdown",
   "id": "56694b75",
   "metadata": {},
   "source": [
    "### Rename the columns"
   ]
  },
  {
   "cell_type": "code",
   "execution_count": 6,
   "id": "bd29e3c5",
   "metadata": {},
   "outputs": [
    {
     "data": {
      "text/plain": [
       "['temperature_2m',\n",
       " 'relativehumidity_2m',\n",
       " 'dewpoint_2m',\n",
       " 'windspeed_10m',\n",
       " 'windspeed_100m',\n",
       " 'winddirection_10m',\n",
       " 'winddirection_100m',\n",
       " 'windgusts_10m',\n",
       " 'Power']"
      ]
     },
     "execution_count": 6,
     "metadata": {},
     "output_type": "execute_result"
    }
   ],
   "source": [
    "initial_columns = df.columns.tolist()\n",
    "initial_columns"
   ]
  },
  {
   "cell_type": "code",
   "execution_count": 7,
   "id": "6ba3119d",
   "metadata": {},
   "outputs": [
    {
     "data": {
      "text/html": [
       "<div>\n",
       "<style scoped>\n",
       "    .dataframe tbody tr th:only-of-type {\n",
       "        vertical-align: middle;\n",
       "    }\n",
       "\n",
       "    .dataframe tbody tr th {\n",
       "        vertical-align: top;\n",
       "    }\n",
       "\n",
       "    .dataframe thead th {\n",
       "        text-align: right;\n",
       "    }\n",
       "</style>\n",
       "<table border=\"1\" class=\"dataframe\">\n",
       "  <thead>\n",
       "    <tr style=\"text-align: right;\">\n",
       "      <th></th>\n",
       "      <th>Active_Power</th>\n",
       "      <th>Wind_speed_tower</th>\n",
       "    </tr>\n",
       "    <tr>\n",
       "      <th>time</th>\n",
       "      <th></th>\n",
       "      <th></th>\n",
       "    </tr>\n",
       "  </thead>\n",
       "  <tbody>\n",
       "    <tr>\n",
       "      <th>2017-01-02 00:00:00</th>\n",
       "      <td>0.1635</td>\n",
       "      <td>1.44</td>\n",
       "    </tr>\n",
       "    <tr>\n",
       "      <th>2017-01-02 01:00:00</th>\n",
       "      <td>0.1424</td>\n",
       "      <td>2.06</td>\n",
       "    </tr>\n",
       "    <tr>\n",
       "      <th>2017-01-02 02:00:00</th>\n",
       "      <td>0.1214</td>\n",
       "      <td>1.30</td>\n",
       "    </tr>\n",
       "    <tr>\n",
       "      <th>2017-01-02 03:00:00</th>\n",
       "      <td>0.1003</td>\n",
       "      <td>1.30</td>\n",
       "    </tr>\n",
       "    <tr>\n",
       "      <th>2017-01-02 04:00:00</th>\n",
       "      <td>0.0793</td>\n",
       "      <td>2.47</td>\n",
       "    </tr>\n",
       "    <tr>\n",
       "      <th>...</th>\n",
       "      <td>...</td>\n",
       "      <td>...</td>\n",
       "    </tr>\n",
       "    <tr>\n",
       "      <th>2017-10-30 19:00:00</th>\n",
       "      <td>0.6847</td>\n",
       "      <td>5.89</td>\n",
       "    </tr>\n",
       "    <tr>\n",
       "      <th>2017-10-30 20:00:00</th>\n",
       "      <td>0.6841</td>\n",
       "      <td>6.32</td>\n",
       "    </tr>\n",
       "    <tr>\n",
       "      <th>2017-10-30 21:00:00</th>\n",
       "      <td>0.6834</td>\n",
       "      <td>6.52</td>\n",
       "    </tr>\n",
       "    <tr>\n",
       "      <th>2017-10-30 22:00:00</th>\n",
       "      <td>0.6828</td>\n",
       "      <td>6.33</td>\n",
       "    </tr>\n",
       "    <tr>\n",
       "      <th>2017-10-30 23:00:00</th>\n",
       "      <td>0.6822</td>\n",
       "      <td>6.15</td>\n",
       "    </tr>\n",
       "  </tbody>\n",
       "</table>\n",
       "<p>7248 rows × 2 columns</p>\n",
       "</div>"
      ],
      "text/plain": [
       "                     Active_Power  Wind_speed_tower\n",
       "time                                               \n",
       "2017-01-02 00:00:00        0.1635              1.44\n",
       "2017-01-02 01:00:00        0.1424              2.06\n",
       "2017-01-02 02:00:00        0.1214              1.30\n",
       "2017-01-02 03:00:00        0.1003              1.30\n",
       "2017-01-02 04:00:00        0.0793              2.47\n",
       "...                           ...               ...\n",
       "2017-10-30 19:00:00        0.6847              5.89\n",
       "2017-10-30 20:00:00        0.6841              6.32\n",
       "2017-10-30 21:00:00        0.6834              6.52\n",
       "2017-10-30 22:00:00        0.6828              6.33\n",
       "2017-10-30 23:00:00        0.6822              6.15\n",
       "\n",
       "[7248 rows x 2 columns]"
      ]
     },
     "execution_count": 7,
     "metadata": {},
     "output_type": "execute_result"
    }
   ],
   "source": [
    "df.rename(columns={'Power' : 'Active_Power', 'windspeed_10m' : 'Wind_speed_tower'}, inplace=True)\n",
    "df = df[['Active_Power', 'Wind_speed_tower']]\n",
    "df"
   ]
  },
  {
   "cell_type": "markdown",
   "id": "8bdacce4",
   "metadata": {},
   "source": [
    "### Check for missing values and duplicated dates"
   ]
  },
  {
   "cell_type": "markdown",
   "id": "81dbd57a",
   "metadata": {},
   "source": [
    "There are no missing data in this dataset"
   ]
  },
  {
   "cell_type": "code",
   "execution_count": 8,
   "id": "bde9644d",
   "metadata": {},
   "outputs": [
    {
     "name": "stdout",
     "output_type": "stream",
     "text": [
      "Active_Power        0\n",
      "Wind_speed_tower    0\n",
      "dtype: int64\n"
     ]
    }
   ],
   "source": [
    "print(df.isna().sum())"
   ]
  },
  {
   "cell_type": "code",
   "execution_count": 9,
   "id": "1af2bf35",
   "metadata": {},
   "outputs": [
    {
     "name": "stdout",
     "output_type": "stream",
     "text": [
      "Number of duplicate timestamps: 0\n",
      "DatetimeIndex([], dtype='datetime64[ns]', name='time', freq=None)\n"
     ]
    }
   ],
   "source": [
    "duplicate_dates = df.index[df.index.duplicated(keep='first')]\n",
    "print(f\"Number of duplicate timestamps: {len(duplicate_dates)}\")\n",
    "print(duplicate_dates)"
   ]
  },
  {
   "cell_type": "code",
   "execution_count": 10,
   "id": "29e13e6f",
   "metadata": {},
   "outputs": [
    {
     "name": "stdout",
     "output_type": "stream",
     "text": [
      "Missing timestamps: DatetimeIndex([], dtype='datetime64[ns]', freq='h')\n"
     ]
    }
   ],
   "source": [
    "expected = pd.date_range(start=df.index.min(), end=df.index.max(), freq='h')\n",
    "missing = expected.difference(df.index)\n",
    "print(\"Missing timestamps:\", missing)\n",
    "\n"
   ]
  },
  {
   "cell_type": "code",
   "execution_count": 11,
   "id": "55b72534",
   "metadata": {},
   "outputs": [
    {
     "data": {
      "text/plain": [
       "Series([], Name: count, dtype: int64)"
      ]
     },
     "execution_count": 11,
     "metadata": {},
     "output_type": "execute_result"
    }
   ],
   "source": [
    "missing_df = pd.DataFrame({'missing':missing})\n",
    "missing_df['date'] = missing_df['missing'].dt.date\n",
    "missing_df.value_counts('date').sort_index()"
   ]
  },
  {
   "cell_type": "markdown",
   "id": "974340d3",
   "metadata": {},
   "source": [
    "### Target and exogenous variables"
   ]
  },
  {
   "cell_type": "code",
   "execution_count": 12,
   "id": "08e15c2f",
   "metadata": {},
   "outputs": [
    {
     "data": {
      "text/plain": [
       "['Wind_speed_tower']"
      ]
     },
     "execution_count": 12,
     "metadata": {},
     "output_type": "execute_result"
    }
   ],
   "source": [
    "target = 'Active_Power'\n",
    "\n",
    "features = [col for col in df.columns if col != target]\n",
    "features = features[:1]\n",
    "features\n"
   ]
  },
  {
   "cell_type": "code",
   "execution_count": 13,
   "id": "4fb46016",
   "metadata": {},
   "outputs": [
    {
     "data": {
      "text/html": [
       "<div>\n",
       "<style scoped>\n",
       "    .dataframe tbody tr th:only-of-type {\n",
       "        vertical-align: middle;\n",
       "    }\n",
       "\n",
       "    .dataframe tbody tr th {\n",
       "        vertical-align: top;\n",
       "    }\n",
       "\n",
       "    .dataframe thead th {\n",
       "        text-align: right;\n",
       "    }\n",
       "</style>\n",
       "<table border=\"1\" class=\"dataframe\">\n",
       "  <thead>\n",
       "    <tr style=\"text-align: right;\">\n",
       "      <th></th>\n",
       "      <th>Wind_speed_tower</th>\n",
       "      <th>Active_Power</th>\n",
       "    </tr>\n",
       "    <tr>\n",
       "      <th>time</th>\n",
       "      <th></th>\n",
       "      <th></th>\n",
       "    </tr>\n",
       "  </thead>\n",
       "  <tbody>\n",
       "    <tr>\n",
       "      <th>2017-01-02 00:00:00</th>\n",
       "      <td>1.44</td>\n",
       "      <td>0.1635</td>\n",
       "    </tr>\n",
       "    <tr>\n",
       "      <th>2017-01-02 01:00:00</th>\n",
       "      <td>2.06</td>\n",
       "      <td>0.1424</td>\n",
       "    </tr>\n",
       "    <tr>\n",
       "      <th>2017-01-02 02:00:00</th>\n",
       "      <td>1.30</td>\n",
       "      <td>0.1214</td>\n",
       "    </tr>\n",
       "    <tr>\n",
       "      <th>2017-01-02 03:00:00</th>\n",
       "      <td>1.30</td>\n",
       "      <td>0.1003</td>\n",
       "    </tr>\n",
       "    <tr>\n",
       "      <th>2017-01-02 04:00:00</th>\n",
       "      <td>2.47</td>\n",
       "      <td>0.0793</td>\n",
       "    </tr>\n",
       "    <tr>\n",
       "      <th>...</th>\n",
       "      <td>...</td>\n",
       "      <td>...</td>\n",
       "    </tr>\n",
       "    <tr>\n",
       "      <th>2017-10-30 19:00:00</th>\n",
       "      <td>5.89</td>\n",
       "      <td>0.6847</td>\n",
       "    </tr>\n",
       "    <tr>\n",
       "      <th>2017-10-30 20:00:00</th>\n",
       "      <td>6.32</td>\n",
       "      <td>0.6841</td>\n",
       "    </tr>\n",
       "    <tr>\n",
       "      <th>2017-10-30 21:00:00</th>\n",
       "      <td>6.52</td>\n",
       "      <td>0.6834</td>\n",
       "    </tr>\n",
       "    <tr>\n",
       "      <th>2017-10-30 22:00:00</th>\n",
       "      <td>6.33</td>\n",
       "      <td>0.6828</td>\n",
       "    </tr>\n",
       "    <tr>\n",
       "      <th>2017-10-30 23:00:00</th>\n",
       "      <td>6.15</td>\n",
       "      <td>0.6822</td>\n",
       "    </tr>\n",
       "  </tbody>\n",
       "</table>\n",
       "<p>7248 rows × 2 columns</p>\n",
       "</div>"
      ],
      "text/plain": [
       "                     Wind_speed_tower  Active_Power\n",
       "time                                               \n",
       "2017-01-02 00:00:00              1.44        0.1635\n",
       "2017-01-02 01:00:00              2.06        0.1424\n",
       "2017-01-02 02:00:00              1.30        0.1214\n",
       "2017-01-02 03:00:00              1.30        0.1003\n",
       "2017-01-02 04:00:00              2.47        0.0793\n",
       "...                               ...           ...\n",
       "2017-10-30 19:00:00              5.89        0.6847\n",
       "2017-10-30 20:00:00              6.32        0.6841\n",
       "2017-10-30 21:00:00              6.52        0.6834\n",
       "2017-10-30 22:00:00              6.33        0.6828\n",
       "2017-10-30 23:00:00              6.15        0.6822\n",
       "\n",
       "[7248 rows x 2 columns]"
      ]
     },
     "execution_count": 13,
     "metadata": {},
     "output_type": "execute_result"
    }
   ],
   "source": [
    "df = df[features + [target]]\n",
    "df"
   ]
  },
  {
   "cell_type": "markdown",
   "id": "7e8d7469",
   "metadata": {},
   "source": [
    "## Train / Validation / Test split"
   ]
  },
  {
   "cell_type": "markdown",
   "id": "fa330a38",
   "metadata": {},
   "source": [
    "We select the following lengths for the train, validation, and test sets:"
   ]
  },
  {
   "cell_type": "code",
   "execution_count": 14,
   "id": "c16a3f0f",
   "metadata": {},
   "outputs": [
    {
     "data": {
      "text/plain": [
       "5799"
      ]
     },
     "execution_count": 14,
     "metadata": {},
     "output_type": "execute_result"
    }
   ],
   "source": [
    "int(np.ceil(df.shape[0] * 0.8))"
   ]
  },
  {
   "cell_type": "code",
   "execution_count": 15,
   "id": "25c30ff0",
   "metadata": {},
   "outputs": [
    {
     "name": "stdout",
     "output_type": "stream",
     "text": [
      "Train length: 5800\n",
      "Validation length: 724\n",
      "Test length: 724\n"
     ]
    }
   ],
   "source": [
    "train_len = 5800\n",
    "print(f\"Train length: {train_len}\")\n",
    "\n",
    "val_len = (df.shape[0] - train_len) // 2\n",
    "print(f\"Validation length: {val_len}\")\n",
    "\n",
    "test_len = df.shape[0] - train_len - val_len\n",
    "print(f\"Test length: {test_len}\")"
   ]
  },
  {
   "cell_type": "markdown",
   "id": "ccc7a2e7",
   "metadata": {},
   "source": [
    "And we split the time series into train, validation, and test sets:"
   ]
  },
  {
   "cell_type": "code",
   "execution_count": 16,
   "id": "b816cd9a",
   "metadata": {},
   "outputs": [
    {
     "data": {
      "text/html": [
       "<div>\n",
       "<style scoped>\n",
       "    .dataframe tbody tr th:only-of-type {\n",
       "        vertical-align: middle;\n",
       "    }\n",
       "\n",
       "    .dataframe tbody tr th {\n",
       "        vertical-align: top;\n",
       "    }\n",
       "\n",
       "    .dataframe thead th {\n",
       "        text-align: right;\n",
       "    }\n",
       "</style>\n",
       "<table border=\"1\" class=\"dataframe\">\n",
       "  <thead>\n",
       "    <tr style=\"text-align: right;\">\n",
       "      <th></th>\n",
       "      <th>Wind_speed_tower</th>\n",
       "      <th>Active_Power</th>\n",
       "    </tr>\n",
       "    <tr>\n",
       "      <th>time</th>\n",
       "      <th></th>\n",
       "      <th></th>\n",
       "    </tr>\n",
       "  </thead>\n",
       "  <tbody>\n",
       "    <tr>\n",
       "      <th>2017-01-02 00:00:00</th>\n",
       "      <td>1.44</td>\n",
       "      <td>0.1635</td>\n",
       "    </tr>\n",
       "    <tr>\n",
       "      <th>2017-01-02 01:00:00</th>\n",
       "      <td>2.06</td>\n",
       "      <td>0.1424</td>\n",
       "    </tr>\n",
       "    <tr>\n",
       "      <th>2017-01-02 02:00:00</th>\n",
       "      <td>1.30</td>\n",
       "      <td>0.1214</td>\n",
       "    </tr>\n",
       "    <tr>\n",
       "      <th>2017-01-02 03:00:00</th>\n",
       "      <td>1.30</td>\n",
       "      <td>0.1003</td>\n",
       "    </tr>\n",
       "    <tr>\n",
       "      <th>2017-01-02 04:00:00</th>\n",
       "      <td>2.47</td>\n",
       "      <td>0.0793</td>\n",
       "    </tr>\n",
       "    <tr>\n",
       "      <th>...</th>\n",
       "      <td>...</td>\n",
       "      <td>...</td>\n",
       "    </tr>\n",
       "    <tr>\n",
       "      <th>2017-08-31 11:00:00</th>\n",
       "      <td>4.83</td>\n",
       "      <td>0.6155</td>\n",
       "    </tr>\n",
       "    <tr>\n",
       "      <th>2017-08-31 12:00:00</th>\n",
       "      <td>5.15</td>\n",
       "      <td>0.5935</td>\n",
       "    </tr>\n",
       "    <tr>\n",
       "      <th>2017-08-31 13:00:00</th>\n",
       "      <td>5.47</td>\n",
       "      <td>0.5536</td>\n",
       "    </tr>\n",
       "    <tr>\n",
       "      <th>2017-08-31 14:00:00</th>\n",
       "      <td>5.61</td>\n",
       "      <td>0.5137</td>\n",
       "    </tr>\n",
       "    <tr>\n",
       "      <th>2017-08-31 15:00:00</th>\n",
       "      <td>5.79</td>\n",
       "      <td>0.4738</td>\n",
       "    </tr>\n",
       "  </tbody>\n",
       "</table>\n",
       "<p>5800 rows × 2 columns</p>\n",
       "</div>"
      ],
      "text/plain": [
       "                     Wind_speed_tower  Active_Power\n",
       "time                                               \n",
       "2017-01-02 00:00:00              1.44        0.1635\n",
       "2017-01-02 01:00:00              2.06        0.1424\n",
       "2017-01-02 02:00:00              1.30        0.1214\n",
       "2017-01-02 03:00:00              1.30        0.1003\n",
       "2017-01-02 04:00:00              2.47        0.0793\n",
       "...                               ...           ...\n",
       "2017-08-31 11:00:00              4.83        0.6155\n",
       "2017-08-31 12:00:00              5.15        0.5935\n",
       "2017-08-31 13:00:00              5.47        0.5536\n",
       "2017-08-31 14:00:00              5.61        0.5137\n",
       "2017-08-31 15:00:00              5.79        0.4738\n",
       "\n",
       "[5800 rows x 2 columns]"
      ]
     },
     "execution_count": 16,
     "metadata": {},
     "output_type": "execute_result"
    }
   ],
   "source": [
    "train_df = df.iloc[:train_len]\n",
    "train_df"
   ]
  },
  {
   "cell_type": "code",
   "execution_count": 17,
   "id": "9a4e1679",
   "metadata": {},
   "outputs": [
    {
     "data": {
      "text/html": [
       "<div>\n",
       "<style scoped>\n",
       "    .dataframe tbody tr th:only-of-type {\n",
       "        vertical-align: middle;\n",
       "    }\n",
       "\n",
       "    .dataframe tbody tr th {\n",
       "        vertical-align: top;\n",
       "    }\n",
       "\n",
       "    .dataframe thead th {\n",
       "        text-align: right;\n",
       "    }\n",
       "</style>\n",
       "<table border=\"1\" class=\"dataframe\">\n",
       "  <thead>\n",
       "    <tr style=\"text-align: right;\">\n",
       "      <th></th>\n",
       "      <th>Wind_speed_tower</th>\n",
       "      <th>Active_Power</th>\n",
       "    </tr>\n",
       "    <tr>\n",
       "      <th>time</th>\n",
       "      <th></th>\n",
       "      <th></th>\n",
       "    </tr>\n",
       "  </thead>\n",
       "  <tbody>\n",
       "    <tr>\n",
       "      <th>2017-08-31 16:00:00</th>\n",
       "      <td>5.87</td>\n",
       "      <td>0.4339</td>\n",
       "    </tr>\n",
       "    <tr>\n",
       "      <th>2017-08-31 17:00:00</th>\n",
       "      <td>5.19</td>\n",
       "      <td>0.3940</td>\n",
       "    </tr>\n",
       "    <tr>\n",
       "      <th>2017-08-31 18:00:00</th>\n",
       "      <td>4.26</td>\n",
       "      <td>0.3605</td>\n",
       "    </tr>\n",
       "    <tr>\n",
       "      <th>2017-08-31 19:00:00</th>\n",
       "      <td>2.21</td>\n",
       "      <td>0.3334</td>\n",
       "    </tr>\n",
       "    <tr>\n",
       "      <th>2017-08-31 20:00:00</th>\n",
       "      <td>2.55</td>\n",
       "      <td>0.3063</td>\n",
       "    </tr>\n",
       "    <tr>\n",
       "      <th>...</th>\n",
       "      <td>...</td>\n",
       "      <td>...</td>\n",
       "    </tr>\n",
       "    <tr>\n",
       "      <th>2017-09-30 15:00:00</th>\n",
       "      <td>2.12</td>\n",
       "      <td>0.0907</td>\n",
       "    </tr>\n",
       "    <tr>\n",
       "      <th>2017-09-30 16:00:00</th>\n",
       "      <td>2.42</td>\n",
       "      <td>0.0991</td>\n",
       "    </tr>\n",
       "    <tr>\n",
       "      <th>2017-09-30 17:00:00</th>\n",
       "      <td>2.10</td>\n",
       "      <td>0.1076</td>\n",
       "    </tr>\n",
       "    <tr>\n",
       "      <th>2017-09-30 18:00:00</th>\n",
       "      <td>2.20</td>\n",
       "      <td>0.1166</td>\n",
       "    </tr>\n",
       "    <tr>\n",
       "      <th>2017-09-30 19:00:00</th>\n",
       "      <td>1.97</td>\n",
       "      <td>0.1262</td>\n",
       "    </tr>\n",
       "  </tbody>\n",
       "</table>\n",
       "<p>724 rows × 2 columns</p>\n",
       "</div>"
      ],
      "text/plain": [
       "                     Wind_speed_tower  Active_Power\n",
       "time                                               \n",
       "2017-08-31 16:00:00              5.87        0.4339\n",
       "2017-08-31 17:00:00              5.19        0.3940\n",
       "2017-08-31 18:00:00              4.26        0.3605\n",
       "2017-08-31 19:00:00              2.21        0.3334\n",
       "2017-08-31 20:00:00              2.55        0.3063\n",
       "...                               ...           ...\n",
       "2017-09-30 15:00:00              2.12        0.0907\n",
       "2017-09-30 16:00:00              2.42        0.0991\n",
       "2017-09-30 17:00:00              2.10        0.1076\n",
       "2017-09-30 18:00:00              2.20        0.1166\n",
       "2017-09-30 19:00:00              1.97        0.1262\n",
       "\n",
       "[724 rows x 2 columns]"
      ]
     },
     "execution_count": 17,
     "metadata": {},
     "output_type": "execute_result"
    }
   ],
   "source": [
    "val_df = df.iloc[train_len:(train_len + val_len)]\n",
    "val_df"
   ]
  },
  {
   "cell_type": "code",
   "execution_count": 18,
   "id": "c9e7e393",
   "metadata": {},
   "outputs": [
    {
     "data": {
      "text/html": [
       "<div>\n",
       "<style scoped>\n",
       "    .dataframe tbody tr th:only-of-type {\n",
       "        vertical-align: middle;\n",
       "    }\n",
       "\n",
       "    .dataframe tbody tr th {\n",
       "        vertical-align: top;\n",
       "    }\n",
       "\n",
       "    .dataframe thead th {\n",
       "        text-align: right;\n",
       "    }\n",
       "</style>\n",
       "<table border=\"1\" class=\"dataframe\">\n",
       "  <thead>\n",
       "    <tr style=\"text-align: right;\">\n",
       "      <th></th>\n",
       "      <th>Wind_speed_tower</th>\n",
       "      <th>Active_Power</th>\n",
       "    </tr>\n",
       "    <tr>\n",
       "      <th>time</th>\n",
       "      <th></th>\n",
       "      <th></th>\n",
       "    </tr>\n",
       "  </thead>\n",
       "  <tbody>\n",
       "    <tr>\n",
       "      <th>2017-09-30 20:00:00</th>\n",
       "      <td>1.80</td>\n",
       "      <td>0.1357</td>\n",
       "    </tr>\n",
       "    <tr>\n",
       "      <th>2017-09-30 21:00:00</th>\n",
       "      <td>1.71</td>\n",
       "      <td>0.1453</td>\n",
       "    </tr>\n",
       "    <tr>\n",
       "      <th>2017-09-30 22:00:00</th>\n",
       "      <td>1.44</td>\n",
       "      <td>0.1548</td>\n",
       "    </tr>\n",
       "    <tr>\n",
       "      <th>2017-09-30 23:00:00</th>\n",
       "      <td>1.40</td>\n",
       "      <td>0.1644</td>\n",
       "    </tr>\n",
       "    <tr>\n",
       "      <th>2017-10-01 00:00:00</th>\n",
       "      <td>2.20</td>\n",
       "      <td>0.1739</td>\n",
       "    </tr>\n",
       "    <tr>\n",
       "      <th>...</th>\n",
       "      <td>...</td>\n",
       "      <td>...</td>\n",
       "    </tr>\n",
       "    <tr>\n",
       "      <th>2017-10-30 19:00:00</th>\n",
       "      <td>5.89</td>\n",
       "      <td>0.6847</td>\n",
       "    </tr>\n",
       "    <tr>\n",
       "      <th>2017-10-30 20:00:00</th>\n",
       "      <td>6.32</td>\n",
       "      <td>0.6841</td>\n",
       "    </tr>\n",
       "    <tr>\n",
       "      <th>2017-10-30 21:00:00</th>\n",
       "      <td>6.52</td>\n",
       "      <td>0.6834</td>\n",
       "    </tr>\n",
       "    <tr>\n",
       "      <th>2017-10-30 22:00:00</th>\n",
       "      <td>6.33</td>\n",
       "      <td>0.6828</td>\n",
       "    </tr>\n",
       "    <tr>\n",
       "      <th>2017-10-30 23:00:00</th>\n",
       "      <td>6.15</td>\n",
       "      <td>0.6822</td>\n",
       "    </tr>\n",
       "  </tbody>\n",
       "</table>\n",
       "<p>724 rows × 2 columns</p>\n",
       "</div>"
      ],
      "text/plain": [
       "                     Wind_speed_tower  Active_Power\n",
       "time                                               \n",
       "2017-09-30 20:00:00              1.80        0.1357\n",
       "2017-09-30 21:00:00              1.71        0.1453\n",
       "2017-09-30 22:00:00              1.44        0.1548\n",
       "2017-09-30 23:00:00              1.40        0.1644\n",
       "2017-10-01 00:00:00              2.20        0.1739\n",
       "...                               ...           ...\n",
       "2017-10-30 19:00:00              5.89        0.6847\n",
       "2017-10-30 20:00:00              6.32        0.6841\n",
       "2017-10-30 21:00:00              6.52        0.6834\n",
       "2017-10-30 22:00:00              6.33        0.6828\n",
       "2017-10-30 23:00:00              6.15        0.6822\n",
       "\n",
       "[724 rows x 2 columns]"
      ]
     },
     "execution_count": 18,
     "metadata": {},
     "output_type": "execute_result"
    }
   ],
   "source": [
    "test_df = df.iloc[(train_len + val_len):]\n",
    "test_df"
   ]
  },
  {
   "cell_type": "markdown",
   "id": "fa9e7670",
   "metadata": {},
   "source": [
    "## Time series split visualization"
   ]
  },
  {
   "cell_type": "code",
   "execution_count": 19,
   "id": "e111f26e",
   "metadata": {},
   "outputs": [
    {
     "data": {
      "text/plain": [
       "<matplotlib.legend.Legend at 0x77cfe0a91ab0>"
      ]
     },
     "execution_count": 19,
     "metadata": {},
     "output_type": "execute_result"
    },
    {
     "data": {
      "image/png": "[encoded data removed]",
      "text/plain": [
       "<Figure size 1600x600 with 1 Axes>"
      ]
     },
     "metadata": {},
     "output_type": "display_data"
    }
   ],
   "source": [
    "plt.figure(figsize=(16, 6))\n",
    "plt.plot(train_df[\"Active_Power\"], label=\"Training Data\", color='blue')\n",
    "plt.plot(val_df[\"Active_Power\"], label=\"Validation Data\", color='green')\n",
    "plt.plot(test_df[\"Active_Power\"], label=\"Test Data\", color='red')\n",
    "plt.title(\"Active Power Time Series\")\n",
    "plt.xlabel(\"Time\")\n",
    "plt.ylabel(\"Active Power\")\n",
    "plt.legend(fontsize='small')"
   ]
  },
  {
   "cell_type": "markdown",
   "id": "449e9240",
   "metadata": {},
   "source": [
    "We will also create copies of the train, validation, and test sets to use them later in the notebook."
   ]
  },
  {
   "cell_type": "code",
   "execution_count": 21,
   "id": "461b0239",
   "metadata": {},
   "outputs": [],
   "source": [
    "train_df_original = train_df.copy()\n",
    "val_df_original = val_df.copy()\n",
    "test_df_original = test_df.copy()"
   ]
  },
  {
   "cell_type": "markdown",
   "id": "a72fab06",
   "metadata": {},
   "source": [
    "## Data scaling\n",
    "\n",
    "We apply the min-max scaler fitted to the training set to the train, validation, and test sets (to avoid data leakage). "
   ]
  },
  {
   "cell_type": "code",
   "execution_count": 22,
   "id": "e04be938",
   "metadata": {},
   "outputs": [],
   "source": [
    "from sklearn.preprocessing import MinMaxScaler\n",
    "\n",
    "scaler = MinMaxScaler()\n",
    "scaler.set_output(transform='pandas')\n",
    "\n",
    "scaler.fit(train_df)\n",
    "train_df = scaler.transform(train_df)\n",
    "\n",
    "val_df = scaler.transform(val_df)\n",
    "test_df = scaler.transform(test_df)"
   ]
  },
  {
   "cell_type": "markdown",
   "id": "c555bfb4",
   "metadata": {},
   "source": [
    "Let us check the result"
   ]
  },
  {
   "cell_type": "code",
   "execution_count": 23,
   "id": "2a472acd",
   "metadata": {},
   "outputs": [
    {
     "data": {
      "text/html": [
       "<div>\n",
       "<style scoped>\n",
       "    .dataframe tbody tr th:only-of-type {\n",
       "        vertical-align: middle;\n",
       "    }\n",
       "\n",
       "    .dataframe tbody tr th {\n",
       "        vertical-align: top;\n",
       "    }\n",
       "\n",
       "    .dataframe thead th {\n",
       "        text-align: right;\n",
       "    }\n",
       "</style>\n",
       "<table border=\"1\" class=\"dataframe\">\n",
       "  <thead>\n",
       "    <tr style=\"text-align: right;\">\n",
       "      <th></th>\n",
       "      <th>count</th>\n",
       "      <th>mean</th>\n",
       "      <th>std</th>\n",
       "      <th>min</th>\n",
       "      <th>25%</th>\n",
       "      <th>50%</th>\n",
       "      <th>75%</th>\n",
       "      <th>max</th>\n",
       "    </tr>\n",
       "  </thead>\n",
       "  <tbody>\n",
       "    <tr>\n",
       "      <th>Wind_speed_tower</th>\n",
       "      <td>5800.0</td>\n",
       "      <td>0.275745</td>\n",
       "      <td>0.127310</td>\n",
       "      <td>0.0</td>\n",
       "      <td>0.184488</td>\n",
       "      <td>0.249247</td>\n",
       "      <td>0.348645</td>\n",
       "      <td>1.0</td>\n",
       "    </tr>\n",
       "    <tr>\n",
       "      <th>Active_Power</th>\n",
       "      <td>5800.0</td>\n",
       "      <td>0.407862</td>\n",
       "      <td>0.287194</td>\n",
       "      <td>0.0</td>\n",
       "      <td>0.149394</td>\n",
       "      <td>0.349394</td>\n",
       "      <td>0.669188</td>\n",
       "      <td>1.0</td>\n",
       "    </tr>\n",
       "  </tbody>\n",
       "</table>\n",
       "</div>"
      ],
      "text/plain": [
       "                   count      mean       std  min       25%       50%  \\\n",
       "Wind_speed_tower  5800.0  0.275745  0.127310  0.0  0.184488  0.249247   \n",
       "Active_Power      5800.0  0.407862  0.287194  0.0  0.149394  0.349394   \n",
       "\n",
       "                       75%  max  \n",
       "Wind_speed_tower  0.348645  1.0  \n",
       "Active_Power      0.669188  1.0  "
      ]
     },
     "execution_count": 23,
     "metadata": {},
     "output_type": "execute_result"
    }
   ],
   "source": [
    "train_df.describe().transpose()"
   ]
  },
  {
   "cell_type": "markdown",
   "id": "571ae905",
   "metadata": {},
   "source": [
    "## Nixtla Dataset Format\n",
    "\n",
    "Convert to NeuralForecast format (ds, y, unique_id)"
   ]
  },
  {
   "cell_type": "code",
   "execution_count": 24,
   "id": "67c174fc",
   "metadata": {},
   "outputs": [],
   "source": [
    "train_df_nf = train_df.copy()\n",
    "\n",
    "train_df_nf = train_df_nf.rename(columns={target: 'y'})\n",
    "\n",
    "train_df_nf['ds'] = train_df_nf.index\n",
    "\n",
    "train_df_nf['unique_id'] = 'series_1'\n"
   ]
  },
  {
   "cell_type": "markdown",
   "id": "9abc0268",
   "metadata": {},
   "source": [
    "Move ds and unique_id to front"
   ]
  },
  {
   "cell_type": "code",
   "execution_count": 25,
   "id": "a3c31967",
   "metadata": {},
   "outputs": [
    {
     "data": {
      "text/html": [
       "<div>\n",
       "<style scoped>\n",
       "    .dataframe tbody tr th:only-of-type {\n",
       "        vertical-align: middle;\n",
       "    }\n",
       "\n",
       "    .dataframe tbody tr th {\n",
       "        vertical-align: top;\n",
       "    }\n",
       "\n",
       "    .dataframe thead th {\n",
       "        text-align: right;\n",
       "    }\n",
       "</style>\n",
       "<table border=\"1\" class=\"dataframe\">\n",
       "  <thead>\n",
       "    <tr style=\"text-align: right;\">\n",
       "      <th></th>\n",
       "      <th>unique_id</th>\n",
       "      <th>ds</th>\n",
       "      <th>y</th>\n",
       "      <th>Wind_speed_tower</th>\n",
       "    </tr>\n",
       "    <tr>\n",
       "      <th>time</th>\n",
       "      <th></th>\n",
       "      <th></th>\n",
       "      <th></th>\n",
       "      <th></th>\n",
       "    </tr>\n",
       "  </thead>\n",
       "  <tbody>\n",
       "    <tr>\n",
       "      <th>2017-01-02 00:00:00</th>\n",
       "      <td>series_1</td>\n",
       "      <td>2017-01-02 00:00:00</td>\n",
       "      <td>0.172377</td>\n",
       "      <td>0.108434</td>\n",
       "    </tr>\n",
       "    <tr>\n",
       "      <th>2017-01-02 01:00:00</th>\n",
       "      <td>series_1</td>\n",
       "      <td>2017-01-02 01:00:00</td>\n",
       "      <td>0.150132</td>\n",
       "      <td>0.155120</td>\n",
       "    </tr>\n",
       "    <tr>\n",
       "      <th>2017-01-02 02:00:00</th>\n",
       "      <td>series_1</td>\n",
       "      <td>2017-01-02 02:00:00</td>\n",
       "      <td>0.127992</td>\n",
       "      <td>0.097892</td>\n",
       "    </tr>\n",
       "    <tr>\n",
       "      <th>2017-01-02 03:00:00</th>\n",
       "      <td>series_1</td>\n",
       "      <td>2017-01-02 03:00:00</td>\n",
       "      <td>0.105746</td>\n",
       "      <td>0.097892</td>\n",
       "    </tr>\n",
       "    <tr>\n",
       "      <th>2017-01-02 04:00:00</th>\n",
       "      <td>series_1</td>\n",
       "      <td>2017-01-02 04:00:00</td>\n",
       "      <td>0.083606</td>\n",
       "      <td>0.185994</td>\n",
       "    </tr>\n",
       "    <tr>\n",
       "      <th>...</th>\n",
       "      <td>...</td>\n",
       "      <td>...</td>\n",
       "      <td>...</td>\n",
       "      <td>...</td>\n",
       "    </tr>\n",
       "    <tr>\n",
       "      <th>2017-08-31 11:00:00</th>\n",
       "      <td>series_1</td>\n",
       "      <td>2017-08-31 11:00:00</td>\n",
       "      <td>0.648919</td>\n",
       "      <td>0.363705</td>\n",
       "    </tr>\n",
       "    <tr>\n",
       "      <th>2017-08-31 12:00:00</th>\n",
       "      <td>series_1</td>\n",
       "      <td>2017-08-31 12:00:00</td>\n",
       "      <td>0.625725</td>\n",
       "      <td>0.387801</td>\n",
       "    </tr>\n",
       "    <tr>\n",
       "      <th>2017-08-31 13:00:00</th>\n",
       "      <td>series_1</td>\n",
       "      <td>2017-08-31 13:00:00</td>\n",
       "      <td>0.583658</td>\n",
       "      <td>0.411898</td>\n",
       "    </tr>\n",
       "    <tr>\n",
       "      <th>2017-08-31 14:00:00</th>\n",
       "      <td>series_1</td>\n",
       "      <td>2017-08-31 14:00:00</td>\n",
       "      <td>0.541592</td>\n",
       "      <td>0.422440</td>\n",
       "    </tr>\n",
       "    <tr>\n",
       "      <th>2017-08-31 15:00:00</th>\n",
       "      <td>series_1</td>\n",
       "      <td>2017-08-31 15:00:00</td>\n",
       "      <td>0.499526</td>\n",
       "      <td>0.435994</td>\n",
       "    </tr>\n",
       "  </tbody>\n",
       "</table>\n",
       "<p>5800 rows × 4 columns</p>\n",
       "</div>"
      ],
      "text/plain": [
       "                    unique_id                  ds         y  Wind_speed_tower\n",
       "time                                                                         \n",
       "2017-01-02 00:00:00  series_1 2017-01-02 00:00:00  0.172377          0.108434\n",
       "2017-01-02 01:00:00  series_1 2017-01-02 01:00:00  0.150132          0.155120\n",
       "2017-01-02 02:00:00  series_1 2017-01-02 02:00:00  0.127992          0.097892\n",
       "2017-01-02 03:00:00  series_1 2017-01-02 03:00:00  0.105746          0.097892\n",
       "2017-01-02 04:00:00  series_1 2017-01-02 04:00:00  0.083606          0.185994\n",
       "...                       ...                 ...       ...               ...\n",
       "2017-08-31 11:00:00  series_1 2017-08-31 11:00:00  0.648919          0.363705\n",
       "2017-08-31 12:00:00  series_1 2017-08-31 12:00:00  0.625725          0.387801\n",
       "2017-08-31 13:00:00  series_1 2017-08-31 13:00:00  0.583658          0.411898\n",
       "2017-08-31 14:00:00  series_1 2017-08-31 14:00:00  0.541592          0.422440\n",
       "2017-08-31 15:00:00  series_1 2017-08-31 15:00:00  0.499526          0.435994\n",
       "\n",
       "[5800 rows x 4 columns]"
      ]
     },
     "execution_count": 25,
     "metadata": {},
     "output_type": "execute_result"
    }
   ],
   "source": [
    "train_df_nf = train_df_nf[['unique_id', 'ds', 'y'] + features]\n",
    "train_df_nf"
   ]
  },
  {
   "cell_type": "markdown",
   "id": "31c221f2",
   "metadata": {},
   "source": [
    "Same for validation and test sets"
   ]
  },
  {
   "cell_type": "code",
   "execution_count": 26,
   "id": "9c42c246",
   "metadata": {},
   "outputs": [
    {
     "data": {
      "text/html": [
       "<div>\n",
       "<style scoped>\n",
       "    .dataframe tbody tr th:only-of-type {\n",
       "        vertical-align: middle;\n",
       "    }\n",
       "\n",
       "    .dataframe tbody tr th {\n",
       "        vertical-align: top;\n",
       "    }\n",
       "\n",
       "    .dataframe thead th {\n",
       "        text-align: right;\n",
       "    }\n",
       "</style>\n",
       "<table border=\"1\" class=\"dataframe\">\n",
       "  <thead>\n",
       "    <tr style=\"text-align: right;\">\n",
       "      <th></th>\n",
       "      <th>unique_id</th>\n",
       "      <th>ds</th>\n",
       "      <th>y</th>\n",
       "      <th>Wind_speed_tower</th>\n",
       "    </tr>\n",
       "    <tr>\n",
       "      <th>time</th>\n",
       "      <th></th>\n",
       "      <th></th>\n",
       "      <th></th>\n",
       "      <th></th>\n",
       "    </tr>\n",
       "  </thead>\n",
       "  <tbody>\n",
       "    <tr>\n",
       "      <th>2017-08-31 16:00:00</th>\n",
       "      <td>series_1</td>\n",
       "      <td>2017-08-31 16:00:00</td>\n",
       "      <td>0.457459</td>\n",
       "      <td>0.442018</td>\n",
       "    </tr>\n",
       "    <tr>\n",
       "      <th>2017-08-31 17:00:00</th>\n",
       "      <td>series_1</td>\n",
       "      <td>2017-08-31 17:00:00</td>\n",
       "      <td>0.415393</td>\n",
       "      <td>0.390813</td>\n",
       "    </tr>\n",
       "    <tr>\n",
       "      <th>2017-08-31 18:00:00</th>\n",
       "      <td>series_1</td>\n",
       "      <td>2017-08-31 18:00:00</td>\n",
       "      <td>0.380074</td>\n",
       "      <td>0.320783</td>\n",
       "    </tr>\n",
       "    <tr>\n",
       "      <th>2017-08-31 19:00:00</th>\n",
       "      <td>series_1</td>\n",
       "      <td>2017-08-31 19:00:00</td>\n",
       "      <td>0.351502</td>\n",
       "      <td>0.166416</td>\n",
       "    </tr>\n",
       "    <tr>\n",
       "      <th>2017-08-31 20:00:00</th>\n",
       "      <td>series_1</td>\n",
       "      <td>2017-08-31 20:00:00</td>\n",
       "      <td>0.322931</td>\n",
       "      <td>0.192018</td>\n",
       "    </tr>\n",
       "    <tr>\n",
       "      <th>...</th>\n",
       "      <td>...</td>\n",
       "      <td>...</td>\n",
       "      <td>...</td>\n",
       "      <td>...</td>\n",
       "    </tr>\n",
       "    <tr>\n",
       "      <th>2017-09-30 15:00:00</th>\n",
       "      <td>series_1</td>\n",
       "      <td>2017-09-30 15:00:00</td>\n",
       "      <td>0.095625</td>\n",
       "      <td>0.159639</td>\n",
       "    </tr>\n",
       "    <tr>\n",
       "      <th>2017-09-30 16:00:00</th>\n",
       "      <td>series_1</td>\n",
       "      <td>2017-09-30 16:00:00</td>\n",
       "      <td>0.104481</td>\n",
       "      <td>0.182229</td>\n",
       "    </tr>\n",
       "    <tr>\n",
       "      <th>2017-09-30 17:00:00</th>\n",
       "      <td>series_1</td>\n",
       "      <td>2017-09-30 17:00:00</td>\n",
       "      <td>0.113442</td>\n",
       "      <td>0.158133</td>\n",
       "    </tr>\n",
       "    <tr>\n",
       "      <th>2017-09-30 18:00:00</th>\n",
       "      <td>series_1</td>\n",
       "      <td>2017-09-30 18:00:00</td>\n",
       "      <td>0.122931</td>\n",
       "      <td>0.165663</td>\n",
       "    </tr>\n",
       "    <tr>\n",
       "      <th>2017-09-30 19:00:00</th>\n",
       "      <td>series_1</td>\n",
       "      <td>2017-09-30 19:00:00</td>\n",
       "      <td>0.133052</td>\n",
       "      <td>0.148343</td>\n",
       "    </tr>\n",
       "  </tbody>\n",
       "</table>\n",
       "<p>724 rows × 4 columns</p>\n",
       "</div>"
      ],
      "text/plain": [
       "                    unique_id                  ds         y  Wind_speed_tower\n",
       "time                                                                         \n",
       "2017-08-31 16:00:00  series_1 2017-08-31 16:00:00  0.457459          0.442018\n",
       "2017-08-31 17:00:00  series_1 2017-08-31 17:00:00  0.415393          0.390813\n",
       "2017-08-31 18:00:00  series_1 2017-08-31 18:00:00  0.380074          0.320783\n",
       "2017-08-31 19:00:00  series_1 2017-08-31 19:00:00  0.351502          0.166416\n",
       "2017-08-31 20:00:00  series_1 2017-08-31 20:00:00  0.322931          0.192018\n",
       "...                       ...                 ...       ...               ...\n",
       "2017-09-30 15:00:00  series_1 2017-09-30 15:00:00  0.095625          0.159639\n",
       "2017-09-30 16:00:00  series_1 2017-09-30 16:00:00  0.104481          0.182229\n",
       "2017-09-30 17:00:00  series_1 2017-09-30 17:00:00  0.113442          0.158133\n",
       "2017-09-30 18:00:00  series_1 2017-09-30 18:00:00  0.122931          0.165663\n",
       "2017-09-30 19:00:00  series_1 2017-09-30 19:00:00  0.133052          0.148343\n",
       "\n",
       "[724 rows x 4 columns]"
      ]
     },
     "execution_count": 26,
     "metadata": {},
     "output_type": "execute_result"
    }
   ],
   "source": [
    "val_df_nf = val_df.copy()\n",
    "val_df_nf = val_df_nf.rename(columns={target: 'y'})\n",
    "val_df_nf['ds'] = val_df_nf.index\n",
    "\n",
    "val_df_nf['unique_id'] = 'series_1'\n",
    "\n",
    "val_df_nf = val_df_nf[['unique_id', 'ds', 'y'] + features]\n",
    "val_df_nf"
   ]
  },
  {
   "cell_type": "code",
   "execution_count": 27,
   "id": "23b23b1e",
   "metadata": {},
   "outputs": [
    {
     "data": {
      "text/html": [
       "<div>\n",
       "<style scoped>\n",
       "    .dataframe tbody tr th:only-of-type {\n",
       "        vertical-align: middle;\n",
       "    }\n",
       "\n",
       "    .dataframe tbody tr th {\n",
       "        vertical-align: top;\n",
       "    }\n",
       "\n",
       "    .dataframe thead th {\n",
       "        text-align: right;\n",
       "    }\n",
       "</style>\n",
       "<table border=\"1\" class=\"dataframe\">\n",
       "  <thead>\n",
       "    <tr style=\"text-align: right;\">\n",
       "      <th></th>\n",
       "      <th>unique_id</th>\n",
       "      <th>ds</th>\n",
       "      <th>y</th>\n",
       "      <th>Wind_speed_tower</th>\n",
       "    </tr>\n",
       "    <tr>\n",
       "      <th>time</th>\n",
       "      <th></th>\n",
       "      <th></th>\n",
       "      <th></th>\n",
       "      <th></th>\n",
       "    </tr>\n",
       "  </thead>\n",
       "  <tbody>\n",
       "    <tr>\n",
       "      <th>2017-09-30 20:00:00</th>\n",
       "      <td>series_1</td>\n",
       "      <td>2017-09-30 20:00:00</td>\n",
       "      <td>0.143068</td>\n",
       "      <td>0.135542</td>\n",
       "    </tr>\n",
       "    <tr>\n",
       "      <th>2017-09-30 21:00:00</th>\n",
       "      <td>series_1</td>\n",
       "      <td>2017-09-30 21:00:00</td>\n",
       "      <td>0.153189</td>\n",
       "      <td>0.128765</td>\n",
       "    </tr>\n",
       "    <tr>\n",
       "      <th>2017-09-30 22:00:00</th>\n",
       "      <td>series_1</td>\n",
       "      <td>2017-09-30 22:00:00</td>\n",
       "      <td>0.163205</td>\n",
       "      <td>0.108434</td>\n",
       "    </tr>\n",
       "    <tr>\n",
       "      <th>2017-09-30 23:00:00</th>\n",
       "      <td>series_1</td>\n",
       "      <td>2017-09-30 23:00:00</td>\n",
       "      <td>0.173326</td>\n",
       "      <td>0.105422</td>\n",
       "    </tr>\n",
       "    <tr>\n",
       "      <th>2017-10-01 00:00:00</th>\n",
       "      <td>series_1</td>\n",
       "      <td>2017-10-01 00:00:00</td>\n",
       "      <td>0.183342</td>\n",
       "      <td>0.165663</td>\n",
       "    </tr>\n",
       "    <tr>\n",
       "      <th>...</th>\n",
       "      <td>...</td>\n",
       "      <td>...</td>\n",
       "      <td>...</td>\n",
       "      <td>...</td>\n",
       "    </tr>\n",
       "    <tr>\n",
       "      <th>2017-10-30 19:00:00</th>\n",
       "      <td>series_1</td>\n",
       "      <td>2017-10-30 19:00:00</td>\n",
       "      <td>0.721877</td>\n",
       "      <td>0.443524</td>\n",
       "    </tr>\n",
       "    <tr>\n",
       "      <th>2017-10-30 20:00:00</th>\n",
       "      <td>series_1</td>\n",
       "      <td>2017-10-30 20:00:00</td>\n",
       "      <td>0.721244</td>\n",
       "      <td>0.475904</td>\n",
       "    </tr>\n",
       "    <tr>\n",
       "      <th>2017-10-30 21:00:00</th>\n",
       "      <td>series_1</td>\n",
       "      <td>2017-10-30 21:00:00</td>\n",
       "      <td>0.720506</td>\n",
       "      <td>0.490964</td>\n",
       "    </tr>\n",
       "    <tr>\n",
       "      <th>2017-10-30 22:00:00</th>\n",
       "      <td>series_1</td>\n",
       "      <td>2017-10-30 22:00:00</td>\n",
       "      <td>0.719873</td>\n",
       "      <td>0.476657</td>\n",
       "    </tr>\n",
       "    <tr>\n",
       "      <th>2017-10-30 23:00:00</th>\n",
       "      <td>series_1</td>\n",
       "      <td>2017-10-30 23:00:00</td>\n",
       "      <td>0.719241</td>\n",
       "      <td>0.463102</td>\n",
       "    </tr>\n",
       "  </tbody>\n",
       "</table>\n",
       "<p>724 rows × 4 columns</p>\n",
       "</div>"
      ],
      "text/plain": [
       "                    unique_id                  ds         y  Wind_speed_tower\n",
       "time                                                                         \n",
       "2017-09-30 20:00:00  series_1 2017-09-30 20:00:00  0.143068          0.135542\n",
       "2017-09-30 21:00:00  series_1 2017-09-30 21:00:00  0.153189          0.128765\n",
       "2017-09-30 22:00:00  series_1 2017-09-30 22:00:00  0.163205          0.108434\n",
       "2017-09-30 23:00:00  series_1 2017-09-30 23:00:00  0.173326          0.105422\n",
       "2017-10-01 00:00:00  series_1 2017-10-01 00:00:00  0.183342          0.165663\n",
       "...                       ...                 ...       ...               ...\n",
       "2017-10-30 19:00:00  series_1 2017-10-30 19:00:00  0.721877          0.443524\n",
       "2017-10-30 20:00:00  series_1 2017-10-30 20:00:00  0.721244          0.475904\n",
       "2017-10-30 21:00:00  series_1 2017-10-30 21:00:00  0.720506          0.490964\n",
       "2017-10-30 22:00:00  series_1 2017-10-30 22:00:00  0.719873          0.476657\n",
       "2017-10-30 23:00:00  series_1 2017-10-30 23:00:00  0.719241          0.463102\n",
       "\n",
       "[724 rows x 4 columns]"
      ]
     },
     "execution_count": 27,
     "metadata": {},
     "output_type": "execute_result"
    }
   ],
   "source": [
    "test_df_nf = test_df.copy()\n",
    "test_df_nf = test_df_nf.rename(columns={target: 'y'})\n",
    "test_df_nf['ds'] = test_df_nf.index\n",
    "\n",
    "test_df_nf['unique_id'] = 'series_1'\n",
    "\n",
    "test_df_nf = test_df_nf[['unique_id', 'ds', 'y'] + features]\n",
    "test_df_nf"
   ]
  },
  {
   "cell_type": "markdown",
   "id": "08a9b0cb",
   "metadata": {},
   "source": [
    "Create a **joint dataset** with train and validation to fit into Nixtla's framework."
   ]
  },
  {
   "cell_type": "code",
   "execution_count": 28,
   "id": "02b8a29b",
   "metadata": {},
   "outputs": [
    {
     "name": "stdout",
     "output_type": "stream",
     "text": [
      "<class 'pandas.core.frame.DataFrame'>\n",
      "RangeIndex: 6524 entries, 0 to 6523\n",
      "Data columns (total 4 columns):\n",
      " #   Column            Non-Null Count  Dtype         \n",
      "---  ------            --------------  -----         \n",
      " 0   unique_id         6524 non-null   object        \n",
      " 1   ds                6524 non-null   datetime64[ns]\n",
      " 2   y                 6524 non-null   float64       \n",
      " 3   Wind_speed_tower  6524 non-null   float64       \n",
      "dtypes: datetime64[ns](1), float64(2), object(1)\n",
      "memory usage: 204.0+ KB\n"
     ]
    }
   ],
   "source": [
    "train_val_df = pd.concat([train_df_nf, val_df_nf], axis=0)\n",
    "train_val_df.reset_index(drop=True, inplace=True)\n",
    "train_val_df.info()"
   ]
  },
  {
   "cell_type": "markdown",
   "id": "93081ec3",
   "metadata": {},
   "source": [
    "And similarly a **full dataset** with train, validation and test sets."
   ]
  },
  {
   "cell_type": "code",
   "execution_count": 29,
   "id": "190defac",
   "metadata": {},
   "outputs": [
    {
     "name": "stdout",
     "output_type": "stream",
     "text": [
      "<class 'pandas.core.frame.DataFrame'>\n",
      "RangeIndex: 7248 entries, 0 to 7247\n",
      "Data columns (total 4 columns):\n",
      " #   Column            Non-Null Count  Dtype         \n",
      "---  ------            --------------  -----         \n",
      " 0   unique_id         7248 non-null   object        \n",
      " 1   ds                7248 non-null   datetime64[ns]\n",
      " 2   y                 7248 non-null   float64       \n",
      " 3   Wind_speed_tower  7248 non-null   float64       \n",
      "dtypes: datetime64[ns](1), float64(2), object(1)\n",
      "memory usage: 226.6+ KB\n"
     ]
    }
   ],
   "source": [
    "full_df_nf = pd.concat([train_df_nf, val_df_nf, test_df_nf], axis=0)\n",
    "full_df_nf.reset_index(drop=True, inplace=True)\n",
    "full_df_nf.info()"
   ]
  },
  {
   "cell_type": "markdown",
   "id": "26ac4823",
   "metadata": {},
   "source": [
    "## Set the forecast horizon and input length"
   ]
  },
  {
   "cell_type": "code",
   "execution_count": 30,
   "id": "834484a9",
   "metadata": {},
   "outputs": [],
   "source": [
    "horizon = 3\n",
    "input_size = 6"
   ]
  },
  {
   "cell_type": "markdown",
   "id": "579bc5ee",
   "metadata": {},
   "source": [
    "# AutoARIMA"
   ]
  },
  {
   "cell_type": "code",
   "execution_count": 31,
   "id": "c4ee202f",
   "metadata": {},
   "outputs": [],
   "source": [
    "import logging\n",
    "\n",
    "import optuna\n",
    "\n",
    "import torch\n",
    "\n",
    "from neuralforecast import NeuralForecast\n",
    "\n",
    "from neuralforecast.losses.pytorch import MAE\n"
   ]
  },
  {
   "cell_type": "markdown",
   "id": "ff319c3a",
   "metadata": {},
   "source": [
    "Check if CUDA is available (Linux machines)"
   ]
  },
  {
   "cell_type": "code",
   "execution_count": 32,
   "id": "b432b37a",
   "metadata": {},
   "outputs": [],
   "source": [
    "optuna.logging.set_verbosity(optuna.logging.WARNING)\n",
    "logging.getLogger('pytorch_lightning').setLevel(logging.ERROR)\n",
    "torch.set_float32_matmul_precision('high')"
   ]
  },
  {
   "cell_type": "code",
   "execution_count": 33,
   "id": "835fda65",
   "metadata": {},
   "outputs": [
    {
     "name": "stdout",
     "output_type": "stream",
     "text": [
      "1 0 NVIDIA GeForce RTX 3060 Laptop GPU\n"
     ]
    }
   ],
   "source": [
    "if torch.cuda.is_available():\n",
    "    print(torch.cuda.device_count(), torch.cuda.current_device(),torch.cuda.get_device_name(0))"
   ]
  },
  {
   "cell_type": "markdown",
   "id": "ef499656",
   "metadata": {},
   "source": [
    "Define the hyperparameters for the model. The first group is fixed and shouldn't changed from model to model. The second group is the hyperparameters that are tuned by the AutoTimeXer algorithm using Optuna as backend and may be specific to the model's architecture. The documentations for the hyperparameters can be seen at the [TimeXer](https://nixtlaverse.nixtla.io/neuralforecast/models.TimeXer.html#TimeXer) and [AutoTimeXer](https://nixtlaverse.nixtla.io/neuralforecast/models.html#autoTimeXer) documentation."
   ]
  },
  {
   "cell_type": "code",
   "execution_count": 34,
   "id": "120b8430",
   "metadata": {},
   "outputs": [
    {
     "data": {
      "text/plain": [
       "StatsForecast(models=[AutoARIMA])"
      ]
     },
     "execution_count": 34,
     "metadata": {},
     "output_type": "execute_result"
    }
   ],
   "source": [
    "from statsforecast.models import AutoARIMA\n",
    "from statsforecast import StatsForecast\n",
    "\n",
    "# Inicializar modelo AutoARIMA\n",
    "model = StatsForecast(\n",
    "    models=[AutoARIMA(start_p=1, start_q=1, max_p=3, max_q=3, seasonal=False)],\n",
    "    freq='H',\n",
    "    n_jobs=1\n",
    ")\n",
    "\n",
    "model"
   ]
  },
  {
   "cell_type": "code",
   "execution_count": 35,
   "id": "3984beb9",
   "metadata": {},
   "outputs": [],
   "source": [
    "sf = model.fit(df = train_val_df)\n"
   ]
  },
  {
   "cell_type": "code",
   "execution_count": 36,
   "id": "c0e0618d",
   "metadata": {},
   "outputs": [],
   "source": [
    "# ARIMA_model = sf.models[0]"
   ]
  },
  {
   "cell_type": "code",
   "execution_count": 37,
   "id": "79683a43",
   "metadata": {},
   "outputs": [],
   "source": [
    "\n",
    "from statsforecast.arima import ARIMASummary\n"
   ]
  },
  {
   "cell_type": "code",
   "execution_count": 38,
   "id": "7aeaf407",
   "metadata": {},
   "outputs": [],
   "source": [
    "ARIMA_model = sf.fitted_[0][0]\n"
   ]
  },
  {
   "cell_type": "code",
   "execution_count": 39,
   "id": "7c4c45d5",
   "metadata": {},
   "outputs": [
    {
     "data": {
      "text/plain": [
       "Regression with ARIMA(2,0,2) errors"
      ]
     },
     "execution_count": 39,
     "metadata": {},
     "output_type": "execute_result"
    }
   ],
   "source": [
    "ARIMASummary(ARIMA_model.model_)"
   ]
  },
  {
   "cell_type": "code",
   "execution_count": 40,
   "id": "a53b0cf4",
   "metadata": {},
   "outputs": [
    {
     "data": {
      "text/plain": [
       "AutoARIMA"
      ]
     },
     "execution_count": 40,
     "metadata": {},
     "output_type": "execute_result"
    }
   ],
   "source": [
    "ARIMA_model"
   ]
  },
  {
   "cell_type": "code",
   "execution_count": 41,
   "id": "9270e251",
   "metadata": {},
   "outputs": [
    {
     "data": {
      "text/html": [
       "<div>\n",
       "<style scoped>\n",
       "    .dataframe tbody tr th:only-of-type {\n",
       "        vertical-align: middle;\n",
       "    }\n",
       "\n",
       "    .dataframe tbody tr th {\n",
       "        vertical-align: top;\n",
       "    }\n",
       "\n",
       "    .dataframe thead th {\n",
       "        text-align: right;\n",
       "    }\n",
       "</style>\n",
       "<table border=\"1\" class=\"dataframe\">\n",
       "  <thead>\n",
       "    <tr style=\"text-align: right;\">\n",
       "      <th></th>\n",
       "      <th>model</th>\n",
       "      <th>Orders</th>\n",
       "      <th>sigma2</th>\n",
       "      <th>loglik</th>\n",
       "      <th>aic</th>\n",
       "      <th>aicc</th>\n",
       "      <th>bic</th>\n",
       "    </tr>\n",
       "  </thead>\n",
       "  <tbody>\n",
       "    <tr>\n",
       "      <th>0</th>\n",
       "      <td>AutoARIMA</td>\n",
       "      <td>Regression with ARIMA(2,0,2) errors</td>\n",
       "      <td>0.000101</td>\n",
       "      <td>20749.021861</td>\n",
       "      <td>-41484.043721</td>\n",
       "      <td>-41484.026533</td>\n",
       "      <td>-41436.561021</td>\n",
       "    </tr>\n",
       "  </tbody>\n",
       "</table>\n",
       "</div>"
      ],
      "text/plain": [
       "       model                               Orders    sigma2        loglik  \\\n",
       "0  AutoARIMA  Regression with ARIMA(2,0,2) errors  0.000101  20749.021861   \n",
       "\n",
       "            aic          aicc           bic  \n",
       "0 -41484.043721 -41484.026533 -41436.561021  "
      ]
     },
     "execution_count": 41,
     "metadata": {},
     "output_type": "execute_result"
    }
   ],
   "source": [
    "summaries = []\n",
    "for mdl in sf.fitted_[0]:\n",
    "    summary_model = {\n",
    "        \"model\": mdl,\n",
    "        \"Orders\": ARIMASummary(mdl.model_),\n",
    "        \"sigma2\": mdl.model_[\"sigma2\"],\n",
    "        \"loglik\": mdl.model_[\"loglik\"],\n",
    "        \"aic\": mdl.model_[\"aic\"],\n",
    "        \"aicc\": mdl.model_[\"aicc\"],\n",
    "        \"bic\": mdl.model_[\"bic\"],\n",
    "    }\n",
    "    summaries.append(summary_model)\n",
    "\n",
    "pd.DataFrame(sorted(summaries, key=lambda d: d[\"aicc\"]))"
   ]
  },
  {
   "cell_type": "code",
   "execution_count": 42,
   "id": "15557b86",
   "metadata": {},
   "outputs": [
    {
     "data": {
      "text/plain": [
       "Regression with ARIMA(2,0,2) errors"
      ]
     },
     "execution_count": 42,
     "metadata": {},
     "output_type": "execute_result"
    }
   ],
   "source": [
    "summary_model['Orders']"
   ]
  },
  {
   "cell_type": "code",
   "execution_count": 43,
   "id": "9787d16c",
   "metadata": {},
   "outputs": [
    {
     "name": "stdout",
     "output_type": "stream",
     "text": [
      "Regression with ARIMA(2,0,2) errors\n",
      "Coefficients: {'ar1': 1.8114807407980238, 'ar2': -0.8279662078617853, 'ma1': 1.0448449854217952, 'ma2': 0.06390517253208748, 'ex_1': 5.758443660057455e-05, 'mean': 0.3961894497755289}\n"
     ]
    }
   ],
   "source": [
    "from copy import deepcopy\n",
    "print(ARIMASummary(sf.fitted_[0, 0].model_))\n",
    "coefs = deepcopy(sf.fitted_[0, 0].model_['coef'])\n",
    "coefs[\"mean\"] = coefs.pop(\"intercept\")\n",
    "print(f\"Coefficients: {coefs}\")"
   ]
  },
  {
   "cell_type": "code",
   "execution_count": 44,
   "id": "ac170de2",
   "metadata": {},
   "outputs": [
    {
     "data": {
      "image/png": "[encoded data removed]",
      "text/plain": [
       "<Figure size 1600x800 with 3 Axes>"
      ]
     },
     "metadata": {},
     "output_type": "display_data"
    }
   ],
   "source": [
    "from statsmodels.graphics.tsaplots import plot_acf\n",
    "\n",
    "\n",
    "fig = plt.figure(figsize=(16, 8))\n",
    "\n",
    "gs = fig.add_gridspec(2, 2)\n",
    "ax1 = fig.add_subplot(gs[0, :])\n",
    "ax2 = fig.add_subplot(gs[1, 0])\n",
    "ax3 = fig.add_subplot(gs[1, 1])\n",
    "resids = sf.fitted_[0, 0].model_[\"residuals\"]\n",
    "ax1.plot(train_val_df['ds'], resids, marker=\"o\")\n",
    "ax1.set_ylabel('ARIMA residuals')\n",
    "ax1.set_xlabel('Date')\n",
    "\n",
    "plot_acf(resids, ax2, zero=False, auto_ylims=True, \n",
    "         bartlett_confint=False)\n",
    "\n",
    "ax3.hist(resids, bins=20)\n",
    "ax3.set_ylabel('count')\n",
    "ax3.set_xlabel('residuals')\n",
    "\n",
    "plt.show();plt.close()"
   ]
  },
  {
   "cell_type": "code",
   "execution_count": 45,
   "id": "1046b54a",
   "metadata": {},
   "outputs": [
    {
     "data": {
      "text/html": [
       "<div>\n",
       "<style scoped>\n",
       "    .dataframe tbody tr th:only-of-type {\n",
       "        vertical-align: middle;\n",
       "    }\n",
       "\n",
       "    .dataframe tbody tr th {\n",
       "        vertical-align: top;\n",
       "    }\n",
       "\n",
       "    .dataframe thead th {\n",
       "        text-align: right;\n",
       "    }\n",
       "</style>\n",
       "<table border=\"1\" class=\"dataframe\">\n",
       "  <thead>\n",
       "    <tr style=\"text-align: right;\">\n",
       "      <th></th>\n",
       "      <th>unique_id</th>\n",
       "      <th>ds</th>\n",
       "      <th>y</th>\n",
       "      <th>Wind_speed_tower</th>\n",
       "    </tr>\n",
       "  </thead>\n",
       "  <tbody>\n",
       "    <tr>\n",
       "      <th>0</th>\n",
       "      <td>series_1</td>\n",
       "      <td>2017-01-02 00:00:00</td>\n",
       "      <td>0.172377</td>\n",
       "      <td>0.108434</td>\n",
       "    </tr>\n",
       "    <tr>\n",
       "      <th>1</th>\n",
       "      <td>series_1</td>\n",
       "      <td>2017-01-02 01:00:00</td>\n",
       "      <td>0.150132</td>\n",
       "      <td>0.155120</td>\n",
       "    </tr>\n",
       "    <tr>\n",
       "      <th>2</th>\n",
       "      <td>series_1</td>\n",
       "      <td>2017-01-02 02:00:00</td>\n",
       "      <td>0.127992</td>\n",
       "      <td>0.097892</td>\n",
       "    </tr>\n",
       "    <tr>\n",
       "      <th>3</th>\n",
       "      <td>series_1</td>\n",
       "      <td>2017-01-02 03:00:00</td>\n",
       "      <td>0.105746</td>\n",
       "      <td>0.097892</td>\n",
       "    </tr>\n",
       "    <tr>\n",
       "      <th>4</th>\n",
       "      <td>series_1</td>\n",
       "      <td>2017-01-02 04:00:00</td>\n",
       "      <td>0.083606</td>\n",
       "      <td>0.185994</td>\n",
       "    </tr>\n",
       "    <tr>\n",
       "      <th>...</th>\n",
       "      <td>...</td>\n",
       "      <td>...</td>\n",
       "      <td>...</td>\n",
       "      <td>...</td>\n",
       "    </tr>\n",
       "    <tr>\n",
       "      <th>7243</th>\n",
       "      <td>series_1</td>\n",
       "      <td>2017-10-30 19:00:00</td>\n",
       "      <td>0.721877</td>\n",
       "      <td>0.443524</td>\n",
       "    </tr>\n",
       "    <tr>\n",
       "      <th>7244</th>\n",
       "      <td>series_1</td>\n",
       "      <td>2017-10-30 20:00:00</td>\n",
       "      <td>0.721244</td>\n",
       "      <td>0.475904</td>\n",
       "    </tr>\n",
       "    <tr>\n",
       "      <th>7245</th>\n",
       "      <td>series_1</td>\n",
       "      <td>2017-10-30 21:00:00</td>\n",
       "      <td>0.720506</td>\n",
       "      <td>0.490964</td>\n",
       "    </tr>\n",
       "    <tr>\n",
       "      <th>7246</th>\n",
       "      <td>series_1</td>\n",
       "      <td>2017-10-30 22:00:00</td>\n",
       "      <td>0.719873</td>\n",
       "      <td>0.476657</td>\n",
       "    </tr>\n",
       "    <tr>\n",
       "      <th>7247</th>\n",
       "      <td>series_1</td>\n",
       "      <td>2017-10-30 23:00:00</td>\n",
       "      <td>0.719241</td>\n",
       "      <td>0.463102</td>\n",
       "    </tr>\n",
       "  </tbody>\n",
       "</table>\n",
       "<p>7248 rows × 4 columns</p>\n",
       "</div>"
      ],
      "text/plain": [
       "     unique_id                  ds         y  Wind_speed_tower\n",
       "0     series_1 2017-01-02 00:00:00  0.172377          0.108434\n",
       "1     series_1 2017-01-02 01:00:00  0.150132          0.155120\n",
       "2     series_1 2017-01-02 02:00:00  0.127992          0.097892\n",
       "3     series_1 2017-01-02 03:00:00  0.105746          0.097892\n",
       "4     series_1 2017-01-02 04:00:00  0.083606          0.185994\n",
       "...        ...                 ...       ...               ...\n",
       "7243  series_1 2017-10-30 19:00:00  0.721877          0.443524\n",
       "7244  series_1 2017-10-30 20:00:00  0.721244          0.475904\n",
       "7245  series_1 2017-10-30 21:00:00  0.720506          0.490964\n",
       "7246  series_1 2017-10-30 22:00:00  0.719873          0.476657\n",
       "7247  series_1 2017-10-30 23:00:00  0.719241          0.463102\n",
       "\n",
       "[7248 rows x 4 columns]"
      ]
     },
     "execution_count": 45,
     "metadata": {},
     "output_type": "execute_result"
    }
   ],
   "source": [
    "full_df_nf"
   ]
  },
  {
   "cell_type": "code",
   "execution_count": 46,
   "id": "1c4105c2",
   "metadata": {},
   "outputs": [],
   "source": [
    "# The value of n moves across the test set, predicting one step at a time\n",
    "# We use the first row (n = 0) of the test set to initialize the output DataFrame\n",
    "n = 0 \n"
   ]
  },
  {
   "cell_type": "code",
   "execution_count": 47,
   "id": "f9361b0c",
   "metadata": {},
   "outputs": [
    {
     "name": "stderr",
     "output_type": "stream",
     "text": [
      "/home/fernando/miniconda3/envs/tfm_cc/lib/python3.10/site-packages/utilsforecast/processing.py:384: FutureWarning: 'H' is deprecated and will be removed in a future version, please use 'h' instead.\n",
      "  freq = pd.tseries.frequencies.to_offset(freq)\n",
      "/home/fernando/miniconda3/envs/tfm_cc/lib/python3.10/site-packages/utilsforecast/processing.py:440: FutureWarning: 'H' is deprecated and will be removed in a future version, please use 'h' instead.\n",
      "  freq = pd.tseries.frequencies.to_offset(freq)\n"
     ]
    },
    {
     "data": {
      "text/html": [
       "<div>\n",
       "<style scoped>\n",
       "    .dataframe tbody tr th:only-of-type {\n",
       "        vertical-align: middle;\n",
       "    }\n",
       "\n",
       "    .dataframe tbody tr th {\n",
       "        vertical-align: top;\n",
       "    }\n",
       "\n",
       "    .dataframe thead th {\n",
       "        text-align: right;\n",
       "    }\n",
       "</style>\n",
       "<table border=\"1\" class=\"dataframe\">\n",
       "  <thead>\n",
       "    <tr style=\"text-align: right;\">\n",
       "      <th></th>\n",
       "      <th>unique_id</th>\n",
       "      <th>ds</th>\n",
       "    </tr>\n",
       "  </thead>\n",
       "  <tbody>\n",
       "    <tr>\n",
       "      <th>0</th>\n",
       "      <td>series_1</td>\n",
       "      <td>2017-09-30 20:00:00</td>\n",
       "    </tr>\n",
       "    <tr>\n",
       "      <th>1</th>\n",
       "      <td>series_1</td>\n",
       "      <td>2017-09-30 21:00:00</td>\n",
       "    </tr>\n",
       "    <tr>\n",
       "      <th>2</th>\n",
       "      <td>series_1</td>\n",
       "      <td>2017-09-30 22:00:00</td>\n",
       "    </tr>\n",
       "  </tbody>\n",
       "</table>\n",
       "</div>"
      ],
      "text/plain": [
       "  unique_id                  ds\n",
       "0  series_1 2017-09-30 20:00:00\n",
       "1  series_1 2017-09-30 21:00:00\n",
       "2  series_1 2017-09-30 22:00:00"
      ]
     },
     "execution_count": 47,
     "metadata": {},
     "output_type": "execute_result"
    }
   ],
   "source": [
    "from utilsforecast.processing import make_future_dataframe\n",
    "\n",
    "future_predictors = make_future_dataframe(\n",
    "    train_val_df[\"unique_id\"].unique(),\n",
    "    pd.to_datetime([train_val_df[\"ds\"].max()]), \n",
    "    freq=\"H\", \n",
    "    h=horizon,   \n",
    ")\n",
    "\n",
    "future_predictors"
   ]
  },
  {
   "cell_type": "code",
   "execution_count": 48,
   "id": "a0171b1b",
   "metadata": {},
   "outputs": [
    {
     "data": {
      "text/html": [
       "<div>\n",
       "<style scoped>\n",
       "    .dataframe tbody tr th:only-of-type {\n",
       "        vertical-align: middle;\n",
       "    }\n",
       "\n",
       "    .dataframe tbody tr th {\n",
       "        vertical-align: top;\n",
       "    }\n",
       "\n",
       "    .dataframe thead th {\n",
       "        text-align: right;\n",
       "    }\n",
       "</style>\n",
       "<table border=\"1\" class=\"dataframe\">\n",
       "  <thead>\n",
       "    <tr style=\"text-align: right;\">\n",
       "      <th></th>\n",
       "      <th>unique_id</th>\n",
       "      <th>ds</th>\n",
       "      <th>Wind_speed_tower</th>\n",
       "    </tr>\n",
       "  </thead>\n",
       "  <tbody>\n",
       "    <tr>\n",
       "      <th>0</th>\n",
       "      <td>series_1</td>\n",
       "      <td>2017-09-30 20:00:00</td>\n",
       "      <td>0.16491</td>\n",
       "    </tr>\n",
       "    <tr>\n",
       "      <th>1</th>\n",
       "      <td>series_1</td>\n",
       "      <td>2017-09-30 21:00:00</td>\n",
       "      <td>0.16491</td>\n",
       "    </tr>\n",
       "    <tr>\n",
       "      <th>2</th>\n",
       "      <td>series_1</td>\n",
       "      <td>2017-09-30 22:00:00</td>\n",
       "      <td>0.16491</td>\n",
       "    </tr>\n",
       "  </tbody>\n",
       "</table>\n",
       "</div>"
      ],
      "text/plain": [
       "  unique_id                  ds  Wind_speed_tower\n",
       "0  series_1 2017-09-30 20:00:00           0.16491\n",
       "1  series_1 2017-09-30 21:00:00           0.16491\n",
       "2  series_1 2017-09-30 22:00:00           0.16491"
      ]
     },
     "execution_count": 48,
     "metadata": {},
     "output_type": "execute_result"
    }
   ],
   "source": [
    "future_predictors['Wind_speed_tower'] = [train_val_df['Wind_speed_tower'].tail(input_size).mean() for _ in range(future_predictors.shape[0])]\n",
    "future_predictors"
   ]
  },
  {
   "cell_type": "code",
   "execution_count": 49,
   "id": "62aef36d",
   "metadata": {},
   "outputs": [
    {
     "name": "stderr",
     "output_type": "stream",
     "text": [
      "/home/fernando/miniconda3/envs/tfm_cc/lib/python3.10/site-packages/utilsforecast/processing.py:384: FutureWarning: 'H' is deprecated and will be removed in a future version, please use 'h' instead.\n",
      "  freq = pd.tseries.frequencies.to_offset(freq)\n",
      "/home/fernando/miniconda3/envs/tfm_cc/lib/python3.10/site-packages/utilsforecast/processing.py:440: FutureWarning: 'H' is deprecated and will be removed in a future version, please use 'h' instead.\n",
      "  freq = pd.tseries.frequencies.to_offset(freq)\n"
     ]
    },
    {
     "data": {
      "text/html": [
       "<div>\n",
       "<style scoped>\n",
       "    .dataframe tbody tr th:only-of-type {\n",
       "        vertical-align: middle;\n",
       "    }\n",
       "\n",
       "    .dataframe tbody tr th {\n",
       "        vertical-align: top;\n",
       "    }\n",
       "\n",
       "    .dataframe thead th {\n",
       "        text-align: right;\n",
       "    }\n",
       "</style>\n",
       "<table border=\"1\" class=\"dataframe\">\n",
       "  <thead>\n",
       "    <tr style=\"text-align: right;\">\n",
       "      <th></th>\n",
       "      <th>unique_id</th>\n",
       "      <th>ds</th>\n",
       "      <th>AutoARIMA</th>\n",
       "    </tr>\n",
       "  </thead>\n",
       "  <tbody>\n",
       "    <tr>\n",
       "      <th>0</th>\n",
       "      <td>series_1</td>\n",
       "      <td>2017-09-30 20:00:00</td>\n",
       "      <td>0.145183</td>\n",
       "    </tr>\n",
       "    <tr>\n",
       "      <th>1</th>\n",
       "      <td>series_1</td>\n",
       "      <td>2017-09-30 21:00:00</td>\n",
       "      <td>0.159335</td>\n",
       "    </tr>\n",
       "    <tr>\n",
       "      <th>2</th>\n",
       "      <td>series_1</td>\n",
       "      <td>2017-09-30 22:00:00</td>\n",
       "      <td>0.174956</td>\n",
       "    </tr>\n",
       "  </tbody>\n",
       "</table>\n",
       "</div>"
      ],
      "text/plain": [
       "  unique_id                  ds  AutoARIMA\n",
       "0  series_1 2017-09-30 20:00:00   0.145183\n",
       "1  series_1 2017-09-30 21:00:00   0.159335\n",
       "2  series_1 2017-09-30 22:00:00   0.174956"
      ]
     },
     "execution_count": 49,
     "metadata": {},
     "output_type": "execute_result"
    }
   ],
   "source": [
    "forecast = sf.predict(h=3, X_df=future_predictors)\n",
    "forecast"
   ]
  },
  {
   "cell_type": "markdown",
   "id": "a0caf633",
   "metadata": {},
   "source": [
    "Now we create a dictionary (of dataframes) to store the predictions for each value k from 1 to the max of the prediction horizon. The weird (k-1):k bit below is to prevent pandas from collapsing the row into a series!"
   ]
  },
  {
   "cell_type": "code",
   "execution_count": 50,
   "id": "82c92bac",
   "metadata": {},
   "outputs": [
    {
     "data": {
      "text/html": [
       "<div>\n",
       "<style scoped>\n",
       "    .dataframe tbody tr th:only-of-type {\n",
       "        vertical-align: middle;\n",
       "    }\n",
       "\n",
       "    .dataframe tbody tr th {\n",
       "        vertical-align: top;\n",
       "    }\n",
       "\n",
       "    .dataframe thead th {\n",
       "        text-align: right;\n",
       "    }\n",
       "</style>\n",
       "<table border=\"1\" class=\"dataframe\">\n",
       "  <thead>\n",
       "    <tr style=\"text-align: right;\">\n",
       "      <th></th>\n",
       "      <th>unique_id</th>\n",
       "      <th>ds</th>\n",
       "      <th>AutoARIMA</th>\n",
       "    </tr>\n",
       "  </thead>\n",
       "  <tbody>\n",
       "    <tr>\n",
       "      <th>1</th>\n",
       "      <td>series_1</td>\n",
       "      <td>2017-09-30 21:00:00</td>\n",
       "      <td>0.159335</td>\n",
       "    </tr>\n",
       "  </tbody>\n",
       "</table>\n",
       "</div>"
      ],
      "text/plain": [
       "  unique_id                  ds  AutoARIMA\n",
       "1  series_1 2017-09-30 21:00:00   0.159335"
      ]
     },
     "execution_count": 50,
     "metadata": {},
     "output_type": "execute_result"
    }
   ],
   "source": [
    "ARIMA_dict = {}\n",
    "\n",
    "for h in range(1, horizon + 1):\n",
    "# for h in range(1, 2):\n",
    "\n",
    "    # Initialize the dictionary to store models and parameters for each horizon\n",
    "    ARIMA_dict[f'{h}h'] = {'preds': forecast.iloc[(h - 1):h, :]}\n",
    "\n",
    "ARIMA_dict['2h']['preds']"
   ]
  },
  {
   "cell_type": "code",
   "execution_count": 51,
   "id": "5b3bf927",
   "metadata": {},
   "outputs": [],
   "source": [
    "%%capture\n",
    "\n",
    "start_time = time.time()\n",
    "\n",
    "\n",
    "# This loop iterates over the remaining rows of the test set, predicting one step at a time\n",
    "# using the same steps\n",
    "# for n in range(1, 10):\n",
    "for n in range(1, test_df_nf.shape[0] - h + 1):\n",
    "\n",
    "    print(f\"Processing row {n} of the test set\")\n",
    "    train_val_df_n = full_df_nf.head(train_val_df.shape[0] + n).copy()\n",
    "\n",
    "    sf_n = model.fit(df = train_val_df_n)\n",
    "\n",
    "\n",
    "    future_predictors = make_future_dataframe(\n",
    "    train_val_df_n[\"unique_id\"].unique(),\n",
    "    pd.to_datetime([train_val_df_n[\"ds\"].max()]), \n",
    "    freq=\"H\", \n",
    "    h=horizon,   \n",
    ")\n",
    "\n",
    "    future_predictors['Wind_speed_tower'] = [train_val_df_n['Wind_speed_tower'].tail(input_size).mean() for _ in range(future_predictors.shape[0])]\n",
    "\n",
    "    forecast = sf.predict(h=3, X_df=future_predictors)\n",
    "\n",
    "    for h in range(1, horizon + 1):\n",
    "        \n",
    "        ARIMA_dict[f'{h}h']['preds'] =   pd.concat([ARIMA_dict[f'{h}h']['preds'], forecast.iloc[(h - 1):h, :]], axis=0)\n",
    "        ARIMA_dict[f'{h}h'][f'model_{n}'] = sf_n.fitted_[0, 0].model_\n",
    "# future_predictors\n",
    "# forecast\n",
    "# ARIMA_dict['2h']['preds']\n",
    "\n",
    "end_time = time.time()\n",
    "elapsed_time = end_time - start_time    "
   ]
  },
  {
   "cell_type": "code",
   "execution_count": 52,
   "id": "9ff0c1df",
   "metadata": {},
   "outputs": [
    {
     "name": "stdout",
     "output_type": "stream",
     "text": [
      "Elapsed time: 5694.95 seconds\n"
     ]
    }
   ],
   "source": [
    "print(f\"Elapsed time: {elapsed_time:.2f} seconds\")"
   ]
  },
  {
   "cell_type": "markdown",
   "id": "0b86eb50",
   "metadata": {},
   "source": [
    "# Model Performance Evaluation"
   ]
  },
  {
   "cell_type": "markdown",
   "id": "06e4df62",
   "metadata": {},
   "source": [
    "Let us also look at the prediction dataframes for the ARIMAoost models for each prediction horizon."
   ]
  },
  {
   "cell_type": "code",
   "execution_count": 53,
   "id": "be47f057",
   "metadata": {},
   "outputs": [],
   "source": [
    "preds_df = {}"
   ]
  },
  {
   "cell_type": "code",
   "execution_count": 54,
   "id": "4cdb72e3",
   "metadata": {},
   "outputs": [
    {
     "data": {
      "text/html": [
       "<div>\n",
       "<style scoped>\n",
       "    .dataframe tbody tr th:only-of-type {\n",
       "        vertical-align: middle;\n",
       "    }\n",
       "\n",
       "    .dataframe tbody tr th {\n",
       "        vertical-align: top;\n",
       "    }\n",
       "\n",
       "    .dataframe thead th {\n",
       "        text-align: right;\n",
       "    }\n",
       "</style>\n",
       "<table border=\"1\" class=\"dataframe\">\n",
       "  <thead>\n",
       "    <tr style=\"text-align: right;\">\n",
       "      <th></th>\n",
       "      <th>unique_id</th>\n",
       "      <th>pred_1h</th>\n",
       "    </tr>\n",
       "    <tr>\n",
       "      <th>ds</th>\n",
       "      <th></th>\n",
       "      <th></th>\n",
       "    </tr>\n",
       "  </thead>\n",
       "  <tbody>\n",
       "    <tr>\n",
       "      <th>2017-09-30 20:00:00</th>\n",
       "      <td>series_1</td>\n",
       "      <td>0.145183</td>\n",
       "    </tr>\n",
       "    <tr>\n",
       "      <th>2017-09-30 21:00:00</th>\n",
       "      <td>series_1</td>\n",
       "      <td>0.153298</td>\n",
       "    </tr>\n",
       "    <tr>\n",
       "      <th>2017-09-30 22:00:00</th>\n",
       "      <td>series_1</td>\n",
       "      <td>0.165329</td>\n",
       "    </tr>\n",
       "    <tr>\n",
       "      <th>2017-09-30 23:00:00</th>\n",
       "      <td>series_1</td>\n",
       "      <td>0.173096</td>\n",
       "    </tr>\n",
       "    <tr>\n",
       "      <th>2017-10-01 00:00:00</th>\n",
       "      <td>series_1</td>\n",
       "      <td>0.185465</td>\n",
       "    </tr>\n",
       "    <tr>\n",
       "      <th>...</th>\n",
       "      <td>...</td>\n",
       "      <td>...</td>\n",
       "    </tr>\n",
       "    <tr>\n",
       "      <th>2017-10-30 17:00:00</th>\n",
       "      <td>series_1</td>\n",
       "      <td>0.721137</td>\n",
       "    </tr>\n",
       "    <tr>\n",
       "      <th>2017-10-30 18:00:00</th>\n",
       "      <td>series_1</td>\n",
       "      <td>0.724705</td>\n",
       "    </tr>\n",
       "    <tr>\n",
       "      <th>2017-10-30 19:00:00</th>\n",
       "      <td>series_1</td>\n",
       "      <td>0.719981</td>\n",
       "    </tr>\n",
       "    <tr>\n",
       "      <th>2017-10-30 20:00:00</th>\n",
       "      <td>series_1</td>\n",
       "      <td>0.723175</td>\n",
       "    </tr>\n",
       "    <tr>\n",
       "      <th>2017-10-30 21:00:00</th>\n",
       "      <td>series_1</td>\n",
       "      <td>0.718822</td>\n",
       "    </tr>\n",
       "  </tbody>\n",
       "</table>\n",
       "<p>722 rows × 2 columns</p>\n",
       "</div>"
      ],
      "text/plain": [
       "                    unique_id   pred_1h\n",
       "ds                                     \n",
       "2017-09-30 20:00:00  series_1  0.145183\n",
       "2017-09-30 21:00:00  series_1  0.153298\n",
       "2017-09-30 22:00:00  series_1  0.165329\n",
       "2017-09-30 23:00:00  series_1  0.173096\n",
       "2017-10-01 00:00:00  series_1  0.185465\n",
       "...                       ...       ...\n",
       "2017-10-30 17:00:00  series_1  0.721137\n",
       "2017-10-30 18:00:00  series_1  0.724705\n",
       "2017-10-30 19:00:00  series_1  0.719981\n",
       "2017-10-30 20:00:00  series_1  0.723175\n",
       "2017-10-30 21:00:00  series_1  0.718822\n",
       "\n",
       "[722 rows x 2 columns]"
      ]
     },
     "execution_count": 54,
     "metadata": {},
     "output_type": "execute_result"
    }
   ],
   "source": [
    "preds_df['1h'] = ARIMA_dict['1h']['preds'].set_index('ds').rename(columns={'AutoARIMA': 'pred_1h'})\n",
    "preds_df['1h']"
   ]
  },
  {
   "cell_type": "code",
   "execution_count": 55,
   "id": "1cbcce17",
   "metadata": {},
   "outputs": [
    {
     "data": {
      "text/html": [
       "<div>\n",
       "<style scoped>\n",
       "    .dataframe tbody tr th:only-of-type {\n",
       "        vertical-align: middle;\n",
       "    }\n",
       "\n",
       "    .dataframe tbody tr th {\n",
       "        vertical-align: top;\n",
       "    }\n",
       "\n",
       "    .dataframe thead th {\n",
       "        text-align: right;\n",
       "    }\n",
       "</style>\n",
       "<table border=\"1\" class=\"dataframe\">\n",
       "  <thead>\n",
       "    <tr style=\"text-align: right;\">\n",
       "      <th></th>\n",
       "      <th>unique_id</th>\n",
       "      <th>pred_2h</th>\n",
       "    </tr>\n",
       "    <tr>\n",
       "      <th>ds</th>\n",
       "      <th></th>\n",
       "      <th></th>\n",
       "    </tr>\n",
       "  </thead>\n",
       "  <tbody>\n",
       "    <tr>\n",
       "      <th>2017-09-30 21:00:00</th>\n",
       "      <td>series_1</td>\n",
       "      <td>0.159335</td>\n",
       "    </tr>\n",
       "    <tr>\n",
       "      <th>2017-09-30 22:00:00</th>\n",
       "      <td>series_1</td>\n",
       "      <td>0.165635</td>\n",
       "    </tr>\n",
       "    <tr>\n",
       "      <th>2017-09-30 23:00:00</th>\n",
       "      <td>series_1</td>\n",
       "      <td>0.179176</td>\n",
       "    </tr>\n",
       "    <tr>\n",
       "      <th>2017-10-01 00:00:00</th>\n",
       "      <td>series_1</td>\n",
       "      <td>0.184778</td>\n",
       "    </tr>\n",
       "    <tr>\n",
       "      <th>2017-10-01 01:00:00</th>\n",
       "      <td>series_1</td>\n",
       "      <td>0.198998</td>\n",
       "    </tr>\n",
       "    <tr>\n",
       "      <th>...</th>\n",
       "      <td>...</td>\n",
       "      <td>...</td>\n",
       "    </tr>\n",
       "    <tr>\n",
       "      <th>2017-10-30 18:00:00</th>\n",
       "      <td>series_1</td>\n",
       "      <td>0.719497</td>\n",
       "    </tr>\n",
       "    <tr>\n",
       "      <th>2017-10-30 19:00:00</th>\n",
       "      <td>series_1</td>\n",
       "      <td>0.726337</td>\n",
       "    </tr>\n",
       "    <tr>\n",
       "      <th>2017-10-30 20:00:00</th>\n",
       "      <td>series_1</td>\n",
       "      <td>0.717670</td>\n",
       "    </tr>\n",
       "    <tr>\n",
       "      <th>2017-10-30 21:00:00</th>\n",
       "      <td>series_1</td>\n",
       "      <td>0.724412</td>\n",
       "    </tr>\n",
       "    <tr>\n",
       "      <th>2017-10-30 22:00:00</th>\n",
       "      <td>series_1</td>\n",
       "      <td>0.716669</td>\n",
       "    </tr>\n",
       "  </tbody>\n",
       "</table>\n",
       "<p>722 rows × 2 columns</p>\n",
       "</div>"
      ],
      "text/plain": [
       "                    unique_id   pred_2h\n",
       "ds                                     \n",
       "2017-09-30 21:00:00  series_1  0.159335\n",
       "2017-09-30 22:00:00  series_1  0.165635\n",
       "2017-09-30 23:00:00  series_1  0.179176\n",
       "2017-10-01 00:00:00  series_1  0.184778\n",
       "2017-10-01 01:00:00  series_1  0.198998\n",
       "...                       ...       ...\n",
       "2017-10-30 18:00:00  series_1  0.719497\n",
       "2017-10-30 19:00:00  series_1  0.726337\n",
       "2017-10-30 20:00:00  series_1  0.717670\n",
       "2017-10-30 21:00:00  series_1  0.724412\n",
       "2017-10-30 22:00:00  series_1  0.716669\n",
       "\n",
       "[722 rows x 2 columns]"
      ]
     },
     "execution_count": 55,
     "metadata": {},
     "output_type": "execute_result"
    }
   ],
   "source": [
    "preds_df['2h'] = ARIMA_dict['2h']['preds'].set_index('ds').rename(columns={'AutoARIMA': 'pred_2h'})\n",
    "preds_df['2h']"
   ]
  },
  {
   "cell_type": "code",
   "execution_count": 56,
   "id": "e1016514",
   "metadata": {},
   "outputs": [
    {
     "data": {
      "text/html": [
       "<div>\n",
       "<style scoped>\n",
       "    .dataframe tbody tr th:only-of-type {\n",
       "        vertical-align: middle;\n",
       "    }\n",
       "\n",
       "    .dataframe tbody tr th {\n",
       "        vertical-align: top;\n",
       "    }\n",
       "\n",
       "    .dataframe thead th {\n",
       "        text-align: right;\n",
       "    }\n",
       "</style>\n",
       "<table border=\"1\" class=\"dataframe\">\n",
       "  <thead>\n",
       "    <tr style=\"text-align: right;\">\n",
       "      <th></th>\n",
       "      <th>unique_id</th>\n",
       "      <th>pred_3h</th>\n",
       "    </tr>\n",
       "    <tr>\n",
       "      <th>ds</th>\n",
       "      <th></th>\n",
       "      <th></th>\n",
       "    </tr>\n",
       "  </thead>\n",
       "  <tbody>\n",
       "    <tr>\n",
       "      <th>2017-09-30 22:00:00</th>\n",
       "      <td>series_1</td>\n",
       "      <td>0.174956</td>\n",
       "    </tr>\n",
       "    <tr>\n",
       "      <th>2017-09-30 23:00:00</th>\n",
       "      <td>series_1</td>\n",
       "      <td>0.179650</td>\n",
       "    </tr>\n",
       "    <tr>\n",
       "      <th>2017-10-01 00:00:00</th>\n",
       "      <td>series_1</td>\n",
       "      <td>0.194218</td>\n",
       "    </tr>\n",
       "    <tr>\n",
       "      <th>2017-10-01 01:00:00</th>\n",
       "      <td>series_1</td>\n",
       "      <td>0.197894</td>\n",
       "    </tr>\n",
       "    <tr>\n",
       "      <th>2017-10-01 02:00:00</th>\n",
       "      <td>series_1</td>\n",
       "      <td>0.213452</td>\n",
       "    </tr>\n",
       "    <tr>\n",
       "      <th>...</th>\n",
       "      <td>...</td>\n",
       "      <td>...</td>\n",
       "    </tr>\n",
       "    <tr>\n",
       "      <th>2017-10-30 19:00:00</th>\n",
       "      <td>series_1</td>\n",
       "      <td>0.718044</td>\n",
       "    </tr>\n",
       "    <tr>\n",
       "      <th>2017-10-30 20:00:00</th>\n",
       "      <td>series_1</td>\n",
       "      <td>0.727791</td>\n",
       "    </tr>\n",
       "    <tr>\n",
       "      <th>2017-10-30 21:00:00</th>\n",
       "      <td>series_1</td>\n",
       "      <td>0.715647</td>\n",
       "    </tr>\n",
       "    <tr>\n",
       "      <th>2017-10-30 22:00:00</th>\n",
       "      <td>series_1</td>\n",
       "      <td>0.725570</td>\n",
       "    </tr>\n",
       "    <tr>\n",
       "      <th>2017-10-30 23:00:00</th>\n",
       "      <td>series_1</td>\n",
       "      <td>0.714805</td>\n",
       "    </tr>\n",
       "  </tbody>\n",
       "</table>\n",
       "<p>722 rows × 2 columns</p>\n",
       "</div>"
      ],
      "text/plain": [
       "                    unique_id   pred_3h\n",
       "ds                                     \n",
       "2017-09-30 22:00:00  series_1  0.174956\n",
       "2017-09-30 23:00:00  series_1  0.179650\n",
       "2017-10-01 00:00:00  series_1  0.194218\n",
       "2017-10-01 01:00:00  series_1  0.197894\n",
       "2017-10-01 02:00:00  series_1  0.213452\n",
       "...                       ...       ...\n",
       "2017-10-30 19:00:00  series_1  0.718044\n",
       "2017-10-30 20:00:00  series_1  0.727791\n",
       "2017-10-30 21:00:00  series_1  0.715647\n",
       "2017-10-30 22:00:00  series_1  0.725570\n",
       "2017-10-30 23:00:00  series_1  0.714805\n",
       "\n",
       "[722 rows x 2 columns]"
      ]
     },
     "execution_count": 56,
     "metadata": {},
     "output_type": "execute_result"
    }
   ],
   "source": [
    "preds_df['3h'] = ARIMA_dict['3h']['preds'].set_index('ds').rename(columns={'AutoARIMA': 'pred_3h'})\n",
    "preds_df['3h']"
   ]
  },
  {
   "cell_type": "markdown",
   "id": "1657f3e1",
   "metadata": {},
   "source": [
    "And let us plot the predictions of the ARIMAoost models for each prediction horizon."
   ]
  },
  {
   "cell_type": "code",
   "execution_count": 57,
   "id": "a1623af2",
   "metadata": {},
   "outputs": [
    {
     "data": {
      "image/png": "[encoded data removed]",
      "text/plain": [
       "<Figure size 1200x600 with 1 Axes>"
      ]
     },
     "metadata": {},
     "output_type": "display_data"
    }
   ],
   "source": [
    "%matplotlib inline\n",
    "\n",
    "plt.figure(figsize=(12, 6))\n",
    "plt.plot(val_df_nf[\"y\"], label=\"Actual Active Power (training)\", color='magenta')\n",
    "plt.plot(test_df_nf[\"y\"], label=\"Actual Active Power (test)\", color='blue')\n",
    "for h in range(1, horizon + 1):\n",
    "    colors = ['red', 'green', 'orange', 'purple', 'brown', 'cyan']\n",
    "    plt.plot(\n",
    "        preds_df[f'{h}h'][f'pred_{h}h'],\n",
    "        label=f\"Predicted Active Power {h}h\",\n",
    "        color=colors[(h - 1) % len(colors)]\n",
    "    )\n",
    "plt.legend()\n",
    "plt.show();plt.close()\n"
   ]
  },
  {
   "cell_type": "markdown",
   "id": "c946d397",
   "metadata": {},
   "source": [
    "### MAE computation"
   ]
  },
  {
   "cell_type": "markdown",
   "id": "4199c0fb",
   "metadata": {},
   "source": [
    "We will next compute the MAE for each of the predictions in the dictionary. "
   ]
  },
  {
   "cell_type": "code",
   "execution_count": 58,
   "id": "0c8ba4d1",
   "metadata": {},
   "outputs": [],
   "source": [
    "from sklearn.metrics import mean_absolute_error"
   ]
  },
  {
   "cell_type": "markdown",
   "id": "921eff67",
   "metadata": {},
   "source": [
    "#### Mae for 1h preddictions"
   ]
  },
  {
   "cell_type": "code",
   "execution_count": 59,
   "id": "a6d33869",
   "metadata": {},
   "outputs": [
    {
     "data": {
      "text/html": [
       "<div>\n",
       "<style scoped>\n",
       "    .dataframe tbody tr th:only-of-type {\n",
       "        vertical-align: middle;\n",
       "    }\n",
       "\n",
       "    .dataframe tbody tr th {\n",
       "        vertical-align: top;\n",
       "    }\n",
       "\n",
       "    .dataframe thead th {\n",
       "        text-align: right;\n",
       "    }\n",
       "</style>\n",
       "<table border=\"1\" class=\"dataframe\">\n",
       "  <thead>\n",
       "    <tr style=\"text-align: right;\">\n",
       "      <th></th>\n",
       "      <th>pred_1h</th>\n",
       "    </tr>\n",
       "    <tr>\n",
       "      <th>ds</th>\n",
       "      <th></th>\n",
       "    </tr>\n",
       "  </thead>\n",
       "  <tbody>\n",
       "    <tr>\n",
       "      <th>2017-09-30 20:00:00</th>\n",
       "      <td>0.145183</td>\n",
       "    </tr>\n",
       "    <tr>\n",
       "      <th>2017-09-30 21:00:00</th>\n",
       "      <td>0.153298</td>\n",
       "    </tr>\n",
       "    <tr>\n",
       "      <th>2017-09-30 22:00:00</th>\n",
       "      <td>0.165329</td>\n",
       "    </tr>\n",
       "    <tr>\n",
       "      <th>2017-09-30 23:00:00</th>\n",
       "      <td>0.173096</td>\n",
       "    </tr>\n",
       "    <tr>\n",
       "      <th>2017-10-01 00:00:00</th>\n",
       "      <td>0.185465</td>\n",
       "    </tr>\n",
       "    <tr>\n",
       "      <th>...</th>\n",
       "      <td>...</td>\n",
       "    </tr>\n",
       "    <tr>\n",
       "      <th>2017-10-30 17:00:00</th>\n",
       "      <td>0.721137</td>\n",
       "    </tr>\n",
       "    <tr>\n",
       "      <th>2017-10-30 18:00:00</th>\n",
       "      <td>0.724705</td>\n",
       "    </tr>\n",
       "    <tr>\n",
       "      <th>2017-10-30 19:00:00</th>\n",
       "      <td>0.719981</td>\n",
       "    </tr>\n",
       "    <tr>\n",
       "      <th>2017-10-30 20:00:00</th>\n",
       "      <td>0.723175</td>\n",
       "    </tr>\n",
       "    <tr>\n",
       "      <th>2017-10-30 21:00:00</th>\n",
       "      <td>0.718822</td>\n",
       "    </tr>\n",
       "  </tbody>\n",
       "</table>\n",
       "<p>722 rows × 1 columns</p>\n",
       "</div>"
      ],
      "text/plain": [
       "                      pred_1h\n",
       "ds                           \n",
       "2017-09-30 20:00:00  0.145183\n",
       "2017-09-30 21:00:00  0.153298\n",
       "2017-09-30 22:00:00  0.165329\n",
       "2017-09-30 23:00:00  0.173096\n",
       "2017-10-01 00:00:00  0.185465\n",
       "...                       ...\n",
       "2017-10-30 17:00:00  0.721137\n",
       "2017-10-30 18:00:00  0.724705\n",
       "2017-10-30 19:00:00  0.719981\n",
       "2017-10-30 20:00:00  0.723175\n",
       "2017-10-30 21:00:00  0.718822\n",
       "\n",
       "[722 rows x 1 columns]"
      ]
     },
     "execution_count": 59,
     "metadata": {},
     "output_type": "execute_result"
    }
   ],
   "source": [
    "mae1h_df = preds_df['1h'].copy()[['pred_1h']]\n",
    "mae1h_df\n"
   ]
  },
  {
   "cell_type": "markdown",
   "id": "3aa76637",
   "metadata": {},
   "source": [
    "We need to add the exogenous variables as they were used by the scaler. "
   ]
  },
  {
   "cell_type": "code",
   "execution_count": 61,
   "id": "7961ae45",
   "metadata": {},
   "outputs": [
    {
     "data": {
      "text/html": [
       "<div>\n",
       "<style scoped>\n",
       "    .dataframe tbody tr th:only-of-type {\n",
       "        vertical-align: middle;\n",
       "    }\n",
       "\n",
       "    .dataframe tbody tr th {\n",
       "        vertical-align: top;\n",
       "    }\n",
       "\n",
       "    .dataframe thead th {\n",
       "        text-align: right;\n",
       "    }\n",
       "</style>\n",
       "<table border=\"1\" class=\"dataframe\">\n",
       "  <thead>\n",
       "    <tr style=\"text-align: right;\">\n",
       "      <th></th>\n",
       "      <th>Wind_speed_tower</th>\n",
       "      <th>pred_1h</th>\n",
       "    </tr>\n",
       "    <tr>\n",
       "      <th>ds</th>\n",
       "      <th></th>\n",
       "      <th></th>\n",
       "    </tr>\n",
       "  </thead>\n",
       "  <tbody>\n",
       "    <tr>\n",
       "      <th>2017-09-30 20:00:00</th>\n",
       "      <td>0.135542</td>\n",
       "      <td>0.145183</td>\n",
       "    </tr>\n",
       "    <tr>\n",
       "      <th>2017-09-30 21:00:00</th>\n",
       "      <td>0.128765</td>\n",
       "      <td>0.153298</td>\n",
       "    </tr>\n",
       "    <tr>\n",
       "      <th>2017-09-30 22:00:00</th>\n",
       "      <td>0.108434</td>\n",
       "      <td>0.165329</td>\n",
       "    </tr>\n",
       "    <tr>\n",
       "      <th>2017-09-30 23:00:00</th>\n",
       "      <td>0.105422</td>\n",
       "      <td>0.173096</td>\n",
       "    </tr>\n",
       "    <tr>\n",
       "      <th>2017-10-01 00:00:00</th>\n",
       "      <td>0.165663</td>\n",
       "      <td>0.185465</td>\n",
       "    </tr>\n",
       "    <tr>\n",
       "      <th>...</th>\n",
       "      <td>...</td>\n",
       "      <td>...</td>\n",
       "    </tr>\n",
       "    <tr>\n",
       "      <th>2017-10-30 17:00:00</th>\n",
       "      <td>0.443524</td>\n",
       "      <td>0.721137</td>\n",
       "    </tr>\n",
       "    <tr>\n",
       "      <th>2017-10-30 18:00:00</th>\n",
       "      <td>0.476657</td>\n",
       "      <td>0.724705</td>\n",
       "    </tr>\n",
       "    <tr>\n",
       "      <th>2017-10-30 19:00:00</th>\n",
       "      <td>0.443524</td>\n",
       "      <td>0.719981</td>\n",
       "    </tr>\n",
       "    <tr>\n",
       "      <th>2017-10-30 20:00:00</th>\n",
       "      <td>0.475904</td>\n",
       "      <td>0.723175</td>\n",
       "    </tr>\n",
       "    <tr>\n",
       "      <th>2017-10-30 21:00:00</th>\n",
       "      <td>0.490964</td>\n",
       "      <td>0.718822</td>\n",
       "    </tr>\n",
       "  </tbody>\n",
       "</table>\n",
       "<p>722 rows × 2 columns</p>\n",
       "</div>"
      ],
      "text/plain": [
       "                     Wind_speed_tower   pred_1h\n",
       "ds                                             \n",
       "2017-09-30 20:00:00          0.135542  0.145183\n",
       "2017-09-30 21:00:00          0.128765  0.153298\n",
       "2017-09-30 22:00:00          0.108434  0.165329\n",
       "2017-09-30 23:00:00          0.105422  0.173096\n",
       "2017-10-01 00:00:00          0.165663  0.185465\n",
       "...                               ...       ...\n",
       "2017-10-30 17:00:00          0.443524  0.721137\n",
       "2017-10-30 18:00:00          0.476657  0.724705\n",
       "2017-10-30 19:00:00          0.443524  0.719981\n",
       "2017-10-30 20:00:00          0.475904  0.723175\n",
       "2017-10-30 21:00:00          0.490964  0.718822\n",
       "\n",
       "[722 rows x 2 columns]"
      ]
     },
     "execution_count": 61,
     "metadata": {},
     "output_type": "execute_result"
    }
   ],
   "source": [
    "mae1h_df.insert(0, 'Wind_speed_tower', test_df_nf['Wind_speed_tower'].values[:-2])\n",
    "mae1h_df"
   ]
  },
  {
   "cell_type": "code",
   "execution_count": 62,
   "id": "e6fd77a4",
   "metadata": {},
   "outputs": [
    {
     "data": {
      "text/plain": [
       "0.0055083194962142505"
      ]
     },
     "execution_count": 62,
     "metadata": {},
     "output_type": "execute_result"
    }
   ],
   "source": [
    "# mae1h_df.columns = [\"Wind_speed_tower\", \"Active_Power\"]\n",
    "mean_absolute_error(scaler.inverse_transform(mae1h_df)[:,1], test_df_original[\"Active_Power\"][:-2])"
   ]
  },
  {
   "cell_type": "markdown",
   "id": "8ae401fa",
   "metadata": {},
   "source": [
    "#### Mae for 2h preddictions"
   ]
  },
  {
   "cell_type": "code",
   "execution_count": 63,
   "id": "6ffc6fad",
   "metadata": {},
   "outputs": [
    {
     "data": {
      "text/html": [
       "<div>\n",
       "<style scoped>\n",
       "    .dataframe tbody tr th:only-of-type {\n",
       "        vertical-align: middle;\n",
       "    }\n",
       "\n",
       "    .dataframe tbody tr th {\n",
       "        vertical-align: top;\n",
       "    }\n",
       "\n",
       "    .dataframe thead th {\n",
       "        text-align: right;\n",
       "    }\n",
       "</style>\n",
       "<table border=\"1\" class=\"dataframe\">\n",
       "  <thead>\n",
       "    <tr style=\"text-align: right;\">\n",
       "      <th></th>\n",
       "      <th>pred_2h</th>\n",
       "    </tr>\n",
       "    <tr>\n",
       "      <th>ds</th>\n",
       "      <th></th>\n",
       "    </tr>\n",
       "  </thead>\n",
       "  <tbody>\n",
       "    <tr>\n",
       "      <th>2017-09-30 21:00:00</th>\n",
       "      <td>0.159335</td>\n",
       "    </tr>\n",
       "    <tr>\n",
       "      <th>2017-09-30 22:00:00</th>\n",
       "      <td>0.165635</td>\n",
       "    </tr>\n",
       "    <tr>\n",
       "      <th>2017-09-30 23:00:00</th>\n",
       "      <td>0.179176</td>\n",
       "    </tr>\n",
       "    <tr>\n",
       "      <th>2017-10-01 00:00:00</th>\n",
       "      <td>0.184778</td>\n",
       "    </tr>\n",
       "    <tr>\n",
       "      <th>2017-10-01 01:00:00</th>\n",
       "      <td>0.198998</td>\n",
       "    </tr>\n",
       "    <tr>\n",
       "      <th>...</th>\n",
       "      <td>...</td>\n",
       "    </tr>\n",
       "    <tr>\n",
       "      <th>2017-10-30 18:00:00</th>\n",
       "      <td>0.719497</td>\n",
       "    </tr>\n",
       "    <tr>\n",
       "      <th>2017-10-30 19:00:00</th>\n",
       "      <td>0.726337</td>\n",
       "    </tr>\n",
       "    <tr>\n",
       "      <th>2017-10-30 20:00:00</th>\n",
       "      <td>0.717670</td>\n",
       "    </tr>\n",
       "    <tr>\n",
       "      <th>2017-10-30 21:00:00</th>\n",
       "      <td>0.724412</td>\n",
       "    </tr>\n",
       "    <tr>\n",
       "      <th>2017-10-30 22:00:00</th>\n",
       "      <td>0.716669</td>\n",
       "    </tr>\n",
       "  </tbody>\n",
       "</table>\n",
       "<p>722 rows × 1 columns</p>\n",
       "</div>"
      ],
      "text/plain": [
       "                      pred_2h\n",
       "ds                           \n",
       "2017-09-30 21:00:00  0.159335\n",
       "2017-09-30 22:00:00  0.165635\n",
       "2017-09-30 23:00:00  0.179176\n",
       "2017-10-01 00:00:00  0.184778\n",
       "2017-10-01 01:00:00  0.198998\n",
       "...                       ...\n",
       "2017-10-30 18:00:00  0.719497\n",
       "2017-10-30 19:00:00  0.726337\n",
       "2017-10-30 20:00:00  0.717670\n",
       "2017-10-30 21:00:00  0.724412\n",
       "2017-10-30 22:00:00  0.716669\n",
       "\n",
       "[722 rows x 1 columns]"
      ]
     },
     "execution_count": 63,
     "metadata": {},
     "output_type": "execute_result"
    }
   ],
   "source": [
    "mae2h_df = preds_df['2h'].copy()[['pred_2h']]\n",
    "mae2h_df\n"
   ]
  },
  {
   "cell_type": "code",
   "execution_count": 64,
   "id": "7d6efba9",
   "metadata": {},
   "outputs": [
    {
     "data": {
      "text/html": [
       "<div>\n",
       "<style scoped>\n",
       "    .dataframe tbody tr th:only-of-type {\n",
       "        vertical-align: middle;\n",
       "    }\n",
       "\n",
       "    .dataframe tbody tr th {\n",
       "        vertical-align: top;\n",
       "    }\n",
       "\n",
       "    .dataframe thead th {\n",
       "        text-align: right;\n",
       "    }\n",
       "</style>\n",
       "<table border=\"1\" class=\"dataframe\">\n",
       "  <thead>\n",
       "    <tr style=\"text-align: right;\">\n",
       "      <th></th>\n",
       "      <th>Wind_speed_tower</th>\n",
       "      <th>pred_2h</th>\n",
       "    </tr>\n",
       "    <tr>\n",
       "      <th>ds</th>\n",
       "      <th></th>\n",
       "      <th></th>\n",
       "    </tr>\n",
       "  </thead>\n",
       "  <tbody>\n",
       "    <tr>\n",
       "      <th>2017-09-30 21:00:00</th>\n",
       "      <td>0.135542</td>\n",
       "      <td>0.159335</td>\n",
       "    </tr>\n",
       "    <tr>\n",
       "      <th>2017-09-30 22:00:00</th>\n",
       "      <td>0.128765</td>\n",
       "      <td>0.165635</td>\n",
       "    </tr>\n",
       "    <tr>\n",
       "      <th>2017-09-30 23:00:00</th>\n",
       "      <td>0.108434</td>\n",
       "      <td>0.179176</td>\n",
       "    </tr>\n",
       "    <tr>\n",
       "      <th>2017-10-01 00:00:00</th>\n",
       "      <td>0.105422</td>\n",
       "      <td>0.184778</td>\n",
       "    </tr>\n",
       "    <tr>\n",
       "      <th>2017-10-01 01:00:00</th>\n",
       "      <td>0.165663</td>\n",
       "      <td>0.198998</td>\n",
       "    </tr>\n",
       "    <tr>\n",
       "      <th>...</th>\n",
       "      <td>...</td>\n",
       "      <td>...</td>\n",
       "    </tr>\n",
       "    <tr>\n",
       "      <th>2017-10-30 18:00:00</th>\n",
       "      <td>0.443524</td>\n",
       "      <td>0.719497</td>\n",
       "    </tr>\n",
       "    <tr>\n",
       "      <th>2017-10-30 19:00:00</th>\n",
       "      <td>0.476657</td>\n",
       "      <td>0.726337</td>\n",
       "    </tr>\n",
       "    <tr>\n",
       "      <th>2017-10-30 20:00:00</th>\n",
       "      <td>0.443524</td>\n",
       "      <td>0.717670</td>\n",
       "    </tr>\n",
       "    <tr>\n",
       "      <th>2017-10-30 21:00:00</th>\n",
       "      <td>0.475904</td>\n",
       "      <td>0.724412</td>\n",
       "    </tr>\n",
       "    <tr>\n",
       "      <th>2017-10-30 22:00:00</th>\n",
       "      <td>0.490964</td>\n",
       "      <td>0.716669</td>\n",
       "    </tr>\n",
       "  </tbody>\n",
       "</table>\n",
       "<p>722 rows × 2 columns</p>\n",
       "</div>"
      ],
      "text/plain": [
       "                     Wind_speed_tower   pred_2h\n",
       "ds                                             \n",
       "2017-09-30 21:00:00          0.135542  0.159335\n",
       "2017-09-30 22:00:00          0.128765  0.165635\n",
       "2017-09-30 23:00:00          0.108434  0.179176\n",
       "2017-10-01 00:00:00          0.105422  0.184778\n",
       "2017-10-01 01:00:00          0.165663  0.198998\n",
       "...                               ...       ...\n",
       "2017-10-30 18:00:00          0.443524  0.719497\n",
       "2017-10-30 19:00:00          0.476657  0.726337\n",
       "2017-10-30 20:00:00          0.443524  0.717670\n",
       "2017-10-30 21:00:00          0.475904  0.724412\n",
       "2017-10-30 22:00:00          0.490964  0.716669\n",
       "\n",
       "[722 rows x 2 columns]"
      ]
     },
     "execution_count": 64,
     "metadata": {},
     "output_type": "execute_result"
    }
   ],
   "source": [
    "mae2h_df.insert(0, 'Wind_speed_tower', test_df_nf['Wind_speed_tower'].values[:-2])\n",
    "mae2h_df"
   ]
  },
  {
   "cell_type": "code",
   "execution_count": 65,
   "id": "7e89a5e0",
   "metadata": {},
   "outputs": [
    {
     "data": {
      "text/plain": [
       "0.02075974691550662"
      ]
     },
     "execution_count": 65,
     "metadata": {},
     "output_type": "execute_result"
    }
   ],
   "source": [
    "# mae1h_df.columns = [\"Wind_speed_tower\", \"Active_Power\"]\n",
    "mean_absolute_error(scaler.inverse_transform(mae2h_df)[:,1], test_df_original[\"Active_Power\"][:-2])"
   ]
  },
  {
   "cell_type": "markdown",
   "id": "7450ad3e",
   "metadata": {},
   "source": [
    "#### Mae for 3h preddictions"
   ]
  },
  {
   "cell_type": "code",
   "execution_count": 66,
   "id": "4ad18937",
   "metadata": {},
   "outputs": [
    {
     "data": {
      "text/html": [
       "<div>\n",
       "<style scoped>\n",
       "    .dataframe tbody tr th:only-of-type {\n",
       "        vertical-align: middle;\n",
       "    }\n",
       "\n",
       "    .dataframe tbody tr th {\n",
       "        vertical-align: top;\n",
       "    }\n",
       "\n",
       "    .dataframe thead th {\n",
       "        text-align: right;\n",
       "    }\n",
       "</style>\n",
       "<table border=\"1\" class=\"dataframe\">\n",
       "  <thead>\n",
       "    <tr style=\"text-align: right;\">\n",
       "      <th></th>\n",
       "      <th>pred_3h</th>\n",
       "    </tr>\n",
       "    <tr>\n",
       "      <th>ds</th>\n",
       "      <th></th>\n",
       "    </tr>\n",
       "  </thead>\n",
       "  <tbody>\n",
       "    <tr>\n",
       "      <th>2017-09-30 22:00:00</th>\n",
       "      <td>0.174956</td>\n",
       "    </tr>\n",
       "    <tr>\n",
       "      <th>2017-09-30 23:00:00</th>\n",
       "      <td>0.179650</td>\n",
       "    </tr>\n",
       "    <tr>\n",
       "      <th>2017-10-01 00:00:00</th>\n",
       "      <td>0.194218</td>\n",
       "    </tr>\n",
       "    <tr>\n",
       "      <th>2017-10-01 01:00:00</th>\n",
       "      <td>0.197894</td>\n",
       "    </tr>\n",
       "    <tr>\n",
       "      <th>2017-10-01 02:00:00</th>\n",
       "      <td>0.213452</td>\n",
       "    </tr>\n",
       "    <tr>\n",
       "      <th>...</th>\n",
       "      <td>...</td>\n",
       "    </tr>\n",
       "    <tr>\n",
       "      <th>2017-10-30 19:00:00</th>\n",
       "      <td>0.718044</td>\n",
       "    </tr>\n",
       "    <tr>\n",
       "      <th>2017-10-30 20:00:00</th>\n",
       "      <td>0.727791</td>\n",
       "    </tr>\n",
       "    <tr>\n",
       "      <th>2017-10-30 21:00:00</th>\n",
       "      <td>0.715647</td>\n",
       "    </tr>\n",
       "    <tr>\n",
       "      <th>2017-10-30 22:00:00</th>\n",
       "      <td>0.725570</td>\n",
       "    </tr>\n",
       "    <tr>\n",
       "      <th>2017-10-30 23:00:00</th>\n",
       "      <td>0.714805</td>\n",
       "    </tr>\n",
       "  </tbody>\n",
       "</table>\n",
       "<p>722 rows × 1 columns</p>\n",
       "</div>"
      ],
      "text/plain": [
       "                      pred_3h\n",
       "ds                           \n",
       "2017-09-30 22:00:00  0.174956\n",
       "2017-09-30 23:00:00  0.179650\n",
       "2017-10-01 00:00:00  0.194218\n",
       "2017-10-01 01:00:00  0.197894\n",
       "2017-10-01 02:00:00  0.213452\n",
       "...                       ...\n",
       "2017-10-30 19:00:00  0.718044\n",
       "2017-10-30 20:00:00  0.727791\n",
       "2017-10-30 21:00:00  0.715647\n",
       "2017-10-30 22:00:00  0.725570\n",
       "2017-10-30 23:00:00  0.714805\n",
       "\n",
       "[722 rows x 1 columns]"
      ]
     },
     "execution_count": 66,
     "metadata": {},
     "output_type": "execute_result"
    }
   ],
   "source": [
    "mae3h_df = preds_df['3h'].copy()[['pred_3h']]\n",
    "mae3h_df\n"
   ]
  },
  {
   "cell_type": "code",
   "execution_count": 67,
   "id": "b57cbecb",
   "metadata": {},
   "outputs": [
    {
     "data": {
      "text/html": [
       "<div>\n",
       "<style scoped>\n",
       "    .dataframe tbody tr th:only-of-type {\n",
       "        vertical-align: middle;\n",
       "    }\n",
       "\n",
       "    .dataframe tbody tr th {\n",
       "        vertical-align: top;\n",
       "    }\n",
       "\n",
       "    .dataframe thead th {\n",
       "        text-align: right;\n",
       "    }\n",
       "</style>\n",
       "<table border=\"1\" class=\"dataframe\">\n",
       "  <thead>\n",
       "    <tr style=\"text-align: right;\">\n",
       "      <th></th>\n",
       "      <th>Wind_speed_tower</th>\n",
       "      <th>pred_3h</th>\n",
       "    </tr>\n",
       "    <tr>\n",
       "      <th>ds</th>\n",
       "      <th></th>\n",
       "      <th></th>\n",
       "    </tr>\n",
       "  </thead>\n",
       "  <tbody>\n",
       "    <tr>\n",
       "      <th>2017-09-30 22:00:00</th>\n",
       "      <td>0.135542</td>\n",
       "      <td>0.174956</td>\n",
       "    </tr>\n",
       "    <tr>\n",
       "      <th>2017-09-30 23:00:00</th>\n",
       "      <td>0.128765</td>\n",
       "      <td>0.179650</td>\n",
       "    </tr>\n",
       "    <tr>\n",
       "      <th>2017-10-01 00:00:00</th>\n",
       "      <td>0.108434</td>\n",
       "      <td>0.194218</td>\n",
       "    </tr>\n",
       "    <tr>\n",
       "      <th>2017-10-01 01:00:00</th>\n",
       "      <td>0.105422</td>\n",
       "      <td>0.197894</td>\n",
       "    </tr>\n",
       "    <tr>\n",
       "      <th>2017-10-01 02:00:00</th>\n",
       "      <td>0.165663</td>\n",
       "      <td>0.213452</td>\n",
       "    </tr>\n",
       "    <tr>\n",
       "      <th>...</th>\n",
       "      <td>...</td>\n",
       "      <td>...</td>\n",
       "    </tr>\n",
       "    <tr>\n",
       "      <th>2017-10-30 19:00:00</th>\n",
       "      <td>0.443524</td>\n",
       "      <td>0.718044</td>\n",
       "    </tr>\n",
       "    <tr>\n",
       "      <th>2017-10-30 20:00:00</th>\n",
       "      <td>0.476657</td>\n",
       "      <td>0.727791</td>\n",
       "    </tr>\n",
       "    <tr>\n",
       "      <th>2017-10-30 21:00:00</th>\n",
       "      <td>0.443524</td>\n",
       "      <td>0.715647</td>\n",
       "    </tr>\n",
       "    <tr>\n",
       "      <th>2017-10-30 22:00:00</th>\n",
       "      <td>0.475904</td>\n",
       "      <td>0.725570</td>\n",
       "    </tr>\n",
       "    <tr>\n",
       "      <th>2017-10-30 23:00:00</th>\n",
       "      <td>0.490964</td>\n",
       "      <td>0.714805</td>\n",
       "    </tr>\n",
       "  </tbody>\n",
       "</table>\n",
       "<p>722 rows × 2 columns</p>\n",
       "</div>"
      ],
      "text/plain": [
       "                     Wind_speed_tower   pred_3h\n",
       "ds                                             \n",
       "2017-09-30 22:00:00          0.135542  0.174956\n",
       "2017-09-30 23:00:00          0.128765  0.179650\n",
       "2017-10-01 00:00:00          0.108434  0.194218\n",
       "2017-10-01 01:00:00          0.105422  0.197894\n",
       "2017-10-01 02:00:00          0.165663  0.213452\n",
       "...                               ...       ...\n",
       "2017-10-30 19:00:00          0.443524  0.718044\n",
       "2017-10-30 20:00:00          0.476657  0.727791\n",
       "2017-10-30 21:00:00          0.443524  0.715647\n",
       "2017-10-30 22:00:00          0.475904  0.725570\n",
       "2017-10-30 23:00:00          0.490964  0.714805\n",
       "\n",
       "[722 rows x 2 columns]"
      ]
     },
     "execution_count": 67,
     "metadata": {},
     "output_type": "execute_result"
    }
   ],
   "source": [
    "mae3h_df.insert(0, 'Wind_speed_tower', test_df_nf['Wind_speed_tower'].values[:-2])\n",
    "mae3h_df"
   ]
  },
  {
   "cell_type": "code",
   "execution_count": 68,
   "id": "d4cb6b8a",
   "metadata": {},
   "outputs": [
    {
     "data": {
      "text/plain": [
       "0.037362956581409944"
      ]
     },
     "execution_count": 68,
     "metadata": {},
     "output_type": "execute_result"
    }
   ],
   "source": [
    "mean_absolute_error(scaler.inverse_transform(mae3h_df)[:,1], test_df_original[\"Active_Power\"][:-2])"
   ]
  }
 ],
 "metadata": {
  "kernelspec": {
   "display_name": "tfm_cc",
   "language": "python",
   "name": "python3"
  },
  "language_info": {
   "codemirror_mode": {
    "name": "ipython",
    "version": 3
   },
   "file_extension": ".py",
   "mimetype": "text/x-python",
   "name": "python",
   "nbconvert_exporter": "python",
   "pygments_lexer": "ipython3",
   "version": "3.10.16"
  }
 },
 "nbformat": 4,
 "nbformat_minor": 5
}
