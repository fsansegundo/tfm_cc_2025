{
 "cells": [
  {
   "cell_type": "markdown",
   "id": "50ef451e",
   "metadata": {},
   "source": [
    "# N-HITS Forecasting with Nixtla's NeuralForecast"
   ]
  },
  {
   "cell_type": "markdown",
   "id": "05b15363",
   "metadata": {},
   "source": [
    "## Dataset: AV"
   ]
  },
  {
   "cell_type": "markdown",
   "id": "182cd5b3",
   "metadata": {},
   "source": [
    "This notebook demonstrates how to use the N-HITS forecasting model described in:\n",
    "\n",
    "*N-HiTS: Neural Hierarchical Interpolation for Time Series Forecasting*, [https://arxiv.org/abs/2201.12886](https://arxiv.org/abs/2201.12886)\n",
    "\n",
    "The implementation we use is provided by Nixtla's NeuralForecast library:\n",
    "\n",
    "+ for the base model [`NHITS`](https://nixtlaverse.nixtla.io/neuralforecast/models.nhits.html#nhits)\n",
    "+ for the automodel [`AutoNHITS`](https://nixtlaverse.nixtla.io/neuralforecast/models.html#autonhits)\n",
    "\n",
    "\n",
    "## Important note:\n",
    "\n",
    "This notebook uses the following conda environments:\n",
    "\n",
    "+ Under linux: tfm_cc, described in the tfm_cc.yml file (see environments folder).\n",
    "+ Under macOS: tfm_cc_nixtla, described in the tfm_cc_nixtla.yml file (see environments folder). \n",
    "\n",
    "## Execution Notes:\n",
    "\n",
    "The run times that appear below correspond to the execution of the notebook in a Linux machine under Ubuntu 22.04 LTS with Intel Core i7-10870H CPU (2.20GHz), 64GB of RAM, NVIDIA GeForce RTX 3060 Laptop GPU with 6Gb VRAM."
   ]
  },
  {
   "cell_type": "markdown",
   "id": "0458d78e",
   "metadata": {},
   "source": [
    "## Load basic libraries\n",
    "\n",
    "**Warning:** Model specific libraries will be loaded below."
   ]
  },
  {
   "cell_type": "code",
   "execution_count": 66,
   "id": "15c939dc",
   "metadata": {},
   "outputs": [],
   "source": [
    "import pandas as pd\n",
    "import numpy as np\n",
    "import matplotlib.pyplot as plt\n",
    "\n",
    "import time\n",
    "import logging\n",
    "\n",
    "\n",
    "\n",
    "from sklearn.preprocessing import MinMaxScaler\n",
    "from sklearn.preprocessing import StandardScaler\n",
    "from sklearn.model_selection import train_test_split\n",
    "from sklearn.metrics import mean_absolute_error\n",
    "\n"
   ]
  },
  {
   "cell_type": "markdown",
   "id": "3dadd0fe",
   "metadata": {},
   "source": [
    "## Load dataset"
   ]
  },
  {
   "cell_type": "code",
   "execution_count": 67,
   "id": "5db84e25",
   "metadata": {},
   "outputs": [
    {
     "data": {
      "text/html": [
       "<div>\n",
       "<style scoped>\n",
       "    .dataframe tbody tr th:only-of-type {\n",
       "        vertical-align: middle;\n",
       "    }\n",
       "\n",
       "    .dataframe tbody tr th {\n",
       "        vertical-align: top;\n",
       "    }\n",
       "\n",
       "    .dataframe thead th {\n",
       "        text-align: right;\n",
       "    }\n",
       "</style>\n",
       "<table border=\"1\" class=\"dataframe\">\n",
       "  <thead>\n",
       "    <tr style=\"text-align: right;\">\n",
       "      <th></th>\n",
       "      <th>time</th>\n",
       "      <th>Active_Power</th>\n",
       "      <th>Wind_speed_tower</th>\n",
       "      <th>Preassure</th>\n",
       "      <th>Generator_Speed</th>\n",
       "      <th>F1_v(90).Mean</th>\n",
       "      <th>F1_v(80).Mean</th>\n",
       "      <th>F1_v(70).Mean</th>\n",
       "      <th>F1_v(60).Mean</th>\n",
       "      <th>F1_v(50).Mean</th>\n",
       "      <th>F1_v(40).Mean</th>\n",
       "      <th>F1_v(30).Mean</th>\n",
       "    </tr>\n",
       "  </thead>\n",
       "  <tbody>\n",
       "    <tr>\n",
       "      <th>0</th>\n",
       "      <td>01/09/2022 0:00</td>\n",
       "      <td>2505.48220</td>\n",
       "      <td>9.057124</td>\n",
       "      <td>1012.38360</td>\n",
       "      <td>1121.2102</td>\n",
       "      <td>9.023969</td>\n",
       "      <td>3.97405</td>\n",
       "      <td>9.076108</td>\n",
       "      <td>3.82628</td>\n",
       "      <td>8.992466</td>\n",
       "      <td>3.39136</td>\n",
       "      <td>8.827003</td>\n",
       "    </tr>\n",
       "    <tr>\n",
       "      <th>1</th>\n",
       "      <td>01/09/2022 1:00</td>\n",
       "      <td>1762.24210</td>\n",
       "      <td>8.078237</td>\n",
       "      <td>1012.41210</td>\n",
       "      <td>1073.9020</td>\n",
       "      <td>8.110137</td>\n",
       "      <td>3.97405</td>\n",
       "      <td>8.151952</td>\n",
       "      <td>3.82628</td>\n",
       "      <td>8.076786</td>\n",
       "      <td>3.39136</td>\n",
       "      <td>8.005285</td>\n",
       "    </tr>\n",
       "    <tr>\n",
       "      <th>2</th>\n",
       "      <td>01/09/2022 2:00</td>\n",
       "      <td>1460.83560</td>\n",
       "      <td>7.712017</td>\n",
       "      <td>1012.29083</td>\n",
       "      <td>1021.2429</td>\n",
       "      <td>7.527431</td>\n",
       "      <td>3.97405</td>\n",
       "      <td>7.615797</td>\n",
       "      <td>3.82628</td>\n",
       "      <td>7.517593</td>\n",
       "      <td>3.39136</td>\n",
       "      <td>7.461551</td>\n",
       "    </tr>\n",
       "    <tr>\n",
       "      <th>3</th>\n",
       "      <td>01/09/2022 3:00</td>\n",
       "      <td>926.81006</td>\n",
       "      <td>6.672135</td>\n",
       "      <td>1012.15690</td>\n",
       "      <td>894.0004</td>\n",
       "      <td>6.566134</td>\n",
       "      <td>3.97405</td>\n",
       "      <td>6.637816</td>\n",
       "      <td>3.82628</td>\n",
       "      <td>6.571112</td>\n",
       "      <td>3.39136</td>\n",
       "      <td>6.550666</td>\n",
       "    </tr>\n",
       "    <tr>\n",
       "      <th>4</th>\n",
       "      <td>01/09/2022 4:00</td>\n",
       "      <td>671.34590</td>\n",
       "      <td>6.100095</td>\n",
       "      <td>1012.09424</td>\n",
       "      <td>821.4349</td>\n",
       "      <td>5.988185</td>\n",
       "      <td>3.97405</td>\n",
       "      <td>6.049537</td>\n",
       "      <td>3.82628</td>\n",
       "      <td>5.986922</td>\n",
       "      <td>3.39136</td>\n",
       "      <td>5.982606</td>\n",
       "    </tr>\n",
       "  </tbody>\n",
       "</table>\n",
       "</div>"
      ],
      "text/plain": [
       "              time  Active_Power  Wind_speed_tower   Preassure  \\\n",
       "0  01/09/2022 0:00    2505.48220          9.057124  1012.38360   \n",
       "1  01/09/2022 1:00    1762.24210          8.078237  1012.41210   \n",
       "2  01/09/2022 2:00    1460.83560          7.712017  1012.29083   \n",
       "3  01/09/2022 3:00     926.81006          6.672135  1012.15690   \n",
       "4  01/09/2022 4:00     671.34590          6.100095  1012.09424   \n",
       "\n",
       "   Generator_Speed  F1_v(90).Mean  F1_v(80).Mean  F1_v(70).Mean  \\\n",
       "0        1121.2102       9.023969        3.97405       9.076108   \n",
       "1        1073.9020       8.110137        3.97405       8.151952   \n",
       "2        1021.2429       7.527431        3.97405       7.615797   \n",
       "3         894.0004       6.566134        3.97405       6.637816   \n",
       "4         821.4349       5.988185        3.97405       6.049537   \n",
       "\n",
       "   F1_v(60).Mean  F1_v(50).Mean  F1_v(40).Mean  F1_v(30).Mean  \n",
       "0        3.82628       8.992466        3.39136       8.827003  \n",
       "1        3.82628       8.076786        3.39136       8.005285  \n",
       "2        3.82628       7.517593        3.39136       7.461551  \n",
       "3        3.82628       6.571112        3.39136       6.550666  \n",
       "4        3.82628       5.986922        3.39136       5.982606  "
      ]
     },
     "execution_count": 67,
     "metadata": {},
     "output_type": "execute_result"
    }
   ],
   "source": [
    "file_path = \"../../data/filtered_df.csv\"\n",
    "df = pd.read_csv(file_path, delimiter=';')\n",
    "df.head()"
   ]
  },
  {
   "cell_type": "markdown",
   "id": "e0d38131",
   "metadata": {},
   "source": [
    "### Set datetime format and index"
   ]
  },
  {
   "cell_type": "code",
   "execution_count": 68,
   "id": "13ae67f6",
   "metadata": {},
   "outputs": [
    {
     "data": {
      "text/html": [
       "<div>\n",
       "<style scoped>\n",
       "    .dataframe tbody tr th:only-of-type {\n",
       "        vertical-align: middle;\n",
       "    }\n",
       "\n",
       "    .dataframe tbody tr th {\n",
       "        vertical-align: top;\n",
       "    }\n",
       "\n",
       "    .dataframe thead th {\n",
       "        text-align: right;\n",
       "    }\n",
       "</style>\n",
       "<table border=\"1\" class=\"dataframe\">\n",
       "  <thead>\n",
       "    <tr style=\"text-align: right;\">\n",
       "      <th></th>\n",
       "      <th>Active_Power</th>\n",
       "      <th>Wind_speed_tower</th>\n",
       "      <th>Preassure</th>\n",
       "      <th>Generator_Speed</th>\n",
       "      <th>F1_v(90).Mean</th>\n",
       "      <th>F1_v(80).Mean</th>\n",
       "      <th>F1_v(70).Mean</th>\n",
       "      <th>F1_v(60).Mean</th>\n",
       "      <th>F1_v(50).Mean</th>\n",
       "      <th>F1_v(40).Mean</th>\n",
       "      <th>F1_v(30).Mean</th>\n",
       "    </tr>\n",
       "    <tr>\n",
       "      <th>time</th>\n",
       "      <th></th>\n",
       "      <th></th>\n",
       "      <th></th>\n",
       "      <th></th>\n",
       "      <th></th>\n",
       "      <th></th>\n",
       "      <th></th>\n",
       "      <th></th>\n",
       "      <th></th>\n",
       "      <th></th>\n",
       "      <th></th>\n",
       "    </tr>\n",
       "  </thead>\n",
       "  <tbody>\n",
       "    <tr>\n",
       "      <th>2022-09-01 00:00:00</th>\n",
       "      <td>2505.48220</td>\n",
       "      <td>9.057124</td>\n",
       "      <td>1012.38360</td>\n",
       "      <td>1121.2102</td>\n",
       "      <td>9.023969</td>\n",
       "      <td>3.97405</td>\n",
       "      <td>9.076108</td>\n",
       "      <td>3.82628</td>\n",
       "      <td>8.992466</td>\n",
       "      <td>3.39136</td>\n",
       "      <td>8.827003</td>\n",
       "    </tr>\n",
       "    <tr>\n",
       "      <th>2022-09-01 01:00:00</th>\n",
       "      <td>1762.24210</td>\n",
       "      <td>8.078237</td>\n",
       "      <td>1012.41210</td>\n",
       "      <td>1073.9020</td>\n",
       "      <td>8.110137</td>\n",
       "      <td>3.97405</td>\n",
       "      <td>8.151952</td>\n",
       "      <td>3.82628</td>\n",
       "      <td>8.076786</td>\n",
       "      <td>3.39136</td>\n",
       "      <td>8.005285</td>\n",
       "    </tr>\n",
       "    <tr>\n",
       "      <th>2022-09-01 02:00:00</th>\n",
       "      <td>1460.83560</td>\n",
       "      <td>7.712017</td>\n",
       "      <td>1012.29083</td>\n",
       "      <td>1021.2429</td>\n",
       "      <td>7.527431</td>\n",
       "      <td>3.97405</td>\n",
       "      <td>7.615797</td>\n",
       "      <td>3.82628</td>\n",
       "      <td>7.517593</td>\n",
       "      <td>3.39136</td>\n",
       "      <td>7.461551</td>\n",
       "    </tr>\n",
       "    <tr>\n",
       "      <th>2022-09-01 03:00:00</th>\n",
       "      <td>926.81006</td>\n",
       "      <td>6.672135</td>\n",
       "      <td>1012.15690</td>\n",
       "      <td>894.0004</td>\n",
       "      <td>6.566134</td>\n",
       "      <td>3.97405</td>\n",
       "      <td>6.637816</td>\n",
       "      <td>3.82628</td>\n",
       "      <td>6.571112</td>\n",
       "      <td>3.39136</td>\n",
       "      <td>6.550666</td>\n",
       "    </tr>\n",
       "    <tr>\n",
       "      <th>2022-09-01 04:00:00</th>\n",
       "      <td>671.34590</td>\n",
       "      <td>6.100095</td>\n",
       "      <td>1012.09424</td>\n",
       "      <td>821.4349</td>\n",
       "      <td>5.988185</td>\n",
       "      <td>3.97405</td>\n",
       "      <td>6.049537</td>\n",
       "      <td>3.82628</td>\n",
       "      <td>5.986922</td>\n",
       "      <td>3.39136</td>\n",
       "      <td>5.982606</td>\n",
       "    </tr>\n",
       "  </tbody>\n",
       "</table>\n",
       "</div>"
      ],
      "text/plain": [
       "                     Active_Power  Wind_speed_tower   Preassure  \\\n",
       "time                                                              \n",
       "2022-09-01 00:00:00    2505.48220          9.057124  1012.38360   \n",
       "2022-09-01 01:00:00    1762.24210          8.078237  1012.41210   \n",
       "2022-09-01 02:00:00    1460.83560          7.712017  1012.29083   \n",
       "2022-09-01 03:00:00     926.81006          6.672135  1012.15690   \n",
       "2022-09-01 04:00:00     671.34590          6.100095  1012.09424   \n",
       "\n",
       "                     Generator_Speed  F1_v(90).Mean  F1_v(80).Mean  \\\n",
       "time                                                                 \n",
       "2022-09-01 00:00:00        1121.2102       9.023969        3.97405   \n",
       "2022-09-01 01:00:00        1073.9020       8.110137        3.97405   \n",
       "2022-09-01 02:00:00        1021.2429       7.527431        3.97405   \n",
       "2022-09-01 03:00:00         894.0004       6.566134        3.97405   \n",
       "2022-09-01 04:00:00         821.4349       5.988185        3.97405   \n",
       "\n",
       "                     F1_v(70).Mean  F1_v(60).Mean  F1_v(50).Mean  \\\n",
       "time                                                               \n",
       "2022-09-01 00:00:00       9.076108        3.82628       8.992466   \n",
       "2022-09-01 01:00:00       8.151952        3.82628       8.076786   \n",
       "2022-09-01 02:00:00       7.615797        3.82628       7.517593   \n",
       "2022-09-01 03:00:00       6.637816        3.82628       6.571112   \n",
       "2022-09-01 04:00:00       6.049537        3.82628       5.986922   \n",
       "\n",
       "                     F1_v(40).Mean  F1_v(30).Mean  \n",
       "time                                               \n",
       "2022-09-01 00:00:00        3.39136       8.827003  \n",
       "2022-09-01 01:00:00        3.39136       8.005285  \n",
       "2022-09-01 02:00:00        3.39136       7.461551  \n",
       "2022-09-01 03:00:00        3.39136       6.550666  \n",
       "2022-09-01 04:00:00        3.39136       5.982606  "
      ]
     },
     "execution_count": 68,
     "metadata": {},
     "output_type": "execute_result"
    }
   ],
   "source": [
    "df['time'] = pd.to_datetime(df['time'], format='%d/%m/%Y %H:%M')\n",
    "df.set_index('time', inplace=True)\n",
    "df.head()"
   ]
  },
  {
   "cell_type": "code",
   "execution_count": 69,
   "id": "9a62f4dc",
   "metadata": {},
   "outputs": [
    {
     "name": "stdout",
     "output_type": "stream",
     "text": [
      "<class 'pandas.core.frame.DataFrame'>\n",
      "DatetimeIndex: 7248 entries, 2022-09-01 00:00:00 to 2023-06-29 23:00:00\n",
      "Data columns (total 11 columns):\n",
      " #   Column            Non-Null Count  Dtype  \n",
      "---  ------            --------------  -----  \n",
      " 0   Active_Power      7248 non-null   float64\n",
      " 1   Wind_speed_tower  7248 non-null   float64\n",
      " 2   Preassure         7248 non-null   float64\n",
      " 3   Generator_Speed   7248 non-null   float64\n",
      " 4   F1_v(90).Mean     7162 non-null   float64\n",
      " 5   F1_v(80).Mean     7162 non-null   float64\n",
      " 6   F1_v(70).Mean     7162 non-null   float64\n",
      " 7   F1_v(60).Mean     7162 non-null   float64\n",
      " 8   F1_v(50).Mean     7162 non-null   float64\n",
      " 9   F1_v(40).Mean     7162 non-null   float64\n",
      " 10  F1_v(30).Mean     7162 non-null   float64\n",
      "dtypes: float64(11)\n",
      "memory usage: 679.5 KB\n"
     ]
    }
   ],
   "source": [
    "df.info()"
   ]
  },
  {
   "cell_type": "markdown",
   "id": "db49e8b4",
   "metadata": {},
   "source": [
    "In this example, we only use the following variables:"
   ]
  },
  {
   "cell_type": "code",
   "execution_count": 70,
   "id": "2d5b93f3",
   "metadata": {},
   "outputs": [
    {
     "name": "stdout",
     "output_type": "stream",
     "text": [
      "<class 'pandas.core.frame.DataFrame'>\n",
      "DatetimeIndex: 7248 entries, 2022-09-01 00:00:00 to 2023-06-29 23:00:00\n",
      "Data columns (total 4 columns):\n",
      " #   Column            Non-Null Count  Dtype  \n",
      "---  ------            --------------  -----  \n",
      " 0   Active_Power      7248 non-null   float64\n",
      " 1   Wind_speed_tower  7248 non-null   float64\n",
      " 2   Preassure         7248 non-null   float64\n",
      " 3   Generator_Speed   7248 non-null   float64\n",
      "dtypes: float64(4)\n",
      "memory usage: 283.1 KB\n"
     ]
    }
   ],
   "source": [
    "df = df.iloc[:, :4]\n",
    "\n",
    "df.info()"
   ]
  },
  {
   "cell_type": "markdown",
   "id": "fb7cc9d1",
   "metadata": {},
   "source": [
    "### Check for missing values, time gaps, and duplicated dates"
   ]
  },
  {
   "cell_type": "markdown",
   "id": "fbbfe025",
   "metadata": {},
   "source": [
    "There are no missing data in this dataset"
   ]
  },
  {
   "cell_type": "code",
   "execution_count": 71,
   "id": "256b7178",
   "metadata": {},
   "outputs": [
    {
     "name": "stdout",
     "output_type": "stream",
     "text": [
      "Active_Power        0\n",
      "Wind_speed_tower    0\n",
      "Preassure           0\n",
      "Generator_Speed     0\n",
      "dtype: int64\n"
     ]
    }
   ],
   "source": [
    "print(df.isna().sum())"
   ]
  },
  {
   "cell_type": "code",
   "execution_count": 72,
   "id": "d50acb59",
   "metadata": {},
   "outputs": [
    {
     "name": "stdout",
     "output_type": "stream",
     "text": [
      "Number of duplicate timestamps: 0\n",
      "DatetimeIndex([], dtype='datetime64[ns]', name='time', freq=None)\n"
     ]
    }
   ],
   "source": [
    "duplicate_dates = df.index[df.index.duplicated(keep='first')]\n",
    "print(f\"Number of duplicate timestamps: {len(duplicate_dates)}\")\n",
    "print(duplicate_dates)"
   ]
  },
  {
   "cell_type": "code",
   "execution_count": 73,
   "id": "13bb821f",
   "metadata": {},
   "outputs": [
    {
     "name": "stdout",
     "output_type": "stream",
     "text": [
      "Number of missing timestamps: 0\n",
      "DatetimeIndex([], dtype='datetime64[ns]', freq='h')\n"
     ]
    }
   ],
   "source": [
    "expected_range = pd.date_range(start=df.index.min(), end=df.index.max(), freq='h')\n",
    "missing_dates = expected_range.difference(df.index)\n",
    "\n",
    "print(f\"Number of missing timestamps: {len(missing_dates)}\")\n",
    "print(missing_dates[:30])  # show first 10 missing ones"
   ]
  },
  {
   "cell_type": "markdown",
   "id": "2293076a",
   "metadata": {},
   "source": [
    "### Target and exogenous variables"
   ]
  },
  {
   "cell_type": "code",
   "execution_count": 74,
   "id": "0366f8a7",
   "metadata": {},
   "outputs": [
    {
     "data": {
      "text/plain": [
       "['Wind_speed_tower']"
      ]
     },
     "execution_count": 74,
     "metadata": {},
     "output_type": "execute_result"
    }
   ],
   "source": [
    "target = 'Active_Power'\n",
    "\n",
    "features = [col for col in df.columns if col != target]\n",
    "features = features[:1]\n",
    "features\n"
   ]
  },
  {
   "cell_type": "code",
   "execution_count": 75,
   "id": "227118ee",
   "metadata": {},
   "outputs": [
    {
     "data": {
      "text/html": [
       "<div>\n",
       "<style scoped>\n",
       "    .dataframe tbody tr th:only-of-type {\n",
       "        vertical-align: middle;\n",
       "    }\n",
       "\n",
       "    .dataframe tbody tr th {\n",
       "        vertical-align: top;\n",
       "    }\n",
       "\n",
       "    .dataframe thead th {\n",
       "        text-align: right;\n",
       "    }\n",
       "</style>\n",
       "<table border=\"1\" class=\"dataframe\">\n",
       "  <thead>\n",
       "    <tr style=\"text-align: right;\">\n",
       "      <th></th>\n",
       "      <th>Wind_speed_tower</th>\n",
       "      <th>Active_Power</th>\n",
       "    </tr>\n",
       "    <tr>\n",
       "      <th>time</th>\n",
       "      <th></th>\n",
       "      <th></th>\n",
       "    </tr>\n",
       "  </thead>\n",
       "  <tbody>\n",
       "    <tr>\n",
       "      <th>2022-09-01 00:00:00</th>\n",
       "      <td>9.057124</td>\n",
       "      <td>2505.48220</td>\n",
       "    </tr>\n",
       "    <tr>\n",
       "      <th>2022-09-01 01:00:00</th>\n",
       "      <td>8.078237</td>\n",
       "      <td>1762.24210</td>\n",
       "    </tr>\n",
       "    <tr>\n",
       "      <th>2022-09-01 02:00:00</th>\n",
       "      <td>7.712017</td>\n",
       "      <td>1460.83560</td>\n",
       "    </tr>\n",
       "    <tr>\n",
       "      <th>2022-09-01 03:00:00</th>\n",
       "      <td>6.672135</td>\n",
       "      <td>926.81006</td>\n",
       "    </tr>\n",
       "    <tr>\n",
       "      <th>2022-09-01 04:00:00</th>\n",
       "      <td>6.100095</td>\n",
       "      <td>671.34590</td>\n",
       "    </tr>\n",
       "    <tr>\n",
       "      <th>...</th>\n",
       "      <td>...</td>\n",
       "      <td>...</td>\n",
       "    </tr>\n",
       "    <tr>\n",
       "      <th>2023-06-29 19:00:00</th>\n",
       "      <td>6.510803</td>\n",
       "      <td>843.02400</td>\n",
       "    </tr>\n",
       "    <tr>\n",
       "      <th>2023-06-29 20:00:00</th>\n",
       "      <td>6.739559</td>\n",
       "      <td>954.61980</td>\n",
       "    </tr>\n",
       "    <tr>\n",
       "      <th>2023-06-29 21:00:00</th>\n",
       "      <td>5.570358</td>\n",
       "      <td>530.78204</td>\n",
       "    </tr>\n",
       "    <tr>\n",
       "      <th>2023-06-29 22:00:00</th>\n",
       "      <td>5.017759</td>\n",
       "      <td>316.17050</td>\n",
       "    </tr>\n",
       "    <tr>\n",
       "      <th>2023-06-29 23:00:00</th>\n",
       "      <td>4.197770</td>\n",
       "      <td>118.98179</td>\n",
       "    </tr>\n",
       "  </tbody>\n",
       "</table>\n",
       "<p>7248 rows × 2 columns</p>\n",
       "</div>"
      ],
      "text/plain": [
       "                     Wind_speed_tower  Active_Power\n",
       "time                                               \n",
       "2022-09-01 00:00:00          9.057124    2505.48220\n",
       "2022-09-01 01:00:00          8.078237    1762.24210\n",
       "2022-09-01 02:00:00          7.712017    1460.83560\n",
       "2022-09-01 03:00:00          6.672135     926.81006\n",
       "2022-09-01 04:00:00          6.100095     671.34590\n",
       "...                               ...           ...\n",
       "2023-06-29 19:00:00          6.510803     843.02400\n",
       "2023-06-29 20:00:00          6.739559     954.61980\n",
       "2023-06-29 21:00:00          5.570358     530.78204\n",
       "2023-06-29 22:00:00          5.017759     316.17050\n",
       "2023-06-29 23:00:00          4.197770     118.98179\n",
       "\n",
       "[7248 rows x 2 columns]"
      ]
     },
     "execution_count": 75,
     "metadata": {},
     "output_type": "execute_result"
    }
   ],
   "source": [
    "df = df[features + [target]]\n",
    "df"
   ]
  },
  {
   "cell_type": "markdown",
   "id": "aca15462",
   "metadata": {},
   "source": [
    "## Train / Validation / Test split"
   ]
  },
  {
   "cell_type": "markdown",
   "id": "9bb145bf",
   "metadata": {},
   "source": [
    "We select the following lengths for the train, validation, and test sets:"
   ]
  },
  {
   "cell_type": "code",
   "execution_count": 76,
   "id": "b8dc61fc",
   "metadata": {},
   "outputs": [
    {
     "name": "stdout",
     "output_type": "stream",
     "text": [
      "Train length: 5800\n",
      "Validation length: 724\n",
      "Test length: 724\n"
     ]
    }
   ],
   "source": [
    "train_len = 5800 # approx int(np.ceil(df.shape[0] * 0.8))\n",
    "print(f\"Train length: {train_len}\")\n",
    "\n",
    "val_len = (df.shape[0] - train_len) // 2\n",
    "print(f\"Validation length: {val_len}\")\n",
    "\n",
    "test_len = df.shape[0] - train_len - val_len\n",
    "print(f\"Test length: {test_len}\")"
   ]
  },
  {
   "cell_type": "markdown",
   "id": "a7a4bf87",
   "metadata": {},
   "source": [
    "And we split the time series into train, validation, and test sets:"
   ]
  },
  {
   "cell_type": "code",
   "execution_count": 77,
   "id": "8e3f77f5",
   "metadata": {},
   "outputs": [
    {
     "data": {
      "text/html": [
       "<div>\n",
       "<style scoped>\n",
       "    .dataframe tbody tr th:only-of-type {\n",
       "        vertical-align: middle;\n",
       "    }\n",
       "\n",
       "    .dataframe tbody tr th {\n",
       "        vertical-align: top;\n",
       "    }\n",
       "\n",
       "    .dataframe thead th {\n",
       "        text-align: right;\n",
       "    }\n",
       "</style>\n",
       "<table border=\"1\" class=\"dataframe\">\n",
       "  <thead>\n",
       "    <tr style=\"text-align: right;\">\n",
       "      <th></th>\n",
       "      <th>Wind_speed_tower</th>\n",
       "      <th>Active_Power</th>\n",
       "    </tr>\n",
       "    <tr>\n",
       "      <th>time</th>\n",
       "      <th></th>\n",
       "      <th></th>\n",
       "    </tr>\n",
       "  </thead>\n",
       "  <tbody>\n",
       "    <tr>\n",
       "      <th>2022-09-01 00:00:00</th>\n",
       "      <td>9.057124</td>\n",
       "      <td>2505.482200</td>\n",
       "    </tr>\n",
       "    <tr>\n",
       "      <th>2022-09-01 01:00:00</th>\n",
       "      <td>8.078237</td>\n",
       "      <td>1762.242100</td>\n",
       "    </tr>\n",
       "    <tr>\n",
       "      <th>2022-09-01 02:00:00</th>\n",
       "      <td>7.712017</td>\n",
       "      <td>1460.835600</td>\n",
       "    </tr>\n",
       "    <tr>\n",
       "      <th>2022-09-01 03:00:00</th>\n",
       "      <td>6.672135</td>\n",
       "      <td>926.810060</td>\n",
       "    </tr>\n",
       "    <tr>\n",
       "      <th>2022-09-01 04:00:00</th>\n",
       "      <td>6.100095</td>\n",
       "      <td>671.345900</td>\n",
       "    </tr>\n",
       "    <tr>\n",
       "      <th>...</th>\n",
       "      <td>...</td>\n",
       "      <td>...</td>\n",
       "    </tr>\n",
       "    <tr>\n",
       "      <th>2023-04-30 11:00:00</th>\n",
       "      <td>4.004780</td>\n",
       "      <td>150.152160</td>\n",
       "    </tr>\n",
       "    <tr>\n",
       "      <th>2023-04-30 12:00:00</th>\n",
       "      <td>3.007964</td>\n",
       "      <td>0.000000</td>\n",
       "    </tr>\n",
       "    <tr>\n",
       "      <th>2023-04-30 13:00:00</th>\n",
       "      <td>1.408475</td>\n",
       "      <td>8.929723</td>\n",
       "    </tr>\n",
       "    <tr>\n",
       "      <th>2023-04-30 14:00:00</th>\n",
       "      <td>1.616868</td>\n",
       "      <td>13.570722</td>\n",
       "    </tr>\n",
       "    <tr>\n",
       "      <th>2023-04-30 15:00:00</th>\n",
       "      <td>2.700079</td>\n",
       "      <td>0.000000</td>\n",
       "    </tr>\n",
       "  </tbody>\n",
       "</table>\n",
       "<p>5800 rows × 2 columns</p>\n",
       "</div>"
      ],
      "text/plain": [
       "                     Wind_speed_tower  Active_Power\n",
       "time                                               \n",
       "2022-09-01 00:00:00          9.057124   2505.482200\n",
       "2022-09-01 01:00:00          8.078237   1762.242100\n",
       "2022-09-01 02:00:00          7.712017   1460.835600\n",
       "2022-09-01 03:00:00          6.672135    926.810060\n",
       "2022-09-01 04:00:00          6.100095    671.345900\n",
       "...                               ...           ...\n",
       "2023-04-30 11:00:00          4.004780    150.152160\n",
       "2023-04-30 12:00:00          3.007964      0.000000\n",
       "2023-04-30 13:00:00          1.408475      8.929723\n",
       "2023-04-30 14:00:00          1.616868     13.570722\n",
       "2023-04-30 15:00:00          2.700079      0.000000\n",
       "\n",
       "[5800 rows x 2 columns]"
      ]
     },
     "execution_count": 77,
     "metadata": {},
     "output_type": "execute_result"
    }
   ],
   "source": [
    "train_df = df.iloc[:train_len]\n",
    "train_df"
   ]
  },
  {
   "cell_type": "code",
   "execution_count": 78,
   "id": "0f7ca7f0",
   "metadata": {},
   "outputs": [
    {
     "data": {
      "text/html": [
       "<div>\n",
       "<style scoped>\n",
       "    .dataframe tbody tr th:only-of-type {\n",
       "        vertical-align: middle;\n",
       "    }\n",
       "\n",
       "    .dataframe tbody tr th {\n",
       "        vertical-align: top;\n",
       "    }\n",
       "\n",
       "    .dataframe thead th {\n",
       "        text-align: right;\n",
       "    }\n",
       "</style>\n",
       "<table border=\"1\" class=\"dataframe\">\n",
       "  <thead>\n",
       "    <tr style=\"text-align: right;\">\n",
       "      <th></th>\n",
       "      <th>Wind_speed_tower</th>\n",
       "      <th>Active_Power</th>\n",
       "    </tr>\n",
       "    <tr>\n",
       "      <th>time</th>\n",
       "      <th></th>\n",
       "      <th></th>\n",
       "    </tr>\n",
       "  </thead>\n",
       "  <tbody>\n",
       "    <tr>\n",
       "      <th>2023-04-30 16:00:00</th>\n",
       "      <td>3.812496</td>\n",
       "      <td>178.24010</td>\n",
       "    </tr>\n",
       "    <tr>\n",
       "      <th>2023-04-30 17:00:00</th>\n",
       "      <td>3.483967</td>\n",
       "      <td>0.00000</td>\n",
       "    </tr>\n",
       "    <tr>\n",
       "      <th>2023-04-30 18:00:00</th>\n",
       "      <td>4.239082</td>\n",
       "      <td>147.56505</td>\n",
       "    </tr>\n",
       "    <tr>\n",
       "      <th>2023-04-30 19:00:00</th>\n",
       "      <td>4.626727</td>\n",
       "      <td>274.05078</td>\n",
       "    </tr>\n",
       "    <tr>\n",
       "      <th>2023-04-30 20:00:00</th>\n",
       "      <td>5.066225</td>\n",
       "      <td>449.61557</td>\n",
       "    </tr>\n",
       "    <tr>\n",
       "      <th>...</th>\n",
       "      <td>...</td>\n",
       "      <td>...</td>\n",
       "    </tr>\n",
       "    <tr>\n",
       "      <th>2023-05-30 15:00:00</th>\n",
       "      <td>3.378462</td>\n",
       "      <td>0.00000</td>\n",
       "    </tr>\n",
       "    <tr>\n",
       "      <th>2023-05-30 16:00:00</th>\n",
       "      <td>3.660170</td>\n",
       "      <td>158.17046</td>\n",
       "    </tr>\n",
       "    <tr>\n",
       "      <th>2023-05-30 17:00:00</th>\n",
       "      <td>3.581221</td>\n",
       "      <td>148.18813</td>\n",
       "    </tr>\n",
       "    <tr>\n",
       "      <th>2023-05-30 18:00:00</th>\n",
       "      <td>2.826163</td>\n",
       "      <td>0.00000</td>\n",
       "    </tr>\n",
       "    <tr>\n",
       "      <th>2023-05-30 19:00:00</th>\n",
       "      <td>2.957112</td>\n",
       "      <td>0.00000</td>\n",
       "    </tr>\n",
       "  </tbody>\n",
       "</table>\n",
       "<p>724 rows × 2 columns</p>\n",
       "</div>"
      ],
      "text/plain": [
       "                     Wind_speed_tower  Active_Power\n",
       "time                                               \n",
       "2023-04-30 16:00:00          3.812496     178.24010\n",
       "2023-04-30 17:00:00          3.483967       0.00000\n",
       "2023-04-30 18:00:00          4.239082     147.56505\n",
       "2023-04-30 19:00:00          4.626727     274.05078\n",
       "2023-04-30 20:00:00          5.066225     449.61557\n",
       "...                               ...           ...\n",
       "2023-05-30 15:00:00          3.378462       0.00000\n",
       "2023-05-30 16:00:00          3.660170     158.17046\n",
       "2023-05-30 17:00:00          3.581221     148.18813\n",
       "2023-05-30 18:00:00          2.826163       0.00000\n",
       "2023-05-30 19:00:00          2.957112       0.00000\n",
       "\n",
       "[724 rows x 2 columns]"
      ]
     },
     "execution_count": 78,
     "metadata": {},
     "output_type": "execute_result"
    }
   ],
   "source": [
    "val_df = df.iloc[train_len:(train_len + val_len)]\n",
    "val_df"
   ]
  },
  {
   "cell_type": "code",
   "execution_count": 79,
   "id": "ab2b812c",
   "metadata": {},
   "outputs": [
    {
     "data": {
      "text/html": [
       "<div>\n",
       "<style scoped>\n",
       "    .dataframe tbody tr th:only-of-type {\n",
       "        vertical-align: middle;\n",
       "    }\n",
       "\n",
       "    .dataframe tbody tr th {\n",
       "        vertical-align: top;\n",
       "    }\n",
       "\n",
       "    .dataframe thead th {\n",
       "        text-align: right;\n",
       "    }\n",
       "</style>\n",
       "<table border=\"1\" class=\"dataframe\">\n",
       "  <thead>\n",
       "    <tr style=\"text-align: right;\">\n",
       "      <th></th>\n",
       "      <th>Wind_speed_tower</th>\n",
       "      <th>Active_Power</th>\n",
       "    </tr>\n",
       "    <tr>\n",
       "      <th>time</th>\n",
       "      <th></th>\n",
       "      <th></th>\n",
       "    </tr>\n",
       "  </thead>\n",
       "  <tbody>\n",
       "    <tr>\n",
       "      <th>2023-05-30 20:00:00</th>\n",
       "      <td>3.526134</td>\n",
       "      <td>141.81660</td>\n",
       "    </tr>\n",
       "    <tr>\n",
       "      <th>2023-05-30 21:00:00</th>\n",
       "      <td>3.746263</td>\n",
       "      <td>170.12517</td>\n",
       "    </tr>\n",
       "    <tr>\n",
       "      <th>2023-05-30 22:00:00</th>\n",
       "      <td>2.346617</td>\n",
       "      <td>0.00000</td>\n",
       "    </tr>\n",
       "    <tr>\n",
       "      <th>2023-05-30 23:00:00</th>\n",
       "      <td>2.987464</td>\n",
       "      <td>0.00000</td>\n",
       "    </tr>\n",
       "    <tr>\n",
       "      <th>2023-05-31 00:00:00</th>\n",
       "      <td>3.670265</td>\n",
       "      <td>159.70273</td>\n",
       "    </tr>\n",
       "    <tr>\n",
       "      <th>...</th>\n",
       "      <td>...</td>\n",
       "      <td>...</td>\n",
       "    </tr>\n",
       "    <tr>\n",
       "      <th>2023-06-29 19:00:00</th>\n",
       "      <td>6.510803</td>\n",
       "      <td>843.02400</td>\n",
       "    </tr>\n",
       "    <tr>\n",
       "      <th>2023-06-29 20:00:00</th>\n",
       "      <td>6.739559</td>\n",
       "      <td>954.61980</td>\n",
       "    </tr>\n",
       "    <tr>\n",
       "      <th>2023-06-29 21:00:00</th>\n",
       "      <td>5.570358</td>\n",
       "      <td>530.78204</td>\n",
       "    </tr>\n",
       "    <tr>\n",
       "      <th>2023-06-29 22:00:00</th>\n",
       "      <td>5.017759</td>\n",
       "      <td>316.17050</td>\n",
       "    </tr>\n",
       "    <tr>\n",
       "      <th>2023-06-29 23:00:00</th>\n",
       "      <td>4.197770</td>\n",
       "      <td>118.98179</td>\n",
       "    </tr>\n",
       "  </tbody>\n",
       "</table>\n",
       "<p>724 rows × 2 columns</p>\n",
       "</div>"
      ],
      "text/plain": [
       "                     Wind_speed_tower  Active_Power\n",
       "time                                               \n",
       "2023-05-30 20:00:00          3.526134     141.81660\n",
       "2023-05-30 21:00:00          3.746263     170.12517\n",
       "2023-05-30 22:00:00          2.346617       0.00000\n",
       "2023-05-30 23:00:00          2.987464       0.00000\n",
       "2023-05-31 00:00:00          3.670265     159.70273\n",
       "...                               ...           ...\n",
       "2023-06-29 19:00:00          6.510803     843.02400\n",
       "2023-06-29 20:00:00          6.739559     954.61980\n",
       "2023-06-29 21:00:00          5.570358     530.78204\n",
       "2023-06-29 22:00:00          5.017759     316.17050\n",
       "2023-06-29 23:00:00          4.197770     118.98179\n",
       "\n",
       "[724 rows x 2 columns]"
      ]
     },
     "execution_count": 79,
     "metadata": {},
     "output_type": "execute_result"
    }
   ],
   "source": [
    "test_df = df.iloc[(train_len + val_len):]\n",
    "test_df"
   ]
  },
  {
   "cell_type": "markdown",
   "id": "29b479cb",
   "metadata": {},
   "source": [
    "## Time series split visualization"
   ]
  },
  {
   "cell_type": "code",
   "execution_count": 80,
   "id": "50ce490f",
   "metadata": {},
   "outputs": [
    {
     "data": {
      "text/plain": [
       "<matplotlib.legend.Legend at 0x74487e1fa320>"
      ]
     },
     "execution_count": 80,
     "metadata": {},
     "output_type": "execute_result"
    },
    {
     "data": {
      "image/png": "[encoded data removed]",
      "text/plain": [
       "<Figure size 1600x600 with 1 Axes>"
      ]
     },
     "metadata": {},
     "output_type": "display_data"
    }
   ],
   "source": [
    "plt.figure(figsize=(16, 6))\n",
    "plt.plot(train_df[\"Active_Power\"], label=\"Training Data\", color='blue')\n",
    "plt.plot(val_df[\"Active_Power\"], label=\"Validation Data\", color='green')\n",
    "plt.plot(test_df[\"Active_Power\"], label=\"Test Data\", color='red')\n",
    "plt.title(\"Active Power Time Series\")\n",
    "plt.xlabel(\"Time\")\n",
    "plt.ylabel(\"Active Power\")\n",
    "plt.legend(fontsize='small')"
   ]
  },
  {
   "cell_type": "markdown",
   "id": "725f9b5e",
   "metadata": {},
   "source": [
    "We will also create copies of the train, validation, and test sets to use them later in the notebook."
   ]
  },
  {
   "cell_type": "code",
   "execution_count": 81,
   "id": "bebf8cf3",
   "metadata": {},
   "outputs": [],
   "source": [
    "train_df_original = train_df.copy()\n",
    "val_df_original = val_df.copy()\n",
    "test_df_original = test_df.copy()"
   ]
  },
  {
   "cell_type": "markdown",
   "id": "d8136927",
   "metadata": {},
   "source": [
    "## Data scaling\n",
    "\n",
    "We apply the min-max scaler fitted to the training set to the train, validation, and test sets (to avoid data leakage). "
   ]
  },
  {
   "cell_type": "code",
   "execution_count": 82,
   "id": "10799ffa",
   "metadata": {},
   "outputs": [],
   "source": [
    "from sklearn.preprocessing import MinMaxScaler\n",
    "\n",
    "scaler = MinMaxScaler()\n",
    "scaler.set_output(transform='pandas')\n",
    "\n",
    "scaler.fit(train_df)\n",
    "train_df = scaler.transform(train_df)\n",
    "\n",
    "val_df = scaler.transform(val_df)\n",
    "test_df = scaler.transform(test_df)"
   ]
  },
  {
   "cell_type": "markdown",
   "id": "1f555b4b",
   "metadata": {},
   "source": [
    "Let us check the result"
   ]
  },
  {
   "cell_type": "code",
   "execution_count": 83,
   "id": "0ae354aa",
   "metadata": {},
   "outputs": [
    {
     "data": {
      "text/html": [
       "<div>\n",
       "<style scoped>\n",
       "    .dataframe tbody tr th:only-of-type {\n",
       "        vertical-align: middle;\n",
       "    }\n",
       "\n",
       "    .dataframe tbody tr th {\n",
       "        vertical-align: top;\n",
       "    }\n",
       "\n",
       "    .dataframe thead th {\n",
       "        text-align: right;\n",
       "    }\n",
       "</style>\n",
       "<table border=\"1\" class=\"dataframe\">\n",
       "  <thead>\n",
       "    <tr style=\"text-align: right;\">\n",
       "      <th></th>\n",
       "      <th>count</th>\n",
       "      <th>mean</th>\n",
       "      <th>std</th>\n",
       "      <th>min</th>\n",
       "      <th>25%</th>\n",
       "      <th>50%</th>\n",
       "      <th>75%</th>\n",
       "      <th>max</th>\n",
       "    </tr>\n",
       "  </thead>\n",
       "  <tbody>\n",
       "    <tr>\n",
       "      <th>Wind_speed_tower</th>\n",
       "      <td>5800.0</td>\n",
       "      <td>0.370283</td>\n",
       "      <td>0.181766</td>\n",
       "      <td>0.0</td>\n",
       "      <td>0.230103</td>\n",
       "      <td>0.341549</td>\n",
       "      <td>0.499679</td>\n",
       "      <td>1.0</td>\n",
       "    </tr>\n",
       "    <tr>\n",
       "      <th>Active_Power</th>\n",
       "      <td>5800.0</td>\n",
       "      <td>0.502231</td>\n",
       "      <td>0.396148</td>\n",
       "      <td>0.0</td>\n",
       "      <td>0.112238</td>\n",
       "      <td>0.416912</td>\n",
       "      <td>1.000000</td>\n",
       "      <td>1.0</td>\n",
       "    </tr>\n",
       "  </tbody>\n",
       "</table>\n",
       "</div>"
      ],
      "text/plain": [
       "                   count      mean       std  min       25%       50%  \\\n",
       "Wind_speed_tower  5800.0  0.370283  0.181766  0.0  0.230103  0.341549   \n",
       "Active_Power      5800.0  0.502231  0.396148  0.0  0.112238  0.416912   \n",
       "\n",
       "                       75%  max  \n",
       "Wind_speed_tower  0.499679  1.0  \n",
       "Active_Power      1.000000  1.0  "
      ]
     },
     "execution_count": 83,
     "metadata": {},
     "output_type": "execute_result"
    }
   ],
   "source": [
    "train_df.describe().transpose()"
   ]
  },
  {
   "cell_type": "markdown",
   "id": "1ef27b5b",
   "metadata": {},
   "source": [
    "## Nixtla Dataset Format\n",
    "\n",
    "Convert to NeuralForecast format (ds, y, unique_id)"
   ]
  },
  {
   "cell_type": "code",
   "execution_count": 84,
   "id": "63f98d09",
   "metadata": {},
   "outputs": [],
   "source": [
    "train_df_nf = train_df.copy()\n",
    "\n",
    "train_df_nf = train_df_nf.rename(columns={target: 'y'})\n",
    "\n",
    "train_df_nf['ds'] = train_df_nf.index\n",
    "\n",
    "train_df_nf['unique_id'] = 'series_1'\n"
   ]
  },
  {
   "cell_type": "markdown",
   "id": "82a3c313",
   "metadata": {},
   "source": [
    "Move ds and unique_id to front"
   ]
  },
  {
   "cell_type": "code",
   "execution_count": 85,
   "id": "e3ddc40b",
   "metadata": {},
   "outputs": [
    {
     "data": {
      "text/html": [
       "<div>\n",
       "<style scoped>\n",
       "    .dataframe tbody tr th:only-of-type {\n",
       "        vertical-align: middle;\n",
       "    }\n",
       "\n",
       "    .dataframe tbody tr th {\n",
       "        vertical-align: top;\n",
       "    }\n",
       "\n",
       "    .dataframe thead th {\n",
       "        text-align: right;\n",
       "    }\n",
       "</style>\n",
       "<table border=\"1\" class=\"dataframe\">\n",
       "  <thead>\n",
       "    <tr style=\"text-align: right;\">\n",
       "      <th></th>\n",
       "      <th>unique_id</th>\n",
       "      <th>ds</th>\n",
       "      <th>y</th>\n",
       "      <th>Wind_speed_tower</th>\n",
       "    </tr>\n",
       "    <tr>\n",
       "      <th>time</th>\n",
       "      <th></th>\n",
       "      <th></th>\n",
       "      <th></th>\n",
       "      <th></th>\n",
       "    </tr>\n",
       "  </thead>\n",
       "  <tbody>\n",
       "    <tr>\n",
       "      <th>2022-09-01 00:00:00</th>\n",
       "      <td>series_1</td>\n",
       "      <td>2022-09-01 00:00:00</td>\n",
       "      <td>0.501096</td>\n",
       "      <td>0.372027</td>\n",
       "    </tr>\n",
       "    <tr>\n",
       "      <th>2022-09-01 01:00:00</th>\n",
       "      <td>series_1</td>\n",
       "      <td>2022-09-01 01:00:00</td>\n",
       "      <td>0.352448</td>\n",
       "      <td>0.331578</td>\n",
       "    </tr>\n",
       "    <tr>\n",
       "      <th>2022-09-01 02:00:00</th>\n",
       "      <td>series_1</td>\n",
       "      <td>2022-09-01 02:00:00</td>\n",
       "      <td>0.292167</td>\n",
       "      <td>0.316446</td>\n",
       "    </tr>\n",
       "    <tr>\n",
       "      <th>2022-09-01 03:00:00</th>\n",
       "      <td>series_1</td>\n",
       "      <td>2022-09-01 03:00:00</td>\n",
       "      <td>0.185362</td>\n",
       "      <td>0.273476</td>\n",
       "    </tr>\n",
       "    <tr>\n",
       "      <th>2022-09-01 04:00:00</th>\n",
       "      <td>series_1</td>\n",
       "      <td>2022-09-01 04:00:00</td>\n",
       "      <td>0.134269</td>\n",
       "      <td>0.249839</td>\n",
       "    </tr>\n",
       "    <tr>\n",
       "      <th>...</th>\n",
       "      <td>...</td>\n",
       "      <td>...</td>\n",
       "      <td>...</td>\n",
       "      <td>...</td>\n",
       "    </tr>\n",
       "    <tr>\n",
       "      <th>2023-04-30 11:00:00</th>\n",
       "      <td>series_1</td>\n",
       "      <td>2023-04-30 11:00:00</td>\n",
       "      <td>0.030030</td>\n",
       "      <td>0.163258</td>\n",
       "    </tr>\n",
       "    <tr>\n",
       "      <th>2023-04-30 12:00:00</th>\n",
       "      <td>series_1</td>\n",
       "      <td>2023-04-30 12:00:00</td>\n",
       "      <td>0.000000</td>\n",
       "      <td>0.122068</td>\n",
       "    </tr>\n",
       "    <tr>\n",
       "      <th>2023-04-30 13:00:00</th>\n",
       "      <td>series_1</td>\n",
       "      <td>2023-04-30 13:00:00</td>\n",
       "      <td>0.001786</td>\n",
       "      <td>0.055975</td>\n",
       "    </tr>\n",
       "    <tr>\n",
       "      <th>2023-04-30 14:00:00</th>\n",
       "      <td>series_1</td>\n",
       "      <td>2023-04-30 14:00:00</td>\n",
       "      <td>0.002714</td>\n",
       "      <td>0.064586</td>\n",
       "    </tr>\n",
       "    <tr>\n",
       "      <th>2023-04-30 15:00:00</th>\n",
       "      <td>series_1</td>\n",
       "      <td>2023-04-30 15:00:00</td>\n",
       "      <td>0.000000</td>\n",
       "      <td>0.109346</td>\n",
       "    </tr>\n",
       "  </tbody>\n",
       "</table>\n",
       "<p>5800 rows × 4 columns</p>\n",
       "</div>"
      ],
      "text/plain": [
       "                    unique_id                  ds         y  Wind_speed_tower\n",
       "time                                                                         \n",
       "2022-09-01 00:00:00  series_1 2022-09-01 00:00:00  0.501096          0.372027\n",
       "2022-09-01 01:00:00  series_1 2022-09-01 01:00:00  0.352448          0.331578\n",
       "2022-09-01 02:00:00  series_1 2022-09-01 02:00:00  0.292167          0.316446\n",
       "2022-09-01 03:00:00  series_1 2022-09-01 03:00:00  0.185362          0.273476\n",
       "2022-09-01 04:00:00  series_1 2022-09-01 04:00:00  0.134269          0.249839\n",
       "...                       ...                 ...       ...               ...\n",
       "2023-04-30 11:00:00  series_1 2023-04-30 11:00:00  0.030030          0.163258\n",
       "2023-04-30 12:00:00  series_1 2023-04-30 12:00:00  0.000000          0.122068\n",
       "2023-04-30 13:00:00  series_1 2023-04-30 13:00:00  0.001786          0.055975\n",
       "2023-04-30 14:00:00  series_1 2023-04-30 14:00:00  0.002714          0.064586\n",
       "2023-04-30 15:00:00  series_1 2023-04-30 15:00:00  0.000000          0.109346\n",
       "\n",
       "[5800 rows x 4 columns]"
      ]
     },
     "execution_count": 85,
     "metadata": {},
     "output_type": "execute_result"
    }
   ],
   "source": [
    "train_df_nf = train_df_nf[['unique_id', 'ds', 'y'] + features]\n",
    "train_df_nf"
   ]
  },
  {
   "cell_type": "markdown",
   "id": "f501c1ab",
   "metadata": {},
   "source": [
    "Same for validation and test sets"
   ]
  },
  {
   "cell_type": "code",
   "execution_count": 86,
   "id": "294f4e38",
   "metadata": {},
   "outputs": [
    {
     "data": {
      "text/html": [
       "<div>\n",
       "<style scoped>\n",
       "    .dataframe tbody tr th:only-of-type {\n",
       "        vertical-align: middle;\n",
       "    }\n",
       "\n",
       "    .dataframe tbody tr th {\n",
       "        vertical-align: top;\n",
       "    }\n",
       "\n",
       "    .dataframe thead th {\n",
       "        text-align: right;\n",
       "    }\n",
       "</style>\n",
       "<table border=\"1\" class=\"dataframe\">\n",
       "  <thead>\n",
       "    <tr style=\"text-align: right;\">\n",
       "      <th></th>\n",
       "      <th>unique_id</th>\n",
       "      <th>ds</th>\n",
       "      <th>y</th>\n",
       "      <th>Wind_speed_tower</th>\n",
       "    </tr>\n",
       "    <tr>\n",
       "      <th>time</th>\n",
       "      <th></th>\n",
       "      <th></th>\n",
       "      <th></th>\n",
       "      <th></th>\n",
       "    </tr>\n",
       "  </thead>\n",
       "  <tbody>\n",
       "    <tr>\n",
       "      <th>2023-04-30 16:00:00</th>\n",
       "      <td>series_1</td>\n",
       "      <td>2023-04-30 16:00:00</td>\n",
       "      <td>0.035648</td>\n",
       "      <td>0.155312</td>\n",
       "    </tr>\n",
       "    <tr>\n",
       "      <th>2023-04-30 17:00:00</th>\n",
       "      <td>series_1</td>\n",
       "      <td>2023-04-30 17:00:00</td>\n",
       "      <td>0.000000</td>\n",
       "      <td>0.141737</td>\n",
       "    </tr>\n",
       "    <tr>\n",
       "      <th>2023-04-30 18:00:00</th>\n",
       "      <td>series_1</td>\n",
       "      <td>2023-04-30 18:00:00</td>\n",
       "      <td>0.029513</td>\n",
       "      <td>0.172939</td>\n",
       "    </tr>\n",
       "    <tr>\n",
       "      <th>2023-04-30 19:00:00</th>\n",
       "      <td>series_1</td>\n",
       "      <td>2023-04-30 19:00:00</td>\n",
       "      <td>0.054810</td>\n",
       "      <td>0.188957</td>\n",
       "    </tr>\n",
       "    <tr>\n",
       "      <th>2023-04-30 20:00:00</th>\n",
       "      <td>series_1</td>\n",
       "      <td>2023-04-30 20:00:00</td>\n",
       "      <td>0.089923</td>\n",
       "      <td>0.207118</td>\n",
       "    </tr>\n",
       "    <tr>\n",
       "      <th>...</th>\n",
       "      <td>...</td>\n",
       "      <td>...</td>\n",
       "      <td>...</td>\n",
       "      <td>...</td>\n",
       "    </tr>\n",
       "    <tr>\n",
       "      <th>2023-05-30 15:00:00</th>\n",
       "      <td>series_1</td>\n",
       "      <td>2023-05-30 15:00:00</td>\n",
       "      <td>0.000000</td>\n",
       "      <td>0.137377</td>\n",
       "    </tr>\n",
       "    <tr>\n",
       "      <th>2023-05-30 16:00:00</th>\n",
       "      <td>series_1</td>\n",
       "      <td>2023-05-30 16:00:00</td>\n",
       "      <td>0.031634</td>\n",
       "      <td>0.149018</td>\n",
       "    </tr>\n",
       "    <tr>\n",
       "      <th>2023-05-30 17:00:00</th>\n",
       "      <td>series_1</td>\n",
       "      <td>2023-05-30 17:00:00</td>\n",
       "      <td>0.029638</td>\n",
       "      <td>0.145756</td>\n",
       "    </tr>\n",
       "    <tr>\n",
       "      <th>2023-05-30 18:00:00</th>\n",
       "      <td>series_1</td>\n",
       "      <td>2023-05-30 18:00:00</td>\n",
       "      <td>0.000000</td>\n",
       "      <td>0.114555</td>\n",
       "    </tr>\n",
       "    <tr>\n",
       "      <th>2023-05-30 19:00:00</th>\n",
       "      <td>series_1</td>\n",
       "      <td>2023-05-30 19:00:00</td>\n",
       "      <td>0.000000</td>\n",
       "      <td>0.119966</td>\n",
       "    </tr>\n",
       "  </tbody>\n",
       "</table>\n",
       "<p>724 rows × 4 columns</p>\n",
       "</div>"
      ],
      "text/plain": [
       "                    unique_id                  ds         y  Wind_speed_tower\n",
       "time                                                                         \n",
       "2023-04-30 16:00:00  series_1 2023-04-30 16:00:00  0.035648          0.155312\n",
       "2023-04-30 17:00:00  series_1 2023-04-30 17:00:00  0.000000          0.141737\n",
       "2023-04-30 18:00:00  series_1 2023-04-30 18:00:00  0.029513          0.172939\n",
       "2023-04-30 19:00:00  series_1 2023-04-30 19:00:00  0.054810          0.188957\n",
       "2023-04-30 20:00:00  series_1 2023-04-30 20:00:00  0.089923          0.207118\n",
       "...                       ...                 ...       ...               ...\n",
       "2023-05-30 15:00:00  series_1 2023-05-30 15:00:00  0.000000          0.137377\n",
       "2023-05-30 16:00:00  series_1 2023-05-30 16:00:00  0.031634          0.149018\n",
       "2023-05-30 17:00:00  series_1 2023-05-30 17:00:00  0.029638          0.145756\n",
       "2023-05-30 18:00:00  series_1 2023-05-30 18:00:00  0.000000          0.114555\n",
       "2023-05-30 19:00:00  series_1 2023-05-30 19:00:00  0.000000          0.119966\n",
       "\n",
       "[724 rows x 4 columns]"
      ]
     },
     "execution_count": 86,
     "metadata": {},
     "output_type": "execute_result"
    }
   ],
   "source": [
    "val_df_nf = val_df.copy()\n",
    "val_df_nf = val_df_nf.rename(columns={target: 'y'})\n",
    "val_df_nf['ds'] = val_df_nf.index\n",
    "\n",
    "val_df_nf['unique_id'] = 'series_1'\n",
    "\n",
    "val_df_nf = val_df_nf[['unique_id', 'ds', 'y'] + features]\n",
    "val_df_nf"
   ]
  },
  {
   "cell_type": "code",
   "execution_count": 87,
   "id": "5a098f76",
   "metadata": {},
   "outputs": [
    {
     "data": {
      "text/html": [
       "<div>\n",
       "<style scoped>\n",
       "    .dataframe tbody tr th:only-of-type {\n",
       "        vertical-align: middle;\n",
       "    }\n",
       "\n",
       "    .dataframe tbody tr th {\n",
       "        vertical-align: top;\n",
       "    }\n",
       "\n",
       "    .dataframe thead th {\n",
       "        text-align: right;\n",
       "    }\n",
       "</style>\n",
       "<table border=\"1\" class=\"dataframe\">\n",
       "  <thead>\n",
       "    <tr style=\"text-align: right;\">\n",
       "      <th></th>\n",
       "      <th>unique_id</th>\n",
       "      <th>ds</th>\n",
       "      <th>y</th>\n",
       "      <th>Wind_speed_tower</th>\n",
       "    </tr>\n",
       "    <tr>\n",
       "      <th>time</th>\n",
       "      <th></th>\n",
       "      <th></th>\n",
       "      <th></th>\n",
       "      <th></th>\n",
       "    </tr>\n",
       "  </thead>\n",
       "  <tbody>\n",
       "    <tr>\n",
       "      <th>2023-05-30 20:00:00</th>\n",
       "      <td>series_1</td>\n",
       "      <td>2023-05-30 20:00:00</td>\n",
       "      <td>0.028363</td>\n",
       "      <td>0.143479</td>\n",
       "    </tr>\n",
       "    <tr>\n",
       "      <th>2023-05-30 21:00:00</th>\n",
       "      <td>series_1</td>\n",
       "      <td>2023-05-30 21:00:00</td>\n",
       "      <td>0.034025</td>\n",
       "      <td>0.152575</td>\n",
       "    </tr>\n",
       "    <tr>\n",
       "      <th>2023-05-30 22:00:00</th>\n",
       "      <td>series_1</td>\n",
       "      <td>2023-05-30 22:00:00</td>\n",
       "      <td>0.000000</td>\n",
       "      <td>0.094740</td>\n",
       "    </tr>\n",
       "    <tr>\n",
       "      <th>2023-05-30 23:00:00</th>\n",
       "      <td>series_1</td>\n",
       "      <td>2023-05-30 23:00:00</td>\n",
       "      <td>0.000000</td>\n",
       "      <td>0.121221</td>\n",
       "    </tr>\n",
       "    <tr>\n",
       "      <th>2023-05-31 00:00:00</th>\n",
       "      <td>series_1</td>\n",
       "      <td>2023-05-31 00:00:00</td>\n",
       "      <td>0.031941</td>\n",
       "      <td>0.149435</td>\n",
       "    </tr>\n",
       "    <tr>\n",
       "      <th>...</th>\n",
       "      <td>...</td>\n",
       "      <td>...</td>\n",
       "      <td>...</td>\n",
       "      <td>...</td>\n",
       "    </tr>\n",
       "    <tr>\n",
       "      <th>2023-06-29 19:00:00</th>\n",
       "      <td>series_1</td>\n",
       "      <td>2023-06-29 19:00:00</td>\n",
       "      <td>0.168605</td>\n",
       "      <td>0.266810</td>\n",
       "    </tr>\n",
       "    <tr>\n",
       "      <th>2023-06-29 20:00:00</th>\n",
       "      <td>series_1</td>\n",
       "      <td>2023-06-29 20:00:00</td>\n",
       "      <td>0.190924</td>\n",
       "      <td>0.276262</td>\n",
       "    </tr>\n",
       "    <tr>\n",
       "      <th>2023-06-29 21:00:00</th>\n",
       "      <td>series_1</td>\n",
       "      <td>2023-06-29 21:00:00</td>\n",
       "      <td>0.106156</td>\n",
       "      <td>0.227949</td>\n",
       "    </tr>\n",
       "    <tr>\n",
       "      <th>2023-06-29 22:00:00</th>\n",
       "      <td>series_1</td>\n",
       "      <td>2023-06-29 22:00:00</td>\n",
       "      <td>0.063234</td>\n",
       "      <td>0.205115</td>\n",
       "    </tr>\n",
       "    <tr>\n",
       "      <th>2023-06-29 23:00:00</th>\n",
       "      <td>series_1</td>\n",
       "      <td>2023-06-29 23:00:00</td>\n",
       "      <td>0.023796</td>\n",
       "      <td>0.171232</td>\n",
       "    </tr>\n",
       "  </tbody>\n",
       "</table>\n",
       "<p>724 rows × 4 columns</p>\n",
       "</div>"
      ],
      "text/plain": [
       "                    unique_id                  ds         y  Wind_speed_tower\n",
       "time                                                                         \n",
       "2023-05-30 20:00:00  series_1 2023-05-30 20:00:00  0.028363          0.143479\n",
       "2023-05-30 21:00:00  series_1 2023-05-30 21:00:00  0.034025          0.152575\n",
       "2023-05-30 22:00:00  series_1 2023-05-30 22:00:00  0.000000          0.094740\n",
       "2023-05-30 23:00:00  series_1 2023-05-30 23:00:00  0.000000          0.121221\n",
       "2023-05-31 00:00:00  series_1 2023-05-31 00:00:00  0.031941          0.149435\n",
       "...                       ...                 ...       ...               ...\n",
       "2023-06-29 19:00:00  series_1 2023-06-29 19:00:00  0.168605          0.266810\n",
       "2023-06-29 20:00:00  series_1 2023-06-29 20:00:00  0.190924          0.276262\n",
       "2023-06-29 21:00:00  series_1 2023-06-29 21:00:00  0.106156          0.227949\n",
       "2023-06-29 22:00:00  series_1 2023-06-29 22:00:00  0.063234          0.205115\n",
       "2023-06-29 23:00:00  series_1 2023-06-29 23:00:00  0.023796          0.171232\n",
       "\n",
       "[724 rows x 4 columns]"
      ]
     },
     "execution_count": 87,
     "metadata": {},
     "output_type": "execute_result"
    }
   ],
   "source": [
    "test_df_nf = test_df.copy()\n",
    "test_df_nf = test_df_nf.rename(columns={target: 'y'})\n",
    "test_df_nf['ds'] = test_df_nf.index\n",
    "\n",
    "test_df_nf['unique_id'] = 'series_1'\n",
    "\n",
    "test_df_nf = test_df_nf[['unique_id', 'ds', 'y'] + features]\n",
    "test_df_nf"
   ]
  },
  {
   "cell_type": "markdown",
   "id": "cdd7eab3",
   "metadata": {},
   "source": [
    "Create a **joint dataset** with train and validation to fit into Nixtla's framework."
   ]
  },
  {
   "cell_type": "code",
   "execution_count": 88,
   "id": "66356193",
   "metadata": {},
   "outputs": [
    {
     "name": "stdout",
     "output_type": "stream",
     "text": [
      "<class 'pandas.core.frame.DataFrame'>\n",
      "RangeIndex: 6524 entries, 0 to 6523\n",
      "Data columns (total 4 columns):\n",
      " #   Column            Non-Null Count  Dtype         \n",
      "---  ------            --------------  -----         \n",
      " 0   unique_id         6524 non-null   object        \n",
      " 1   ds                6524 non-null   datetime64[ns]\n",
      " 2   y                 6524 non-null   float64       \n",
      " 3   Wind_speed_tower  6524 non-null   float64       \n",
      "dtypes: datetime64[ns](1), float64(2), object(1)\n",
      "memory usage: 204.0+ KB\n"
     ]
    }
   ],
   "source": [
    "train_val_df = pd.concat([train_df_nf, val_df_nf], axis=0)\n",
    "train_val_df.reset_index(drop=True, inplace=True)\n",
    "train_val_df.info()"
   ]
  },
  {
   "cell_type": "markdown",
   "id": "c8589bcb",
   "metadata": {},
   "source": [
    "And similarly a **full dataset** with train, validation and test sets."
   ]
  },
  {
   "cell_type": "code",
   "execution_count": 89,
   "id": "dbf015b2",
   "metadata": {},
   "outputs": [
    {
     "name": "stdout",
     "output_type": "stream",
     "text": [
      "<class 'pandas.core.frame.DataFrame'>\n",
      "RangeIndex: 7248 entries, 0 to 7247\n",
      "Data columns (total 4 columns):\n",
      " #   Column            Non-Null Count  Dtype         \n",
      "---  ------            --------------  -----         \n",
      " 0   unique_id         7248 non-null   object        \n",
      " 1   ds                7248 non-null   datetime64[ns]\n",
      " 2   y                 7248 non-null   float64       \n",
      " 3   Wind_speed_tower  7248 non-null   float64       \n",
      "dtypes: datetime64[ns](1), float64(2), object(1)\n",
      "memory usage: 226.6+ KB\n"
     ]
    }
   ],
   "source": [
    "full_df_nf = pd.concat([train_df_nf, val_df_nf, test_df_nf], axis=0)\n",
    "full_df_nf.reset_index(drop=True, inplace=True)\n",
    "full_df_nf.info()"
   ]
  },
  {
   "cell_type": "markdown",
   "id": "521f98ae",
   "metadata": {},
   "source": [
    "## Set the forecast horizon and input length"
   ]
  },
  {
   "cell_type": "code",
   "execution_count": 90,
   "id": "047bb34c",
   "metadata": {},
   "outputs": [],
   "source": [
    "horizon = 3\n",
    "input_size = 6"
   ]
  },
  {
   "cell_type": "markdown",
   "id": "9b838b91",
   "metadata": {},
   "source": [
    "# AutoNHits"
   ]
  },
  {
   "cell_type": "markdown",
   "id": "e944ac3e",
   "metadata": {},
   "source": [
    "Our first step is to fit the auto model, which automatically selects the best hyperparameters for the model using Optuna as optimization framework."
   ]
  },
  {
   "cell_type": "code",
   "execution_count": null,
   "id": "f7d2bf3c",
   "metadata": {},
   "outputs": [],
   "source": [
    "import logging\n",
    "\n",
    "import optuna\n",
    "# import ray.tune as tune\n",
    "import torch\n",
    "\n",
    "from neuralforecast import NeuralForecast\n",
    "\n",
    "from neuralforecast.losses.pytorch import MAE\n",
    "\n",
    "from neuralforecast.models import NHITS\n",
    "from neuralforecast import NeuralForecast"
   ]
  },
  {
   "cell_type": "code",
   "execution_count": 92,
   "id": "1af2c9f8",
   "metadata": {},
   "outputs": [],
   "source": [
    "optuna.logging.set_verbosity(optuna.logging.WARNING)\n",
    "\n",
    "logging.getLogger('pytorch_lightning').setLevel(logging.ERROR)\n",
    "torch.set_float32_matmul_precision('high')"
   ]
  },
  {
   "cell_type": "markdown",
   "id": "364dc60e",
   "metadata": {},
   "source": [
    "Check if CUDA is available (Linux machines)"
   ]
  },
  {
   "cell_type": "code",
   "execution_count": 93,
   "id": "01318dc7",
   "metadata": {},
   "outputs": [
    {
     "name": "stdout",
     "output_type": "stream",
     "text": [
      "1 0 NVIDIA GeForce RTX 3060 Laptop GPU\n"
     ]
    }
   ],
   "source": [
    "if torch.cuda.is_available():\n",
    "    print(torch.cuda.device_count(), torch.cuda.current_device(),torch.cuda.get_device_name(0))"
   ]
  },
  {
   "cell_type": "markdown",
   "id": "a01c4d88",
   "metadata": {},
   "source": [
    "## Optuna for hyperparameter tuning"
   ]
  },
  {
   "cell_type": "markdown",
   "id": "cf44a0a3",
   "metadata": {},
   "source": [
    "#### Define the objective function along with the hyperparameter space.\n"
   ]
  },
  {
   "cell_type": "code",
   "execution_count": 94,
   "id": "66707471",
   "metadata": {},
   "outputs": [],
   "source": [
    "from neuralforecast.models import NHITS"
   ]
  },
  {
   "cell_type": "code",
   "execution_count": 95,
   "id": "dcfd7f9d",
   "metadata": {},
   "outputs": [],
   "source": [
    "%%capture\n",
    "\n",
    "logging.getLogger(\"lightning_fabric.utilities.seed\").setLevel(logging.WARNING)\n",
    "\n",
    "start_time = time.time()\n",
    "\n",
    "model = NHITS(\n",
    "    activation='Sigmoid',\n",
    "    h=horizon,\n",
    "    hist_exog_list = ['Wind_speed_tower'],\n",
    "    scaler_type='standard',\n",
    "    input_size=input_size,\n",
    "    loss=MAE(),\n",
    "    max_steps=300,\n",
    "    random_seed=42,\n",
    "    # **best_params\n",
    "    stack_types = ['identity', 'identity', 'identity', 'identity'],\n",
    "    n_blocks = [4, 1, 1, 1], \n",
    "    mlp_units = [[512, 512], [512, 512], [512, 512], [512, 512]], \n",
    "    n_pool_kernel_size = [2, 2, 2, 1],\n",
    "    n_freq_downsample = [8, 4, 2, 1],\n",
    "    enable_progress_bar=False\n",
    ")\n",
    "\n",
    "nf = NeuralForecast(models=[model], freq='H')\n",
    "\n",
    "nf.fit(df=train_val_df)\n",
    "\n",
    "end_time = time.time()"
   ]
  },
  {
   "cell_type": "code",
   "execution_count": 96,
   "id": "9307d726",
   "metadata": {},
   "outputs": [
    {
     "name": "stdout",
     "output_type": "stream",
     "text": [
      "⏱️ Elapsed time: 0.10 minutes\n"
     ]
    }
   ],
   "source": [
    "elapsed_time = end_time - start_time\n",
    "print(f\"⏱️ Elapsed time: {elapsed_time / 60:.2f} minutes\")"
   ]
  },
  {
   "cell_type": "code",
   "execution_count": 97,
   "id": "5607f859",
   "metadata": {},
   "outputs": [],
   "source": [
    "# %%capture\n",
    "\n",
    "# %%time\n",
    "\n",
    "# cv_df = nf.cross_validation(train_val_df, n_windows=20, step_size=h, verbose=1, refit=True)\n",
    "# cv_df"
   ]
  },
  {
   "cell_type": "code",
   "execution_count": 98,
   "id": "49502f21",
   "metadata": {},
   "outputs": [],
   "source": [
    "# from sklearn.metrics import mean_absolute_error as sk_MAE\n",
    "# grouped_mae = cv_df.groupby(\"cutoff\").apply(lambda g: sk_MAE(g[\"NHITS\"], g[\"y\"])).reset_index(name=\"mae\")\n",
    "# grouped_mae\n",
    "# grouped_mae['mae'].mean()"
   ]
  },
  {
   "cell_type": "code",
   "execution_count": 99,
   "id": "e3eab6ec",
   "metadata": {},
   "outputs": [],
   "source": [
    "from neuralforecast.losses.pytorch import MAE\n",
    "    \n",
    "\n",
    "def create_model(trial: optuna.trial.Trial):\n",
    "\n",
    "    print(f\"----------------------------------\")\n",
    "    print(f\"Creating model with trial number: {trial.number}\")\n",
    "    n_stacks = trial.suggest_int(\"num_stacks\", 1, 4)\n",
    "    print(f\"Number of stacks: {n_stacks}\")\n",
    "\n",
    "    mlp_choices = [[64, 64], [128, 128], [256, 256], [512, 512]]\n",
    "    n_blocks =[trial.suggest_int(f\"num_blocks_stck_{i}\", 1, 4) for i in range(n_stacks)]\n",
    "    print(f\"Number of blocks per stack: {n_blocks}\")\n",
    "    mlp_units = [trial.suggest_categorical(\"mlp_units\", mlp_choices) for _ in range(n_stacks)]\n",
    "    print(f\"MLP units per stack: {mlp_units}\")\n",
    "    \n",
    "\n",
    "\n",
    "    model = NHITS(\n",
    "    activation='Sigmoid', \n",
    "    h=horizon,\n",
    "    hist_exog_list = ['Wind_speed_tower'],\n",
    "    scaler_type='standard',\n",
    "    input_size=input_size,\n",
    "    loss=MAE(),\n",
    "    max_steps=300,\n",
    "    random_seed=42,\n",
    "    #################\n",
    "    # print(f\"Number of stacks: {Num_stacks}\")\n",
    "    stack_types = ['identity'] * n_stacks,\n",
    "    n_blocks = n_blocks, \n",
    "    # mlp_units = [[512, 512] for _ in range(n_stacks)], \n",
    "    mlp_units = mlp_units,\n",
    "    n_pool_kernel_size = [2] * (n_stacks - 1) + [1],\n",
    "    n_freq_downsample = [2**k for k in range(n_stacks - 1, -1, -1)])\n",
    "    # learning_rate = trial.suggest_float(\"learning_rate\", 1e-4, 1e-2, log=True)\n",
    "    \n",
    "\n",
    "    return model"
   ]
  },
  {
   "cell_type": "code",
   "execution_count": null,
   "id": "922100f6",
   "metadata": {},
   "outputs": [],
   "source": [
    "def objective(trial):\n",
    "    model = create_model(trial)\n",
    "    nf = NeuralForecast(models=[model], freq='H')\n",
    "    print(\"Entering CV\")\n",
    "    cv_df = nf.cross_validation(train_val_df, n_windows=10, step_size=horizon, verbose=2, refit=True)\n",
    "    print(\"Exiting CV\")\n",
    "    print(f\"----------------------------------\")\n",
    "\n",
    "    norm_pred = ((cv_df[\"NHITS\"] - np.min(cv_df[\"NHITS\"])) / (np.max(cv_df[\"NHITS\"]) - np.min(cv_df[\"NHITS\"])))\n",
    "    return (norm_pred - cv_df[\"y\"]).abs().mean()\n",
    "    # winsor_pred = np.clip(norm_pred, 0, 1)\n",
    "    # return (winsor_pred - cv_df[\"y\"]).abs().mean()\n"
   ]
  },
  {
   "cell_type": "markdown",
   "id": "a22a4f3c",
   "metadata": {},
   "source": [
    "#### Initiate a study object via the create_study() function."
   ]
  },
  {
   "cell_type": "code",
   "execution_count": 105,
   "id": "8400947c",
   "metadata": {},
   "outputs": [],
   "source": [
    "study = optuna.create_study(direction='minimize')"
   ]
  },
  {
   "cell_type": "markdown",
   "id": "34c95025",
   "metadata": {},
   "source": [
    "#### Perform hyperparameter tuning by calling the optimize() method on the study object.\n"
   ]
  },
  {
   "cell_type": "code",
   "execution_count": 106,
   "id": "4b63d74a",
   "metadata": {},
   "outputs": [],
   "source": [
    "%%capture\n",
    "\n",
    "logging.getLogger(\"lightning_fabric.utilities.seed\").setLevel(logging.WARNING)\n",
    "\n",
    "start_time = time.time()\n",
    "\n",
    "study.optimize(objective, n_trials=100, n_jobs=1)\n",
    "\n",
    "end_time = time.time()"
   ]
  },
  {
   "cell_type": "code",
   "execution_count": 103,
   "id": "21c21215",
   "metadata": {},
   "outputs": [
    {
     "name": "stdout",
     "output_type": "stream",
     "text": [
      "⏱️ Elapsed time: -0.00 minutes\n"
     ]
    }
   ],
   "source": [
    "elapsed_time = end_time - start_time\n",
    "print(f\"⏱️ Elapsed time: {elapsed_time / 60:.2f} minutes\")"
   ]
  },
  {
   "cell_type": "code",
   "execution_count": 107,
   "id": "3b4384fc",
   "metadata": {},
   "outputs": [
    {
     "data": {
      "text/plain": [
       "{'num_stacks': 1, 'num_blocks_stck_0': 3, 'mlp_units': [512, 512]}"
      ]
     },
     "execution_count": 107,
     "metadata": {},
     "output_type": "execute_result"
    }
   ],
   "source": [
    "best_params = study.best_params\n",
    "best_params"
   ]
  },
  {
   "cell_type": "code",
   "execution_count": 108,
   "id": "df96420f",
   "metadata": {},
   "outputs": [
    {
     "name": "stdout",
     "output_type": "stream",
     "text": [
      "Number of stacks: 1\n",
      "Number of blocks per stack: [3]\n",
      "MLP units per stack: [[512, 512]]\n"
     ]
    }
   ],
   "source": [
    "# DONE\n",
    "\n",
    "n_stacks = best_params['num_stacks']\n",
    "print(f\"Number of stacks: {n_stacks}\")\n",
    "n_blocks = [best_params[f'num_blocks_stck_{i}'] for i in range(n_stacks)]\n",
    "print(f\"Number of blocks per stack: {n_blocks}\")\n",
    "mlp_units = [best_params['mlp_units'] for _ in range(n_stacks)]\n",
    "print(f\"MLP units per stack: {mlp_units}\")\n"
   ]
  },
  {
   "cell_type": "markdown",
   "id": "e22e04ea",
   "metadata": {},
   "source": [
    "# NHits modeling"
   ]
  },
  {
   "cell_type": "markdown",
   "id": "1279a6d7",
   "metadata": {},
   "source": [
    "Using the best hyperparameters we can now fit a final model. This is done by passing the best hyperparameters to the model and then fitting it to the training + validation set. \n"
   ]
  },
  {
   "cell_type": "code",
   "execution_count": 111,
   "id": "8d572329",
   "metadata": {},
   "outputs": [],
   "source": [
    "%%capture\n",
    "\n",
    "model = NHITS(\n",
    "    activation='Sigmoid',\n",
    "    h=horizon,\n",
    "    hist_exog_list = ['Wind_speed_tower'],\n",
    "    scaler_type='standard',\n",
    "    input_size=input_size,\n",
    "    loss=MAE(),\n",
    "    max_steps=300,\n",
    "    random_seed=42,\n",
    "    # **best_params\n",
    "    stack_types = ['identity'] * n_stacks,\n",
    "    enable_progress_bar=True,\n",
    "    mlp_units = mlp_units,\n",
    "    n_blocks = n_blocks, \n",
    "    n_pool_kernel_size = [2] * (n_stacks - 1) + [1],\n",
    "    n_freq_downsample = [2**k for k in range(n_stacks - 1, -1, -1)])\n",
    "\n",
    "nf = NeuralForecast(models=[model], freq='H')\n",
    "\n",
    "nf.fit(df=train_val_df, verbose=True)"
   ]
  },
  {
   "cell_type": "markdown",
   "id": "1f18551a",
   "metadata": {},
   "source": [
    "# Model Performance Evaluation"
   ]
  },
  {
   "cell_type": "markdown",
   "id": "77b6d7c7",
   "metadata": {},
   "source": [
    "We create the rolling_df dataframe that contains the series data up to the time instant in which we make a prediction that corresponds to the first time instant in the test set. That prediction corresponds to the maximum value of the prediction horizon. "
   ]
  },
  {
   "cell_type": "code",
   "execution_count": 112,
   "id": "ea587e5a",
   "metadata": {},
   "outputs": [
    {
     "data": {
      "text/html": [
       "<div>\n",
       "<style scoped>\n",
       "    .dataframe tbody tr th:only-of-type {\n",
       "        vertical-align: middle;\n",
       "    }\n",
       "\n",
       "    .dataframe tbody tr th {\n",
       "        vertical-align: top;\n",
       "    }\n",
       "\n",
       "    .dataframe thead th {\n",
       "        text-align: right;\n",
       "    }\n",
       "</style>\n",
       "<table border=\"1\" class=\"dataframe\">\n",
       "  <thead>\n",
       "    <tr style=\"text-align: right;\">\n",
       "      <th></th>\n",
       "      <th>unique_id</th>\n",
       "      <th>ds</th>\n",
       "      <th>y</th>\n",
       "      <th>Wind_speed_tower</th>\n",
       "    </tr>\n",
       "  </thead>\n",
       "  <tbody>\n",
       "    <tr>\n",
       "      <th>6520</th>\n",
       "      <td>series_1</td>\n",
       "      <td>2023-05-30 16:00:00</td>\n",
       "      <td>0.031634</td>\n",
       "      <td>0.149018</td>\n",
       "    </tr>\n",
       "    <tr>\n",
       "      <th>6521</th>\n",
       "      <td>series_1</td>\n",
       "      <td>2023-05-30 17:00:00</td>\n",
       "      <td>0.029638</td>\n",
       "      <td>0.145756</td>\n",
       "    </tr>\n",
       "  </tbody>\n",
       "</table>\n",
       "</div>"
      ],
      "text/plain": [
       "     unique_id                  ds         y  Wind_speed_tower\n",
       "6520  series_1 2023-05-30 16:00:00  0.031634          0.149018\n",
       "6521  series_1 2023-05-30 17:00:00  0.029638          0.145756"
      ]
     },
     "execution_count": 112,
     "metadata": {},
     "output_type": "execute_result"
    }
   ],
   "source": [
    "rolling_df = full_df_nf.iloc[:(train_len + val_len + 1 - horizon)]\n",
    "rolling_df.tail(2)"
   ]
  },
  {
   "cell_type": "markdown",
   "id": "297f5f38",
   "metadata": {},
   "source": [
    "Now to start the evaluation we fit the model to this dataset and get the predictions. We will not use all of them, only the last."
   ]
  },
  {
   "cell_type": "code",
   "execution_count": 113,
   "id": "90a6233b",
   "metadata": {},
   "outputs": [],
   "source": [
    "%%capture \n",
    "\n",
    "logging.getLogger(\"lightning_fabric.utilities.seed\").setLevel(logging.WARNING)\n",
    "\n",
    "nf.fit(df=rolling_df)"
   ]
  },
  {
   "cell_type": "code",
   "execution_count": null,
   "id": "93ba72a7",
   "metadata": {},
   "outputs": [],
   "source": [
    "%%capture\n",
    "\n",
    "rolling_preds = nf.predict()\n"
   ]
  },
  {
   "cell_type": "code",
   "execution_count": 116,
   "id": "9fc46af1",
   "metadata": {},
   "outputs": [
    {
     "data": {
      "text/html": [
       "<div>\n",
       "<style scoped>\n",
       "    .dataframe tbody tr th:only-of-type {\n",
       "        vertical-align: middle;\n",
       "    }\n",
       "\n",
       "    .dataframe tbody tr th {\n",
       "        vertical-align: top;\n",
       "    }\n",
       "\n",
       "    .dataframe thead th {\n",
       "        text-align: right;\n",
       "    }\n",
       "</style>\n",
       "<table border=\"1\" class=\"dataframe\">\n",
       "  <thead>\n",
       "    <tr style=\"text-align: right;\">\n",
       "      <th></th>\n",
       "      <th>unique_id</th>\n",
       "      <th>ds</th>\n",
       "      <th>NHITS</th>\n",
       "    </tr>\n",
       "  </thead>\n",
       "  <tbody>\n",
       "    <tr>\n",
       "      <th>0</th>\n",
       "      <td>series_1</td>\n",
       "      <td>2023-05-30 18:00:00</td>\n",
       "      <td>0.029089</td>\n",
       "    </tr>\n",
       "    <tr>\n",
       "      <th>1</th>\n",
       "      <td>series_1</td>\n",
       "      <td>2023-05-30 19:00:00</td>\n",
       "      <td>0.028695</td>\n",
       "    </tr>\n",
       "    <tr>\n",
       "      <th>2</th>\n",
       "      <td>series_1</td>\n",
       "      <td>2023-05-30 20:00:00</td>\n",
       "      <td>0.028167</td>\n",
       "    </tr>\n",
       "  </tbody>\n",
       "</table>\n",
       "</div>"
      ],
      "text/plain": [
       "  unique_id                  ds     NHITS\n",
       "0  series_1 2023-05-30 18:00:00  0.029089\n",
       "1  series_1 2023-05-30 19:00:00  0.028695\n",
       "2  series_1 2023-05-30 20:00:00  0.028167"
      ]
     },
     "execution_count": 116,
     "metadata": {},
     "output_type": "execute_result"
    }
   ],
   "source": [
    "rolling_preds"
   ]
  },
  {
   "cell_type": "markdown",
   "id": "1c993e3e",
   "metadata": {},
   "source": [
    "Note the last of these predictions corresponds to the first time instant in the test set. \n",
    "\n",
    "Now we create a dictionary (of dataframes) to store the predictions for each value k from 1 to the max of the prediction horizon. The weird (k-1):k bit below is to prevent pandas from collapsing the row into a series!"
   ]
  },
  {
   "cell_type": "code",
   "execution_count": 117,
   "id": "108b3c03",
   "metadata": {},
   "outputs": [],
   "source": [
    "preds_df = {}\n",
    "for k in range(1, horizon + 1):\n",
    "    preds_df_name = str(k) + \"h\"  # String variable for the new name\n",
    "    preds_df[preds_df_name] = rolling_preds.copy().iloc[(k-1):k, :]\n",
    "\n"
   ]
  },
  {
   "cell_type": "markdown",
   "id": "01164f2d",
   "metadata": {},
   "source": [
    "Initially we store the predictions we obtained above in the dictionary (only the last one of these will actually be useful for comparison with the test set, but the others serve the purpose of dictionary initialisation)."
   ]
  },
  {
   "cell_type": "code",
   "execution_count": 118,
   "id": "31ee5235",
   "metadata": {},
   "outputs": [
    {
     "data": {
      "text/html": [
       "<div>\n",
       "<style scoped>\n",
       "    .dataframe tbody tr th:only-of-type {\n",
       "        vertical-align: middle;\n",
       "    }\n",
       "\n",
       "    .dataframe tbody tr th {\n",
       "        vertical-align: top;\n",
       "    }\n",
       "\n",
       "    .dataframe thead th {\n",
       "        text-align: right;\n",
       "    }\n",
       "</style>\n",
       "<table border=\"1\" class=\"dataframe\">\n",
       "  <thead>\n",
       "    <tr style=\"text-align: right;\">\n",
       "      <th></th>\n",
       "      <th>unique_id</th>\n",
       "      <th>ds</th>\n",
       "      <th>NHITS</th>\n",
       "    </tr>\n",
       "  </thead>\n",
       "  <tbody>\n",
       "    <tr>\n",
       "      <th>0</th>\n",
       "      <td>series_1</td>\n",
       "      <td>2023-05-30 18:00:00</td>\n",
       "      <td>0.029089</td>\n",
       "    </tr>\n",
       "  </tbody>\n",
       "</table>\n",
       "</div>"
      ],
      "text/plain": [
       "  unique_id                  ds     NHITS\n",
       "0  series_1 2023-05-30 18:00:00  0.029089"
      ]
     },
     "execution_count": 118,
     "metadata": {},
     "output_type": "execute_result"
    }
   ],
   "source": [
    "preds_df['1h']"
   ]
  },
  {
   "cell_type": "code",
   "execution_count": 119,
   "id": "c0585a42",
   "metadata": {},
   "outputs": [
    {
     "data": {
      "text/html": [
       "<div>\n",
       "<style scoped>\n",
       "    .dataframe tbody tr th:only-of-type {\n",
       "        vertical-align: middle;\n",
       "    }\n",
       "\n",
       "    .dataframe tbody tr th {\n",
       "        vertical-align: top;\n",
       "    }\n",
       "\n",
       "    .dataframe thead th {\n",
       "        text-align: right;\n",
       "    }\n",
       "</style>\n",
       "<table border=\"1\" class=\"dataframe\">\n",
       "  <thead>\n",
       "    <tr style=\"text-align: right;\">\n",
       "      <th></th>\n",
       "      <th>unique_id</th>\n",
       "      <th>ds</th>\n",
       "      <th>NHITS</th>\n",
       "    </tr>\n",
       "  </thead>\n",
       "  <tbody>\n",
       "    <tr>\n",
       "      <th>1</th>\n",
       "      <td>series_1</td>\n",
       "      <td>2023-05-30 19:00:00</td>\n",
       "      <td>0.028695</td>\n",
       "    </tr>\n",
       "  </tbody>\n",
       "</table>\n",
       "</div>"
      ],
      "text/plain": [
       "  unique_id                  ds     NHITS\n",
       "1  series_1 2023-05-30 19:00:00  0.028695"
      ]
     },
     "execution_count": 119,
     "metadata": {},
     "output_type": "execute_result"
    }
   ],
   "source": [
    "preds_df['2h']"
   ]
  },
  {
   "cell_type": "code",
   "execution_count": 120,
   "id": "42c2ae90",
   "metadata": {},
   "outputs": [
    {
     "data": {
      "text/html": [
       "<div>\n",
       "<style scoped>\n",
       "    .dataframe tbody tr th:only-of-type {\n",
       "        vertical-align: middle;\n",
       "    }\n",
       "\n",
       "    .dataframe tbody tr th {\n",
       "        vertical-align: top;\n",
       "    }\n",
       "\n",
       "    .dataframe thead th {\n",
       "        text-align: right;\n",
       "    }\n",
       "</style>\n",
       "<table border=\"1\" class=\"dataframe\">\n",
       "  <thead>\n",
       "    <tr style=\"text-align: right;\">\n",
       "      <th></th>\n",
       "      <th>unique_id</th>\n",
       "      <th>ds</th>\n",
       "      <th>NHITS</th>\n",
       "    </tr>\n",
       "  </thead>\n",
       "  <tbody>\n",
       "    <tr>\n",
       "      <th>2</th>\n",
       "      <td>series_1</td>\n",
       "      <td>2023-05-30 20:00:00</td>\n",
       "      <td>0.028167</td>\n",
       "    </tr>\n",
       "  </tbody>\n",
       "</table>\n",
       "</div>"
      ],
      "text/plain": [
       "  unique_id                  ds     NHITS\n",
       "2  series_1 2023-05-30 20:00:00  0.028167"
      ]
     },
     "execution_count": 120,
     "metadata": {},
     "output_type": "execute_result"
    }
   ],
   "source": [
    "preds_df['3h']"
   ]
  },
  {
   "cell_type": "markdown",
   "id": "80e06ca1",
   "metadata": {},
   "source": [
    "The main tool for evaluation is the for loop below. In each iteration we add one time instant to the rolling_df dataframe and then we fit the model to this dataframe. We then obtain the predictions for this augmented dataset and our forecasting horizon. And we store each  of them in the corresponing dataframe inside the dictionary. "
   ]
  },
  {
   "cell_type": "code",
   "execution_count": 121,
   "id": "99788113",
   "metadata": {},
   "outputs": [],
   "source": [
    "%%capture\n",
    "\n",
    "logging.getLogger(\"lightning_fabric.utilities.seed\").setLevel(logging.WARNING)\n",
    "\n",
    "start_time = time.time()\n",
    "\n",
    "# for k in range(2, 50): # for testing\n",
    "for k in range(2, len(test_df_nf) + horizon):\n",
    "    # rolling_df = pd.concat([train_df_nf, val_df_nf, test_df_nf.iloc[:k]])\n",
    "    rolling_df = full_df_nf.iloc[:(train_len + val_len + k - horizon)]\n",
    "    # print(rolling_df.tail(1))\n",
    "    # print(rolling_df.shape)\n",
    "    nf.fit(df=rolling_df)\n",
    "    rolling_preds = nf.predict()\n",
    "    # print(rolling_preds)\n",
    "    for h in range(1, horizon + 1):\n",
    "        preds_df[f'{h}h'] = pd.concat([preds_df[f'{h}h'], rolling_preds.iloc[(h - 1):h,:]], axis=0)\n",
    "\n",
    "    print(f\"k =  {k}\")\n",
    "    print(\"#\" * 20)       \n",
    "\n",
    "\n",
    "\n",
    "end_time = time.time()"
   ]
  },
  {
   "cell_type": "code",
   "execution_count": 122,
   "id": "6afa6f75",
   "metadata": {},
   "outputs": [
    {
     "name": "stdout",
     "output_type": "stream",
     "text": [
      "⏱️ Elapsed time: -0.00 minutes\n"
     ]
    }
   ],
   "source": [
    "print(f\"⏱️ Elapsed time: {elapsed_time / 60:.2f} minutes\")"
   ]
  },
  {
   "cell_type": "markdown",
   "id": "4a07acf9",
   "metadata": {},
   "source": [
    "For ease of comparison and plotting we reindex the predictions dataframes in the dictionary to use ds as index."
   ]
  },
  {
   "cell_type": "code",
   "execution_count": 123,
   "id": "3cc590de",
   "metadata": {},
   "outputs": [],
   "source": [
    "for h in range(1, horizon + 1):\n",
    "    preds_df[f'{h}h'].set_index('ds', inplace=True)"
   ]
  },
  {
   "cell_type": "markdown",
   "id": "753126c3",
   "metadata": {},
   "source": [
    "After doing that they look like this:"
   ]
  },
  {
   "cell_type": "code",
   "execution_count": 144,
   "id": "6642aed0",
   "metadata": {},
   "outputs": [],
   "source": [
    "preds_df['1h']['NHITS'] = np.clip(preds_df['1h']['NHITS'], 0, 1) "
   ]
  },
  {
   "cell_type": "code",
   "execution_count": 145,
   "id": "6c149ce1",
   "metadata": {},
   "outputs": [],
   "source": [
    "preds_df['2h']['NHITS'] = np.clip(preds_df['2h']['NHITS'], 0, 1)"
   ]
  },
  {
   "cell_type": "code",
   "execution_count": null,
   "id": "d43e1039",
   "metadata": {},
   "outputs": [
    {
     "ename": "KeyError",
     "evalue": "'NHITS'",
     "output_type": "error",
     "traceback": [
      "\u001b[0;31m---------------------------------------------------------------------------\u001b[0m",
      "\u001b[0;31mDateParseError\u001b[0m                            Traceback (most recent call last)",
      "File \u001b[0;32m~/miniconda3/envs/tfm_cc/lib/python3.10/site-packages/pandas/core/indexes/datetimes.py:603\u001b[0m, in \u001b[0;36mDatetimeIndex.get_loc\u001b[0;34m(self, key)\u001b[0m\n\u001b[1;32m    602\u001b[0m \u001b[38;5;28;01mtry\u001b[39;00m:\n\u001b[0;32m--> 603\u001b[0m     parsed, reso \u001b[38;5;241m=\u001b[39m \u001b[38;5;28;43mself\u001b[39;49m\u001b[38;5;241;43m.\u001b[39;49m\u001b[43m_parse_with_reso\u001b[49m\u001b[43m(\u001b[49m\u001b[43mkey\u001b[49m\u001b[43m)\u001b[49m\n\u001b[1;32m    604\u001b[0m \u001b[38;5;28;01mexcept\u001b[39;00m (\u001b[38;5;167;01mValueError\u001b[39;00m, pytz\u001b[38;5;241m.\u001b[39mNonExistentTimeError) \u001b[38;5;28;01mas\u001b[39;00m err:\n",
      "File \u001b[0;32m~/miniconda3/envs/tfm_cc/lib/python3.10/site-packages/pandas/core/indexes/datetimes.py:559\u001b[0m, in \u001b[0;36mDatetimeIndex._parse_with_reso\u001b[0;34m(self, label)\u001b[0m\n\u001b[1;32m    558\u001b[0m \u001b[38;5;28;01mdef\u001b[39;00m \u001b[38;5;21m_parse_with_reso\u001b[39m(\u001b[38;5;28mself\u001b[39m, label: \u001b[38;5;28mstr\u001b[39m):\n\u001b[0;32m--> 559\u001b[0m     parsed, reso \u001b[38;5;241m=\u001b[39m \u001b[38;5;28;43msuper\u001b[39;49m\u001b[43m(\u001b[49m\u001b[43m)\u001b[49m\u001b[38;5;241;43m.\u001b[39;49m\u001b[43m_parse_with_reso\u001b[49m\u001b[43m(\u001b[49m\u001b[43mlabel\u001b[49m\u001b[43m)\u001b[49m\n\u001b[1;32m    561\u001b[0m     parsed \u001b[38;5;241m=\u001b[39m Timestamp(parsed)\n",
      "File \u001b[0;32m~/miniconda3/envs/tfm_cc/lib/python3.10/site-packages/pandas/core/indexes/datetimelike.py:293\u001b[0m, in \u001b[0;36mDatetimeIndexOpsMixin._parse_with_reso\u001b[0;34m(self, label)\u001b[0m\n\u001b[1;32m    291\u001b[0m     label \u001b[38;5;241m=\u001b[39m \u001b[38;5;28mstr\u001b[39m(label)\n\u001b[0;32m--> 293\u001b[0m parsed, reso_str \u001b[38;5;241m=\u001b[39m \u001b[43mparsing\u001b[49m\u001b[38;5;241;43m.\u001b[39;49m\u001b[43mparse_datetime_string_with_reso\u001b[49m\u001b[43m(\u001b[49m\u001b[43mlabel\u001b[49m\u001b[43m,\u001b[49m\u001b[43m \u001b[49m\u001b[43mfreqstr\u001b[49m\u001b[43m)\u001b[49m\n\u001b[1;32m    294\u001b[0m reso \u001b[38;5;241m=\u001b[39m Resolution\u001b[38;5;241m.\u001b[39mfrom_attrname(reso_str)\n",
      "File \u001b[0;32mparsing.pyx:442\u001b[0m, in \u001b[0;36mpandas._libs.tslibs.parsing.parse_datetime_string_with_reso\u001b[0;34m()\u001b[0m\n",
      "File \u001b[0;32mparsing.pyx:666\u001b[0m, in \u001b[0;36mpandas._libs.tslibs.parsing.dateutil_parse\u001b[0;34m()\u001b[0m\n",
      "\u001b[0;31mDateParseError\u001b[0m: Unknown datetime string format, unable to parse: NHITS",
      "\nThe above exception was the direct cause of the following exception:\n",
      "\u001b[0;31mKeyError\u001b[0m                                  Traceback (most recent call last)",
      "Cell \u001b[0;32mIn[153], line 1\u001b[0m\n\u001b[0;32m----> 1\u001b[0m preds_df[\u001b[38;5;124m'\u001b[39m\u001b[38;5;124m3h\u001b[39m\u001b[38;5;124m'\u001b[39m][\u001b[38;5;124m'\u001b[39m\u001b[38;5;124mNHITS\u001b[39m\u001b[38;5;124m'\u001b[39m] \u001b[38;5;241m=\u001b[39m np\u001b[38;5;241m.\u001b[39mclip(\u001b[43mpreds_df\u001b[49m\u001b[43m[\u001b[49m\u001b[38;5;124;43m'\u001b[39;49m\u001b[38;5;124;43m3h\u001b[39;49m\u001b[38;5;124;43m'\u001b[39;49m\u001b[43m]\u001b[49m\u001b[43m[\u001b[49m\u001b[38;5;124;43m'\u001b[39;49m\u001b[38;5;124;43mNHITS\u001b[39;49m\u001b[38;5;124;43m'\u001b[39;49m\u001b[43m]\u001b[49m, \u001b[38;5;241m0\u001b[39m, \u001b[38;5;241m1\u001b[39m)\n",
      "File \u001b[0;32m~/miniconda3/envs/tfm_cc/lib/python3.10/site-packages/pandas/core/series.py:1121\u001b[0m, in \u001b[0;36mSeries.__getitem__\u001b[0;34m(self, key)\u001b[0m\n\u001b[1;32m   1118\u001b[0m     \u001b[38;5;28;01mreturn\u001b[39;00m \u001b[38;5;28mself\u001b[39m\u001b[38;5;241m.\u001b[39m_values[key]\n\u001b[1;32m   1120\u001b[0m \u001b[38;5;28;01melif\u001b[39;00m key_is_scalar:\n\u001b[0;32m-> 1121\u001b[0m     \u001b[38;5;28;01mreturn\u001b[39;00m \u001b[38;5;28;43mself\u001b[39;49m\u001b[38;5;241;43m.\u001b[39;49m\u001b[43m_get_value\u001b[49m\u001b[43m(\u001b[49m\u001b[43mkey\u001b[49m\u001b[43m)\u001b[49m\n\u001b[1;32m   1123\u001b[0m \u001b[38;5;66;03m# Convert generator to list before going through hashable part\u001b[39;00m\n\u001b[1;32m   1124\u001b[0m \u001b[38;5;66;03m# (We will iterate through the generator there to check for slices)\u001b[39;00m\n\u001b[1;32m   1125\u001b[0m \u001b[38;5;28;01mif\u001b[39;00m is_iterator(key):\n",
      "File \u001b[0;32m~/miniconda3/envs/tfm_cc/lib/python3.10/site-packages/pandas/core/series.py:1237\u001b[0m, in \u001b[0;36mSeries._get_value\u001b[0;34m(self, label, takeable)\u001b[0m\n\u001b[1;32m   1234\u001b[0m     \u001b[38;5;28;01mreturn\u001b[39;00m \u001b[38;5;28mself\u001b[39m\u001b[38;5;241m.\u001b[39m_values[label]\n\u001b[1;32m   1236\u001b[0m \u001b[38;5;66;03m# Similar to Index.get_value, but we do not fall back to positional\u001b[39;00m\n\u001b[0;32m-> 1237\u001b[0m loc \u001b[38;5;241m=\u001b[39m \u001b[38;5;28;43mself\u001b[39;49m\u001b[38;5;241;43m.\u001b[39;49m\u001b[43mindex\u001b[49m\u001b[38;5;241;43m.\u001b[39;49m\u001b[43mget_loc\u001b[49m\u001b[43m(\u001b[49m\u001b[43mlabel\u001b[49m\u001b[43m)\u001b[49m\n\u001b[1;32m   1239\u001b[0m \u001b[38;5;28;01mif\u001b[39;00m is_integer(loc):\n\u001b[1;32m   1240\u001b[0m     \u001b[38;5;28;01mreturn\u001b[39;00m \u001b[38;5;28mself\u001b[39m\u001b[38;5;241m.\u001b[39m_values[loc]\n",
      "File \u001b[0;32m~/miniconda3/envs/tfm_cc/lib/python3.10/site-packages/pandas/core/indexes/datetimes.py:605\u001b[0m, in \u001b[0;36mDatetimeIndex.get_loc\u001b[0;34m(self, key)\u001b[0m\n\u001b[1;32m    603\u001b[0m     parsed, reso \u001b[38;5;241m=\u001b[39m \u001b[38;5;28mself\u001b[39m\u001b[38;5;241m.\u001b[39m_parse_with_reso(key)\n\u001b[1;32m    604\u001b[0m \u001b[38;5;28;01mexcept\u001b[39;00m (\u001b[38;5;167;01mValueError\u001b[39;00m, pytz\u001b[38;5;241m.\u001b[39mNonExistentTimeError) \u001b[38;5;28;01mas\u001b[39;00m err:\n\u001b[0;32m--> 605\u001b[0m     \u001b[38;5;28;01mraise\u001b[39;00m \u001b[38;5;167;01mKeyError\u001b[39;00m(key) \u001b[38;5;28;01mfrom\u001b[39;00m \u001b[38;5;21;01merr\u001b[39;00m\n\u001b[1;32m    606\u001b[0m \u001b[38;5;28mself\u001b[39m\u001b[38;5;241m.\u001b[39m_disallow_mismatched_indexing(parsed)\n\u001b[1;32m    608\u001b[0m \u001b[38;5;28;01mif\u001b[39;00m \u001b[38;5;28mself\u001b[39m\u001b[38;5;241m.\u001b[39m_can_partial_date_slice(reso):\n",
      "\u001b[0;31mKeyError\u001b[0m: 'NHITS'"
     ]
    }
   ],
   "source": [
    "preds_df['3h']['NHITS'] = np.clip(preds_df['3h']['NHITS'], 0, 1)"
   ]
  },
  {
   "cell_type": "code",
   "execution_count": 151,
   "id": "15cabd56",
   "metadata": {},
   "outputs": [],
   "source": [
    "# test_df_nf.tail(3)"
   ]
  },
  {
   "cell_type": "markdown",
   "id": "1584e0b7",
   "metadata": {},
   "source": [
    "Let us plot the predictions against the test set values."
   ]
  },
  {
   "cell_type": "code",
   "execution_count": 156,
   "id": "405eea95",
   "metadata": {},
   "outputs": [
    {
     "data": {
      "image/png": "[encoded data removed]",
      "text/plain": [
       "<Figure size 1200x600 with 1 Axes>"
      ]
     },
     "metadata": {},
     "output_type": "display_data"
    },
    {
     "data": {
      "image/png": "[encoded data removed]",
      "text/plain": [
       "<Figure size 1200x600 with 1 Axes>"
      ]
     },
     "metadata": {},
     "output_type": "display_data"
    }
   ],
   "source": [
    "%matplotlib inline\n",
    "\n",
    "plt.figure(figsize=(12, 6))\n",
    "# plt.plot(val_df_nf[\"y\"].tail(20), label=\"Actual Active Power (training)\", color='magenta')\n",
    "# plt.plot(test_df_nf[\"y\"].head(20), label=\"Actual Active Power (test)\", color='blue')\n",
    "plt.plot(val_df_nf[\"y\"], label=\"Actual Active Power (training)\", color='magenta')\n",
    "plt.plot(test_df_nf[\"y\"], label=\"Actual Active Power (test)\", color='blue')\n",
    "plt.plot(preds_df['1h']['NHITS'][2:], label=\"Predicted Active Power 1h\", color='red')\n",
    "plt.plot(preds_df['2h']['NHITS'][1:], label=\"Predicted Active Power 2h\", color='green')\n",
    "# plt.plot(preds_df['3h']['NHITS'], label=\"Predicted Active Power 3h\", color='orange')\n",
    "\n",
    "plt.legend()\n",
    "plt.show();plt.close()\n"
   ]
  },
  {
   "cell_type": "code",
   "execution_count": 158,
   "id": "b21cfd1c",
   "metadata": {},
   "outputs": [
    {
     "data": {
      "image/png": "[encoded data removed]",
      "text/plain": [
       "<Figure size 1200x600 with 1 Axes>"
      ]
     },
     "metadata": {},
     "output_type": "display_data"
    }
   ],
   "source": [
    "%matplotlib inline\n",
    "\n",
    "plt.figure(figsize=(12, 6))\n",
    "# plt.plot(val_df_nf[\"y\"].tail(20), label=\"Actual Active Power (training)\", color='magenta')\n",
    "# plt.plot(test_df_nf[\"y\"].head(20), label=\"Actual Active Power (test)\", color='blue')\n",
    "plt.plot(val_df_nf[\"y\"].tail(50), label=\"Actual Active Power (training)\", color='magenta')\n",
    "plt.plot(test_df_nf[\"y\"].head(50), label=\"Actual Active Power (test)\", color='blue')\n",
    "plt.plot(preds_df['1h']['NHITS'][2:], label=\"Predicted Active Power 1h\", color='red')\n",
    "# plt.plot(preds_df['2h']['NHITS'][1:], label=\"Predicted Active Power 2h\", color='green')\n",
    "# plt.plot(preds_df['3h']['NHITS'], label=\"Predicted Active Power 3h\", color='orange')\n",
    "\n",
    "plt.legend(fontsize='small')\n",
    "plt.show();plt.close()\n"
   ]
  },
  {
   "cell_type": "markdown",
   "id": "9637613d",
   "metadata": {},
   "source": [
    "### MAE computation"
   ]
  },
  {
   "cell_type": "markdown",
   "id": "b7b8dfe4",
   "metadata": {},
   "source": [
    "We will next compute the MAE for each of the predictions in the dictionary. The trickiest part here is to ensure that the predictions are aligned with the test set. "
   ]
  },
  {
   "cell_type": "code",
   "execution_count": 159,
   "id": "350bb477",
   "metadata": {},
   "outputs": [],
   "source": [
    "from sklearn.metrics import mean_absolute_error"
   ]
  },
  {
   "cell_type": "code",
   "execution_count": 160,
   "id": "1d617257",
   "metadata": {},
   "outputs": [
    {
     "data": {
      "text/plain": [
       "(Timestamp('2023-05-30 20:00:00'), Timestamp('2023-06-29 23:00:00'))"
      ]
     },
     "execution_count": 160,
     "metadata": {},
     "output_type": "execute_result"
    }
   ],
   "source": [
    "test_df_nf.index.min(), test_df_nf.index.max()"
   ]
  },
  {
   "cell_type": "code",
   "execution_count": 161,
   "id": "cd4e7df7",
   "metadata": {},
   "outputs": [
    {
     "data": {
      "text/plain": [
       "time\n",
       "2023-05-30 20:00:00    0.143479\n",
       "2023-05-30 21:00:00    0.152575\n",
       "2023-05-30 22:00:00    0.094740\n",
       "2023-05-30 23:00:00    0.121221\n",
       "2023-05-31 00:00:00    0.149435\n",
       "                         ...   \n",
       "2023-06-29 19:00:00    0.266810\n",
       "2023-06-29 20:00:00    0.276262\n",
       "2023-06-29 21:00:00    0.227949\n",
       "2023-06-29 22:00:00    0.205115\n",
       "2023-06-29 23:00:00    0.171232\n",
       "Name: Wind_speed_tower, Length: 724, dtype: float64"
      ]
     },
     "execution_count": 161,
     "metadata": {},
     "output_type": "execute_result"
    }
   ],
   "source": [
    "test_df_nf['Wind_speed_tower']"
   ]
  },
  {
   "cell_type": "code",
   "execution_count": 162,
   "id": "c42b572e",
   "metadata": {},
   "outputs": [
    {
     "data": {
      "text/html": [
       "<div>\n",
       "<style scoped>\n",
       "    .dataframe tbody tr th:only-of-type {\n",
       "        vertical-align: middle;\n",
       "    }\n",
       "\n",
       "    .dataframe tbody tr th {\n",
       "        vertical-align: top;\n",
       "    }\n",
       "\n",
       "    .dataframe thead th {\n",
       "        text-align: right;\n",
       "    }\n",
       "</style>\n",
       "<table border=\"1\" class=\"dataframe\">\n",
       "  <thead>\n",
       "    <tr style=\"text-align: right;\">\n",
       "      <th></th>\n",
       "      <th>NHITS</th>\n",
       "    </tr>\n",
       "    <tr>\n",
       "      <th>ds</th>\n",
       "      <th></th>\n",
       "    </tr>\n",
       "  </thead>\n",
       "  <tbody>\n",
       "    <tr>\n",
       "      <th>2023-05-30 20:00:00</th>\n",
       "      <td>0.000497</td>\n",
       "    </tr>\n",
       "    <tr>\n",
       "      <th>2023-05-30 21:00:00</th>\n",
       "      <td>0.025953</td>\n",
       "    </tr>\n",
       "    <tr>\n",
       "      <th>2023-05-30 22:00:00</th>\n",
       "      <td>0.029919</td>\n",
       "    </tr>\n",
       "    <tr>\n",
       "      <th>2023-05-30 23:00:00</th>\n",
       "      <td>0.000000</td>\n",
       "    </tr>\n",
       "    <tr>\n",
       "      <th>2023-05-31 00:00:00</th>\n",
       "      <td>0.007694</td>\n",
       "    </tr>\n",
       "    <tr>\n",
       "      <th>...</th>\n",
       "      <td>...</td>\n",
       "    </tr>\n",
       "    <tr>\n",
       "      <th>2023-06-29 19:00:00</th>\n",
       "      <td>0.000000</td>\n",
       "    </tr>\n",
       "    <tr>\n",
       "      <th>2023-06-29 20:00:00</th>\n",
       "      <td>0.032757</td>\n",
       "    </tr>\n",
       "    <tr>\n",
       "      <th>2023-06-29 21:00:00</th>\n",
       "      <td>0.114700</td>\n",
       "    </tr>\n",
       "    <tr>\n",
       "      <th>2023-06-29 22:00:00</th>\n",
       "      <td>0.065447</td>\n",
       "    </tr>\n",
       "    <tr>\n",
       "      <th>2023-06-29 23:00:00</th>\n",
       "      <td>0.000000</td>\n",
       "    </tr>\n",
       "  </tbody>\n",
       "</table>\n",
       "<p>724 rows × 1 columns</p>\n",
       "</div>"
      ],
      "text/plain": [
       "                        NHITS\n",
       "ds                           \n",
       "2023-05-30 20:00:00  0.000497\n",
       "2023-05-30 21:00:00  0.025953\n",
       "2023-05-30 22:00:00  0.029919\n",
       "2023-05-30 23:00:00  0.000000\n",
       "2023-05-31 00:00:00  0.007694\n",
       "...                       ...\n",
       "2023-06-29 19:00:00  0.000000\n",
       "2023-06-29 20:00:00  0.032757\n",
       "2023-06-29 21:00:00  0.114700\n",
       "2023-06-29 22:00:00  0.065447\n",
       "2023-06-29 23:00:00  0.000000\n",
       "\n",
       "[724 rows x 1 columns]"
      ]
     },
     "execution_count": 162,
     "metadata": {},
     "output_type": "execute_result"
    }
   ],
   "source": [
    "mae1h_df = preds_df['1h'].copy()[2:][['NHITS']]\n",
    "mae1h_df\n"
   ]
  },
  {
   "cell_type": "markdown",
   "id": "3783e903",
   "metadata": {},
   "source": [
    "We need to add the exogenous variables as they were used by the scaler. "
   ]
  },
  {
   "cell_type": "code",
   "execution_count": 163,
   "id": "ecf74ef2",
   "metadata": {},
   "outputs": [
    {
     "data": {
      "text/html": [
       "<div>\n",
       "<style scoped>\n",
       "    .dataframe tbody tr th:only-of-type {\n",
       "        vertical-align: middle;\n",
       "    }\n",
       "\n",
       "    .dataframe tbody tr th {\n",
       "        vertical-align: top;\n",
       "    }\n",
       "\n",
       "    .dataframe thead th {\n",
       "        text-align: right;\n",
       "    }\n",
       "</style>\n",
       "<table border=\"1\" class=\"dataframe\">\n",
       "  <thead>\n",
       "    <tr style=\"text-align: right;\">\n",
       "      <th></th>\n",
       "      <th>Wind_speed_tower</th>\n",
       "      <th>NHITS</th>\n",
       "    </tr>\n",
       "    <tr>\n",
       "      <th>ds</th>\n",
       "      <th></th>\n",
       "      <th></th>\n",
       "    </tr>\n",
       "  </thead>\n",
       "  <tbody>\n",
       "    <tr>\n",
       "      <th>2023-05-30 20:00:00</th>\n",
       "      <td>0.143479</td>\n",
       "      <td>0.000497</td>\n",
       "    </tr>\n",
       "    <tr>\n",
       "      <th>2023-05-30 21:00:00</th>\n",
       "      <td>0.152575</td>\n",
       "      <td>0.025953</td>\n",
       "    </tr>\n",
       "    <tr>\n",
       "      <th>2023-05-30 22:00:00</th>\n",
       "      <td>0.094740</td>\n",
       "      <td>0.029919</td>\n",
       "    </tr>\n",
       "    <tr>\n",
       "      <th>2023-05-30 23:00:00</th>\n",
       "      <td>0.121221</td>\n",
       "      <td>0.000000</td>\n",
       "    </tr>\n",
       "    <tr>\n",
       "      <th>2023-05-31 00:00:00</th>\n",
       "      <td>0.149435</td>\n",
       "      <td>0.007694</td>\n",
       "    </tr>\n",
       "    <tr>\n",
       "      <th>...</th>\n",
       "      <td>...</td>\n",
       "      <td>...</td>\n",
       "    </tr>\n",
       "    <tr>\n",
       "      <th>2023-06-29 19:00:00</th>\n",
       "      <td>0.266810</td>\n",
       "      <td>0.000000</td>\n",
       "    </tr>\n",
       "    <tr>\n",
       "      <th>2023-06-29 20:00:00</th>\n",
       "      <td>0.276262</td>\n",
       "      <td>0.032757</td>\n",
       "    </tr>\n",
       "    <tr>\n",
       "      <th>2023-06-29 21:00:00</th>\n",
       "      <td>0.227949</td>\n",
       "      <td>0.114700</td>\n",
       "    </tr>\n",
       "    <tr>\n",
       "      <th>2023-06-29 22:00:00</th>\n",
       "      <td>0.205115</td>\n",
       "      <td>0.065447</td>\n",
       "    </tr>\n",
       "    <tr>\n",
       "      <th>2023-06-29 23:00:00</th>\n",
       "      <td>0.171232</td>\n",
       "      <td>0.000000</td>\n",
       "    </tr>\n",
       "  </tbody>\n",
       "</table>\n",
       "<p>724 rows × 2 columns</p>\n",
       "</div>"
      ],
      "text/plain": [
       "                     Wind_speed_tower     NHITS\n",
       "ds                                             \n",
       "2023-05-30 20:00:00          0.143479  0.000497\n",
       "2023-05-30 21:00:00          0.152575  0.025953\n",
       "2023-05-30 22:00:00          0.094740  0.029919\n",
       "2023-05-30 23:00:00          0.121221  0.000000\n",
       "2023-05-31 00:00:00          0.149435  0.007694\n",
       "...                               ...       ...\n",
       "2023-06-29 19:00:00          0.266810  0.000000\n",
       "2023-06-29 20:00:00          0.276262  0.032757\n",
       "2023-06-29 21:00:00          0.227949  0.114700\n",
       "2023-06-29 22:00:00          0.205115  0.065447\n",
       "2023-06-29 23:00:00          0.171232  0.000000\n",
       "\n",
       "[724 rows x 2 columns]"
      ]
     },
     "execution_count": 163,
     "metadata": {},
     "output_type": "execute_result"
    }
   ],
   "source": [
    "mae1h_df.insert(0, 'Wind_speed_tower', test_df_nf['Wind_speed_tower'].values)\n",
    "mae1h_df"
   ]
  },
  {
   "cell_type": "code",
   "execution_count": 164,
   "id": "e2ae2d9f",
   "metadata": {},
   "outputs": [
    {
     "data": {
      "text/plain": [
       "394.6372959731296"
      ]
     },
     "execution_count": 164,
     "metadata": {},
     "output_type": "execute_result"
    }
   ],
   "source": [
    "# mae1h_df.columns = [\"Wind_speed_tower\", \"Active_Power\"]\n",
    "mean_absolute_error(scaler.inverse_transform(mae1h_df)[:,1], test_df_original[\"Active_Power\"])"
   ]
  },
  {
   "cell_type": "markdown",
   "id": "304786aa",
   "metadata": {},
   "source": [
    "#### Mae for 2h preddictions"
   ]
  },
  {
   "cell_type": "code",
   "execution_count": 136,
   "id": "d9fcdf07",
   "metadata": {},
   "outputs": [
    {
     "data": {
      "text/html": [
       "<div>\n",
       "<style scoped>\n",
       "    .dataframe tbody tr th:only-of-type {\n",
       "        vertical-align: middle;\n",
       "    }\n",
       "\n",
       "    .dataframe tbody tr th {\n",
       "        vertical-align: top;\n",
       "    }\n",
       "\n",
       "    .dataframe thead th {\n",
       "        text-align: right;\n",
       "    }\n",
       "</style>\n",
       "<table border=\"1\" class=\"dataframe\">\n",
       "  <thead>\n",
       "    <tr style=\"text-align: right;\">\n",
       "      <th></th>\n",
       "      <th>NHITS</th>\n",
       "    </tr>\n",
       "    <tr>\n",
       "      <th>ds</th>\n",
       "      <th></th>\n",
       "    </tr>\n",
       "  </thead>\n",
       "  <tbody>\n",
       "    <tr>\n",
       "      <th>2023-05-30 20:00:00</th>\n",
       "      <td>-0.003323</td>\n",
       "    </tr>\n",
       "    <tr>\n",
       "      <th>2023-05-30 21:00:00</th>\n",
       "      <td>0.001069</td>\n",
       "    </tr>\n",
       "    <tr>\n",
       "      <th>2023-05-30 22:00:00</th>\n",
       "      <td>0.022638</td>\n",
       "    </tr>\n",
       "    <tr>\n",
       "      <th>2023-05-30 23:00:00</th>\n",
       "      <td>0.028029</td>\n",
       "    </tr>\n",
       "    <tr>\n",
       "      <th>2023-05-31 00:00:00</th>\n",
       "      <td>0.003150</td>\n",
       "    </tr>\n",
       "    <tr>\n",
       "      <th>...</th>\n",
       "      <td>...</td>\n",
       "    </tr>\n",
       "    <tr>\n",
       "      <th>2023-06-29 19:00:00</th>\n",
       "      <td>0.439175</td>\n",
       "    </tr>\n",
       "    <tr>\n",
       "      <th>2023-06-29 20:00:00</th>\n",
       "      <td>-0.120768</td>\n",
       "    </tr>\n",
       "    <tr>\n",
       "      <th>2023-06-29 21:00:00</th>\n",
       "      <td>0.041999</td>\n",
       "    </tr>\n",
       "    <tr>\n",
       "      <th>2023-06-29 22:00:00</th>\n",
       "      <td>0.061425</td>\n",
       "    </tr>\n",
       "    <tr>\n",
       "      <th>2023-06-29 23:00:00</th>\n",
       "      <td>0.172661</td>\n",
       "    </tr>\n",
       "  </tbody>\n",
       "</table>\n",
       "<p>724 rows × 1 columns</p>\n",
       "</div>"
      ],
      "text/plain": [
       "                        NHITS\n",
       "ds                           \n",
       "2023-05-30 20:00:00 -0.003323\n",
       "2023-05-30 21:00:00  0.001069\n",
       "2023-05-30 22:00:00  0.022638\n",
       "2023-05-30 23:00:00  0.028029\n",
       "2023-05-31 00:00:00  0.003150\n",
       "...                       ...\n",
       "2023-06-29 19:00:00  0.439175\n",
       "2023-06-29 20:00:00 -0.120768\n",
       "2023-06-29 21:00:00  0.041999\n",
       "2023-06-29 22:00:00  0.061425\n",
       "2023-06-29 23:00:00  0.172661\n",
       "\n",
       "[724 rows x 1 columns]"
      ]
     },
     "execution_count": 136,
     "metadata": {},
     "output_type": "execute_result"
    }
   ],
   "source": [
    "mae2h_df = preds_df['2h'].copy()[1:][:-1][['NHITS']]\n",
    "mae2h_df\n"
   ]
  },
  {
   "cell_type": "code",
   "execution_count": 137,
   "id": "3bd194e9",
   "metadata": {},
   "outputs": [
    {
     "data": {
      "text/html": [
       "<div>\n",
       "<style scoped>\n",
       "    .dataframe tbody tr th:only-of-type {\n",
       "        vertical-align: middle;\n",
       "    }\n",
       "\n",
       "    .dataframe tbody tr th {\n",
       "        vertical-align: top;\n",
       "    }\n",
       "\n",
       "    .dataframe thead th {\n",
       "        text-align: right;\n",
       "    }\n",
       "</style>\n",
       "<table border=\"1\" class=\"dataframe\">\n",
       "  <thead>\n",
       "    <tr style=\"text-align: right;\">\n",
       "      <th></th>\n",
       "      <th>Wind_speed_tower</th>\n",
       "      <th>NHITS</th>\n",
       "    </tr>\n",
       "    <tr>\n",
       "      <th>ds</th>\n",
       "      <th></th>\n",
       "      <th></th>\n",
       "    </tr>\n",
       "  </thead>\n",
       "  <tbody>\n",
       "    <tr>\n",
       "      <th>2023-05-30 20:00:00</th>\n",
       "      <td>0.143479</td>\n",
       "      <td>-0.003323</td>\n",
       "    </tr>\n",
       "    <tr>\n",
       "      <th>2023-05-30 21:00:00</th>\n",
       "      <td>0.152575</td>\n",
       "      <td>0.001069</td>\n",
       "    </tr>\n",
       "    <tr>\n",
       "      <th>2023-05-30 22:00:00</th>\n",
       "      <td>0.094740</td>\n",
       "      <td>0.022638</td>\n",
       "    </tr>\n",
       "    <tr>\n",
       "      <th>2023-05-30 23:00:00</th>\n",
       "      <td>0.121221</td>\n",
       "      <td>0.028029</td>\n",
       "    </tr>\n",
       "    <tr>\n",
       "      <th>2023-05-31 00:00:00</th>\n",
       "      <td>0.149435</td>\n",
       "      <td>0.003150</td>\n",
       "    </tr>\n",
       "    <tr>\n",
       "      <th>...</th>\n",
       "      <td>...</td>\n",
       "      <td>...</td>\n",
       "    </tr>\n",
       "    <tr>\n",
       "      <th>2023-06-29 19:00:00</th>\n",
       "      <td>0.266810</td>\n",
       "      <td>0.439175</td>\n",
       "    </tr>\n",
       "    <tr>\n",
       "      <th>2023-06-29 20:00:00</th>\n",
       "      <td>0.276262</td>\n",
       "      <td>-0.120768</td>\n",
       "    </tr>\n",
       "    <tr>\n",
       "      <th>2023-06-29 21:00:00</th>\n",
       "      <td>0.227949</td>\n",
       "      <td>0.041999</td>\n",
       "    </tr>\n",
       "    <tr>\n",
       "      <th>2023-06-29 22:00:00</th>\n",
       "      <td>0.205115</td>\n",
       "      <td>0.061425</td>\n",
       "    </tr>\n",
       "    <tr>\n",
       "      <th>2023-06-29 23:00:00</th>\n",
       "      <td>0.171232</td>\n",
       "      <td>0.172661</td>\n",
       "    </tr>\n",
       "  </tbody>\n",
       "</table>\n",
       "<p>724 rows × 2 columns</p>\n",
       "</div>"
      ],
      "text/plain": [
       "                     Wind_speed_tower     NHITS\n",
       "ds                                             \n",
       "2023-05-30 20:00:00          0.143479 -0.003323\n",
       "2023-05-30 21:00:00          0.152575  0.001069\n",
       "2023-05-30 22:00:00          0.094740  0.022638\n",
       "2023-05-30 23:00:00          0.121221  0.028029\n",
       "2023-05-31 00:00:00          0.149435  0.003150\n",
       "...                               ...       ...\n",
       "2023-06-29 19:00:00          0.266810  0.439175\n",
       "2023-06-29 20:00:00          0.276262 -0.120768\n",
       "2023-06-29 21:00:00          0.227949  0.041999\n",
       "2023-06-29 22:00:00          0.205115  0.061425\n",
       "2023-06-29 23:00:00          0.171232  0.172661\n",
       "\n",
       "[724 rows x 2 columns]"
      ]
     },
     "execution_count": 137,
     "metadata": {},
     "output_type": "execute_result"
    }
   ],
   "source": [
    "mae2h_df.insert(0, 'Wind_speed_tower', test_df_nf['Wind_speed_tower'].values)\n",
    "mae2h_df"
   ]
  },
  {
   "cell_type": "code",
   "execution_count": 138,
   "id": "55f0cab8",
   "metadata": {},
   "outputs": [
    {
     "data": {
      "text/plain": [
       "716.4805492697601"
      ]
     },
     "execution_count": 138,
     "metadata": {},
     "output_type": "execute_result"
    }
   ],
   "source": [
    "# mae1h_df.columns = [\"Wind_speed_tower\", \"Active_Power\"]\n",
    "mean_absolute_error(scaler.inverse_transform(mae2h_df)[:,1], test_df_original[\"Active_Power\"])"
   ]
  },
  {
   "cell_type": "markdown",
   "id": "3cbebaaf",
   "metadata": {},
   "source": [
    "#### Mae for 3h preddictions"
   ]
  },
  {
   "cell_type": "code",
   "execution_count": 139,
   "id": "ddd3a4ba",
   "metadata": {},
   "outputs": [
    {
     "data": {
      "text/html": [
       "<div>\n",
       "<style scoped>\n",
       "    .dataframe tbody tr th:only-of-type {\n",
       "        vertical-align: middle;\n",
       "    }\n",
       "\n",
       "    .dataframe tbody tr th {\n",
       "        vertical-align: top;\n",
       "    }\n",
       "\n",
       "    .dataframe thead th {\n",
       "        text-align: right;\n",
       "    }\n",
       "</style>\n",
       "<table border=\"1\" class=\"dataframe\">\n",
       "  <thead>\n",
       "    <tr style=\"text-align: right;\">\n",
       "      <th></th>\n",
       "      <th>NHITS</th>\n",
       "    </tr>\n",
       "    <tr>\n",
       "      <th>ds</th>\n",
       "      <th></th>\n",
       "    </tr>\n",
       "  </thead>\n",
       "  <tbody>\n",
       "    <tr>\n",
       "      <th>2023-05-30 20:00:00</th>\n",
       "      <td>0.028167</td>\n",
       "    </tr>\n",
       "    <tr>\n",
       "      <th>2023-05-30 21:00:00</th>\n",
       "      <td>-0.005303</td>\n",
       "    </tr>\n",
       "    <tr>\n",
       "      <th>2023-05-30 22:00:00</th>\n",
       "      <td>-0.001488</td>\n",
       "    </tr>\n",
       "    <tr>\n",
       "      <th>2023-05-30 23:00:00</th>\n",
       "      <td>0.019805</td>\n",
       "    </tr>\n",
       "    <tr>\n",
       "      <th>2023-05-31 00:00:00</th>\n",
       "      <td>0.029511</td>\n",
       "    </tr>\n",
       "    <tr>\n",
       "      <th>...</th>\n",
       "      <td>...</td>\n",
       "    </tr>\n",
       "    <tr>\n",
       "      <th>2023-06-29 19:00:00</th>\n",
       "      <td>0.674087</td>\n",
       "    </tr>\n",
       "    <tr>\n",
       "      <th>2023-06-29 20:00:00</th>\n",
       "      <td>0.210189</td>\n",
       "    </tr>\n",
       "    <tr>\n",
       "      <th>2023-06-29 21:00:00</th>\n",
       "      <td>0.101092</td>\n",
       "    </tr>\n",
       "    <tr>\n",
       "      <th>2023-06-29 22:00:00</th>\n",
       "      <td>0.087077</td>\n",
       "    </tr>\n",
       "    <tr>\n",
       "      <th>2023-06-29 23:00:00</th>\n",
       "      <td>0.135821</td>\n",
       "    </tr>\n",
       "  </tbody>\n",
       "</table>\n",
       "<p>724 rows × 1 columns</p>\n",
       "</div>"
      ],
      "text/plain": [
       "                        NHITS\n",
       "ds                           \n",
       "2023-05-30 20:00:00  0.028167\n",
       "2023-05-30 21:00:00 -0.005303\n",
       "2023-05-30 22:00:00 -0.001488\n",
       "2023-05-30 23:00:00  0.019805\n",
       "2023-05-31 00:00:00  0.029511\n",
       "...                       ...\n",
       "2023-06-29 19:00:00  0.674087\n",
       "2023-06-29 20:00:00  0.210189\n",
       "2023-06-29 21:00:00  0.101092\n",
       "2023-06-29 22:00:00  0.087077\n",
       "2023-06-29 23:00:00  0.135821\n",
       "\n",
       "[724 rows x 1 columns]"
      ]
     },
     "execution_count": 139,
     "metadata": {},
     "output_type": "execute_result"
    }
   ],
   "source": [
    "mae3h_df = preds_df['3h'].copy()[:-2][['NHITS']]\n",
    "mae3h_df\n"
   ]
  },
  {
   "cell_type": "code",
   "execution_count": 140,
   "id": "bc6cf5ea",
   "metadata": {},
   "outputs": [
    {
     "data": {
      "text/html": [
       "<div>\n",
       "<style scoped>\n",
       "    .dataframe tbody tr th:only-of-type {\n",
       "        vertical-align: middle;\n",
       "    }\n",
       "\n",
       "    .dataframe tbody tr th {\n",
       "        vertical-align: top;\n",
       "    }\n",
       "\n",
       "    .dataframe thead th {\n",
       "        text-align: right;\n",
       "    }\n",
       "</style>\n",
       "<table border=\"1\" class=\"dataframe\">\n",
       "  <thead>\n",
       "    <tr style=\"text-align: right;\">\n",
       "      <th></th>\n",
       "      <th>Wind_speed_tower</th>\n",
       "      <th>NHITS</th>\n",
       "    </tr>\n",
       "    <tr>\n",
       "      <th>ds</th>\n",
       "      <th></th>\n",
       "      <th></th>\n",
       "    </tr>\n",
       "  </thead>\n",
       "  <tbody>\n",
       "    <tr>\n",
       "      <th>2023-05-30 20:00:00</th>\n",
       "      <td>0.143479</td>\n",
       "      <td>0.028167</td>\n",
       "    </tr>\n",
       "    <tr>\n",
       "      <th>2023-05-30 21:00:00</th>\n",
       "      <td>0.152575</td>\n",
       "      <td>-0.005303</td>\n",
       "    </tr>\n",
       "    <tr>\n",
       "      <th>2023-05-30 22:00:00</th>\n",
       "      <td>0.094740</td>\n",
       "      <td>-0.001488</td>\n",
       "    </tr>\n",
       "    <tr>\n",
       "      <th>2023-05-30 23:00:00</th>\n",
       "      <td>0.121221</td>\n",
       "      <td>0.019805</td>\n",
       "    </tr>\n",
       "    <tr>\n",
       "      <th>2023-05-31 00:00:00</th>\n",
       "      <td>0.149435</td>\n",
       "      <td>0.029511</td>\n",
       "    </tr>\n",
       "    <tr>\n",
       "      <th>...</th>\n",
       "      <td>...</td>\n",
       "      <td>...</td>\n",
       "    </tr>\n",
       "    <tr>\n",
       "      <th>2023-06-29 19:00:00</th>\n",
       "      <td>0.266810</td>\n",
       "      <td>0.674087</td>\n",
       "    </tr>\n",
       "    <tr>\n",
       "      <th>2023-06-29 20:00:00</th>\n",
       "      <td>0.276262</td>\n",
       "      <td>0.210189</td>\n",
       "    </tr>\n",
       "    <tr>\n",
       "      <th>2023-06-29 21:00:00</th>\n",
       "      <td>0.227949</td>\n",
       "      <td>0.101092</td>\n",
       "    </tr>\n",
       "    <tr>\n",
       "      <th>2023-06-29 22:00:00</th>\n",
       "      <td>0.205115</td>\n",
       "      <td>0.087077</td>\n",
       "    </tr>\n",
       "    <tr>\n",
       "      <th>2023-06-29 23:00:00</th>\n",
       "      <td>0.171232</td>\n",
       "      <td>0.135821</td>\n",
       "    </tr>\n",
       "  </tbody>\n",
       "</table>\n",
       "<p>724 rows × 2 columns</p>\n",
       "</div>"
      ],
      "text/plain": [
       "                     Wind_speed_tower     NHITS\n",
       "ds                                             \n",
       "2023-05-30 20:00:00          0.143479  0.028167\n",
       "2023-05-30 21:00:00          0.152575 -0.005303\n",
       "2023-05-30 22:00:00          0.094740 -0.001488\n",
       "2023-05-30 23:00:00          0.121221  0.019805\n",
       "2023-05-31 00:00:00          0.149435  0.029511\n",
       "...                               ...       ...\n",
       "2023-06-29 19:00:00          0.266810  0.674087\n",
       "2023-06-29 20:00:00          0.276262  0.210189\n",
       "2023-06-29 21:00:00          0.227949  0.101092\n",
       "2023-06-29 22:00:00          0.205115  0.087077\n",
       "2023-06-29 23:00:00          0.171232  0.135821\n",
       "\n",
       "[724 rows x 2 columns]"
      ]
     },
     "execution_count": 140,
     "metadata": {},
     "output_type": "execute_result"
    }
   ],
   "source": [
    "mae3h_df.insert(0, 'Wind_speed_tower', test_df_nf['Wind_speed_tower'].values)\n",
    "mae3h_df"
   ]
  },
  {
   "cell_type": "code",
   "execution_count": 141,
   "id": "609bfa2f",
   "metadata": {},
   "outputs": [
    {
     "data": {
      "text/plain": [
       "901.9100377206892"
      ]
     },
     "execution_count": 141,
     "metadata": {},
     "output_type": "execute_result"
    }
   ],
   "source": [
    "mean_absolute_error(scaler.inverse_transform(mae3h_df)[:,1], test_df_original[\"Active_Power\"])"
   ]
  },
  {
   "cell_type": "code",
   "execution_count": null,
   "id": "9b562483",
   "metadata": {},
   "outputs": [],
   "source": []
  },
  {
   "cell_type": "code",
   "execution_count": null,
   "id": "4ae27a41",
   "metadata": {},
   "outputs": [],
   "source": []
  },
  {
   "cell_type": "code",
   "execution_count": null,
   "id": "35dd7bcf",
   "metadata": {},
   "outputs": [],
   "source": []
  },
  {
   "cell_type": "code",
   "execution_count": null,
   "id": "9a64c613",
   "metadata": {},
   "outputs": [],
   "source": []
  },
  {
   "cell_type": "code",
   "execution_count": null,
   "id": "81e6689e",
   "metadata": {},
   "outputs": [],
   "source": []
  },
  {
   "cell_type": "code",
   "execution_count": null,
   "id": "62d94d53",
   "metadata": {},
   "outputs": [],
   "source": []
  },
  {
   "cell_type": "code",
   "execution_count": null,
   "id": "51caa622",
   "metadata": {},
   "outputs": [],
   "source": []
  },
  {
   "cell_type": "code",
   "execution_count": null,
   "id": "b45f0123",
   "metadata": {},
   "outputs": [],
   "source": []
  },
  {
   "cell_type": "code",
   "execution_count": null,
   "id": "2f2e7bea",
   "metadata": {},
   "outputs": [],
   "source": []
  },
  {
   "cell_type": "code",
   "execution_count": null,
   "id": "dba22f1f",
   "metadata": {},
   "outputs": [],
   "source": []
  },
  {
   "cell_type": "code",
   "execution_count": null,
   "id": "b5142d4e",
   "metadata": {},
   "outputs": [],
   "source": []
  },
  {
   "cell_type": "code",
   "execution_count": null,
   "id": "355c48a7",
   "metadata": {},
   "outputs": [],
   "source": []
  },
  {
   "cell_type": "markdown",
   "id": "4d0d6767",
   "metadata": {},
   "source": [
    "# Model Performance Evaluation"
   ]
  },
  {
   "cell_type": "markdown",
   "id": "050a474a",
   "metadata": {},
   "source": [
    "We create the rolling_df dataframe that contains the series data up to the time instant in which we make a prediction that corresponds to the first time instant in the test set. That prediction corresponds to the maximum value of the prediction horizon. "
   ]
  },
  {
   "cell_type": "code",
   "execution_count": null,
   "id": "a3689417",
   "metadata": {},
   "outputs": [],
   "source": [
    "rolling_df = full_df_nf.iloc[:(train_len + val_len + 1 - horizon)]\n",
    "rolling_df.tail(2)"
   ]
  },
  {
   "cell_type": "markdown",
   "id": "095dce79",
   "metadata": {},
   "source": [
    "Now to start the evaluation we fit the model to this dataset and get the predictions. We will not use all of them, only the last."
   ]
  },
  {
   "cell_type": "code",
   "execution_count": null,
   "id": "58e7cf72",
   "metadata": {},
   "outputs": [],
   "source": [
    "nf.fit(df=rolling_df)"
   ]
  },
  {
   "cell_type": "code",
   "execution_count": null,
   "id": "71dd00c9",
   "metadata": {},
   "outputs": [],
   "source": [
    "rolling_preds = nf.predict()\n",
    "rolling_preds"
   ]
  },
  {
   "cell_type": "markdown",
   "id": "bc3aa4f5",
   "metadata": {},
   "source": [
    "Note the last of these predictions corresponds to the first time instant in the test set. \n",
    "\n",
    "Now we create a dictionary (of dataframes) to store the predictions for each value k from 1 to the max of the prediction horizon. The weird (k-1):k bit below is to prevent pandas from collapsing the row into a series!"
   ]
  },
  {
   "cell_type": "code",
   "execution_count": null,
   "id": "c6e1e02f",
   "metadata": {},
   "outputs": [],
   "source": [
    "preds_df = {}\n",
    "for k in range(1, horizon + 1):\n",
    "    preds_df_name = str(k) + \"h\"  # String variable for the new name\n",
    "    preds_df[preds_df_name] = rolling_preds.copy().iloc[(k-1):k, :]\n",
    "\n"
   ]
  },
  {
   "cell_type": "markdown",
   "id": "2a2d526c",
   "metadata": {},
   "source": [
    "Initially we store the predictions we obtained above in the dictionary (only the last one of these will actually be useful for comparison with the test set, but the others serve the purpose of dictionary initialisation)."
   ]
  },
  {
   "cell_type": "code",
   "execution_count": null,
   "id": "dabfdec2",
   "metadata": {},
   "outputs": [],
   "source": [
    "preds_df['1h']"
   ]
  },
  {
   "cell_type": "code",
   "execution_count": null,
   "id": "bbaa289b",
   "metadata": {},
   "outputs": [],
   "source": [
    "preds_df['2h']"
   ]
  },
  {
   "cell_type": "code",
   "execution_count": null,
   "id": "7a339d39",
   "metadata": {},
   "outputs": [],
   "source": [
    "preds_df['3h']"
   ]
  },
  {
   "cell_type": "markdown",
   "id": "b304f092",
   "metadata": {},
   "source": [
    "The main tool for evaluation is the for loop below. In each iteration we add one time instant to the rolling_df dataframe and then we fit the model to this dataframe. We then obtain the predictions for this augmented dataset and our forecasting horizon. And we store each  of them in the corresponing dataframe inside the dictionary. "
   ]
  },
  {
   "cell_type": "code",
   "execution_count": null,
   "id": "320bc679",
   "metadata": {},
   "outputs": [],
   "source": [
    "%%time\n",
    "\n",
    "# for k in range(2, 20):\n",
    "for k in range(2, len(test_df_nf) + horizon):\n",
    "    # rolling_df = pd.concat([train_df_nf, val_df_nf, test_df_nf.iloc[:k]])\n",
    "    rolling_df = full_df_nf.iloc[:(train_len + val_len + k - horizon)]\n",
    "    # print(rolling_df.tail(1))\n",
    "    # print(rolling_df.shape)\n",
    "    nf.fit(df=rolling_df)\n",
    "    rolling_preds = nf.predict()\n",
    "    # print(rolling_preds)\n",
    "    for h in range(1, horizon + 1):\n",
    "        preds_df[f'{h}h'] = pd.concat([preds_df[f'{h}h'], rolling_preds.iloc[(h - 1):h,:]], axis=0)\n",
    "\n",
    "    print(f\"k =  {k}\")\n",
    "    print(\"#\" * 20)       "
   ]
  },
  {
   "cell_type": "markdown",
   "id": "51d71fe4",
   "metadata": {},
   "source": [
    "For ease of comparison and plotting we reindex the predictions dataframes in the dictionary to use ds as index."
   ]
  },
  {
   "cell_type": "code",
   "execution_count": null,
   "id": "411c71f9",
   "metadata": {},
   "outputs": [],
   "source": [
    "preds_df"
   ]
  },
  {
   "cell_type": "code",
   "execution_count": null,
   "id": "95f7a709",
   "metadata": {},
   "outputs": [],
   "source": [
    "for h in range(1, horizon + 1):\n",
    "    preds_df[f'{h}h'].set_index('ds', inplace=True)"
   ]
  },
  {
   "cell_type": "markdown",
   "id": "a2b2c7cc",
   "metadata": {},
   "source": [
    "After doing that they look like this:"
   ]
  },
  {
   "cell_type": "code",
   "execution_count": null,
   "id": "249623af",
   "metadata": {},
   "outputs": [],
   "source": [
    "preds_df['1h'] "
   ]
  },
  {
   "cell_type": "code",
   "execution_count": null,
   "id": "6d880cbb",
   "metadata": {},
   "outputs": [],
   "source": [
    "preds_df['2h'] "
   ]
  },
  {
   "cell_type": "code",
   "execution_count": null,
   "id": "e17e57c2",
   "metadata": {},
   "outputs": [],
   "source": [
    "preds_df['3h'] "
   ]
  },
  {
   "cell_type": "code",
   "execution_count": null,
   "id": "0e590fa6",
   "metadata": {},
   "outputs": [],
   "source": [
    "# test_df_nf.tail(3)"
   ]
  },
  {
   "cell_type": "markdown",
   "id": "7fbf1bb0",
   "metadata": {},
   "source": [
    "Let us plot the predictions against the test set values."
   ]
  },
  {
   "cell_type": "code",
   "execution_count": null,
   "id": "c25a4978",
   "metadata": {},
   "outputs": [],
   "source": [
    "%matplotlib inline\n",
    "\n",
    "plt.figure(figsize=(12, 6))\n",
    "# plt.plot(val_df_nf[\"y\"].tail(20), label=\"Actual Active Power (training)\", color='magenta')\n",
    "# plt.plot(test_df_nf[\"y\"].head(20), label=\"Actual Active Power (test)\", color='blue')\n",
    "plt.plot(val_df_nf[\"y\"], label=\"Actual Active Power (training)\", color='magenta')\n",
    "plt.plot(test_df_nf[\"y\"], label=\"Actual Active Power (test)\", color='blue')\n",
    "plt.plot(preds_df['1h']['NHITS'][2:], label=\"Predicted Active Power 1h\", color='red')\n",
    "plt.plot(preds_df['2h']['NHITS'][1:], label=\"Predicted Active Power 2h\", color='green')\n",
    "plt.plot(preds_df['3h']['NHITS'], label=\"Predicted Active Power 3h\", color='orange')\n",
    "\n",
    "plt.legend()\n",
    "plt.show();plt.close()\n"
   ]
  },
  {
   "cell_type": "code",
   "execution_count": null,
   "id": "a3b721d0",
   "metadata": {},
   "outputs": [],
   "source": [
    "%matplotlib inline\n",
    "\n",
    "plt.figure(figsize=(12, 6))\n",
    "plt.plot(val_df_nf[\"y\"].tail(20), label=\"Actual Active Power (training)\", color='magenta')\n",
    "plt.plot(test_df_nf[\"y\"].head(20), label=\"Actual Active Power (test)\", color='blue')\n",
    "# plt.plot(val_df_nf[\"y\"], label=\"Actual Active Power (training)\", color='magenta')\n",
    "# plt.plot(test_df_nf[\"y\"], label=\"Actual Active Power (test)\", color='blue')\n",
    "plt.plot(preds_df['1h']['NHITS'].head(20)[2:], label=\"Predicted Active Power 1h\", color='red')\n",
    "plt.plot(preds_df['2h']['NHITS'].head(20)[1:], label=\"Predicted Active Power 2h\", color='green')\n",
    "plt.plot(preds_df['3h']['NHITS'].head(20), label=\"Predicted Active Power 3h\", color='orange')\n",
    "\n",
    "plt.legend()\n",
    "plt.show();plt.close()\n"
   ]
  },
  {
   "cell_type": "markdown",
   "id": "9cd146a4",
   "metadata": {},
   "source": [
    "### MAE computation"
   ]
  },
  {
   "cell_type": "markdown",
   "id": "0993e546",
   "metadata": {},
   "source": [
    "We will next compute the MAE for each of the predictions in the dictionary. The trickiest part here is to ensure that the predictions are aligned with the test set. "
   ]
  },
  {
   "cell_type": "code",
   "execution_count": null,
   "id": "68943a0f",
   "metadata": {},
   "outputs": [],
   "source": [
    "from sklearn.metrics import mean_absolute_error"
   ]
  },
  {
   "cell_type": "code",
   "execution_count": null,
   "id": "4995da9b",
   "metadata": {},
   "outputs": [],
   "source": [
    "test_df_nf.index.min(), test_df_nf.index.max()"
   ]
  },
  {
   "cell_type": "code",
   "execution_count": null,
   "id": "0d99dbc7",
   "metadata": {},
   "outputs": [],
   "source": [
    "test_df_nf['Wind_speed_tower']"
   ]
  },
  {
   "cell_type": "code",
   "execution_count": null,
   "id": "c871c202",
   "metadata": {},
   "outputs": [],
   "source": [
    "mape1h_df = preds_df['1h'].copy()[2:][['NHITS']]\n",
    "mape1h_df\n"
   ]
  },
  {
   "cell_type": "markdown",
   "id": "37d8ca13",
   "metadata": {},
   "source": [
    "We need to add the exogenous variables as they were used by the scaler. "
   ]
  },
  {
   "cell_type": "code",
   "execution_count": null,
   "id": "922a0025",
   "metadata": {},
   "outputs": [],
   "source": [
    "mape1h_df.insert(0, 'Wind_speed_tower', test_df_nf['Wind_speed_tower'].values)\n",
    "mape1h_df"
   ]
  },
  {
   "cell_type": "code",
   "execution_count": null,
   "id": "1be3ceb1",
   "metadata": {},
   "outputs": [],
   "source": [
    "# mape1h_df.columns = [\"Wind_speed_tower\", \"Active_Power\"]\n",
    "mean_absolute_error(scaler.inverse_transform(mape1h_df)[:,1], test_df_original[\"Active_Power\"])"
   ]
  },
  {
   "cell_type": "markdown",
   "id": "76ea5bb8",
   "metadata": {},
   "source": [
    "#### Mae for 2h preddictions"
   ]
  },
  {
   "cell_type": "code",
   "execution_count": null,
   "id": "0b713b08",
   "metadata": {},
   "outputs": [],
   "source": [
    "mape2h_df = preds_df['2h'].copy()[1:][:-1][['NHITS']]\n",
    "mape2h_df\n"
   ]
  },
  {
   "cell_type": "code",
   "execution_count": null,
   "id": "2bbf1ec1",
   "metadata": {},
   "outputs": [],
   "source": [
    "mape2h_df.insert(0, 'Wind_speed_tower', test_df_nf['Wind_speed_tower'].values)\n",
    "mape2h_df"
   ]
  },
  {
   "cell_type": "code",
   "execution_count": null,
   "id": "3fde0c5e",
   "metadata": {},
   "outputs": [],
   "source": [
    "# mape1h_df.columns = [\"Wind_speed_tower\", \"Active_Power\"]\n",
    "mean_absolute_error(scaler.inverse_transform(mape2h_df)[:,1], test_df_original[\"Active_Power\"])"
   ]
  },
  {
   "cell_type": "markdown",
   "id": "c836bf34",
   "metadata": {},
   "source": [
    "#### Mae for 3h preddictions"
   ]
  },
  {
   "cell_type": "code",
   "execution_count": null,
   "id": "516c958d",
   "metadata": {},
   "outputs": [],
   "source": [
    "mape3h_df = preds_df['3h'].copy()[:-2][['NHITS']]\n",
    "mape3h_df\n"
   ]
  },
  {
   "cell_type": "code",
   "execution_count": null,
   "id": "1979e855",
   "metadata": {},
   "outputs": [],
   "source": [
    "mape3h_df.insert(0, 'Wind_speed_tower', test_df_nf['Wind_speed_tower'].values)\n",
    "mape3h_df"
   ]
  },
  {
   "cell_type": "code",
   "execution_count": null,
   "id": "e246a20b",
   "metadata": {},
   "outputs": [],
   "source": [
    "mean_absolute_error(scaler.inverse_transform(mape3h_df)[:,1], test_df_original[\"Active_Power\"])"
   ]
  },
  {
   "cell_type": "code",
   "execution_count": null,
   "id": "a9d53885",
   "metadata": {},
   "outputs": [],
   "source": []
  }
 ],
 "metadata": {
  "kernelspec": {
   "display_name": "tfm_cc",
   "language": "python",
   "name": "python3"
  },
  "language_info": {
   "codemirror_mode": {
    "name": "ipython",
    "version": 3
   },
   "file_extension": ".py",
   "mimetype": "text/x-python",
   "name": "python",
   "nbconvert_exporter": "python",
   "pygments_lexer": "ipython3",
   "version": "3.10.16"
  }
 },
 "nbformat": 4,
 "nbformat_minor": 5
}
