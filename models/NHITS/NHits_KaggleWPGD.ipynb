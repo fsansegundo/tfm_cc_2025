{
 "cells": [
  {
   "cell_type": "markdown",
   "id": "50ef451e",
   "metadata": {},
   "source": [
    "# N-HITS Forecasting with Nixtla's NeuralForecast"
   ]
  },
  {
   "cell_type": "markdown",
   "id": "05b15363",
   "metadata": {},
   "source": [
    "## Dataset: KaggleWPGD"
   ]
  },
  {
   "cell_type": "markdown",
   "id": "182cd5b3",
   "metadata": {},
   "source": [
    "This notebook demonstrates how to use the N-HITS forecasting model described in:\n",
    "\n",
    "*N-HiTS: Neural Hierarchical Interpolation for Time Series Forecasting*, [https://arxiv.org/abs/2201.12886](https://arxiv.org/abs/2201.12886)\n",
    "\n",
    "The implementation we use is provided by Nixtla's NeuralForecast library:\n",
    "\n",
    "+ for the base model [`NHITS`](https://nixtlaverse.nixtla.io/neuralforecast/models.nhits.html#nhits)\n",
    "+ for the automodel [`AutoNHITS`](https://nixtlaverse.nixtla.io/neuralforecast/models.html#autonhits)\n",
    "\n",
    "\n",
    "## Important note:\n",
    "\n",
    "This notebook uses the following conda environments:\n",
    "\n",
    "+ Under linux: tfm_cc, described in the tfm_cc.yml file (see environments folder).\n",
    "+ Under macOS: tfm_cc_nixtla, described in the tfm_cc_nixtla.yml file (see environments folder). \n",
    "\n",
    "## Execution Notes:\n",
    "\n",
    "The run times that appear below correspond to the execution of the notebook in a Linux machine under Ubuntu 22.04 LTS with Intel Core i7-10870H CPU (2.20GHz), 64GB of RAM, NVIDIA GeForce RTX 3060 Laptop GPU with 6Gb VRAM."
   ]
  },
  {
   "cell_type": "markdown",
   "id": "0458d78e",
   "metadata": {},
   "source": [
    "## Load basic libraries\n",
    "\n",
    "**Warning:** Model specific libraries will be loaded below."
   ]
  },
  {
   "cell_type": "code",
   "execution_count": 1,
   "id": "15c939dc",
   "metadata": {},
   "outputs": [],
   "source": [
    "import pandas as pd\n",
    "import numpy as np\n",
    "import matplotlib.pyplot as plt\n",
    "\n",
    "import time\n",
    "import logging\n",
    "\n",
    "\n",
    "\n",
    "from sklearn.preprocessing import MinMaxScaler\n",
    "from sklearn.preprocessing import StandardScaler\n",
    "from sklearn.model_selection import train_test_split\n",
    "from sklearn.metrics import mean_absolute_error\n",
    "\n"
   ]
  },
  {
   "cell_type": "markdown",
   "id": "3155a85d",
   "metadata": {},
   "source": [
    "## Load dataset"
   ]
  },
  {
   "cell_type": "markdown",
   "id": "598122bd",
   "metadata": {},
   "source": [
    "The data in this notebook comes from the Kaggle dataset:\n",
    "\n",
    "[Wind Power Generation Data - Forecasting](https://www.kaggle.com/datasets/mubashirrahim/wind-power-generation-data-forecasting/data)"
   ]
  },
  {
   "cell_type": "code",
   "execution_count": 2,
   "id": "fe1c0edc",
   "metadata": {},
   "outputs": [
    {
     "data": {
      "text/html": [
       "<div>\n",
       "<style scoped>\n",
       "    .dataframe tbody tr th:only-of-type {\n",
       "        vertical-align: middle;\n",
       "    }\n",
       "\n",
       "    .dataframe tbody tr th {\n",
       "        vertical-align: top;\n",
       "    }\n",
       "\n",
       "    .dataframe thead th {\n",
       "        text-align: right;\n",
       "    }\n",
       "</style>\n",
       "<table border=\"1\" class=\"dataframe\">\n",
       "  <thead>\n",
       "    <tr style=\"text-align: right;\">\n",
       "      <th></th>\n",
       "      <th>Time</th>\n",
       "      <th>temperature_2m</th>\n",
       "      <th>relativehumidity_2m</th>\n",
       "      <th>dewpoint_2m</th>\n",
       "      <th>windspeed_10m</th>\n",
       "      <th>windspeed_100m</th>\n",
       "      <th>winddirection_10m</th>\n",
       "      <th>winddirection_100m</th>\n",
       "      <th>windgusts_10m</th>\n",
       "      <th>Power</th>\n",
       "    </tr>\n",
       "  </thead>\n",
       "  <tbody>\n",
       "    <tr>\n",
       "      <th>0</th>\n",
       "      <td>2017-01-02 00:00:00</td>\n",
       "      <td>28.5</td>\n",
       "      <td>85</td>\n",
       "      <td>24.5</td>\n",
       "      <td>1.44</td>\n",
       "      <td>1.26</td>\n",
       "      <td>146</td>\n",
       "      <td>162</td>\n",
       "      <td>1.4</td>\n",
       "      <td>0.1635</td>\n",
       "    </tr>\n",
       "    <tr>\n",
       "      <th>1</th>\n",
       "      <td>2017-01-02 01:00:00</td>\n",
       "      <td>28.4</td>\n",
       "      <td>86</td>\n",
       "      <td>24.7</td>\n",
       "      <td>2.06</td>\n",
       "      <td>3.99</td>\n",
       "      <td>151</td>\n",
       "      <td>158</td>\n",
       "      <td>4.4</td>\n",
       "      <td>0.1424</td>\n",
       "    </tr>\n",
       "    <tr>\n",
       "      <th>2</th>\n",
       "      <td>2017-01-02 02:00:00</td>\n",
       "      <td>26.8</td>\n",
       "      <td>91</td>\n",
       "      <td>24.5</td>\n",
       "      <td>1.30</td>\n",
       "      <td>2.78</td>\n",
       "      <td>148</td>\n",
       "      <td>150</td>\n",
       "      <td>3.2</td>\n",
       "      <td>0.1214</td>\n",
       "    </tr>\n",
       "    <tr>\n",
       "      <th>3</th>\n",
       "      <td>2017-01-02 03:00:00</td>\n",
       "      <td>27.4</td>\n",
       "      <td>88</td>\n",
       "      <td>24.3</td>\n",
       "      <td>1.30</td>\n",
       "      <td>2.69</td>\n",
       "      <td>58</td>\n",
       "      <td>105</td>\n",
       "      <td>1.6</td>\n",
       "      <td>0.1003</td>\n",
       "    </tr>\n",
       "    <tr>\n",
       "      <th>4</th>\n",
       "      <td>2017-01-02 04:00:00</td>\n",
       "      <td>27.3</td>\n",
       "      <td>88</td>\n",
       "      <td>24.1</td>\n",
       "      <td>2.47</td>\n",
       "      <td>4.43</td>\n",
       "      <td>58</td>\n",
       "      <td>84</td>\n",
       "      <td>4.0</td>\n",
       "      <td>0.0793</td>\n",
       "    </tr>\n",
       "  </tbody>\n",
       "</table>\n",
       "</div>"
      ],
      "text/plain": [
       "                  Time  temperature_2m  relativehumidity_2m  dewpoint_2m  \\\n",
       "0  2017-01-02 00:00:00            28.5                   85         24.5   \n",
       "1  2017-01-02 01:00:00            28.4                   86         24.7   \n",
       "2  2017-01-02 02:00:00            26.8                   91         24.5   \n",
       "3  2017-01-02 03:00:00            27.4                   88         24.3   \n",
       "4  2017-01-02 04:00:00            27.3                   88         24.1   \n",
       "\n",
       "   windspeed_10m  windspeed_100m  winddirection_10m  winddirection_100m  \\\n",
       "0           1.44            1.26                146                 162   \n",
       "1           2.06            3.99                151                 158   \n",
       "2           1.30            2.78                148                 150   \n",
       "3           1.30            2.69                 58                 105   \n",
       "4           2.47            4.43                 58                  84   \n",
       "\n",
       "   windgusts_10m   Power  \n",
       "0            1.4  0.1635  \n",
       "1            4.4  0.1424  \n",
       "2            3.2  0.1214  \n",
       "3            1.6  0.1003  \n",
       "4            4.0  0.0793  "
      ]
     },
     "execution_count": 2,
     "metadata": {},
     "output_type": "execute_result"
    }
   ],
   "source": [
    "file_path = \"../../data/kaggleWPGD/Location1.csv\"\n",
    "df = pd.read_csv(file_path, delimiter=',')\n",
    "df.head()"
   ]
  },
  {
   "cell_type": "markdown",
   "id": "cbdea415",
   "metadata": {},
   "source": [
    "### Set datetime format and index"
   ]
  },
  {
   "cell_type": "code",
   "execution_count": 3,
   "id": "6d3f2a6d",
   "metadata": {},
   "outputs": [
    {
     "data": {
      "text/html": [
       "<div>\n",
       "<style scoped>\n",
       "    .dataframe tbody tr th:only-of-type {\n",
       "        vertical-align: middle;\n",
       "    }\n",
       "\n",
       "    .dataframe tbody tr th {\n",
       "        vertical-align: top;\n",
       "    }\n",
       "\n",
       "    .dataframe thead th {\n",
       "        text-align: right;\n",
       "    }\n",
       "</style>\n",
       "<table border=\"1\" class=\"dataframe\">\n",
       "  <thead>\n",
       "    <tr style=\"text-align: right;\">\n",
       "      <th></th>\n",
       "      <th>temperature_2m</th>\n",
       "      <th>relativehumidity_2m</th>\n",
       "      <th>dewpoint_2m</th>\n",
       "      <th>windspeed_10m</th>\n",
       "      <th>windspeed_100m</th>\n",
       "      <th>winddirection_10m</th>\n",
       "      <th>winddirection_100m</th>\n",
       "      <th>windgusts_10m</th>\n",
       "      <th>Power</th>\n",
       "    </tr>\n",
       "    <tr>\n",
       "      <th>time</th>\n",
       "      <th></th>\n",
       "      <th></th>\n",
       "      <th></th>\n",
       "      <th></th>\n",
       "      <th></th>\n",
       "      <th></th>\n",
       "      <th></th>\n",
       "      <th></th>\n",
       "      <th></th>\n",
       "    </tr>\n",
       "  </thead>\n",
       "  <tbody>\n",
       "    <tr>\n",
       "      <th>2017-01-02 00:00:00</th>\n",
       "      <td>28.5</td>\n",
       "      <td>85</td>\n",
       "      <td>24.5</td>\n",
       "      <td>1.44</td>\n",
       "      <td>1.26</td>\n",
       "      <td>146</td>\n",
       "      <td>162</td>\n",
       "      <td>1.4</td>\n",
       "      <td>0.1635</td>\n",
       "    </tr>\n",
       "    <tr>\n",
       "      <th>2017-01-02 01:00:00</th>\n",
       "      <td>28.4</td>\n",
       "      <td>86</td>\n",
       "      <td>24.7</td>\n",
       "      <td>2.06</td>\n",
       "      <td>3.99</td>\n",
       "      <td>151</td>\n",
       "      <td>158</td>\n",
       "      <td>4.4</td>\n",
       "      <td>0.1424</td>\n",
       "    </tr>\n",
       "    <tr>\n",
       "      <th>2017-01-02 02:00:00</th>\n",
       "      <td>26.8</td>\n",
       "      <td>91</td>\n",
       "      <td>24.5</td>\n",
       "      <td>1.30</td>\n",
       "      <td>2.78</td>\n",
       "      <td>148</td>\n",
       "      <td>150</td>\n",
       "      <td>3.2</td>\n",
       "      <td>0.1214</td>\n",
       "    </tr>\n",
       "    <tr>\n",
       "      <th>2017-01-02 03:00:00</th>\n",
       "      <td>27.4</td>\n",
       "      <td>88</td>\n",
       "      <td>24.3</td>\n",
       "      <td>1.30</td>\n",
       "      <td>2.69</td>\n",
       "      <td>58</td>\n",
       "      <td>105</td>\n",
       "      <td>1.6</td>\n",
       "      <td>0.1003</td>\n",
       "    </tr>\n",
       "    <tr>\n",
       "      <th>2017-01-02 04:00:00</th>\n",
       "      <td>27.3</td>\n",
       "      <td>88</td>\n",
       "      <td>24.1</td>\n",
       "      <td>2.47</td>\n",
       "      <td>4.43</td>\n",
       "      <td>58</td>\n",
       "      <td>84</td>\n",
       "      <td>4.0</td>\n",
       "      <td>0.0793</td>\n",
       "    </tr>\n",
       "  </tbody>\n",
       "</table>\n",
       "</div>"
      ],
      "text/plain": [
       "                     temperature_2m  relativehumidity_2m  dewpoint_2m  \\\n",
       "time                                                                    \n",
       "2017-01-02 00:00:00            28.5                   85         24.5   \n",
       "2017-01-02 01:00:00            28.4                   86         24.7   \n",
       "2017-01-02 02:00:00            26.8                   91         24.5   \n",
       "2017-01-02 03:00:00            27.4                   88         24.3   \n",
       "2017-01-02 04:00:00            27.3                   88         24.1   \n",
       "\n",
       "                     windspeed_10m  windspeed_100m  winddirection_10m  \\\n",
       "time                                                                    \n",
       "2017-01-02 00:00:00           1.44            1.26                146   \n",
       "2017-01-02 01:00:00           2.06            3.99                151   \n",
       "2017-01-02 02:00:00           1.30            2.78                148   \n",
       "2017-01-02 03:00:00           1.30            2.69                 58   \n",
       "2017-01-02 04:00:00           2.47            4.43                 58   \n",
       "\n",
       "                     winddirection_100m  windgusts_10m   Power  \n",
       "time                                                            \n",
       "2017-01-02 00:00:00                 162            1.4  0.1635  \n",
       "2017-01-02 01:00:00                 158            4.4  0.1424  \n",
       "2017-01-02 02:00:00                 150            3.2  0.1214  \n",
       "2017-01-02 03:00:00                 105            1.6  0.1003  \n",
       "2017-01-02 04:00:00                  84            4.0  0.0793  "
      ]
     },
     "execution_count": 3,
     "metadata": {},
     "output_type": "execute_result"
    }
   ],
   "source": [
    "df['time'] = pd.to_datetime(df['Time'], format='%Y-%m-%d %H:%M:00')\n",
    "df.drop(columns=['Time'], inplace=True)\n",
    "df.set_index('time', inplace=True)\n",
    "df.head()"
   ]
  },
  {
   "cell_type": "code",
   "execution_count": 4,
   "id": "172ee74a",
   "metadata": {},
   "outputs": [
    {
     "name": "stdout",
     "output_type": "stream",
     "text": [
      "<class 'pandas.core.frame.DataFrame'>\n",
      "DatetimeIndex: 43800 entries, 2017-01-02 00:00:00 to 2021-12-31 23:00:00\n",
      "Data columns (total 9 columns):\n",
      " #   Column               Non-Null Count  Dtype  \n",
      "---  ------               --------------  -----  \n",
      " 0   temperature_2m       43800 non-null  float64\n",
      " 1   relativehumidity_2m  43800 non-null  int64  \n",
      " 2   dewpoint_2m          43800 non-null  float64\n",
      " 3   windspeed_10m        43800 non-null  float64\n",
      " 4   windspeed_100m       43800 non-null  float64\n",
      " 5   winddirection_10m    43800 non-null  int64  \n",
      " 6   winddirection_100m   43800 non-null  int64  \n",
      " 7   windgusts_10m        43800 non-null  float64\n",
      " 8   Power                43800 non-null  float64\n",
      "dtypes: float64(6), int64(3)\n",
      "memory usage: 3.3 MB\n"
     ]
    }
   ],
   "source": [
    "df.info()"
   ]
  },
  {
   "cell_type": "markdown",
   "id": "b8df4548",
   "metadata": {},
   "source": [
    "### Select a subset of the data\n"
   ]
  },
  {
   "cell_type": "code",
   "execution_count": 5,
   "id": "00e2c8fd",
   "metadata": {},
   "outputs": [],
   "source": [
    "df = df.head(7248)"
   ]
  },
  {
   "cell_type": "markdown",
   "id": "e7e67cf6",
   "metadata": {},
   "source": [
    "### Rename the columns"
   ]
  },
  {
   "cell_type": "code",
   "execution_count": 6,
   "id": "25d37528",
   "metadata": {},
   "outputs": [
    {
     "data": {
      "text/plain": [
       "['temperature_2m',\n",
       " 'relativehumidity_2m',\n",
       " 'dewpoint_2m',\n",
       " 'windspeed_10m',\n",
       " 'windspeed_100m',\n",
       " 'winddirection_10m',\n",
       " 'winddirection_100m',\n",
       " 'windgusts_10m',\n",
       " 'Power']"
      ]
     },
     "execution_count": 6,
     "metadata": {},
     "output_type": "execute_result"
    }
   ],
   "source": [
    "initial_columns = df.columns.tolist()\n",
    "initial_columns"
   ]
  },
  {
   "cell_type": "code",
   "execution_count": 7,
   "id": "49e4e1dd",
   "metadata": {},
   "outputs": [
    {
     "data": {
      "text/html": [
       "<div>\n",
       "<style scoped>\n",
       "    .dataframe tbody tr th:only-of-type {\n",
       "        vertical-align: middle;\n",
       "    }\n",
       "\n",
       "    .dataframe tbody tr th {\n",
       "        vertical-align: top;\n",
       "    }\n",
       "\n",
       "    .dataframe thead th {\n",
       "        text-align: right;\n",
       "    }\n",
       "</style>\n",
       "<table border=\"1\" class=\"dataframe\">\n",
       "  <thead>\n",
       "    <tr style=\"text-align: right;\">\n",
       "      <th></th>\n",
       "      <th>Active_Power</th>\n",
       "      <th>Wind_speed_tower</th>\n",
       "    </tr>\n",
       "    <tr>\n",
       "      <th>time</th>\n",
       "      <th></th>\n",
       "      <th></th>\n",
       "    </tr>\n",
       "  </thead>\n",
       "  <tbody>\n",
       "    <tr>\n",
       "      <th>2017-01-02 00:00:00</th>\n",
       "      <td>0.1635</td>\n",
       "      <td>1.44</td>\n",
       "    </tr>\n",
       "    <tr>\n",
       "      <th>2017-01-02 01:00:00</th>\n",
       "      <td>0.1424</td>\n",
       "      <td>2.06</td>\n",
       "    </tr>\n",
       "    <tr>\n",
       "      <th>2017-01-02 02:00:00</th>\n",
       "      <td>0.1214</td>\n",
       "      <td>1.30</td>\n",
       "    </tr>\n",
       "    <tr>\n",
       "      <th>2017-01-02 03:00:00</th>\n",
       "      <td>0.1003</td>\n",
       "      <td>1.30</td>\n",
       "    </tr>\n",
       "    <tr>\n",
       "      <th>2017-01-02 04:00:00</th>\n",
       "      <td>0.0793</td>\n",
       "      <td>2.47</td>\n",
       "    </tr>\n",
       "    <tr>\n",
       "      <th>...</th>\n",
       "      <td>...</td>\n",
       "      <td>...</td>\n",
       "    </tr>\n",
       "    <tr>\n",
       "      <th>2017-10-30 19:00:00</th>\n",
       "      <td>0.6847</td>\n",
       "      <td>5.89</td>\n",
       "    </tr>\n",
       "    <tr>\n",
       "      <th>2017-10-30 20:00:00</th>\n",
       "      <td>0.6841</td>\n",
       "      <td>6.32</td>\n",
       "    </tr>\n",
       "    <tr>\n",
       "      <th>2017-10-30 21:00:00</th>\n",
       "      <td>0.6834</td>\n",
       "      <td>6.52</td>\n",
       "    </tr>\n",
       "    <tr>\n",
       "      <th>2017-10-30 22:00:00</th>\n",
       "      <td>0.6828</td>\n",
       "      <td>6.33</td>\n",
       "    </tr>\n",
       "    <tr>\n",
       "      <th>2017-10-30 23:00:00</th>\n",
       "      <td>0.6822</td>\n",
       "      <td>6.15</td>\n",
       "    </tr>\n",
       "  </tbody>\n",
       "</table>\n",
       "<p>7248 rows × 2 columns</p>\n",
       "</div>"
      ],
      "text/plain": [
       "                     Active_Power  Wind_speed_tower\n",
       "time                                               \n",
       "2017-01-02 00:00:00        0.1635              1.44\n",
       "2017-01-02 01:00:00        0.1424              2.06\n",
       "2017-01-02 02:00:00        0.1214              1.30\n",
       "2017-01-02 03:00:00        0.1003              1.30\n",
       "2017-01-02 04:00:00        0.0793              2.47\n",
       "...                           ...               ...\n",
       "2017-10-30 19:00:00        0.6847              5.89\n",
       "2017-10-30 20:00:00        0.6841              6.32\n",
       "2017-10-30 21:00:00        0.6834              6.52\n",
       "2017-10-30 22:00:00        0.6828              6.33\n",
       "2017-10-30 23:00:00        0.6822              6.15\n",
       "\n",
       "[7248 rows x 2 columns]"
      ]
     },
     "execution_count": 7,
     "metadata": {},
     "output_type": "execute_result"
    }
   ],
   "source": [
    "df.rename(columns={'Power' : 'Active_Power', 'windspeed_10m' : 'Wind_speed_tower'}, inplace=True)\n",
    "df = df[['Active_Power', 'Wind_speed_tower']]\n",
    "df"
   ]
  },
  {
   "cell_type": "markdown",
   "id": "6d7517f6",
   "metadata": {},
   "source": [
    "### Check for missing values and duplicated dates"
   ]
  },
  {
   "cell_type": "markdown",
   "id": "922d877c",
   "metadata": {},
   "source": [
    "There are no missing data in this dataset"
   ]
  },
  {
   "cell_type": "code",
   "execution_count": 8,
   "id": "0058edfa",
   "metadata": {},
   "outputs": [
    {
     "name": "stdout",
     "output_type": "stream",
     "text": [
      "Active_Power        0\n",
      "Wind_speed_tower    0\n",
      "dtype: int64\n"
     ]
    }
   ],
   "source": [
    "print(df.isna().sum())"
   ]
  },
  {
   "cell_type": "code",
   "execution_count": 9,
   "id": "cb180e0f",
   "metadata": {},
   "outputs": [
    {
     "name": "stdout",
     "output_type": "stream",
     "text": [
      "Number of duplicate timestamps: 0\n",
      "DatetimeIndex([], dtype='datetime64[ns]', name='time', freq=None)\n"
     ]
    }
   ],
   "source": [
    "duplicate_dates = df.index[df.index.duplicated(keep='first')]\n",
    "print(f\"Number of duplicate timestamps: {len(duplicate_dates)}\")\n",
    "print(duplicate_dates)"
   ]
  },
  {
   "cell_type": "code",
   "execution_count": 10,
   "id": "2bcaa380",
   "metadata": {},
   "outputs": [
    {
     "name": "stdout",
     "output_type": "stream",
     "text": [
      "Missing timestamps: DatetimeIndex([], dtype='datetime64[ns]', freq='h')\n"
     ]
    }
   ],
   "source": [
    "expected = pd.date_range(start=df.index.min(), end=df.index.max(), freq='h')\n",
    "missing = expected.difference(df.index)\n",
    "print(\"Missing timestamps:\", missing)\n",
    "\n"
   ]
  },
  {
   "cell_type": "code",
   "execution_count": 11,
   "id": "433db983",
   "metadata": {},
   "outputs": [
    {
     "data": {
      "text/plain": [
       "Series([], Name: count, dtype: int64)"
      ]
     },
     "execution_count": 11,
     "metadata": {},
     "output_type": "execute_result"
    }
   ],
   "source": [
    "missing_df = pd.DataFrame({'missing':missing})\n",
    "missing_df['date'] = missing_df['missing'].dt.date\n",
    "missing_df.value_counts('date').sort_index()"
   ]
  },
  {
   "cell_type": "markdown",
   "id": "83c75014",
   "metadata": {},
   "source": [
    "### Target and exogenous variables"
   ]
  },
  {
   "cell_type": "code",
   "execution_count": 12,
   "id": "854bf8e6",
   "metadata": {},
   "outputs": [
    {
     "data": {
      "text/plain": [
       "['Wind_speed_tower']"
      ]
     },
     "execution_count": 12,
     "metadata": {},
     "output_type": "execute_result"
    }
   ],
   "source": [
    "target = 'Active_Power'\n",
    "\n",
    "features = [col for col in df.columns if col != target]\n",
    "features = features[:1]\n",
    "features\n"
   ]
  },
  {
   "cell_type": "code",
   "execution_count": 13,
   "id": "31d32d5b",
   "metadata": {},
   "outputs": [
    {
     "data": {
      "text/html": [
       "<div>\n",
       "<style scoped>\n",
       "    .dataframe tbody tr th:only-of-type {\n",
       "        vertical-align: middle;\n",
       "    }\n",
       "\n",
       "    .dataframe tbody tr th {\n",
       "        vertical-align: top;\n",
       "    }\n",
       "\n",
       "    .dataframe thead th {\n",
       "        text-align: right;\n",
       "    }\n",
       "</style>\n",
       "<table border=\"1\" class=\"dataframe\">\n",
       "  <thead>\n",
       "    <tr style=\"text-align: right;\">\n",
       "      <th></th>\n",
       "      <th>Wind_speed_tower</th>\n",
       "      <th>Active_Power</th>\n",
       "    </tr>\n",
       "    <tr>\n",
       "      <th>time</th>\n",
       "      <th></th>\n",
       "      <th></th>\n",
       "    </tr>\n",
       "  </thead>\n",
       "  <tbody>\n",
       "    <tr>\n",
       "      <th>2017-01-02 00:00:00</th>\n",
       "      <td>1.44</td>\n",
       "      <td>0.1635</td>\n",
       "    </tr>\n",
       "    <tr>\n",
       "      <th>2017-01-02 01:00:00</th>\n",
       "      <td>2.06</td>\n",
       "      <td>0.1424</td>\n",
       "    </tr>\n",
       "    <tr>\n",
       "      <th>2017-01-02 02:00:00</th>\n",
       "      <td>1.30</td>\n",
       "      <td>0.1214</td>\n",
       "    </tr>\n",
       "    <tr>\n",
       "      <th>2017-01-02 03:00:00</th>\n",
       "      <td>1.30</td>\n",
       "      <td>0.1003</td>\n",
       "    </tr>\n",
       "    <tr>\n",
       "      <th>2017-01-02 04:00:00</th>\n",
       "      <td>2.47</td>\n",
       "      <td>0.0793</td>\n",
       "    </tr>\n",
       "    <tr>\n",
       "      <th>...</th>\n",
       "      <td>...</td>\n",
       "      <td>...</td>\n",
       "    </tr>\n",
       "    <tr>\n",
       "      <th>2017-10-30 19:00:00</th>\n",
       "      <td>5.89</td>\n",
       "      <td>0.6847</td>\n",
       "    </tr>\n",
       "    <tr>\n",
       "      <th>2017-10-30 20:00:00</th>\n",
       "      <td>6.32</td>\n",
       "      <td>0.6841</td>\n",
       "    </tr>\n",
       "    <tr>\n",
       "      <th>2017-10-30 21:00:00</th>\n",
       "      <td>6.52</td>\n",
       "      <td>0.6834</td>\n",
       "    </tr>\n",
       "    <tr>\n",
       "      <th>2017-10-30 22:00:00</th>\n",
       "      <td>6.33</td>\n",
       "      <td>0.6828</td>\n",
       "    </tr>\n",
       "    <tr>\n",
       "      <th>2017-10-30 23:00:00</th>\n",
       "      <td>6.15</td>\n",
       "      <td>0.6822</td>\n",
       "    </tr>\n",
       "  </tbody>\n",
       "</table>\n",
       "<p>7248 rows × 2 columns</p>\n",
       "</div>"
      ],
      "text/plain": [
       "                     Wind_speed_tower  Active_Power\n",
       "time                                               \n",
       "2017-01-02 00:00:00              1.44        0.1635\n",
       "2017-01-02 01:00:00              2.06        0.1424\n",
       "2017-01-02 02:00:00              1.30        0.1214\n",
       "2017-01-02 03:00:00              1.30        0.1003\n",
       "2017-01-02 04:00:00              2.47        0.0793\n",
       "...                               ...           ...\n",
       "2017-10-30 19:00:00              5.89        0.6847\n",
       "2017-10-30 20:00:00              6.32        0.6841\n",
       "2017-10-30 21:00:00              6.52        0.6834\n",
       "2017-10-30 22:00:00              6.33        0.6828\n",
       "2017-10-30 23:00:00              6.15        0.6822\n",
       "\n",
       "[7248 rows x 2 columns]"
      ]
     },
     "execution_count": 13,
     "metadata": {},
     "output_type": "execute_result"
    }
   ],
   "source": [
    "df = df[features + [target]]\n",
    "df"
   ]
  },
  {
   "cell_type": "markdown",
   "id": "fd36732f",
   "metadata": {},
   "source": [
    "## Train / Validation / Test split"
   ]
  },
  {
   "cell_type": "markdown",
   "id": "9c03a50e",
   "metadata": {},
   "source": [
    "We select the following lengths for the train, validation, and test sets:"
   ]
  },
  {
   "cell_type": "code",
   "execution_count": 14,
   "id": "5da7dc72",
   "metadata": {},
   "outputs": [
    {
     "data": {
      "text/plain": [
       "5799"
      ]
     },
     "execution_count": 14,
     "metadata": {},
     "output_type": "execute_result"
    }
   ],
   "source": [
    "int(np.ceil(df.shape[0] * 0.8))"
   ]
  },
  {
   "cell_type": "code",
   "execution_count": 15,
   "id": "bd8523ef",
   "metadata": {},
   "outputs": [
    {
     "name": "stdout",
     "output_type": "stream",
     "text": [
      "Train length: 5800\n",
      "Validation length: 724\n",
      "Test length: 724\n"
     ]
    }
   ],
   "source": [
    "train_len = 5800 # approx int(np.ceil(df.shape[0] * 0.8))\n",
    "print(f\"Train length: {train_len}\")\n",
    "\n",
    "val_len = (df.shape[0] - train_len) // 2\n",
    "print(f\"Validation length: {val_len}\")\n",
    "\n",
    "test_len = df.shape[0] - train_len - val_len\n",
    "print(f\"Test length: {test_len}\")"
   ]
  },
  {
   "cell_type": "markdown",
   "id": "42d98e61",
   "metadata": {},
   "source": [
    "And we split the time series into train, validation, and test sets:"
   ]
  },
  {
   "cell_type": "code",
   "execution_count": 16,
   "id": "40cdcbac",
   "metadata": {},
   "outputs": [
    {
     "data": {
      "text/html": [
       "<div>\n",
       "<style scoped>\n",
       "    .dataframe tbody tr th:only-of-type {\n",
       "        vertical-align: middle;\n",
       "    }\n",
       "\n",
       "    .dataframe tbody tr th {\n",
       "        vertical-align: top;\n",
       "    }\n",
       "\n",
       "    .dataframe thead th {\n",
       "        text-align: right;\n",
       "    }\n",
       "</style>\n",
       "<table border=\"1\" class=\"dataframe\">\n",
       "  <thead>\n",
       "    <tr style=\"text-align: right;\">\n",
       "      <th></th>\n",
       "      <th>Wind_speed_tower</th>\n",
       "      <th>Active_Power</th>\n",
       "    </tr>\n",
       "    <tr>\n",
       "      <th>time</th>\n",
       "      <th></th>\n",
       "      <th></th>\n",
       "    </tr>\n",
       "  </thead>\n",
       "  <tbody>\n",
       "    <tr>\n",
       "      <th>2017-01-02 00:00:00</th>\n",
       "      <td>1.44</td>\n",
       "      <td>0.1635</td>\n",
       "    </tr>\n",
       "    <tr>\n",
       "      <th>2017-01-02 01:00:00</th>\n",
       "      <td>2.06</td>\n",
       "      <td>0.1424</td>\n",
       "    </tr>\n",
       "    <tr>\n",
       "      <th>2017-01-02 02:00:00</th>\n",
       "      <td>1.30</td>\n",
       "      <td>0.1214</td>\n",
       "    </tr>\n",
       "    <tr>\n",
       "      <th>2017-01-02 03:00:00</th>\n",
       "      <td>1.30</td>\n",
       "      <td>0.1003</td>\n",
       "    </tr>\n",
       "    <tr>\n",
       "      <th>2017-01-02 04:00:00</th>\n",
       "      <td>2.47</td>\n",
       "      <td>0.0793</td>\n",
       "    </tr>\n",
       "    <tr>\n",
       "      <th>...</th>\n",
       "      <td>...</td>\n",
       "      <td>...</td>\n",
       "    </tr>\n",
       "    <tr>\n",
       "      <th>2017-08-31 11:00:00</th>\n",
       "      <td>4.83</td>\n",
       "      <td>0.6155</td>\n",
       "    </tr>\n",
       "    <tr>\n",
       "      <th>2017-08-31 12:00:00</th>\n",
       "      <td>5.15</td>\n",
       "      <td>0.5935</td>\n",
       "    </tr>\n",
       "    <tr>\n",
       "      <th>2017-08-31 13:00:00</th>\n",
       "      <td>5.47</td>\n",
       "      <td>0.5536</td>\n",
       "    </tr>\n",
       "    <tr>\n",
       "      <th>2017-08-31 14:00:00</th>\n",
       "      <td>5.61</td>\n",
       "      <td>0.5137</td>\n",
       "    </tr>\n",
       "    <tr>\n",
       "      <th>2017-08-31 15:00:00</th>\n",
       "      <td>5.79</td>\n",
       "      <td>0.4738</td>\n",
       "    </tr>\n",
       "  </tbody>\n",
       "</table>\n",
       "<p>5800 rows × 2 columns</p>\n",
       "</div>"
      ],
      "text/plain": [
       "                     Wind_speed_tower  Active_Power\n",
       "time                                               \n",
       "2017-01-02 00:00:00              1.44        0.1635\n",
       "2017-01-02 01:00:00              2.06        0.1424\n",
       "2017-01-02 02:00:00              1.30        0.1214\n",
       "2017-01-02 03:00:00              1.30        0.1003\n",
       "2017-01-02 04:00:00              2.47        0.0793\n",
       "...                               ...           ...\n",
       "2017-08-31 11:00:00              4.83        0.6155\n",
       "2017-08-31 12:00:00              5.15        0.5935\n",
       "2017-08-31 13:00:00              5.47        0.5536\n",
       "2017-08-31 14:00:00              5.61        0.5137\n",
       "2017-08-31 15:00:00              5.79        0.4738\n",
       "\n",
       "[5800 rows x 2 columns]"
      ]
     },
     "execution_count": 16,
     "metadata": {},
     "output_type": "execute_result"
    }
   ],
   "source": [
    "train_df = df.iloc[:train_len]\n",
    "train_df"
   ]
  },
  {
   "cell_type": "code",
   "execution_count": 17,
   "id": "481e5df3",
   "metadata": {},
   "outputs": [
    {
     "data": {
      "text/html": [
       "<div>\n",
       "<style scoped>\n",
       "    .dataframe tbody tr th:only-of-type {\n",
       "        vertical-align: middle;\n",
       "    }\n",
       "\n",
       "    .dataframe tbody tr th {\n",
       "        vertical-align: top;\n",
       "    }\n",
       "\n",
       "    .dataframe thead th {\n",
       "        text-align: right;\n",
       "    }\n",
       "</style>\n",
       "<table border=\"1\" class=\"dataframe\">\n",
       "  <thead>\n",
       "    <tr style=\"text-align: right;\">\n",
       "      <th></th>\n",
       "      <th>Wind_speed_tower</th>\n",
       "      <th>Active_Power</th>\n",
       "    </tr>\n",
       "    <tr>\n",
       "      <th>time</th>\n",
       "      <th></th>\n",
       "      <th></th>\n",
       "    </tr>\n",
       "  </thead>\n",
       "  <tbody>\n",
       "    <tr>\n",
       "      <th>2017-08-31 16:00:00</th>\n",
       "      <td>5.87</td>\n",
       "      <td>0.4339</td>\n",
       "    </tr>\n",
       "    <tr>\n",
       "      <th>2017-08-31 17:00:00</th>\n",
       "      <td>5.19</td>\n",
       "      <td>0.3940</td>\n",
       "    </tr>\n",
       "    <tr>\n",
       "      <th>2017-08-31 18:00:00</th>\n",
       "      <td>4.26</td>\n",
       "      <td>0.3605</td>\n",
       "    </tr>\n",
       "    <tr>\n",
       "      <th>2017-08-31 19:00:00</th>\n",
       "      <td>2.21</td>\n",
       "      <td>0.3334</td>\n",
       "    </tr>\n",
       "    <tr>\n",
       "      <th>2017-08-31 20:00:00</th>\n",
       "      <td>2.55</td>\n",
       "      <td>0.3063</td>\n",
       "    </tr>\n",
       "    <tr>\n",
       "      <th>...</th>\n",
       "      <td>...</td>\n",
       "      <td>...</td>\n",
       "    </tr>\n",
       "    <tr>\n",
       "      <th>2017-09-30 15:00:00</th>\n",
       "      <td>2.12</td>\n",
       "      <td>0.0907</td>\n",
       "    </tr>\n",
       "    <tr>\n",
       "      <th>2017-09-30 16:00:00</th>\n",
       "      <td>2.42</td>\n",
       "      <td>0.0991</td>\n",
       "    </tr>\n",
       "    <tr>\n",
       "      <th>2017-09-30 17:00:00</th>\n",
       "      <td>2.10</td>\n",
       "      <td>0.1076</td>\n",
       "    </tr>\n",
       "    <tr>\n",
       "      <th>2017-09-30 18:00:00</th>\n",
       "      <td>2.20</td>\n",
       "      <td>0.1166</td>\n",
       "    </tr>\n",
       "    <tr>\n",
       "      <th>2017-09-30 19:00:00</th>\n",
       "      <td>1.97</td>\n",
       "      <td>0.1262</td>\n",
       "    </tr>\n",
       "  </tbody>\n",
       "</table>\n",
       "<p>724 rows × 2 columns</p>\n",
       "</div>"
      ],
      "text/plain": [
       "                     Wind_speed_tower  Active_Power\n",
       "time                                               \n",
       "2017-08-31 16:00:00              5.87        0.4339\n",
       "2017-08-31 17:00:00              5.19        0.3940\n",
       "2017-08-31 18:00:00              4.26        0.3605\n",
       "2017-08-31 19:00:00              2.21        0.3334\n",
       "2017-08-31 20:00:00              2.55        0.3063\n",
       "...                               ...           ...\n",
       "2017-09-30 15:00:00              2.12        0.0907\n",
       "2017-09-30 16:00:00              2.42        0.0991\n",
       "2017-09-30 17:00:00              2.10        0.1076\n",
       "2017-09-30 18:00:00              2.20        0.1166\n",
       "2017-09-30 19:00:00              1.97        0.1262\n",
       "\n",
       "[724 rows x 2 columns]"
      ]
     },
     "execution_count": 17,
     "metadata": {},
     "output_type": "execute_result"
    }
   ],
   "source": [
    "val_df = df.iloc[train_len:(train_len + val_len)]\n",
    "val_df"
   ]
  },
  {
   "cell_type": "code",
   "execution_count": 18,
   "id": "e80466c4",
   "metadata": {},
   "outputs": [
    {
     "data": {
      "text/html": [
       "<div>\n",
       "<style scoped>\n",
       "    .dataframe tbody tr th:only-of-type {\n",
       "        vertical-align: middle;\n",
       "    }\n",
       "\n",
       "    .dataframe tbody tr th {\n",
       "        vertical-align: top;\n",
       "    }\n",
       "\n",
       "    .dataframe thead th {\n",
       "        text-align: right;\n",
       "    }\n",
       "</style>\n",
       "<table border=\"1\" class=\"dataframe\">\n",
       "  <thead>\n",
       "    <tr style=\"text-align: right;\">\n",
       "      <th></th>\n",
       "      <th>Wind_speed_tower</th>\n",
       "      <th>Active_Power</th>\n",
       "    </tr>\n",
       "    <tr>\n",
       "      <th>time</th>\n",
       "      <th></th>\n",
       "      <th></th>\n",
       "    </tr>\n",
       "  </thead>\n",
       "  <tbody>\n",
       "    <tr>\n",
       "      <th>2017-09-30 20:00:00</th>\n",
       "      <td>1.80</td>\n",
       "      <td>0.1357</td>\n",
       "    </tr>\n",
       "    <tr>\n",
       "      <th>2017-09-30 21:00:00</th>\n",
       "      <td>1.71</td>\n",
       "      <td>0.1453</td>\n",
       "    </tr>\n",
       "    <tr>\n",
       "      <th>2017-09-30 22:00:00</th>\n",
       "      <td>1.44</td>\n",
       "      <td>0.1548</td>\n",
       "    </tr>\n",
       "    <tr>\n",
       "      <th>2017-09-30 23:00:00</th>\n",
       "      <td>1.40</td>\n",
       "      <td>0.1644</td>\n",
       "    </tr>\n",
       "    <tr>\n",
       "      <th>2017-10-01 00:00:00</th>\n",
       "      <td>2.20</td>\n",
       "      <td>0.1739</td>\n",
       "    </tr>\n",
       "    <tr>\n",
       "      <th>...</th>\n",
       "      <td>...</td>\n",
       "      <td>...</td>\n",
       "    </tr>\n",
       "    <tr>\n",
       "      <th>2017-10-30 19:00:00</th>\n",
       "      <td>5.89</td>\n",
       "      <td>0.6847</td>\n",
       "    </tr>\n",
       "    <tr>\n",
       "      <th>2017-10-30 20:00:00</th>\n",
       "      <td>6.32</td>\n",
       "      <td>0.6841</td>\n",
       "    </tr>\n",
       "    <tr>\n",
       "      <th>2017-10-30 21:00:00</th>\n",
       "      <td>6.52</td>\n",
       "      <td>0.6834</td>\n",
       "    </tr>\n",
       "    <tr>\n",
       "      <th>2017-10-30 22:00:00</th>\n",
       "      <td>6.33</td>\n",
       "      <td>0.6828</td>\n",
       "    </tr>\n",
       "    <tr>\n",
       "      <th>2017-10-30 23:00:00</th>\n",
       "      <td>6.15</td>\n",
       "      <td>0.6822</td>\n",
       "    </tr>\n",
       "  </tbody>\n",
       "</table>\n",
       "<p>724 rows × 2 columns</p>\n",
       "</div>"
      ],
      "text/plain": [
       "                     Wind_speed_tower  Active_Power\n",
       "time                                               \n",
       "2017-09-30 20:00:00              1.80        0.1357\n",
       "2017-09-30 21:00:00              1.71        0.1453\n",
       "2017-09-30 22:00:00              1.44        0.1548\n",
       "2017-09-30 23:00:00              1.40        0.1644\n",
       "2017-10-01 00:00:00              2.20        0.1739\n",
       "...                               ...           ...\n",
       "2017-10-30 19:00:00              5.89        0.6847\n",
       "2017-10-30 20:00:00              6.32        0.6841\n",
       "2017-10-30 21:00:00              6.52        0.6834\n",
       "2017-10-30 22:00:00              6.33        0.6828\n",
       "2017-10-30 23:00:00              6.15        0.6822\n",
       "\n",
       "[724 rows x 2 columns]"
      ]
     },
     "execution_count": 18,
     "metadata": {},
     "output_type": "execute_result"
    }
   ],
   "source": [
    "test_df = df.iloc[(train_len + val_len):]\n",
    "test_df"
   ]
  },
  {
   "cell_type": "markdown",
   "id": "35bf9510",
   "metadata": {},
   "source": [
    "## Time series split visualization"
   ]
  },
  {
   "cell_type": "code",
   "execution_count": 19,
   "id": "87609754",
   "metadata": {},
   "outputs": [
    {
     "data": {
      "text/plain": [
       "<matplotlib.legend.Legend at 0x73baf6c55a20>"
      ]
     },
     "execution_count": 19,
     "metadata": {},
     "output_type": "execute_result"
    },
    {
     "data": {
      "image/png": "[encoded data removed]",
      "text/plain": [
       "<Figure size 1600x600 with 1 Axes>"
      ]
     },
     "metadata": {},
     "output_type": "display_data"
    }
   ],
   "source": [
    "plt.figure(figsize=(16, 6))\n",
    "plt.plot(train_df[\"Active_Power\"], label=\"Training Data\", color='blue')\n",
    "plt.plot(val_df[\"Active_Power\"], label=\"Validation Data\", color='green')\n",
    "plt.plot(test_df[\"Active_Power\"], label=\"Test Data\", color='red')\n",
    "plt.title(\"Active Power Time Series\")\n",
    "plt.xlabel(\"Time\")\n",
    "plt.ylabel(\"Active Power\")\n",
    "plt.legend(fontsize='small')"
   ]
  },
  {
   "cell_type": "code",
   "execution_count": 20,
   "id": "9841236c",
   "metadata": {},
   "outputs": [
    {
     "data": {
      "text/plain": [
       "<matplotlib.legend.Legend at 0x73baf631bfa0>"
      ]
     },
     "execution_count": 20,
     "metadata": {},
     "output_type": "execute_result"
    },
    {
     "data": {
      "image/png": "[encoded data removed]",
      "text/plain": [
       "<Figure size 1600x600 with 1 Axes>"
      ]
     },
     "metadata": {},
     "output_type": "display_data"
    }
   ],
   "source": [
    "plt.figure(figsize=(16, 6))\n",
    "plt.plot(train_df[\"Active_Power\"].head(960), label=\"Training Data\", color='blue')\n",
    "# plt.plot(val_df[\"Active_Power\"].head(240), label=\"Validation Data\", color='green')\n",
    "# plt.plot(test_df[\"Active_Power\"], label=\"Test Data\", color='red')\n",
    "plt.title(\"Active Power Time Series\")\n",
    "plt.xlabel(\"Time\")\n",
    "plt.ylabel(\"Active Power\")\n",
    "plt.legend(fontsize='small')"
   ]
  },
  {
   "cell_type": "markdown",
   "id": "10d90a83",
   "metadata": {},
   "source": [
    "We will also create copies of the train, validation, and test sets to use them later in the notebook."
   ]
  },
  {
   "cell_type": "code",
   "execution_count": 21,
   "id": "fca528fd",
   "metadata": {},
   "outputs": [],
   "source": [
    "train_df_original = train_df.copy()\n",
    "val_df_original = val_df.copy()\n",
    "test_df_original = test_df.copy()"
   ]
  },
  {
   "cell_type": "markdown",
   "id": "480b95ff",
   "metadata": {},
   "source": [
    "## Data scaling\n",
    "\n",
    "We apply the min-max scaler fitted to the training set to the train, validation, and test sets (to avoid data leakage). "
   ]
  },
  {
   "cell_type": "code",
   "execution_count": 22,
   "id": "3eb4b51d",
   "metadata": {},
   "outputs": [],
   "source": [
    "from sklearn.preprocessing import MinMaxScaler\n",
    "\n",
    "scaler = MinMaxScaler()\n",
    "scaler.set_output(transform='pandas')\n",
    "\n",
    "scaler.fit(train_df)\n",
    "train_df = scaler.transform(train_df)\n",
    "\n",
    "val_df = scaler.transform(val_df)\n",
    "test_df = scaler.transform(test_df)"
   ]
  },
  {
   "cell_type": "markdown",
   "id": "d8af1a30",
   "metadata": {},
   "source": [
    "Let us check the result"
   ]
  },
  {
   "cell_type": "code",
   "execution_count": 23,
   "id": "f5df01a4",
   "metadata": {},
   "outputs": [
    {
     "data": {
      "text/html": [
       "<div>\n",
       "<style scoped>\n",
       "    .dataframe tbody tr th:only-of-type {\n",
       "        vertical-align: middle;\n",
       "    }\n",
       "\n",
       "    .dataframe tbody tr th {\n",
       "        vertical-align: top;\n",
       "    }\n",
       "\n",
       "    .dataframe thead th {\n",
       "        text-align: right;\n",
       "    }\n",
       "</style>\n",
       "<table border=\"1\" class=\"dataframe\">\n",
       "  <thead>\n",
       "    <tr style=\"text-align: right;\">\n",
       "      <th></th>\n",
       "      <th>count</th>\n",
       "      <th>mean</th>\n",
       "      <th>std</th>\n",
       "      <th>min</th>\n",
       "      <th>25%</th>\n",
       "      <th>50%</th>\n",
       "      <th>75%</th>\n",
       "      <th>max</th>\n",
       "    </tr>\n",
       "  </thead>\n",
       "  <tbody>\n",
       "    <tr>\n",
       "      <th>Wind_speed_tower</th>\n",
       "      <td>5800.0</td>\n",
       "      <td>0.275745</td>\n",
       "      <td>0.127310</td>\n",
       "      <td>0.0</td>\n",
       "      <td>0.184488</td>\n",
       "      <td>0.249247</td>\n",
       "      <td>0.348645</td>\n",
       "      <td>1.0</td>\n",
       "    </tr>\n",
       "    <tr>\n",
       "      <th>Active_Power</th>\n",
       "      <td>5800.0</td>\n",
       "      <td>0.407862</td>\n",
       "      <td>0.287194</td>\n",
       "      <td>0.0</td>\n",
       "      <td>0.149394</td>\n",
       "      <td>0.349394</td>\n",
       "      <td>0.669188</td>\n",
       "      <td>1.0</td>\n",
       "    </tr>\n",
       "  </tbody>\n",
       "</table>\n",
       "</div>"
      ],
      "text/plain": [
       "                   count      mean       std  min       25%       50%  \\\n",
       "Wind_speed_tower  5800.0  0.275745  0.127310  0.0  0.184488  0.249247   \n",
       "Active_Power      5800.0  0.407862  0.287194  0.0  0.149394  0.349394   \n",
       "\n",
       "                       75%  max  \n",
       "Wind_speed_tower  0.348645  1.0  \n",
       "Active_Power      0.669188  1.0  "
      ]
     },
     "execution_count": 23,
     "metadata": {},
     "output_type": "execute_result"
    }
   ],
   "source": [
    "train_df.describe().transpose()"
   ]
  },
  {
   "cell_type": "markdown",
   "id": "4eb40795",
   "metadata": {},
   "source": [
    "### Nixtla Dataset Format\n",
    "\n",
    "Convert to NeuralForecast format (ds, y, unique_id)"
   ]
  },
  {
   "cell_type": "code",
   "execution_count": 24,
   "id": "cc0d1fa2",
   "metadata": {},
   "outputs": [],
   "source": [
    "\n",
    "\n",
    "train_df_nf = train_df.copy()\n",
    "train_df_nf = train_df_nf.rename(columns={target: 'y'})\n",
    "train_df_nf['ds'] = train_df_nf.index\n",
    "\n",
    "train_df_nf['unique_id'] = 'series_1'\n"
   ]
  },
  {
   "cell_type": "markdown",
   "id": "6a47f321",
   "metadata": {},
   "source": [
    "Move ds and unique_id to front"
   ]
  },
  {
   "cell_type": "code",
   "execution_count": 25,
   "id": "919a225a",
   "metadata": {},
   "outputs": [
    {
     "data": {
      "text/html": [
       "<div>\n",
       "<style scoped>\n",
       "    .dataframe tbody tr th:only-of-type {\n",
       "        vertical-align: middle;\n",
       "    }\n",
       "\n",
       "    .dataframe tbody tr th {\n",
       "        vertical-align: top;\n",
       "    }\n",
       "\n",
       "    .dataframe thead th {\n",
       "        text-align: right;\n",
       "    }\n",
       "</style>\n",
       "<table border=\"1\" class=\"dataframe\">\n",
       "  <thead>\n",
       "    <tr style=\"text-align: right;\">\n",
       "      <th></th>\n",
       "      <th>unique_id</th>\n",
       "      <th>ds</th>\n",
       "      <th>y</th>\n",
       "      <th>Wind_speed_tower</th>\n",
       "    </tr>\n",
       "    <tr>\n",
       "      <th>time</th>\n",
       "      <th></th>\n",
       "      <th></th>\n",
       "      <th></th>\n",
       "      <th></th>\n",
       "    </tr>\n",
       "  </thead>\n",
       "  <tbody>\n",
       "    <tr>\n",
       "      <th>2017-01-02 00:00:00</th>\n",
       "      <td>series_1</td>\n",
       "      <td>2017-01-02 00:00:00</td>\n",
       "      <td>0.172377</td>\n",
       "      <td>0.108434</td>\n",
       "    </tr>\n",
       "    <tr>\n",
       "      <th>2017-01-02 01:00:00</th>\n",
       "      <td>series_1</td>\n",
       "      <td>2017-01-02 01:00:00</td>\n",
       "      <td>0.150132</td>\n",
       "      <td>0.155120</td>\n",
       "    </tr>\n",
       "    <tr>\n",
       "      <th>2017-01-02 02:00:00</th>\n",
       "      <td>series_1</td>\n",
       "      <td>2017-01-02 02:00:00</td>\n",
       "      <td>0.127992</td>\n",
       "      <td>0.097892</td>\n",
       "    </tr>\n",
       "    <tr>\n",
       "      <th>2017-01-02 03:00:00</th>\n",
       "      <td>series_1</td>\n",
       "      <td>2017-01-02 03:00:00</td>\n",
       "      <td>0.105746</td>\n",
       "      <td>0.097892</td>\n",
       "    </tr>\n",
       "    <tr>\n",
       "      <th>2017-01-02 04:00:00</th>\n",
       "      <td>series_1</td>\n",
       "      <td>2017-01-02 04:00:00</td>\n",
       "      <td>0.083606</td>\n",
       "      <td>0.185994</td>\n",
       "    </tr>\n",
       "    <tr>\n",
       "      <th>...</th>\n",
       "      <td>...</td>\n",
       "      <td>...</td>\n",
       "      <td>...</td>\n",
       "      <td>...</td>\n",
       "    </tr>\n",
       "    <tr>\n",
       "      <th>2017-08-31 11:00:00</th>\n",
       "      <td>series_1</td>\n",
       "      <td>2017-08-31 11:00:00</td>\n",
       "      <td>0.648919</td>\n",
       "      <td>0.363705</td>\n",
       "    </tr>\n",
       "    <tr>\n",
       "      <th>2017-08-31 12:00:00</th>\n",
       "      <td>series_1</td>\n",
       "      <td>2017-08-31 12:00:00</td>\n",
       "      <td>0.625725</td>\n",
       "      <td>0.387801</td>\n",
       "    </tr>\n",
       "    <tr>\n",
       "      <th>2017-08-31 13:00:00</th>\n",
       "      <td>series_1</td>\n",
       "      <td>2017-08-31 13:00:00</td>\n",
       "      <td>0.583658</td>\n",
       "      <td>0.411898</td>\n",
       "    </tr>\n",
       "    <tr>\n",
       "      <th>2017-08-31 14:00:00</th>\n",
       "      <td>series_1</td>\n",
       "      <td>2017-08-31 14:00:00</td>\n",
       "      <td>0.541592</td>\n",
       "      <td>0.422440</td>\n",
       "    </tr>\n",
       "    <tr>\n",
       "      <th>2017-08-31 15:00:00</th>\n",
       "      <td>series_1</td>\n",
       "      <td>2017-08-31 15:00:00</td>\n",
       "      <td>0.499526</td>\n",
       "      <td>0.435994</td>\n",
       "    </tr>\n",
       "  </tbody>\n",
       "</table>\n",
       "<p>5800 rows × 4 columns</p>\n",
       "</div>"
      ],
      "text/plain": [
       "                    unique_id                  ds         y  Wind_speed_tower\n",
       "time                                                                         \n",
       "2017-01-02 00:00:00  series_1 2017-01-02 00:00:00  0.172377          0.108434\n",
       "2017-01-02 01:00:00  series_1 2017-01-02 01:00:00  0.150132          0.155120\n",
       "2017-01-02 02:00:00  series_1 2017-01-02 02:00:00  0.127992          0.097892\n",
       "2017-01-02 03:00:00  series_1 2017-01-02 03:00:00  0.105746          0.097892\n",
       "2017-01-02 04:00:00  series_1 2017-01-02 04:00:00  0.083606          0.185994\n",
       "...                       ...                 ...       ...               ...\n",
       "2017-08-31 11:00:00  series_1 2017-08-31 11:00:00  0.648919          0.363705\n",
       "2017-08-31 12:00:00  series_1 2017-08-31 12:00:00  0.625725          0.387801\n",
       "2017-08-31 13:00:00  series_1 2017-08-31 13:00:00  0.583658          0.411898\n",
       "2017-08-31 14:00:00  series_1 2017-08-31 14:00:00  0.541592          0.422440\n",
       "2017-08-31 15:00:00  series_1 2017-08-31 15:00:00  0.499526          0.435994\n",
       "\n",
       "[5800 rows x 4 columns]"
      ]
     },
     "execution_count": 25,
     "metadata": {},
     "output_type": "execute_result"
    }
   ],
   "source": [
    "\n",
    "train_df_nf = train_df_nf[['unique_id', 'ds', 'y'] + features]\n",
    "train_df_nf\n"
   ]
  },
  {
   "cell_type": "markdown",
   "id": "71194f62",
   "metadata": {},
   "source": [
    "Same for validation and test sets"
   ]
  },
  {
   "cell_type": "code",
   "execution_count": 26,
   "id": "7082e11c",
   "metadata": {},
   "outputs": [
    {
     "data": {
      "text/html": [
       "<div>\n",
       "<style scoped>\n",
       "    .dataframe tbody tr th:only-of-type {\n",
       "        vertical-align: middle;\n",
       "    }\n",
       "\n",
       "    .dataframe tbody tr th {\n",
       "        vertical-align: top;\n",
       "    }\n",
       "\n",
       "    .dataframe thead th {\n",
       "        text-align: right;\n",
       "    }\n",
       "</style>\n",
       "<table border=\"1\" class=\"dataframe\">\n",
       "  <thead>\n",
       "    <tr style=\"text-align: right;\">\n",
       "      <th></th>\n",
       "      <th>unique_id</th>\n",
       "      <th>ds</th>\n",
       "      <th>y</th>\n",
       "      <th>Wind_speed_tower</th>\n",
       "    </tr>\n",
       "    <tr>\n",
       "      <th>time</th>\n",
       "      <th></th>\n",
       "      <th></th>\n",
       "      <th></th>\n",
       "      <th></th>\n",
       "    </tr>\n",
       "  </thead>\n",
       "  <tbody>\n",
       "    <tr>\n",
       "      <th>2017-08-31 16:00:00</th>\n",
       "      <td>series_1</td>\n",
       "      <td>2017-08-31 16:00:00</td>\n",
       "      <td>0.457459</td>\n",
       "      <td>0.442018</td>\n",
       "    </tr>\n",
       "    <tr>\n",
       "      <th>2017-08-31 17:00:00</th>\n",
       "      <td>series_1</td>\n",
       "      <td>2017-08-31 17:00:00</td>\n",
       "      <td>0.415393</td>\n",
       "      <td>0.390813</td>\n",
       "    </tr>\n",
       "    <tr>\n",
       "      <th>2017-08-31 18:00:00</th>\n",
       "      <td>series_1</td>\n",
       "      <td>2017-08-31 18:00:00</td>\n",
       "      <td>0.380074</td>\n",
       "      <td>0.320783</td>\n",
       "    </tr>\n",
       "    <tr>\n",
       "      <th>2017-08-31 19:00:00</th>\n",
       "      <td>series_1</td>\n",
       "      <td>2017-08-31 19:00:00</td>\n",
       "      <td>0.351502</td>\n",
       "      <td>0.166416</td>\n",
       "    </tr>\n",
       "    <tr>\n",
       "      <th>2017-08-31 20:00:00</th>\n",
       "      <td>series_1</td>\n",
       "      <td>2017-08-31 20:00:00</td>\n",
       "      <td>0.322931</td>\n",
       "      <td>0.192018</td>\n",
       "    </tr>\n",
       "    <tr>\n",
       "      <th>...</th>\n",
       "      <td>...</td>\n",
       "      <td>...</td>\n",
       "      <td>...</td>\n",
       "      <td>...</td>\n",
       "    </tr>\n",
       "    <tr>\n",
       "      <th>2017-09-30 15:00:00</th>\n",
       "      <td>series_1</td>\n",
       "      <td>2017-09-30 15:00:00</td>\n",
       "      <td>0.095625</td>\n",
       "      <td>0.159639</td>\n",
       "    </tr>\n",
       "    <tr>\n",
       "      <th>2017-09-30 16:00:00</th>\n",
       "      <td>series_1</td>\n",
       "      <td>2017-09-30 16:00:00</td>\n",
       "      <td>0.104481</td>\n",
       "      <td>0.182229</td>\n",
       "    </tr>\n",
       "    <tr>\n",
       "      <th>2017-09-30 17:00:00</th>\n",
       "      <td>series_1</td>\n",
       "      <td>2017-09-30 17:00:00</td>\n",
       "      <td>0.113442</td>\n",
       "      <td>0.158133</td>\n",
       "    </tr>\n",
       "    <tr>\n",
       "      <th>2017-09-30 18:00:00</th>\n",
       "      <td>series_1</td>\n",
       "      <td>2017-09-30 18:00:00</td>\n",
       "      <td>0.122931</td>\n",
       "      <td>0.165663</td>\n",
       "    </tr>\n",
       "    <tr>\n",
       "      <th>2017-09-30 19:00:00</th>\n",
       "      <td>series_1</td>\n",
       "      <td>2017-09-30 19:00:00</td>\n",
       "      <td>0.133052</td>\n",
       "      <td>0.148343</td>\n",
       "    </tr>\n",
       "  </tbody>\n",
       "</table>\n",
       "<p>724 rows × 4 columns</p>\n",
       "</div>"
      ],
      "text/plain": [
       "                    unique_id                  ds         y  Wind_speed_tower\n",
       "time                                                                         \n",
       "2017-08-31 16:00:00  series_1 2017-08-31 16:00:00  0.457459          0.442018\n",
       "2017-08-31 17:00:00  series_1 2017-08-31 17:00:00  0.415393          0.390813\n",
       "2017-08-31 18:00:00  series_1 2017-08-31 18:00:00  0.380074          0.320783\n",
       "2017-08-31 19:00:00  series_1 2017-08-31 19:00:00  0.351502          0.166416\n",
       "2017-08-31 20:00:00  series_1 2017-08-31 20:00:00  0.322931          0.192018\n",
       "...                       ...                 ...       ...               ...\n",
       "2017-09-30 15:00:00  series_1 2017-09-30 15:00:00  0.095625          0.159639\n",
       "2017-09-30 16:00:00  series_1 2017-09-30 16:00:00  0.104481          0.182229\n",
       "2017-09-30 17:00:00  series_1 2017-09-30 17:00:00  0.113442          0.158133\n",
       "2017-09-30 18:00:00  series_1 2017-09-30 18:00:00  0.122931          0.165663\n",
       "2017-09-30 19:00:00  series_1 2017-09-30 19:00:00  0.133052          0.148343\n",
       "\n",
       "[724 rows x 4 columns]"
      ]
     },
     "execution_count": 26,
     "metadata": {},
     "output_type": "execute_result"
    }
   ],
   "source": [
    "val_df_nf = val_df.copy()\n",
    "val_df_nf = val_df_nf.rename(columns={target: 'y'})\n",
    "val_df_nf['ds'] = val_df_nf.index\n",
    "\n",
    "val_df_nf['unique_id'] = 'series_1'\n",
    "\n",
    "val_df_nf = val_df_nf[['unique_id', 'ds', 'y'] + features]\n",
    "val_df_nf"
   ]
  },
  {
   "cell_type": "code",
   "execution_count": 27,
   "id": "a59e23eb",
   "metadata": {},
   "outputs": [
    {
     "data": {
      "text/html": [
       "<div>\n",
       "<style scoped>\n",
       "    .dataframe tbody tr th:only-of-type {\n",
       "        vertical-align: middle;\n",
       "    }\n",
       "\n",
       "    .dataframe tbody tr th {\n",
       "        vertical-align: top;\n",
       "    }\n",
       "\n",
       "    .dataframe thead th {\n",
       "        text-align: right;\n",
       "    }\n",
       "</style>\n",
       "<table border=\"1\" class=\"dataframe\">\n",
       "  <thead>\n",
       "    <tr style=\"text-align: right;\">\n",
       "      <th></th>\n",
       "      <th>unique_id</th>\n",
       "      <th>ds</th>\n",
       "      <th>y</th>\n",
       "      <th>Wind_speed_tower</th>\n",
       "    </tr>\n",
       "    <tr>\n",
       "      <th>time</th>\n",
       "      <th></th>\n",
       "      <th></th>\n",
       "      <th></th>\n",
       "      <th></th>\n",
       "    </tr>\n",
       "  </thead>\n",
       "  <tbody>\n",
       "    <tr>\n",
       "      <th>2017-09-30 20:00:00</th>\n",
       "      <td>series_1</td>\n",
       "      <td>2017-09-30 20:00:00</td>\n",
       "      <td>0.143068</td>\n",
       "      <td>0.135542</td>\n",
       "    </tr>\n",
       "    <tr>\n",
       "      <th>2017-09-30 21:00:00</th>\n",
       "      <td>series_1</td>\n",
       "      <td>2017-09-30 21:00:00</td>\n",
       "      <td>0.153189</td>\n",
       "      <td>0.128765</td>\n",
       "    </tr>\n",
       "    <tr>\n",
       "      <th>2017-09-30 22:00:00</th>\n",
       "      <td>series_1</td>\n",
       "      <td>2017-09-30 22:00:00</td>\n",
       "      <td>0.163205</td>\n",
       "      <td>0.108434</td>\n",
       "    </tr>\n",
       "    <tr>\n",
       "      <th>2017-09-30 23:00:00</th>\n",
       "      <td>series_1</td>\n",
       "      <td>2017-09-30 23:00:00</td>\n",
       "      <td>0.173326</td>\n",
       "      <td>0.105422</td>\n",
       "    </tr>\n",
       "    <tr>\n",
       "      <th>2017-10-01 00:00:00</th>\n",
       "      <td>series_1</td>\n",
       "      <td>2017-10-01 00:00:00</td>\n",
       "      <td>0.183342</td>\n",
       "      <td>0.165663</td>\n",
       "    </tr>\n",
       "    <tr>\n",
       "      <th>...</th>\n",
       "      <td>...</td>\n",
       "      <td>...</td>\n",
       "      <td>...</td>\n",
       "      <td>...</td>\n",
       "    </tr>\n",
       "    <tr>\n",
       "      <th>2017-10-30 19:00:00</th>\n",
       "      <td>series_1</td>\n",
       "      <td>2017-10-30 19:00:00</td>\n",
       "      <td>0.721877</td>\n",
       "      <td>0.443524</td>\n",
       "    </tr>\n",
       "    <tr>\n",
       "      <th>2017-10-30 20:00:00</th>\n",
       "      <td>series_1</td>\n",
       "      <td>2017-10-30 20:00:00</td>\n",
       "      <td>0.721244</td>\n",
       "      <td>0.475904</td>\n",
       "    </tr>\n",
       "    <tr>\n",
       "      <th>2017-10-30 21:00:00</th>\n",
       "      <td>series_1</td>\n",
       "      <td>2017-10-30 21:00:00</td>\n",
       "      <td>0.720506</td>\n",
       "      <td>0.490964</td>\n",
       "    </tr>\n",
       "    <tr>\n",
       "      <th>2017-10-30 22:00:00</th>\n",
       "      <td>series_1</td>\n",
       "      <td>2017-10-30 22:00:00</td>\n",
       "      <td>0.719873</td>\n",
       "      <td>0.476657</td>\n",
       "    </tr>\n",
       "    <tr>\n",
       "      <th>2017-10-30 23:00:00</th>\n",
       "      <td>series_1</td>\n",
       "      <td>2017-10-30 23:00:00</td>\n",
       "      <td>0.719241</td>\n",
       "      <td>0.463102</td>\n",
       "    </tr>\n",
       "  </tbody>\n",
       "</table>\n",
       "<p>724 rows × 4 columns</p>\n",
       "</div>"
      ],
      "text/plain": [
       "                    unique_id                  ds         y  Wind_speed_tower\n",
       "time                                                                         \n",
       "2017-09-30 20:00:00  series_1 2017-09-30 20:00:00  0.143068          0.135542\n",
       "2017-09-30 21:00:00  series_1 2017-09-30 21:00:00  0.153189          0.128765\n",
       "2017-09-30 22:00:00  series_1 2017-09-30 22:00:00  0.163205          0.108434\n",
       "2017-09-30 23:00:00  series_1 2017-09-30 23:00:00  0.173326          0.105422\n",
       "2017-10-01 00:00:00  series_1 2017-10-01 00:00:00  0.183342          0.165663\n",
       "...                       ...                 ...       ...               ...\n",
       "2017-10-30 19:00:00  series_1 2017-10-30 19:00:00  0.721877          0.443524\n",
       "2017-10-30 20:00:00  series_1 2017-10-30 20:00:00  0.721244          0.475904\n",
       "2017-10-30 21:00:00  series_1 2017-10-30 21:00:00  0.720506          0.490964\n",
       "2017-10-30 22:00:00  series_1 2017-10-30 22:00:00  0.719873          0.476657\n",
       "2017-10-30 23:00:00  series_1 2017-10-30 23:00:00  0.719241          0.463102\n",
       "\n",
       "[724 rows x 4 columns]"
      ]
     },
     "execution_count": 27,
     "metadata": {},
     "output_type": "execute_result"
    }
   ],
   "source": [
    "test_df_nf = test_df.copy()\n",
    "test_df_nf = test_df_nf.rename(columns={target: 'y'})\n",
    "test_df_nf['ds'] = test_df_nf.index\n",
    "\n",
    "test_df_nf['unique_id'] = 'series_1'\n",
    "\n",
    "test_df_nf = test_df_nf[['unique_id', 'ds', 'y'] + features]\n",
    "test_df_nf"
   ]
  },
  {
   "cell_type": "markdown",
   "id": "42fa9b5a",
   "metadata": {},
   "source": [
    "Create a joint dataset with train and validation to fit into Nixtla's framework."
   ]
  },
  {
   "cell_type": "code",
   "execution_count": 28,
   "id": "c332c7a7",
   "metadata": {},
   "outputs": [
    {
     "name": "stdout",
     "output_type": "stream",
     "text": [
      "<class 'pandas.core.frame.DataFrame'>\n",
      "RangeIndex: 6524 entries, 0 to 6523\n",
      "Data columns (total 4 columns):\n",
      " #   Column            Non-Null Count  Dtype         \n",
      "---  ------            --------------  -----         \n",
      " 0   unique_id         6524 non-null   object        \n",
      " 1   ds                6524 non-null   datetime64[ns]\n",
      " 2   y                 6524 non-null   float64       \n",
      " 3   Wind_speed_tower  6524 non-null   float64       \n",
      "dtypes: datetime64[ns](1), float64(2), object(1)\n",
      "memory usage: 204.0+ KB\n"
     ]
    }
   ],
   "source": [
    "train_val_df = pd.concat([train_df_nf, val_df_nf], axis=0)\n",
    "train_val_df.reset_index(drop=True, inplace=True)\n",
    "train_val_df.info()"
   ]
  },
  {
   "cell_type": "markdown",
   "id": "357d8fd9",
   "metadata": {},
   "source": [
    "And similarly a full dataset with train, validation and test sets."
   ]
  },
  {
   "cell_type": "code",
   "execution_count": 29,
   "id": "556dfb95",
   "metadata": {},
   "outputs": [
    {
     "name": "stdout",
     "output_type": "stream",
     "text": [
      "<class 'pandas.core.frame.DataFrame'>\n",
      "RangeIndex: 7248 entries, 0 to 7247\n",
      "Data columns (total 4 columns):\n",
      " #   Column            Non-Null Count  Dtype         \n",
      "---  ------            --------------  -----         \n",
      " 0   unique_id         7248 non-null   object        \n",
      " 1   ds                7248 non-null   datetime64[ns]\n",
      " 2   y                 7248 non-null   float64       \n",
      " 3   Wind_speed_tower  7248 non-null   float64       \n",
      "dtypes: datetime64[ns](1), float64(2), object(1)\n",
      "memory usage: 226.6+ KB\n"
     ]
    }
   ],
   "source": [
    "full_df_nf = pd.concat([train_df_nf, val_df_nf, test_df_nf], axis=0)\n",
    "full_df_nf.reset_index(drop=True, inplace=True)\n",
    "full_df_nf.info()"
   ]
  },
  {
   "cell_type": "markdown",
   "id": "0b3621c1",
   "metadata": {},
   "source": [
    "## Set the forecast horizon and input length"
   ]
  },
  {
   "cell_type": "code",
   "execution_count": 30,
   "id": "6b300342",
   "metadata": {},
   "outputs": [],
   "source": [
    "horizon = 3\n",
    "input_size = 6"
   ]
  },
  {
   "cell_type": "markdown",
   "id": "9b838b91",
   "metadata": {},
   "source": [
    "# AutoNHits"
   ]
  },
  {
   "cell_type": "markdown",
   "id": "e944ac3e",
   "metadata": {},
   "source": [
    "Our first step is to fit the auto model, which automatically selects the best hyperparameters for the model using Optuna as optimization framework."
   ]
  },
  {
   "cell_type": "code",
   "execution_count": 31,
   "id": "f7d2bf3c",
   "metadata": {},
   "outputs": [],
   "source": [
    "import logging\n",
    "\n",
    "import optuna\n",
    "# import ray.tune as tune\n",
    "import torch\n",
    "\n",
    "from neuralforecast import NeuralForecast\n",
    "\n",
    "from neuralforecast.losses.pytorch import MAE\n",
    "\n",
    "from neuralforecast.models import NHITS\n",
    "from neuralforecast import NeuralForecast"
   ]
  },
  {
   "cell_type": "code",
   "execution_count": 32,
   "id": "1af2c9f8",
   "metadata": {},
   "outputs": [],
   "source": [
    "optuna.logging.set_verbosity(optuna.logging.WARNING)\n",
    "\n",
    "logging.getLogger('pytorch_lightning').setLevel(logging.ERROR)\n",
    "torch.set_float32_matmul_precision('high')"
   ]
  },
  {
   "cell_type": "markdown",
   "id": "364dc60e",
   "metadata": {},
   "source": [
    "Check if CUDA is available (Linux machines)"
   ]
  },
  {
   "cell_type": "code",
   "execution_count": 33,
   "id": "01318dc7",
   "metadata": {},
   "outputs": [
    {
     "name": "stdout",
     "output_type": "stream",
     "text": [
      "1 0 NVIDIA GeForce RTX 3060 Laptop GPU\n"
     ]
    }
   ],
   "source": [
    "if torch.cuda.is_available():\n",
    "    print(torch.cuda.device_count(), torch.cuda.current_device(),torch.cuda.get_device_name(0))"
   ]
  },
  {
   "cell_type": "markdown",
   "id": "a01c4d88",
   "metadata": {},
   "source": [
    "## Optuna for hyperparameter tuning"
   ]
  },
  {
   "cell_type": "markdown",
   "id": "cf44a0a3",
   "metadata": {},
   "source": [
    "#### Define the objective function along with the hyperparameter space.\n"
   ]
  },
  {
   "cell_type": "code",
   "execution_count": 34,
   "id": "66707471",
   "metadata": {},
   "outputs": [],
   "source": [
    "from neuralforecast.models import NHITS"
   ]
  },
  {
   "cell_type": "code",
   "execution_count": 35,
   "id": "dcfd7f9d",
   "metadata": {},
   "outputs": [
    {
     "name": "stderr",
     "output_type": "stream",
     "text": [
      "2025-06-17 20:57:02.187804: E external/local_xla/xla/stream_executor/cuda/cuda_fft.cc:477] Unable to register cuFFT factory: Attempting to register factory for plugin cuFFT when one has already been registered\n",
      "WARNING: All log messages before absl::InitializeLog() is called are written to STDERR\n",
      "E0000 00:00:1750186622.203289   22413 cuda_dnn.cc:8310] Unable to register cuDNN factory: Attempting to register factory for plugin cuDNN when one has already been registered\n",
      "E0000 00:00:1750186622.207889   22413 cuda_blas.cc:1418] Unable to register cuBLAS factory: Attempting to register factory for plugin cuBLAS when one has already been registered\n",
      "2025-06-17 20:57:02.222022: I tensorflow/core/platform/cpu_feature_guard.cc:210] This TensorFlow binary is optimized to use available CPU instructions in performance-critical operations.\n",
      "To enable the following instructions: AVX2 FMA, in other operations, rebuild TensorFlow with the appropriate compiler flags.\n"
     ]
    }
   ],
   "source": [
    "%%capture\n",
    "\n",
    "logging.getLogger(\"lightning_fabric.utilities.seed\").setLevel(logging.WARNING)\n",
    "\n",
    "start_time = time.time()\n",
    "\n",
    "model = NHITS(\n",
    "    activation='Sigmoid',\n",
    "    h=horizon,\n",
    "    hist_exog_list = ['Wind_speed_tower'],\n",
    "    scaler_type='standard',\n",
    "    input_size=input_size,\n",
    "    loss=MAE(),\n",
    "    max_steps=300,\n",
    "    random_seed=42,\n",
    "    # **best_params\n",
    "    stack_types = ['identity', 'identity', 'identity', 'identity'],\n",
    "    n_blocks = [4, 1, 1, 1], \n",
    "    mlp_units = [[512, 512], [512, 512], [512, 512], [512, 512]], \n",
    "    n_pool_kernel_size = [2, 2, 2, 1],\n",
    "    n_freq_downsample = [8, 4, 2, 1],\n",
    "    enable_progress_bar=False\n",
    ")\n",
    "\n",
    "nf = NeuralForecast(models=[model], freq='H')\n",
    "\n",
    "nf.fit(df=train_val_df)\n",
    "\n",
    "end_time = time.time()"
   ]
  },
  {
   "cell_type": "code",
   "execution_count": 36,
   "id": "9307d726",
   "metadata": {},
   "outputs": [
    {
     "name": "stdout",
     "output_type": "stream",
     "text": [
      "⏱️ Elapsed time: 0.13 minutes\n"
     ]
    }
   ],
   "source": [
    "elapsed_time = end_time - start_time\n",
    "print(f\"⏱️ Elapsed time: {elapsed_time / 60:.2f} minutes\")"
   ]
  },
  {
   "cell_type": "code",
   "execution_count": 37,
   "id": "5607f859",
   "metadata": {},
   "outputs": [],
   "source": [
    "# %%capture\n",
    "\n",
    "# %%time\n",
    "\n",
    "# cv_df = nf.cross_validation(train_val_df, n_windows=20, step_size=h, verbose=1, refit=True)\n",
    "# cv_df"
   ]
  },
  {
   "cell_type": "code",
   "execution_count": 38,
   "id": "49502f21",
   "metadata": {},
   "outputs": [],
   "source": [
    "# from sklearn.metrics import mean_absolute_error as sk_MAE\n",
    "# grouped_mae = cv_df.groupby(\"cutoff\").apply(lambda g: sk_MAE(g[\"NHITS\"], g[\"y\"])).reset_index(name=\"mae\")\n",
    "# grouped_mae\n",
    "# grouped_mae['mae'].mean()"
   ]
  },
  {
   "cell_type": "code",
   "execution_count": 39,
   "id": "e3eab6ec",
   "metadata": {},
   "outputs": [],
   "source": [
    "from neuralforecast.losses.pytorch import MAE\n",
    "    \n",
    "\n",
    "def create_model(trial: optuna.trial.Trial):\n",
    "\n",
    "    print(f\"----------------------------------\")\n",
    "    print(f\"Creating model with trial number: {trial.number}\")\n",
    "    n_stacks = trial.suggest_int(\"num_stacks\", 1, 4)\n",
    "    print(f\"Number of stacks: {n_stacks}\")\n",
    "\n",
    "    mlp_choices = [[64, 64], [128, 128], [256, 256], [512, 512]]\n",
    "    n_blocks =[trial.suggest_int(f\"num_blocks_stck_{i}\", 1, 4) for i in range(n_stacks)]\n",
    "    print(f\"Number of blocks per stack: {n_blocks}\")\n",
    "    mlp_units = [trial.suggest_categorical(\"mlp_units\", mlp_choices) for _ in range(n_stacks)]\n",
    "    print(f\"MLP units per stack: {mlp_units}\")\n",
    "    \n",
    "\n",
    "\n",
    "    model = NHITS(\n",
    "    activation='Sigmoid', \n",
    "    h=horizon,\n",
    "    hist_exog_list = ['Wind_speed_tower'],\n",
    "    scaler_type='standard',\n",
    "    input_size=input_size,\n",
    "    loss=MAE(),\n",
    "    max_steps=300,\n",
    "    random_seed=42,\n",
    "    #################\n",
    "    # print(f\"Number of stacks: {Num_stacks}\")\n",
    "    stack_types = ['identity'] * n_stacks,\n",
    "    n_blocks = n_blocks, \n",
    "    # mlp_units = [[512, 512] for _ in range(n_stacks)], \n",
    "    mlp_units = mlp_units,\n",
    "    n_pool_kernel_size = [2] * (n_stacks - 1) + [1],\n",
    "    n_freq_downsample = [2**k for k in range(n_stacks - 1, -1, -1)])\n",
    "    # learning_rate = trial.suggest_float(\"learning_rate\", 1e-4, 1e-2, log=True)\n",
    "    \n",
    "\n",
    "    return model"
   ]
  },
  {
   "cell_type": "code",
   "execution_count": 40,
   "id": "922100f6",
   "metadata": {},
   "outputs": [],
   "source": [
    "def objective(trial):\n",
    "    model = create_model(trial)\n",
    "    nf = NeuralForecast(models=[model], freq='H')\n",
    "    print(\"Entering CV\")\n",
    "    cv_df = nf.cross_validation(train_val_df, n_windows=10, step_size=horizon, verbose=2, refit=True)\n",
    "    print(\"Exiting CV\")\n",
    "    print(f\"----------------------------------\")\n",
    "\n",
    "    # norm_pred = ((cv_df[\"NHITS\"] - np.min(cv_df[\"NHITS\"])) / (np.max(cv_df[\"NHITS\"]) - np.min(cv_df[\"NHITS\"])))\n",
    "    # return (norm_pred - cv_df[\"y\"]).abs().mean()\n",
    "    # winsor_pred = np.clip(norm_pred, 0, 1)\n",
    "    # return (winsor_pred - cv_df[\"y\"]).abs().mean()\n",
    "    \n",
    "    return (cv_df[\"NHITS\"] - cv_df[\"y\"]).abs().mean()\n"
   ]
  },
  {
   "cell_type": "markdown",
   "id": "a22a4f3c",
   "metadata": {},
   "source": [
    "#### Initiate a study object via the create_study() function."
   ]
  },
  {
   "cell_type": "code",
   "execution_count": 41,
   "id": "8400947c",
   "metadata": {},
   "outputs": [],
   "source": [
    "study = optuna.create_study(direction='minimize')"
   ]
  },
  {
   "cell_type": "markdown",
   "id": "34c95025",
   "metadata": {},
   "source": [
    "#### Perform hyperparameter tuning by calling the optimize() method on the study object.\n"
   ]
  },
  {
   "cell_type": "code",
   "execution_count": 42,
   "id": "4b63d74a",
   "metadata": {},
   "outputs": [],
   "source": [
    "%%capture\n",
    "\n",
    "logging.getLogger(\"lightning_fabric.utilities.seed\").setLevel(logging.WARNING)\n",
    "\n",
    "start_time = time.time()\n",
    "\n",
    "study.optimize(objective, n_trials=100, n_jobs=1)\n",
    "\n",
    "end_time = time.time()"
   ]
  },
  {
   "cell_type": "code",
   "execution_count": 43,
   "id": "21c21215",
   "metadata": {},
   "outputs": [
    {
     "name": "stdout",
     "output_type": "stream",
     "text": [
      "⏱️ Elapsed time: 74.71 minutes\n"
     ]
    }
   ],
   "source": [
    "elapsed_time = end_time - start_time\n",
    "print(f\"⏱️ Elapsed time: {elapsed_time / 60:.2f} minutes\")"
   ]
  },
  {
   "cell_type": "code",
   "execution_count": 44,
   "id": "3b4384fc",
   "metadata": {},
   "outputs": [
    {
     "data": {
      "text/plain": [
       "{'num_stacks': 1, 'num_blocks_stck_0': 3, 'mlp_units': [512, 512]}"
      ]
     },
     "execution_count": 44,
     "metadata": {},
     "output_type": "execute_result"
    }
   ],
   "source": [
    "best_params = study.best_params\n",
    "best_params"
   ]
  },
  {
   "cell_type": "code",
   "execution_count": 45,
   "id": "df96420f",
   "metadata": {},
   "outputs": [
    {
     "name": "stdout",
     "output_type": "stream",
     "text": [
      "Number of stacks: 1\n",
      "Number of blocks per stack: [3]\n",
      "MLP units per stack: [[512, 512]]\n"
     ]
    }
   ],
   "source": [
    "# DONE\n",
    "\n",
    "n_stacks = best_params['num_stacks']\n",
    "print(f\"Number of stacks: {n_stacks}\")\n",
    "n_blocks = [best_params[f'num_blocks_stck_{i}'] for i in range(n_stacks)]\n",
    "print(f\"Number of blocks per stack: {n_blocks}\")\n",
    "mlp_units = [best_params['mlp_units'] for _ in range(n_stacks)]\n",
    "print(f\"MLP units per stack: {mlp_units}\")\n"
   ]
  },
  {
   "cell_type": "markdown",
   "id": "e22e04ea",
   "metadata": {},
   "source": [
    "# NHits modeling"
   ]
  },
  {
   "cell_type": "markdown",
   "id": "1279a6d7",
   "metadata": {},
   "source": [
    "Using the best hyperparameters we can now fit a final model. This is done by passing the best hyperparameters to the model and then fitting it to the training + validation set. \n"
   ]
  },
  {
   "cell_type": "code",
   "execution_count": 46,
   "id": "8d572329",
   "metadata": {},
   "outputs": [],
   "source": [
    "%%capture\n",
    "\n",
    "model = NHITS(\n",
    "    activation='Sigmoid',\n",
    "    h=horizon,\n",
    "    hist_exog_list = ['Wind_speed_tower'],\n",
    "    scaler_type='standard',\n",
    "    input_size=input_size,\n",
    "    loss=MAE(),\n",
    "    max_steps=300,\n",
    "    random_seed=42,\n",
    "    # **best_params\n",
    "    stack_types = ['identity'] * n_stacks,\n",
    "    enable_progress_bar=True,\n",
    "    mlp_units = mlp_units,\n",
    "    n_blocks = n_blocks, \n",
    "    n_pool_kernel_size = [2] * (n_stacks - 1) + [1],\n",
    "    n_freq_downsample = [2**k for k in range(n_stacks - 1, -1, -1)])\n",
    "\n",
    "nf = NeuralForecast(models=[model], freq='H')\n",
    "\n",
    "nf.fit(df=train_val_df, verbose=True)"
   ]
  },
  {
   "cell_type": "markdown",
   "id": "1f18551a",
   "metadata": {},
   "source": [
    "# Model Performance Evaluation"
   ]
  },
  {
   "cell_type": "markdown",
   "id": "77b6d7c7",
   "metadata": {},
   "source": [
    "We create the rolling_df dataframe that contains the series data up to the time instant in which we make a prediction that corresponds to the first time instant in the test set. That prediction corresponds to the maximum value of the prediction horizon. "
   ]
  },
  {
   "cell_type": "code",
   "execution_count": 47,
   "id": "ea587e5a",
   "metadata": {},
   "outputs": [
    {
     "data": {
      "text/html": [
       "<div>\n",
       "<style scoped>\n",
       "    .dataframe tbody tr th:only-of-type {\n",
       "        vertical-align: middle;\n",
       "    }\n",
       "\n",
       "    .dataframe tbody tr th {\n",
       "        vertical-align: top;\n",
       "    }\n",
       "\n",
       "    .dataframe thead th {\n",
       "        text-align: right;\n",
       "    }\n",
       "</style>\n",
       "<table border=\"1\" class=\"dataframe\">\n",
       "  <thead>\n",
       "    <tr style=\"text-align: right;\">\n",
       "      <th></th>\n",
       "      <th>unique_id</th>\n",
       "      <th>ds</th>\n",
       "      <th>y</th>\n",
       "      <th>Wind_speed_tower</th>\n",
       "    </tr>\n",
       "  </thead>\n",
       "  <tbody>\n",
       "    <tr>\n",
       "      <th>6520</th>\n",
       "      <td>series_1</td>\n",
       "      <td>2017-09-30 16:00:00</td>\n",
       "      <td>0.104481</td>\n",
       "      <td>0.182229</td>\n",
       "    </tr>\n",
       "    <tr>\n",
       "      <th>6521</th>\n",
       "      <td>series_1</td>\n",
       "      <td>2017-09-30 17:00:00</td>\n",
       "      <td>0.113442</td>\n",
       "      <td>0.158133</td>\n",
       "    </tr>\n",
       "  </tbody>\n",
       "</table>\n",
       "</div>"
      ],
      "text/plain": [
       "     unique_id                  ds         y  Wind_speed_tower\n",
       "6520  series_1 2017-09-30 16:00:00  0.104481          0.182229\n",
       "6521  series_1 2017-09-30 17:00:00  0.113442          0.158133"
      ]
     },
     "execution_count": 47,
     "metadata": {},
     "output_type": "execute_result"
    }
   ],
   "source": [
    "rolling_df = full_df_nf.iloc[:(train_len + val_len + 1 - horizon)]\n",
    "rolling_df.tail(2)"
   ]
  },
  {
   "cell_type": "markdown",
   "id": "297f5f38",
   "metadata": {},
   "source": [
    "Now to start the evaluation we fit the model to this dataset and get the predictions. We will not use all of them, only the last."
   ]
  },
  {
   "cell_type": "code",
   "execution_count": 48,
   "id": "90a6233b",
   "metadata": {},
   "outputs": [],
   "source": [
    "%%capture \n",
    "\n",
    "logging.getLogger(\"lightning_fabric.utilities.seed\").setLevel(logging.WARNING)\n",
    "\n",
    "nf.fit(df=rolling_df)"
   ]
  },
  {
   "cell_type": "code",
   "execution_count": 49,
   "id": "93ba72a7",
   "metadata": {},
   "outputs": [],
   "source": [
    "%%capture\n",
    "\n",
    "rolling_preds = nf.predict()\n"
   ]
  },
  {
   "cell_type": "code",
   "execution_count": 50,
   "id": "9fc46af1",
   "metadata": {},
   "outputs": [
    {
     "data": {
      "text/html": [
       "<div>\n",
       "<style scoped>\n",
       "    .dataframe tbody tr th:only-of-type {\n",
       "        vertical-align: middle;\n",
       "    }\n",
       "\n",
       "    .dataframe tbody tr th {\n",
       "        vertical-align: top;\n",
       "    }\n",
       "\n",
       "    .dataframe thead th {\n",
       "        text-align: right;\n",
       "    }\n",
       "</style>\n",
       "<table border=\"1\" class=\"dataframe\">\n",
       "  <thead>\n",
       "    <tr style=\"text-align: right;\">\n",
       "      <th></th>\n",
       "      <th>unique_id</th>\n",
       "      <th>ds</th>\n",
       "      <th>NHITS</th>\n",
       "    </tr>\n",
       "  </thead>\n",
       "  <tbody>\n",
       "    <tr>\n",
       "      <th>0</th>\n",
       "      <td>series_1</td>\n",
       "      <td>2017-09-30 18:00:00</td>\n",
       "      <td>0.122224</td>\n",
       "    </tr>\n",
       "    <tr>\n",
       "      <th>1</th>\n",
       "      <td>series_1</td>\n",
       "      <td>2017-09-30 19:00:00</td>\n",
       "      <td>0.131415</td>\n",
       "    </tr>\n",
       "    <tr>\n",
       "      <th>2</th>\n",
       "      <td>series_1</td>\n",
       "      <td>2017-09-30 20:00:00</td>\n",
       "      <td>0.139566</td>\n",
       "    </tr>\n",
       "  </tbody>\n",
       "</table>\n",
       "</div>"
      ],
      "text/plain": [
       "  unique_id                  ds     NHITS\n",
       "0  series_1 2017-09-30 18:00:00  0.122224\n",
       "1  series_1 2017-09-30 19:00:00  0.131415\n",
       "2  series_1 2017-09-30 20:00:00  0.139566"
      ]
     },
     "execution_count": 50,
     "metadata": {},
     "output_type": "execute_result"
    }
   ],
   "source": [
    "rolling_preds"
   ]
  },
  {
   "cell_type": "markdown",
   "id": "1c993e3e",
   "metadata": {},
   "source": [
    "Note the last of these predictions corresponds to the first time instant in the test set. \n",
    "\n",
    "Now we create a dictionary (of dataframes) to store the predictions for each value k from 1 to the max of the prediction horizon. The weird (k-1):k bit below is to prevent pandas from collapsing the row into a series!"
   ]
  },
  {
   "cell_type": "code",
   "execution_count": 51,
   "id": "108b3c03",
   "metadata": {},
   "outputs": [],
   "source": [
    "preds_df = {}\n",
    "for k in range(1, horizon + 1):\n",
    "    preds_df_name = str(k) + \"h\"  # String variable for the new name\n",
    "    preds_df[preds_df_name] = rolling_preds.copy().iloc[(k-1):k, :]\n",
    "\n"
   ]
  },
  {
   "cell_type": "markdown",
   "id": "01164f2d",
   "metadata": {},
   "source": [
    "Initially we store the predictions we obtained above in the dictionary (only the last one of these will actually be useful for comparison with the test set, but the others serve the purpose of dictionary initialisation)."
   ]
  },
  {
   "cell_type": "code",
   "execution_count": 52,
   "id": "31ee5235",
   "metadata": {},
   "outputs": [
    {
     "data": {
      "text/html": [
       "<div>\n",
       "<style scoped>\n",
       "    .dataframe tbody tr th:only-of-type {\n",
       "        vertical-align: middle;\n",
       "    }\n",
       "\n",
       "    .dataframe tbody tr th {\n",
       "        vertical-align: top;\n",
       "    }\n",
       "\n",
       "    .dataframe thead th {\n",
       "        text-align: right;\n",
       "    }\n",
       "</style>\n",
       "<table border=\"1\" class=\"dataframe\">\n",
       "  <thead>\n",
       "    <tr style=\"text-align: right;\">\n",
       "      <th></th>\n",
       "      <th>unique_id</th>\n",
       "      <th>ds</th>\n",
       "      <th>NHITS</th>\n",
       "    </tr>\n",
       "  </thead>\n",
       "  <tbody>\n",
       "    <tr>\n",
       "      <th>0</th>\n",
       "      <td>series_1</td>\n",
       "      <td>2017-09-30 18:00:00</td>\n",
       "      <td>0.122224</td>\n",
       "    </tr>\n",
       "  </tbody>\n",
       "</table>\n",
       "</div>"
      ],
      "text/plain": [
       "  unique_id                  ds     NHITS\n",
       "0  series_1 2017-09-30 18:00:00  0.122224"
      ]
     },
     "execution_count": 52,
     "metadata": {},
     "output_type": "execute_result"
    }
   ],
   "source": [
    "preds_df['1h']"
   ]
  },
  {
   "cell_type": "code",
   "execution_count": 53,
   "id": "c0585a42",
   "metadata": {},
   "outputs": [
    {
     "data": {
      "text/html": [
       "<div>\n",
       "<style scoped>\n",
       "    .dataframe tbody tr th:only-of-type {\n",
       "        vertical-align: middle;\n",
       "    }\n",
       "\n",
       "    .dataframe tbody tr th {\n",
       "        vertical-align: top;\n",
       "    }\n",
       "\n",
       "    .dataframe thead th {\n",
       "        text-align: right;\n",
       "    }\n",
       "</style>\n",
       "<table border=\"1\" class=\"dataframe\">\n",
       "  <thead>\n",
       "    <tr style=\"text-align: right;\">\n",
       "      <th></th>\n",
       "      <th>unique_id</th>\n",
       "      <th>ds</th>\n",
       "      <th>NHITS</th>\n",
       "    </tr>\n",
       "  </thead>\n",
       "  <tbody>\n",
       "    <tr>\n",
       "      <th>1</th>\n",
       "      <td>series_1</td>\n",
       "      <td>2017-09-30 19:00:00</td>\n",
       "      <td>0.131415</td>\n",
       "    </tr>\n",
       "  </tbody>\n",
       "</table>\n",
       "</div>"
      ],
      "text/plain": [
       "  unique_id                  ds     NHITS\n",
       "1  series_1 2017-09-30 19:00:00  0.131415"
      ]
     },
     "execution_count": 53,
     "metadata": {},
     "output_type": "execute_result"
    }
   ],
   "source": [
    "preds_df['2h']"
   ]
  },
  {
   "cell_type": "code",
   "execution_count": 54,
   "id": "42c2ae90",
   "metadata": {},
   "outputs": [
    {
     "data": {
      "text/html": [
       "<div>\n",
       "<style scoped>\n",
       "    .dataframe tbody tr th:only-of-type {\n",
       "        vertical-align: middle;\n",
       "    }\n",
       "\n",
       "    .dataframe tbody tr th {\n",
       "        vertical-align: top;\n",
       "    }\n",
       "\n",
       "    .dataframe thead th {\n",
       "        text-align: right;\n",
       "    }\n",
       "</style>\n",
       "<table border=\"1\" class=\"dataframe\">\n",
       "  <thead>\n",
       "    <tr style=\"text-align: right;\">\n",
       "      <th></th>\n",
       "      <th>unique_id</th>\n",
       "      <th>ds</th>\n",
       "      <th>NHITS</th>\n",
       "    </tr>\n",
       "  </thead>\n",
       "  <tbody>\n",
       "    <tr>\n",
       "      <th>2</th>\n",
       "      <td>series_1</td>\n",
       "      <td>2017-09-30 20:00:00</td>\n",
       "      <td>0.139566</td>\n",
       "    </tr>\n",
       "  </tbody>\n",
       "</table>\n",
       "</div>"
      ],
      "text/plain": [
       "  unique_id                  ds     NHITS\n",
       "2  series_1 2017-09-30 20:00:00  0.139566"
      ]
     },
     "execution_count": 54,
     "metadata": {},
     "output_type": "execute_result"
    }
   ],
   "source": [
    "preds_df['3h']"
   ]
  },
  {
   "cell_type": "markdown",
   "id": "80e06ca1",
   "metadata": {},
   "source": [
    "The main tool for evaluation is the for loop below. In each iteration we add one time instant to the rolling_df dataframe and then we fit the model to this dataframe. We then obtain the predictions for this augmented dataset and our forecasting horizon. And we store each  of them in the corresponing dataframe inside the dictionary. "
   ]
  },
  {
   "cell_type": "code",
   "execution_count": 55,
   "id": "99788113",
   "metadata": {},
   "outputs": [],
   "source": [
    "%%capture\n",
    "\n",
    "logging.getLogger(\"lightning_fabric.utilities.seed\").setLevel(logging.WARNING)\n",
    "\n",
    "start_time = time.time()\n",
    "\n",
    "# for k in range(2, 50): # for testing\n",
    "for k in range(2, len(test_df_nf) + horizon):\n",
    "    # rolling_df = pd.concat([train_df_nf, val_df_nf, test_df_nf.iloc[:k]])\n",
    "    rolling_df = full_df_nf.iloc[:(train_len + val_len + k - horizon)]\n",
    "    # print(rolling_df.tail(1))\n",
    "    # print(rolling_df.shape)\n",
    "    nf.fit(df=rolling_df)\n",
    "    rolling_preds = nf.predict()\n",
    "    # print(rolling_preds)\n",
    "    for h in range(1, horizon + 1):\n",
    "        preds_df[f'{h}h'] = pd.concat([preds_df[f'{h}h'], rolling_preds.iloc[(h - 1):h,:]], axis=0)\n",
    "\n",
    "    print(f\"k =  {k}\")\n",
    "    print(\"#\" * 20)       \n",
    "\n",
    "\n",
    "\n",
    "end_time = time.time()"
   ]
  },
  {
   "cell_type": "code",
   "execution_count": 56,
   "id": "6afa6f75",
   "metadata": {},
   "outputs": [
    {
     "name": "stdout",
     "output_type": "stream",
     "text": [
      "⏱️ Elapsed time: 74.71 minutes\n"
     ]
    }
   ],
   "source": [
    "print(f\"⏱️ Elapsed time: {elapsed_time / 60:.2f} minutes\")"
   ]
  },
  {
   "cell_type": "markdown",
   "id": "4a07acf9",
   "metadata": {},
   "source": [
    "For ease of comparison and plotting we reindex the predictions dataframes in the dictionary to use ds as index."
   ]
  },
  {
   "cell_type": "code",
   "execution_count": 57,
   "id": "3cc590de",
   "metadata": {},
   "outputs": [],
   "source": [
    "for h in range(1, horizon + 1):\n",
    "    preds_df[f'{h}h'].set_index('ds', inplace=True)"
   ]
  },
  {
   "cell_type": "markdown",
   "id": "753126c3",
   "metadata": {},
   "source": [
    "After doing that they look like this:"
   ]
  },
  {
   "cell_type": "code",
   "execution_count": 58,
   "id": "6642aed0",
   "metadata": {},
   "outputs": [],
   "source": [
    "preds_df['1h']['NHITS'] = np.clip(preds_df['1h']['NHITS'], 0, 1) "
   ]
  },
  {
   "cell_type": "code",
   "execution_count": 59,
   "id": "6c149ce1",
   "metadata": {},
   "outputs": [],
   "source": [
    "preds_df['2h']['NHITS'] = np.clip(preds_df['2h']['NHITS'], 0, 1)"
   ]
  },
  {
   "cell_type": "code",
   "execution_count": 60,
   "id": "d43e1039",
   "metadata": {},
   "outputs": [],
   "source": [
    "preds_df['3h']['NHITS'] = np.clip(preds_df['3h']['NHITS'], 0, 1)"
   ]
  },
  {
   "cell_type": "code",
   "execution_count": 61,
   "id": "15cabd56",
   "metadata": {},
   "outputs": [],
   "source": [
    "# test_df_nf.tail(3)"
   ]
  },
  {
   "cell_type": "markdown",
   "id": "1584e0b7",
   "metadata": {},
   "source": [
    "Let us plot the predictions against the test set values."
   ]
  },
  {
   "cell_type": "code",
   "execution_count": 62,
   "id": "405eea95",
   "metadata": {},
   "outputs": [
    {
     "data": {
      "image/png": "[encoded data removed]",
      "text/plain": [
       "<Figure size 1200x600 with 1 Axes>"
      ]
     },
     "metadata": {},
     "output_type": "display_data"
    }
   ],
   "source": [
    "%matplotlib inline\n",
    "\n",
    "plt.figure(figsize=(12, 6))\n",
    "# plt.plot(val_df_nf[\"y\"].tail(20), label=\"Actual Active Power (training)\", color='magenta')\n",
    "# plt.plot(test_df_nf[\"y\"].head(20), label=\"Actual Active Power (test)\", color='blue')\n",
    "plt.plot(val_df_nf[\"y\"], label=\"Actual Active Power (training)\", color='magenta')\n",
    "plt.plot(test_df_nf[\"y\"], label=\"Actual Active Power (test)\", color='blue')\n",
    "plt.plot(preds_df['1h']['NHITS'][2:], label=\"Predicted Active Power 1h\", color='red')\n",
    "plt.plot(preds_df['2h']['NHITS'][1:], label=\"Predicted Active Power 2h\", color='green')\n",
    "# plt.plot(preds_df['3h']['NHITS'], label=\"Predicted Active Power 3h\", color='orange')\n",
    "\n",
    "plt.legend()\n",
    "plt.show();plt.close()\n"
   ]
  },
  {
   "cell_type": "code",
   "execution_count": 107,
   "id": "b21cfd1c",
   "metadata": {},
   "outputs": [
    {
     "data": {
      "image/png": "[encoded data removed]",
      "text/plain": [
       "<Figure size 1200x600 with 1 Axes>"
      ]
     },
     "metadata": {},
     "output_type": "display_data"
    }
   ],
   "source": [
    "%matplotlib inline\n",
    "\n",
    "plt.figure(figsize=(12, 6))\n",
    "# plt.plot(val_df_nf[\"y\"].tail(20), label=\"Actual Active Power (training)\", color='magenta')\n",
    "# plt.plot(test_df_nf[\"y\"].head(20), label=\"Actual Active Power (test)\", color='blue')\n",
    "plt.plot(val_df_nf[\"y\"].tail(50), label=\"Actual Active Power (training)\", color='magenta')\n",
    "plt.plot(test_df_nf[\"y\"].head(100), label=\"Actual Active Power (test)\", color='blue')\n",
    "plt.plot(preds_df['1h']['NHITS'].head(100), label=\"Predicted Active Power 1h\", color='red')\n",
    "plt.plot(preds_df['2h']['NHITS'].head(100), label=\"Predicted Active Power 2h\", color='green')\n",
    "plt.plot(preds_df['3h']['NHITS'].head(100), label=\"Predicted Active Power 3h\", color='orange')\n",
    "\n",
    "plt.legend(fontsize='small')\n",
    "plt.show();plt.close()\n"
   ]
  },
  {
   "cell_type": "markdown",
   "id": "9637613d",
   "metadata": {},
   "source": [
    "### MAE computation"
   ]
  },
  {
   "cell_type": "markdown",
   "id": "b7b8dfe4",
   "metadata": {},
   "source": [
    "We will next compute the MAE for each of the predictions in the dictionary. The trickiest part here is to ensure that the predictions are aligned with the test set. "
   ]
  },
  {
   "cell_type": "code",
   "execution_count": 108,
   "id": "350bb477",
   "metadata": {},
   "outputs": [],
   "source": [
    "from sklearn.metrics import mean_absolute_error"
   ]
  },
  {
   "cell_type": "code",
   "execution_count": 109,
   "id": "1d617257",
   "metadata": {},
   "outputs": [
    {
     "data": {
      "text/plain": [
       "(Timestamp('2017-09-30 20:00:00'), Timestamp('2017-10-30 23:00:00'))"
      ]
     },
     "execution_count": 109,
     "metadata": {},
     "output_type": "execute_result"
    }
   ],
   "source": [
    "test_df_nf.index.min(), test_df_nf.index.max()"
   ]
  },
  {
   "cell_type": "code",
   "execution_count": 110,
   "id": "cd4e7df7",
   "metadata": {},
   "outputs": [
    {
     "data": {
      "text/plain": [
       "time\n",
       "2017-09-30 20:00:00    0.135542\n",
       "2017-09-30 21:00:00    0.128765\n",
       "2017-09-30 22:00:00    0.108434\n",
       "2017-09-30 23:00:00    0.105422\n",
       "2017-10-01 00:00:00    0.165663\n",
       "                         ...   \n",
       "2017-10-30 19:00:00    0.443524\n",
       "2017-10-30 20:00:00    0.475904\n",
       "2017-10-30 21:00:00    0.490964\n",
       "2017-10-30 22:00:00    0.476657\n",
       "2017-10-30 23:00:00    0.463102\n",
       "Name: Wind_speed_tower, Length: 724, dtype: float64"
      ]
     },
     "execution_count": 110,
     "metadata": {},
     "output_type": "execute_result"
    }
   ],
   "source": [
    "test_df_nf['Wind_speed_tower']"
   ]
  },
  {
   "cell_type": "code",
   "execution_count": 111,
   "id": "c42b572e",
   "metadata": {},
   "outputs": [
    {
     "data": {
      "text/html": [
       "<div>\n",
       "<style scoped>\n",
       "    .dataframe tbody tr th:only-of-type {\n",
       "        vertical-align: middle;\n",
       "    }\n",
       "\n",
       "    .dataframe tbody tr th {\n",
       "        vertical-align: top;\n",
       "    }\n",
       "\n",
       "    .dataframe thead th {\n",
       "        text-align: right;\n",
       "    }\n",
       "</style>\n",
       "<table border=\"1\" class=\"dataframe\">\n",
       "  <thead>\n",
       "    <tr style=\"text-align: right;\">\n",
       "      <th></th>\n",
       "      <th>NHITS</th>\n",
       "    </tr>\n",
       "    <tr>\n",
       "      <th>ds</th>\n",
       "      <th></th>\n",
       "    </tr>\n",
       "  </thead>\n",
       "  <tbody>\n",
       "    <tr>\n",
       "      <th>2017-09-30 20:00:00</th>\n",
       "      <td>0.143255</td>\n",
       "    </tr>\n",
       "    <tr>\n",
       "      <th>2017-09-30 21:00:00</th>\n",
       "      <td>0.152949</td>\n",
       "    </tr>\n",
       "    <tr>\n",
       "      <th>2017-09-30 22:00:00</th>\n",
       "      <td>0.161771</td>\n",
       "    </tr>\n",
       "    <tr>\n",
       "      <th>2017-09-30 23:00:00</th>\n",
       "      <td>0.174423</td>\n",
       "    </tr>\n",
       "    <tr>\n",
       "      <th>2017-10-01 00:00:00</th>\n",
       "      <td>0.184522</td>\n",
       "    </tr>\n",
       "    <tr>\n",
       "      <th>...</th>\n",
       "      <td>...</td>\n",
       "    </tr>\n",
       "    <tr>\n",
       "      <th>2017-10-30 19:00:00</th>\n",
       "      <td>0.721681</td>\n",
       "    </tr>\n",
       "    <tr>\n",
       "      <th>2017-10-30 20:00:00</th>\n",
       "      <td>0.721199</td>\n",
       "    </tr>\n",
       "    <tr>\n",
       "      <th>2017-10-30 21:00:00</th>\n",
       "      <td>0.720640</td>\n",
       "    </tr>\n",
       "    <tr>\n",
       "      <th>2017-10-30 22:00:00</th>\n",
       "      <td>0.719790</td>\n",
       "    </tr>\n",
       "    <tr>\n",
       "      <th>2017-10-30 23:00:00</th>\n",
       "      <td>0.719289</td>\n",
       "    </tr>\n",
       "  </tbody>\n",
       "</table>\n",
       "<p>724 rows × 1 columns</p>\n",
       "</div>"
      ],
      "text/plain": [
       "                        NHITS\n",
       "ds                           \n",
       "2017-09-30 20:00:00  0.143255\n",
       "2017-09-30 21:00:00  0.152949\n",
       "2017-09-30 22:00:00  0.161771\n",
       "2017-09-30 23:00:00  0.174423\n",
       "2017-10-01 00:00:00  0.184522\n",
       "...                       ...\n",
       "2017-10-30 19:00:00  0.721681\n",
       "2017-10-30 20:00:00  0.721199\n",
       "2017-10-30 21:00:00  0.720640\n",
       "2017-10-30 22:00:00  0.719790\n",
       "2017-10-30 23:00:00  0.719289\n",
       "\n",
       "[724 rows x 1 columns]"
      ]
     },
     "execution_count": 111,
     "metadata": {},
     "output_type": "execute_result"
    }
   ],
   "source": [
    "mae1h_df = preds_df['1h'].copy()[2:][['NHITS']]\n",
    "mae1h_df\n"
   ]
  },
  {
   "cell_type": "markdown",
   "id": "3783e903",
   "metadata": {},
   "source": [
    "We need to add the exogenous variables as they were used by the scaler. "
   ]
  },
  {
   "cell_type": "code",
   "execution_count": 112,
   "id": "ecf74ef2",
   "metadata": {},
   "outputs": [
    {
     "data": {
      "text/html": [
       "<div>\n",
       "<style scoped>\n",
       "    .dataframe tbody tr th:only-of-type {\n",
       "        vertical-align: middle;\n",
       "    }\n",
       "\n",
       "    .dataframe tbody tr th {\n",
       "        vertical-align: top;\n",
       "    }\n",
       "\n",
       "    .dataframe thead th {\n",
       "        text-align: right;\n",
       "    }\n",
       "</style>\n",
       "<table border=\"1\" class=\"dataframe\">\n",
       "  <thead>\n",
       "    <tr style=\"text-align: right;\">\n",
       "      <th></th>\n",
       "      <th>Wind_speed_tower</th>\n",
       "      <th>NHITS</th>\n",
       "    </tr>\n",
       "    <tr>\n",
       "      <th>ds</th>\n",
       "      <th></th>\n",
       "      <th></th>\n",
       "    </tr>\n",
       "  </thead>\n",
       "  <tbody>\n",
       "    <tr>\n",
       "      <th>2017-09-30 20:00:00</th>\n",
       "      <td>0.135542</td>\n",
       "      <td>0.143255</td>\n",
       "    </tr>\n",
       "    <tr>\n",
       "      <th>2017-09-30 21:00:00</th>\n",
       "      <td>0.128765</td>\n",
       "      <td>0.152949</td>\n",
       "    </tr>\n",
       "    <tr>\n",
       "      <th>2017-09-30 22:00:00</th>\n",
       "      <td>0.108434</td>\n",
       "      <td>0.161771</td>\n",
       "    </tr>\n",
       "    <tr>\n",
       "      <th>2017-09-30 23:00:00</th>\n",
       "      <td>0.105422</td>\n",
       "      <td>0.174423</td>\n",
       "    </tr>\n",
       "    <tr>\n",
       "      <th>2017-10-01 00:00:00</th>\n",
       "      <td>0.165663</td>\n",
       "      <td>0.184522</td>\n",
       "    </tr>\n",
       "    <tr>\n",
       "      <th>...</th>\n",
       "      <td>...</td>\n",
       "      <td>...</td>\n",
       "    </tr>\n",
       "    <tr>\n",
       "      <th>2017-10-30 19:00:00</th>\n",
       "      <td>0.443524</td>\n",
       "      <td>0.721681</td>\n",
       "    </tr>\n",
       "    <tr>\n",
       "      <th>2017-10-30 20:00:00</th>\n",
       "      <td>0.475904</td>\n",
       "      <td>0.721199</td>\n",
       "    </tr>\n",
       "    <tr>\n",
       "      <th>2017-10-30 21:00:00</th>\n",
       "      <td>0.490964</td>\n",
       "      <td>0.720640</td>\n",
       "    </tr>\n",
       "    <tr>\n",
       "      <th>2017-10-30 22:00:00</th>\n",
       "      <td>0.476657</td>\n",
       "      <td>0.719790</td>\n",
       "    </tr>\n",
       "    <tr>\n",
       "      <th>2017-10-30 23:00:00</th>\n",
       "      <td>0.463102</td>\n",
       "      <td>0.719289</td>\n",
       "    </tr>\n",
       "  </tbody>\n",
       "</table>\n",
       "<p>724 rows × 2 columns</p>\n",
       "</div>"
      ],
      "text/plain": [
       "                     Wind_speed_tower     NHITS\n",
       "ds                                             \n",
       "2017-09-30 20:00:00          0.135542  0.143255\n",
       "2017-09-30 21:00:00          0.128765  0.152949\n",
       "2017-09-30 22:00:00          0.108434  0.161771\n",
       "2017-09-30 23:00:00          0.105422  0.174423\n",
       "2017-10-01 00:00:00          0.165663  0.184522\n",
       "...                               ...       ...\n",
       "2017-10-30 19:00:00          0.443524  0.721681\n",
       "2017-10-30 20:00:00          0.475904  0.721199\n",
       "2017-10-30 21:00:00          0.490964  0.720640\n",
       "2017-10-30 22:00:00          0.476657  0.719790\n",
       "2017-10-30 23:00:00          0.463102  0.719289\n",
       "\n",
       "[724 rows x 2 columns]"
      ]
     },
     "execution_count": 112,
     "metadata": {},
     "output_type": "execute_result"
    }
   ],
   "source": [
    "mae1h_df.insert(0, 'Wind_speed_tower', test_df_nf['Wind_speed_tower'].values)\n",
    "mae1h_df"
   ]
  },
  {
   "cell_type": "code",
   "execution_count": 113,
   "id": "e2ae2d9f",
   "metadata": {},
   "outputs": [
    {
     "data": {
      "text/plain": [
       "0.006674091426698358"
      ]
     },
     "execution_count": 113,
     "metadata": {},
     "output_type": "execute_result"
    }
   ],
   "source": [
    "# mae1h_df.columns = [\"Wind_speed_tower\", \"Active_Power\"]\n",
    "mean_absolute_error(scaler.inverse_transform(mae1h_df)[:,1], test_df_original[\"Active_Power\"])"
   ]
  },
  {
   "cell_type": "markdown",
   "id": "304786aa",
   "metadata": {},
   "source": [
    "#### Mae for 2h preddictions"
   ]
  },
  {
   "cell_type": "code",
   "execution_count": 114,
   "id": "d9fcdf07",
   "metadata": {},
   "outputs": [
    {
     "data": {
      "text/html": [
       "<div>\n",
       "<style scoped>\n",
       "    .dataframe tbody tr th:only-of-type {\n",
       "        vertical-align: middle;\n",
       "    }\n",
       "\n",
       "    .dataframe tbody tr th {\n",
       "        vertical-align: top;\n",
       "    }\n",
       "\n",
       "    .dataframe thead th {\n",
       "        text-align: right;\n",
       "    }\n",
       "</style>\n",
       "<table border=\"1\" class=\"dataframe\">\n",
       "  <thead>\n",
       "    <tr style=\"text-align: right;\">\n",
       "      <th></th>\n",
       "      <th>NHITS</th>\n",
       "    </tr>\n",
       "    <tr>\n",
       "      <th>ds</th>\n",
       "      <th></th>\n",
       "    </tr>\n",
       "  </thead>\n",
       "  <tbody>\n",
       "    <tr>\n",
       "      <th>2017-09-30 20:00:00</th>\n",
       "      <td>0.142033</td>\n",
       "    </tr>\n",
       "    <tr>\n",
       "      <th>2017-09-30 21:00:00</th>\n",
       "      <td>0.152502</td>\n",
       "    </tr>\n",
       "    <tr>\n",
       "      <th>2017-09-30 22:00:00</th>\n",
       "      <td>0.161576</td>\n",
       "    </tr>\n",
       "    <tr>\n",
       "      <th>2017-09-30 23:00:00</th>\n",
       "      <td>0.169637</td>\n",
       "    </tr>\n",
       "    <tr>\n",
       "      <th>2017-10-01 00:00:00</th>\n",
       "      <td>0.184456</td>\n",
       "    </tr>\n",
       "    <tr>\n",
       "      <th>...</th>\n",
       "      <td>...</td>\n",
       "    </tr>\n",
       "    <tr>\n",
       "      <th>2017-10-30 19:00:00</th>\n",
       "      <td>0.721748</td>\n",
       "    </tr>\n",
       "    <tr>\n",
       "      <th>2017-10-30 20:00:00</th>\n",
       "      <td>0.720069</td>\n",
       "    </tr>\n",
       "    <tr>\n",
       "      <th>2017-10-30 21:00:00</th>\n",
       "      <td>0.720531</td>\n",
       "    </tr>\n",
       "    <tr>\n",
       "      <th>2017-10-30 22:00:00</th>\n",
       "      <td>0.720106</td>\n",
       "    </tr>\n",
       "    <tr>\n",
       "      <th>2017-10-30 23:00:00</th>\n",
       "      <td>0.719239</td>\n",
       "    </tr>\n",
       "  </tbody>\n",
       "</table>\n",
       "<p>724 rows × 1 columns</p>\n",
       "</div>"
      ],
      "text/plain": [
       "                        NHITS\n",
       "ds                           \n",
       "2017-09-30 20:00:00  0.142033\n",
       "2017-09-30 21:00:00  0.152502\n",
       "2017-09-30 22:00:00  0.161576\n",
       "2017-09-30 23:00:00  0.169637\n",
       "2017-10-01 00:00:00  0.184456\n",
       "...                       ...\n",
       "2017-10-30 19:00:00  0.721748\n",
       "2017-10-30 20:00:00  0.720069\n",
       "2017-10-30 21:00:00  0.720531\n",
       "2017-10-30 22:00:00  0.720106\n",
       "2017-10-30 23:00:00  0.719239\n",
       "\n",
       "[724 rows x 1 columns]"
      ]
     },
     "execution_count": 114,
     "metadata": {},
     "output_type": "execute_result"
    }
   ],
   "source": [
    "mae2h_df = preds_df['2h'].copy()[1:][:-1][['NHITS']]\n",
    "mae2h_df\n"
   ]
  },
  {
   "cell_type": "code",
   "execution_count": 115,
   "id": "3bd194e9",
   "metadata": {},
   "outputs": [
    {
     "data": {
      "text/html": [
       "<div>\n",
       "<style scoped>\n",
       "    .dataframe tbody tr th:only-of-type {\n",
       "        vertical-align: middle;\n",
       "    }\n",
       "\n",
       "    .dataframe tbody tr th {\n",
       "        vertical-align: top;\n",
       "    }\n",
       "\n",
       "    .dataframe thead th {\n",
       "        text-align: right;\n",
       "    }\n",
       "</style>\n",
       "<table border=\"1\" class=\"dataframe\">\n",
       "  <thead>\n",
       "    <tr style=\"text-align: right;\">\n",
       "      <th></th>\n",
       "      <th>Wind_speed_tower</th>\n",
       "      <th>NHITS</th>\n",
       "    </tr>\n",
       "    <tr>\n",
       "      <th>ds</th>\n",
       "      <th></th>\n",
       "      <th></th>\n",
       "    </tr>\n",
       "  </thead>\n",
       "  <tbody>\n",
       "    <tr>\n",
       "      <th>2017-09-30 20:00:00</th>\n",
       "      <td>0.135542</td>\n",
       "      <td>0.142033</td>\n",
       "    </tr>\n",
       "    <tr>\n",
       "      <th>2017-09-30 21:00:00</th>\n",
       "      <td>0.128765</td>\n",
       "      <td>0.152502</td>\n",
       "    </tr>\n",
       "    <tr>\n",
       "      <th>2017-09-30 22:00:00</th>\n",
       "      <td>0.108434</td>\n",
       "      <td>0.161576</td>\n",
       "    </tr>\n",
       "    <tr>\n",
       "      <th>2017-09-30 23:00:00</th>\n",
       "      <td>0.105422</td>\n",
       "      <td>0.169637</td>\n",
       "    </tr>\n",
       "    <tr>\n",
       "      <th>2017-10-01 00:00:00</th>\n",
       "      <td>0.165663</td>\n",
       "      <td>0.184456</td>\n",
       "    </tr>\n",
       "    <tr>\n",
       "      <th>...</th>\n",
       "      <td>...</td>\n",
       "      <td>...</td>\n",
       "    </tr>\n",
       "    <tr>\n",
       "      <th>2017-10-30 19:00:00</th>\n",
       "      <td>0.443524</td>\n",
       "      <td>0.721748</td>\n",
       "    </tr>\n",
       "    <tr>\n",
       "      <th>2017-10-30 20:00:00</th>\n",
       "      <td>0.475904</td>\n",
       "      <td>0.720069</td>\n",
       "    </tr>\n",
       "    <tr>\n",
       "      <th>2017-10-30 21:00:00</th>\n",
       "      <td>0.490964</td>\n",
       "      <td>0.720531</td>\n",
       "    </tr>\n",
       "    <tr>\n",
       "      <th>2017-10-30 22:00:00</th>\n",
       "      <td>0.476657</td>\n",
       "      <td>0.720106</td>\n",
       "    </tr>\n",
       "    <tr>\n",
       "      <th>2017-10-30 23:00:00</th>\n",
       "      <td>0.463102</td>\n",
       "      <td>0.719239</td>\n",
       "    </tr>\n",
       "  </tbody>\n",
       "</table>\n",
       "<p>724 rows × 2 columns</p>\n",
       "</div>"
      ],
      "text/plain": [
       "                     Wind_speed_tower     NHITS\n",
       "ds                                             \n",
       "2017-09-30 20:00:00          0.135542  0.142033\n",
       "2017-09-30 21:00:00          0.128765  0.152502\n",
       "2017-09-30 22:00:00          0.108434  0.161576\n",
       "2017-09-30 23:00:00          0.105422  0.169637\n",
       "2017-10-01 00:00:00          0.165663  0.184456\n",
       "...                               ...       ...\n",
       "2017-10-30 19:00:00          0.443524  0.721748\n",
       "2017-10-30 20:00:00          0.475904  0.720069\n",
       "2017-10-30 21:00:00          0.490964  0.720531\n",
       "2017-10-30 22:00:00          0.476657  0.720106\n",
       "2017-10-30 23:00:00          0.463102  0.719239\n",
       "\n",
       "[724 rows x 2 columns]"
      ]
     },
     "execution_count": 115,
     "metadata": {},
     "output_type": "execute_result"
    }
   ],
   "source": [
    "mae2h_df.insert(0, 'Wind_speed_tower', test_df_nf['Wind_speed_tower'].values)\n",
    "mae2h_df"
   ]
  },
  {
   "cell_type": "code",
   "execution_count": 117,
   "id": "55f0cab8",
   "metadata": {},
   "outputs": [
    {
     "data": {
      "text/plain": [
       "0.02290388513652618"
      ]
     },
     "execution_count": 117,
     "metadata": {},
     "output_type": "execute_result"
    }
   ],
   "source": [
    "# mae1h_df.columns = [\"Wind_speed_tower\", \"Active_Power\"]\n",
    "mean_absolute_error(scaler.inverse_transform(mae2h_df)[:,1], test_df_original[\"Active_Power\"])"
   ]
  },
  {
   "cell_type": "markdown",
   "id": "3cbebaaf",
   "metadata": {},
   "source": [
    "#### Mae for 3h preddictions"
   ]
  },
  {
   "cell_type": "code",
   "execution_count": 118,
   "id": "ddd3a4ba",
   "metadata": {},
   "outputs": [
    {
     "data": {
      "text/html": [
       "<div>\n",
       "<style scoped>\n",
       "    .dataframe tbody tr th:only-of-type {\n",
       "        vertical-align: middle;\n",
       "    }\n",
       "\n",
       "    .dataframe tbody tr th {\n",
       "        vertical-align: top;\n",
       "    }\n",
       "\n",
       "    .dataframe thead th {\n",
       "        text-align: right;\n",
       "    }\n",
       "</style>\n",
       "<table border=\"1\" class=\"dataframe\">\n",
       "  <thead>\n",
       "    <tr style=\"text-align: right;\">\n",
       "      <th></th>\n",
       "      <th>NHITS</th>\n",
       "    </tr>\n",
       "    <tr>\n",
       "      <th>ds</th>\n",
       "      <th></th>\n",
       "    </tr>\n",
       "  </thead>\n",
       "  <tbody>\n",
       "    <tr>\n",
       "      <th>2017-09-30 20:00:00</th>\n",
       "      <td>0.142487</td>\n",
       "    </tr>\n",
       "    <tr>\n",
       "      <th>2017-09-30 21:00:00</th>\n",
       "      <td>0.152598</td>\n",
       "    </tr>\n",
       "    <tr>\n",
       "      <th>2017-09-30 22:00:00</th>\n",
       "      <td>0.158074</td>\n",
       "    </tr>\n",
       "    <tr>\n",
       "      <th>2017-09-30 23:00:00</th>\n",
       "      <td>0.172433</td>\n",
       "    </tr>\n",
       "    <tr>\n",
       "      <th>2017-10-01 00:00:00</th>\n",
       "      <td>0.181613</td>\n",
       "    </tr>\n",
       "    <tr>\n",
       "      <th>...</th>\n",
       "      <td>...</td>\n",
       "    </tr>\n",
       "    <tr>\n",
       "      <th>2017-10-30 19:00:00</th>\n",
       "      <td>0.721319</td>\n",
       "    </tr>\n",
       "    <tr>\n",
       "      <th>2017-10-30 20:00:00</th>\n",
       "      <td>0.721116</td>\n",
       "    </tr>\n",
       "    <tr>\n",
       "      <th>2017-10-30 21:00:00</th>\n",
       "      <td>0.717298</td>\n",
       "    </tr>\n",
       "    <tr>\n",
       "      <th>2017-10-30 22:00:00</th>\n",
       "      <td>0.719902</td>\n",
       "    </tr>\n",
       "    <tr>\n",
       "      <th>2017-10-30 23:00:00</th>\n",
       "      <td>0.719717</td>\n",
       "    </tr>\n",
       "  </tbody>\n",
       "</table>\n",
       "<p>724 rows × 1 columns</p>\n",
       "</div>"
      ],
      "text/plain": [
       "                        NHITS\n",
       "ds                           \n",
       "2017-09-30 20:00:00  0.142487\n",
       "2017-09-30 21:00:00  0.152598\n",
       "2017-09-30 22:00:00  0.158074\n",
       "2017-09-30 23:00:00  0.172433\n",
       "2017-10-01 00:00:00  0.181613\n",
       "...                       ...\n",
       "2017-10-30 19:00:00  0.721319\n",
       "2017-10-30 20:00:00  0.721116\n",
       "2017-10-30 21:00:00  0.717298\n",
       "2017-10-30 22:00:00  0.719902\n",
       "2017-10-30 23:00:00  0.719717\n",
       "\n",
       "[724 rows x 1 columns]"
      ]
     },
     "execution_count": 118,
     "metadata": {},
     "output_type": "execute_result"
    }
   ],
   "source": [
    "mae3h_df = preds_df['3h'].copy()[:-2][['NHITS']]\n",
    "mae3h_df\n"
   ]
  },
  {
   "cell_type": "code",
   "execution_count": 119,
   "id": "bc6cf5ea",
   "metadata": {},
   "outputs": [
    {
     "data": {
      "text/html": [
       "<div>\n",
       "<style scoped>\n",
       "    .dataframe tbody tr th:only-of-type {\n",
       "        vertical-align: middle;\n",
       "    }\n",
       "\n",
       "    .dataframe tbody tr th {\n",
       "        vertical-align: top;\n",
       "    }\n",
       "\n",
       "    .dataframe thead th {\n",
       "        text-align: right;\n",
       "    }\n",
       "</style>\n",
       "<table border=\"1\" class=\"dataframe\">\n",
       "  <thead>\n",
       "    <tr style=\"text-align: right;\">\n",
       "      <th></th>\n",
       "      <th>Wind_speed_tower</th>\n",
       "      <th>NHITS</th>\n",
       "    </tr>\n",
       "    <tr>\n",
       "      <th>ds</th>\n",
       "      <th></th>\n",
       "      <th></th>\n",
       "    </tr>\n",
       "  </thead>\n",
       "  <tbody>\n",
       "    <tr>\n",
       "      <th>2017-09-30 20:00:00</th>\n",
       "      <td>0.135542</td>\n",
       "      <td>0.142487</td>\n",
       "    </tr>\n",
       "    <tr>\n",
       "      <th>2017-09-30 21:00:00</th>\n",
       "      <td>0.128765</td>\n",
       "      <td>0.152598</td>\n",
       "    </tr>\n",
       "    <tr>\n",
       "      <th>2017-09-30 22:00:00</th>\n",
       "      <td>0.108434</td>\n",
       "      <td>0.158074</td>\n",
       "    </tr>\n",
       "    <tr>\n",
       "      <th>2017-09-30 23:00:00</th>\n",
       "      <td>0.105422</td>\n",
       "      <td>0.172433</td>\n",
       "    </tr>\n",
       "    <tr>\n",
       "      <th>2017-10-01 00:00:00</th>\n",
       "      <td>0.165663</td>\n",
       "      <td>0.181613</td>\n",
       "    </tr>\n",
       "    <tr>\n",
       "      <th>...</th>\n",
       "      <td>...</td>\n",
       "      <td>...</td>\n",
       "    </tr>\n",
       "    <tr>\n",
       "      <th>2017-10-30 19:00:00</th>\n",
       "      <td>0.443524</td>\n",
       "      <td>0.721319</td>\n",
       "    </tr>\n",
       "    <tr>\n",
       "      <th>2017-10-30 20:00:00</th>\n",
       "      <td>0.475904</td>\n",
       "      <td>0.721116</td>\n",
       "    </tr>\n",
       "    <tr>\n",
       "      <th>2017-10-30 21:00:00</th>\n",
       "      <td>0.490964</td>\n",
       "      <td>0.717298</td>\n",
       "    </tr>\n",
       "    <tr>\n",
       "      <th>2017-10-30 22:00:00</th>\n",
       "      <td>0.476657</td>\n",
       "      <td>0.719902</td>\n",
       "    </tr>\n",
       "    <tr>\n",
       "      <th>2017-10-30 23:00:00</th>\n",
       "      <td>0.463102</td>\n",
       "      <td>0.719717</td>\n",
       "    </tr>\n",
       "  </tbody>\n",
       "</table>\n",
       "<p>724 rows × 2 columns</p>\n",
       "</div>"
      ],
      "text/plain": [
       "                     Wind_speed_tower     NHITS\n",
       "ds                                             \n",
       "2017-09-30 20:00:00          0.135542  0.142487\n",
       "2017-09-30 21:00:00          0.128765  0.152598\n",
       "2017-09-30 22:00:00          0.108434  0.158074\n",
       "2017-09-30 23:00:00          0.105422  0.172433\n",
       "2017-10-01 00:00:00          0.165663  0.181613\n",
       "...                               ...       ...\n",
       "2017-10-30 19:00:00          0.443524  0.721319\n",
       "2017-10-30 20:00:00          0.475904  0.721116\n",
       "2017-10-30 21:00:00          0.490964  0.717298\n",
       "2017-10-30 22:00:00          0.476657  0.719902\n",
       "2017-10-30 23:00:00          0.463102  0.719717\n",
       "\n",
       "[724 rows x 2 columns]"
      ]
     },
     "execution_count": 119,
     "metadata": {},
     "output_type": "execute_result"
    }
   ],
   "source": [
    "mae3h_df.insert(0, 'Wind_speed_tower', test_df_nf['Wind_speed_tower'].values)\n",
    "mae3h_df"
   ]
  },
  {
   "cell_type": "code",
   "execution_count": 120,
   "id": "609bfa2f",
   "metadata": {},
   "outputs": [
    {
     "data": {
      "text/plain": [
       "0.04667031221239267"
      ]
     },
     "execution_count": 120,
     "metadata": {},
     "output_type": "execute_result"
    }
   ],
   "source": [
    "mean_absolute_error(scaler.inverse_transform(mae3h_df)[:,1], test_df_original[\"Active_Power\"])"
   ]
  }
 ],
 "metadata": {
  "kernelspec": {
   "display_name": "tfm_cc",
   "language": "python",
   "name": "python3"
  },
  "language_info": {
   "codemirror_mode": {
    "name": "ipython",
    "version": 3
   },
   "file_extension": ".py",
   "mimetype": "text/x-python",
   "name": "python",
   "nbconvert_exporter": "python",
   "pygments_lexer": "ipython3",
   "version": "3.10.16"
  }
 },
 "nbformat": 4,
 "nbformat_minor": 5
}
