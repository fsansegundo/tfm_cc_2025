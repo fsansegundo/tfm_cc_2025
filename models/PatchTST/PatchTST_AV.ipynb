{
 "cells": [
  {
   "cell_type": "markdown",
   "id": "50ef451e",
   "metadata": {},
   "source": [
    "# PatchTST Forecasting with Nixtla's NeuralForecast"
   ]
  },
  {
   "cell_type": "markdown",
   "id": "b8046b11",
   "metadata": {},
   "source": [
    "## Dataset: AV"
   ]
  },
  {
   "cell_type": "markdown",
   "id": "760db197",
   "metadata": {},
   "source": [
    "This notebook demonstrates how to use the PatchTST forecasting model described in:\n",
    "\n",
    "A Time Series is Worth 64 Words: Long-Term Forecasting with Transformers*, [https://arxiv.org/pdf/2211.14730](https://arxiv.org/pdf/2211.14730)\n",
    "\n",
    "The implementation we use is provided by Nixtla's NeuralForecast library:\n",
    "\n",
    "+ for the base model [`PatchTST`](https://nixtlaverse.nixtla.io/neuralforecast/models.patchtst.html)\n",
    "+ for the automodel [`AutoPatchTST`](https://nixtlaverse.nixtla.io/neuralforecast/models.html#autopatchtst)\n",
    "\n",
    "## Important note:\n",
    "\n",
    "This notebook uses the following conda environments:\n",
    "\n",
    "+ Under linux: tfm_cc, described in the tfm_cc.yml file (see environments folder).\n",
    "+ Under macOS: tfm_cc_nixtla, described in the tfm_cc_nixtla.yml file (see environments folder). \n",
    "\n",
    "## Execution Notes:\n",
    "\n",
    "The run times that appear below correspond to the execution of the notebook in a Linux machine under Ubuntu 22.04 LTS with Intel Core i7-10870H CPU (2.20GHz), 64GB of RAM, NVIDIA GeForce RTX 3060 Laptop GPU with 6Gb VRAM."
   ]
  },
  {
   "cell_type": "markdown",
   "id": "e222d178",
   "metadata": {},
   "source": [
    "## Load basic libraries\n",
    "\n",
    "**Warning:** Model specific libraries will be loaded below."
   ]
  },
  {
   "cell_type": "code",
   "execution_count": 1,
   "id": "7b2fa2ef",
   "metadata": {},
   "outputs": [],
   "source": [
    "import pandas as pd\n",
    "import numpy as np\n",
    "import matplotlib.pyplot as plt\n",
    "\n",
    "import time\n",
    "import logging\n",
    "\n",
    "\n",
    "\n",
    "from sklearn.preprocessing import MinMaxScaler\n",
    "from sklearn.preprocessing import StandardScaler\n",
    "from sklearn.model_selection import train_test_split\n",
    "from sklearn.metrics import mean_absolute_error\n"
   ]
  },
  {
   "cell_type": "markdown",
   "id": "563c3f97",
   "metadata": {},
   "source": [
    "## Load dataset"
   ]
  },
  {
   "cell_type": "code",
   "execution_count": 2,
   "id": "ef916c6c",
   "metadata": {},
   "outputs": [
    {
     "data": {
      "text/html": [
       "<div>\n",
       "<style scoped>\n",
       "    .dataframe tbody tr th:only-of-type {\n",
       "        vertical-align: middle;\n",
       "    }\n",
       "\n",
       "    .dataframe tbody tr th {\n",
       "        vertical-align: top;\n",
       "    }\n",
       "\n",
       "    .dataframe thead th {\n",
       "        text-align: right;\n",
       "    }\n",
       "</style>\n",
       "<table border=\"1\" class=\"dataframe\">\n",
       "  <thead>\n",
       "    <tr style=\"text-align: right;\">\n",
       "      <th></th>\n",
       "      <th>time</th>\n",
       "      <th>Active_Power</th>\n",
       "      <th>Wind_speed_tower</th>\n",
       "      <th>Preassure</th>\n",
       "      <th>Generator_Speed</th>\n",
       "      <th>F1_v(90).Mean</th>\n",
       "      <th>F1_v(80).Mean</th>\n",
       "      <th>F1_v(70).Mean</th>\n",
       "      <th>F1_v(60).Mean</th>\n",
       "      <th>F1_v(50).Mean</th>\n",
       "      <th>F1_v(40).Mean</th>\n",
       "      <th>F1_v(30).Mean</th>\n",
       "    </tr>\n",
       "  </thead>\n",
       "  <tbody>\n",
       "    <tr>\n",
       "      <th>0</th>\n",
       "      <td>01/09/2022 0:00</td>\n",
       "      <td>2505.48220</td>\n",
       "      <td>9.057124</td>\n",
       "      <td>1012.38360</td>\n",
       "      <td>1121.2102</td>\n",
       "      <td>9.023969</td>\n",
       "      <td>3.97405</td>\n",
       "      <td>9.076108</td>\n",
       "      <td>3.82628</td>\n",
       "      <td>8.992466</td>\n",
       "      <td>3.39136</td>\n",
       "      <td>8.827003</td>\n",
       "    </tr>\n",
       "    <tr>\n",
       "      <th>1</th>\n",
       "      <td>01/09/2022 1:00</td>\n",
       "      <td>1762.24210</td>\n",
       "      <td>8.078237</td>\n",
       "      <td>1012.41210</td>\n",
       "      <td>1073.9020</td>\n",
       "      <td>8.110137</td>\n",
       "      <td>3.97405</td>\n",
       "      <td>8.151952</td>\n",
       "      <td>3.82628</td>\n",
       "      <td>8.076786</td>\n",
       "      <td>3.39136</td>\n",
       "      <td>8.005285</td>\n",
       "    </tr>\n",
       "    <tr>\n",
       "      <th>2</th>\n",
       "      <td>01/09/2022 2:00</td>\n",
       "      <td>1460.83560</td>\n",
       "      <td>7.712017</td>\n",
       "      <td>1012.29083</td>\n",
       "      <td>1021.2429</td>\n",
       "      <td>7.527431</td>\n",
       "      <td>3.97405</td>\n",
       "      <td>7.615797</td>\n",
       "      <td>3.82628</td>\n",
       "      <td>7.517593</td>\n",
       "      <td>3.39136</td>\n",
       "      <td>7.461551</td>\n",
       "    </tr>\n",
       "    <tr>\n",
       "      <th>3</th>\n",
       "      <td>01/09/2022 3:00</td>\n",
       "      <td>926.81006</td>\n",
       "      <td>6.672135</td>\n",
       "      <td>1012.15690</td>\n",
       "      <td>894.0004</td>\n",
       "      <td>6.566134</td>\n",
       "      <td>3.97405</td>\n",
       "      <td>6.637816</td>\n",
       "      <td>3.82628</td>\n",
       "      <td>6.571112</td>\n",
       "      <td>3.39136</td>\n",
       "      <td>6.550666</td>\n",
       "    </tr>\n",
       "    <tr>\n",
       "      <th>4</th>\n",
       "      <td>01/09/2022 4:00</td>\n",
       "      <td>671.34590</td>\n",
       "      <td>6.100095</td>\n",
       "      <td>1012.09424</td>\n",
       "      <td>821.4349</td>\n",
       "      <td>5.988185</td>\n",
       "      <td>3.97405</td>\n",
       "      <td>6.049537</td>\n",
       "      <td>3.82628</td>\n",
       "      <td>5.986922</td>\n",
       "      <td>3.39136</td>\n",
       "      <td>5.982606</td>\n",
       "    </tr>\n",
       "  </tbody>\n",
       "</table>\n",
       "</div>"
      ],
      "text/plain": [
       "              time  Active_Power  Wind_speed_tower   Preassure  \\\n",
       "0  01/09/2022 0:00    2505.48220          9.057124  1012.38360   \n",
       "1  01/09/2022 1:00    1762.24210          8.078237  1012.41210   \n",
       "2  01/09/2022 2:00    1460.83560          7.712017  1012.29083   \n",
       "3  01/09/2022 3:00     926.81006          6.672135  1012.15690   \n",
       "4  01/09/2022 4:00     671.34590          6.100095  1012.09424   \n",
       "\n",
       "   Generator_Speed  F1_v(90).Mean  F1_v(80).Mean  F1_v(70).Mean  \\\n",
       "0        1121.2102       9.023969        3.97405       9.076108   \n",
       "1        1073.9020       8.110137        3.97405       8.151952   \n",
       "2        1021.2429       7.527431        3.97405       7.615797   \n",
       "3         894.0004       6.566134        3.97405       6.637816   \n",
       "4         821.4349       5.988185        3.97405       6.049537   \n",
       "\n",
       "   F1_v(60).Mean  F1_v(50).Mean  F1_v(40).Mean  F1_v(30).Mean  \n",
       "0        3.82628       8.992466        3.39136       8.827003  \n",
       "1        3.82628       8.076786        3.39136       8.005285  \n",
       "2        3.82628       7.517593        3.39136       7.461551  \n",
       "3        3.82628       6.571112        3.39136       6.550666  \n",
       "4        3.82628       5.986922        3.39136       5.982606  "
      ]
     },
     "execution_count": 2,
     "metadata": {},
     "output_type": "execute_result"
    }
   ],
   "source": [
    "file_path = \"../../data/filtered_df.csv\"\n",
    "df = pd.read_csv(file_path, delimiter=';')\n",
    "df.head()"
   ]
  },
  {
   "cell_type": "markdown",
   "id": "1fe3fe7d",
   "metadata": {},
   "source": [
    "### Set datetime format and index"
   ]
  },
  {
   "cell_type": "code",
   "execution_count": 3,
   "id": "df609633",
   "metadata": {},
   "outputs": [
    {
     "data": {
      "text/html": [
       "<div>\n",
       "<style scoped>\n",
       "    .dataframe tbody tr th:only-of-type {\n",
       "        vertical-align: middle;\n",
       "    }\n",
       "\n",
       "    .dataframe tbody tr th {\n",
       "        vertical-align: top;\n",
       "    }\n",
       "\n",
       "    .dataframe thead th {\n",
       "        text-align: right;\n",
       "    }\n",
       "</style>\n",
       "<table border=\"1\" class=\"dataframe\">\n",
       "  <thead>\n",
       "    <tr style=\"text-align: right;\">\n",
       "      <th></th>\n",
       "      <th>Active_Power</th>\n",
       "      <th>Wind_speed_tower</th>\n",
       "      <th>Preassure</th>\n",
       "      <th>Generator_Speed</th>\n",
       "      <th>F1_v(90).Mean</th>\n",
       "      <th>F1_v(80).Mean</th>\n",
       "      <th>F1_v(70).Mean</th>\n",
       "      <th>F1_v(60).Mean</th>\n",
       "      <th>F1_v(50).Mean</th>\n",
       "      <th>F1_v(40).Mean</th>\n",
       "      <th>F1_v(30).Mean</th>\n",
       "    </tr>\n",
       "    <tr>\n",
       "      <th>time</th>\n",
       "      <th></th>\n",
       "      <th></th>\n",
       "      <th></th>\n",
       "      <th></th>\n",
       "      <th></th>\n",
       "      <th></th>\n",
       "      <th></th>\n",
       "      <th></th>\n",
       "      <th></th>\n",
       "      <th></th>\n",
       "      <th></th>\n",
       "    </tr>\n",
       "  </thead>\n",
       "  <tbody>\n",
       "    <tr>\n",
       "      <th>2022-09-01 00:00:00</th>\n",
       "      <td>2505.48220</td>\n",
       "      <td>9.057124</td>\n",
       "      <td>1012.38360</td>\n",
       "      <td>1121.2102</td>\n",
       "      <td>9.023969</td>\n",
       "      <td>3.97405</td>\n",
       "      <td>9.076108</td>\n",
       "      <td>3.82628</td>\n",
       "      <td>8.992466</td>\n",
       "      <td>3.39136</td>\n",
       "      <td>8.827003</td>\n",
       "    </tr>\n",
       "    <tr>\n",
       "      <th>2022-09-01 01:00:00</th>\n",
       "      <td>1762.24210</td>\n",
       "      <td>8.078237</td>\n",
       "      <td>1012.41210</td>\n",
       "      <td>1073.9020</td>\n",
       "      <td>8.110137</td>\n",
       "      <td>3.97405</td>\n",
       "      <td>8.151952</td>\n",
       "      <td>3.82628</td>\n",
       "      <td>8.076786</td>\n",
       "      <td>3.39136</td>\n",
       "      <td>8.005285</td>\n",
       "    </tr>\n",
       "    <tr>\n",
       "      <th>2022-09-01 02:00:00</th>\n",
       "      <td>1460.83560</td>\n",
       "      <td>7.712017</td>\n",
       "      <td>1012.29083</td>\n",
       "      <td>1021.2429</td>\n",
       "      <td>7.527431</td>\n",
       "      <td>3.97405</td>\n",
       "      <td>7.615797</td>\n",
       "      <td>3.82628</td>\n",
       "      <td>7.517593</td>\n",
       "      <td>3.39136</td>\n",
       "      <td>7.461551</td>\n",
       "    </tr>\n",
       "    <tr>\n",
       "      <th>2022-09-01 03:00:00</th>\n",
       "      <td>926.81006</td>\n",
       "      <td>6.672135</td>\n",
       "      <td>1012.15690</td>\n",
       "      <td>894.0004</td>\n",
       "      <td>6.566134</td>\n",
       "      <td>3.97405</td>\n",
       "      <td>6.637816</td>\n",
       "      <td>3.82628</td>\n",
       "      <td>6.571112</td>\n",
       "      <td>3.39136</td>\n",
       "      <td>6.550666</td>\n",
       "    </tr>\n",
       "    <tr>\n",
       "      <th>2022-09-01 04:00:00</th>\n",
       "      <td>671.34590</td>\n",
       "      <td>6.100095</td>\n",
       "      <td>1012.09424</td>\n",
       "      <td>821.4349</td>\n",
       "      <td>5.988185</td>\n",
       "      <td>3.97405</td>\n",
       "      <td>6.049537</td>\n",
       "      <td>3.82628</td>\n",
       "      <td>5.986922</td>\n",
       "      <td>3.39136</td>\n",
       "      <td>5.982606</td>\n",
       "    </tr>\n",
       "  </tbody>\n",
       "</table>\n",
       "</div>"
      ],
      "text/plain": [
       "                     Active_Power  Wind_speed_tower   Preassure  \\\n",
       "time                                                              \n",
       "2022-09-01 00:00:00    2505.48220          9.057124  1012.38360   \n",
       "2022-09-01 01:00:00    1762.24210          8.078237  1012.41210   \n",
       "2022-09-01 02:00:00    1460.83560          7.712017  1012.29083   \n",
       "2022-09-01 03:00:00     926.81006          6.672135  1012.15690   \n",
       "2022-09-01 04:00:00     671.34590          6.100095  1012.09424   \n",
       "\n",
       "                     Generator_Speed  F1_v(90).Mean  F1_v(80).Mean  \\\n",
       "time                                                                 \n",
       "2022-09-01 00:00:00        1121.2102       9.023969        3.97405   \n",
       "2022-09-01 01:00:00        1073.9020       8.110137        3.97405   \n",
       "2022-09-01 02:00:00        1021.2429       7.527431        3.97405   \n",
       "2022-09-01 03:00:00         894.0004       6.566134        3.97405   \n",
       "2022-09-01 04:00:00         821.4349       5.988185        3.97405   \n",
       "\n",
       "                     F1_v(70).Mean  F1_v(60).Mean  F1_v(50).Mean  \\\n",
       "time                                                               \n",
       "2022-09-01 00:00:00       9.076108        3.82628       8.992466   \n",
       "2022-09-01 01:00:00       8.151952        3.82628       8.076786   \n",
       "2022-09-01 02:00:00       7.615797        3.82628       7.517593   \n",
       "2022-09-01 03:00:00       6.637816        3.82628       6.571112   \n",
       "2022-09-01 04:00:00       6.049537        3.82628       5.986922   \n",
       "\n",
       "                     F1_v(40).Mean  F1_v(30).Mean  \n",
       "time                                               \n",
       "2022-09-01 00:00:00        3.39136       8.827003  \n",
       "2022-09-01 01:00:00        3.39136       8.005285  \n",
       "2022-09-01 02:00:00        3.39136       7.461551  \n",
       "2022-09-01 03:00:00        3.39136       6.550666  \n",
       "2022-09-01 04:00:00        3.39136       5.982606  "
      ]
     },
     "execution_count": 3,
     "metadata": {},
     "output_type": "execute_result"
    }
   ],
   "source": [
    "df['time'] = pd.to_datetime(df['time'], format='%d/%m/%Y %H:%M')\n",
    "df.set_index('time', inplace=True)\n",
    "df.head()"
   ]
  },
  {
   "cell_type": "code",
   "execution_count": 4,
   "id": "6d4bdd66",
   "metadata": {},
   "outputs": [
    {
     "name": "stdout",
     "output_type": "stream",
     "text": [
      "<class 'pandas.core.frame.DataFrame'>\n",
      "DatetimeIndex: 7248 entries, 2022-09-01 00:00:00 to 2023-06-29 23:00:00\n",
      "Data columns (total 11 columns):\n",
      " #   Column            Non-Null Count  Dtype  \n",
      "---  ------            --------------  -----  \n",
      " 0   Active_Power      7248 non-null   float64\n",
      " 1   Wind_speed_tower  7248 non-null   float64\n",
      " 2   Preassure         7248 non-null   float64\n",
      " 3   Generator_Speed   7248 non-null   float64\n",
      " 4   F1_v(90).Mean     7162 non-null   float64\n",
      " 5   F1_v(80).Mean     7162 non-null   float64\n",
      " 6   F1_v(70).Mean     7162 non-null   float64\n",
      " 7   F1_v(60).Mean     7162 non-null   float64\n",
      " 8   F1_v(50).Mean     7162 non-null   float64\n",
      " 9   F1_v(40).Mean     7162 non-null   float64\n",
      " 10  F1_v(30).Mean     7162 non-null   float64\n",
      "dtypes: float64(11)\n",
      "memory usage: 679.5 KB\n"
     ]
    }
   ],
   "source": [
    "df.info()"
   ]
  },
  {
   "cell_type": "markdown",
   "id": "140a000b",
   "metadata": {},
   "source": [
    "In this example, we only use the following variables:"
   ]
  },
  {
   "cell_type": "code",
   "execution_count": 5,
   "id": "bdc26922",
   "metadata": {},
   "outputs": [
    {
     "name": "stdout",
     "output_type": "stream",
     "text": [
      "<class 'pandas.core.frame.DataFrame'>\n",
      "DatetimeIndex: 7248 entries, 2022-09-01 00:00:00 to 2023-06-29 23:00:00\n",
      "Data columns (total 4 columns):\n",
      " #   Column            Non-Null Count  Dtype  \n",
      "---  ------            --------------  -----  \n",
      " 0   Active_Power      7248 non-null   float64\n",
      " 1   Wind_speed_tower  7248 non-null   float64\n",
      " 2   Preassure         7248 non-null   float64\n",
      " 3   Generator_Speed   7248 non-null   float64\n",
      "dtypes: float64(4)\n",
      "memory usage: 283.1 KB\n"
     ]
    }
   ],
   "source": [
    "df = df.iloc[:, :4]\n",
    "\n",
    "df.info()"
   ]
  },
  {
   "cell_type": "markdown",
   "id": "5f063933",
   "metadata": {},
   "source": [
    "### Check for missing values, time gaps, and duplicated dates"
   ]
  },
  {
   "cell_type": "markdown",
   "id": "0ec09e44",
   "metadata": {},
   "source": [
    "There are no missing data in this dataset"
   ]
  },
  {
   "cell_type": "code",
   "execution_count": 6,
   "id": "67974373",
   "metadata": {},
   "outputs": [
    {
     "name": "stdout",
     "output_type": "stream",
     "text": [
      "Active_Power        0\n",
      "Wind_speed_tower    0\n",
      "Preassure           0\n",
      "Generator_Speed     0\n",
      "dtype: int64\n"
     ]
    }
   ],
   "source": [
    "print(df.isna().sum())"
   ]
  },
  {
   "cell_type": "code",
   "execution_count": 7,
   "id": "28902197",
   "metadata": {},
   "outputs": [
    {
     "name": "stdout",
     "output_type": "stream",
     "text": [
      "Number of duplicate timestamps: 0\n",
      "DatetimeIndex([], dtype='datetime64[ns]', name='time', freq=None)\n"
     ]
    }
   ],
   "source": [
    "duplicate_dates = df.index[df.index.duplicated(keep='first')]\n",
    "print(f\"Number of duplicate timestamps: {len(duplicate_dates)}\")\n",
    "print(duplicate_dates)"
   ]
  },
  {
   "cell_type": "code",
   "execution_count": 8,
   "id": "ed3d6813",
   "metadata": {},
   "outputs": [
    {
     "name": "stdout",
     "output_type": "stream",
     "text": [
      "Number of missing timestamps: 0\n",
      "DatetimeIndex([], dtype='datetime64[ns]', freq='h')\n"
     ]
    }
   ],
   "source": [
    "expected_range = pd.date_range(start=df.index.min(), end=df.index.max(), freq='h')\n",
    "missing_dates = expected_range.difference(df.index)\n",
    "\n",
    "print(f\"Number of missing timestamps: {len(missing_dates)}\")\n",
    "print(missing_dates[:30])  # show first 10 missing ones"
   ]
  },
  {
   "cell_type": "markdown",
   "id": "e3df9565",
   "metadata": {},
   "source": [
    "### Target and exogenous variables"
   ]
  },
  {
   "cell_type": "code",
   "execution_count": 9,
   "id": "0a316cff",
   "metadata": {},
   "outputs": [
    {
     "data": {
      "text/plain": [
       "['Wind_speed_tower']"
      ]
     },
     "execution_count": 9,
     "metadata": {},
     "output_type": "execute_result"
    }
   ],
   "source": [
    "target = 'Active_Power'\n",
    "\n",
    "features = [col for col in df.columns if col != target]\n",
    "features = features[:1]\n",
    "features\n"
   ]
  },
  {
   "cell_type": "code",
   "execution_count": 10,
   "id": "f37b8cbf",
   "metadata": {},
   "outputs": [
    {
     "data": {
      "text/html": [
       "<div>\n",
       "<style scoped>\n",
       "    .dataframe tbody tr th:only-of-type {\n",
       "        vertical-align: middle;\n",
       "    }\n",
       "\n",
       "    .dataframe tbody tr th {\n",
       "        vertical-align: top;\n",
       "    }\n",
       "\n",
       "    .dataframe thead th {\n",
       "        text-align: right;\n",
       "    }\n",
       "</style>\n",
       "<table border=\"1\" class=\"dataframe\">\n",
       "  <thead>\n",
       "    <tr style=\"text-align: right;\">\n",
       "      <th></th>\n",
       "      <th>Wind_speed_tower</th>\n",
       "      <th>Active_Power</th>\n",
       "    </tr>\n",
       "    <tr>\n",
       "      <th>time</th>\n",
       "      <th></th>\n",
       "      <th></th>\n",
       "    </tr>\n",
       "  </thead>\n",
       "  <tbody>\n",
       "    <tr>\n",
       "      <th>2022-09-01 00:00:00</th>\n",
       "      <td>9.057124</td>\n",
       "      <td>2505.48220</td>\n",
       "    </tr>\n",
       "    <tr>\n",
       "      <th>2022-09-01 01:00:00</th>\n",
       "      <td>8.078237</td>\n",
       "      <td>1762.24210</td>\n",
       "    </tr>\n",
       "    <tr>\n",
       "      <th>2022-09-01 02:00:00</th>\n",
       "      <td>7.712017</td>\n",
       "      <td>1460.83560</td>\n",
       "    </tr>\n",
       "    <tr>\n",
       "      <th>2022-09-01 03:00:00</th>\n",
       "      <td>6.672135</td>\n",
       "      <td>926.81006</td>\n",
       "    </tr>\n",
       "    <tr>\n",
       "      <th>2022-09-01 04:00:00</th>\n",
       "      <td>6.100095</td>\n",
       "      <td>671.34590</td>\n",
       "    </tr>\n",
       "    <tr>\n",
       "      <th>...</th>\n",
       "      <td>...</td>\n",
       "      <td>...</td>\n",
       "    </tr>\n",
       "    <tr>\n",
       "      <th>2023-06-29 19:00:00</th>\n",
       "      <td>6.510803</td>\n",
       "      <td>843.02400</td>\n",
       "    </tr>\n",
       "    <tr>\n",
       "      <th>2023-06-29 20:00:00</th>\n",
       "      <td>6.739559</td>\n",
       "      <td>954.61980</td>\n",
       "    </tr>\n",
       "    <tr>\n",
       "      <th>2023-06-29 21:00:00</th>\n",
       "      <td>5.570358</td>\n",
       "      <td>530.78204</td>\n",
       "    </tr>\n",
       "    <tr>\n",
       "      <th>2023-06-29 22:00:00</th>\n",
       "      <td>5.017759</td>\n",
       "      <td>316.17050</td>\n",
       "    </tr>\n",
       "    <tr>\n",
       "      <th>2023-06-29 23:00:00</th>\n",
       "      <td>4.197770</td>\n",
       "      <td>118.98179</td>\n",
       "    </tr>\n",
       "  </tbody>\n",
       "</table>\n",
       "<p>7248 rows × 2 columns</p>\n",
       "</div>"
      ],
      "text/plain": [
       "                     Wind_speed_tower  Active_Power\n",
       "time                                               \n",
       "2022-09-01 00:00:00          9.057124    2505.48220\n",
       "2022-09-01 01:00:00          8.078237    1762.24210\n",
       "2022-09-01 02:00:00          7.712017    1460.83560\n",
       "2022-09-01 03:00:00          6.672135     926.81006\n",
       "2022-09-01 04:00:00          6.100095     671.34590\n",
       "...                               ...           ...\n",
       "2023-06-29 19:00:00          6.510803     843.02400\n",
       "2023-06-29 20:00:00          6.739559     954.61980\n",
       "2023-06-29 21:00:00          5.570358     530.78204\n",
       "2023-06-29 22:00:00          5.017759     316.17050\n",
       "2023-06-29 23:00:00          4.197770     118.98179\n",
       "\n",
       "[7248 rows x 2 columns]"
      ]
     },
     "execution_count": 10,
     "metadata": {},
     "output_type": "execute_result"
    }
   ],
   "source": [
    "df = df[features + [target]]\n",
    "df"
   ]
  },
  {
   "cell_type": "markdown",
   "id": "53da4b7d",
   "metadata": {},
   "source": [
    "## Train / Validation / Test split"
   ]
  },
  {
   "cell_type": "markdown",
   "id": "9ac21b8e",
   "metadata": {},
   "source": [
    "We select the following lengths for the train, validation, and test sets:"
   ]
  },
  {
   "cell_type": "code",
   "execution_count": 11,
   "id": "43a73858",
   "metadata": {},
   "outputs": [
    {
     "name": "stdout",
     "output_type": "stream",
     "text": [
      "Train length: 5800\n",
      "Validation length: 724\n",
      "Test length: 724\n"
     ]
    }
   ],
   "source": [
    "train_len = 5800 # approx int(np.ceil(df.shape[0] * 0.8))\n",
    "print(f\"Train length: {train_len}\")\n",
    "\n",
    "val_len = (df.shape[0] - train_len) // 2\n",
    "print(f\"Validation length: {val_len}\")\n",
    "\n",
    "test_len = df.shape[0] - train_len - val_len\n",
    "print(f\"Test length: {test_len}\")"
   ]
  },
  {
   "cell_type": "markdown",
   "id": "478e87cb",
   "metadata": {},
   "source": [
    "And we split the time series into train, validation, and test sets:"
   ]
  },
  {
   "cell_type": "code",
   "execution_count": 12,
   "id": "ab69eaf4",
   "metadata": {},
   "outputs": [
    {
     "data": {
      "text/html": [
       "<div>\n",
       "<style scoped>\n",
       "    .dataframe tbody tr th:only-of-type {\n",
       "        vertical-align: middle;\n",
       "    }\n",
       "\n",
       "    .dataframe tbody tr th {\n",
       "        vertical-align: top;\n",
       "    }\n",
       "\n",
       "    .dataframe thead th {\n",
       "        text-align: right;\n",
       "    }\n",
       "</style>\n",
       "<table border=\"1\" class=\"dataframe\">\n",
       "  <thead>\n",
       "    <tr style=\"text-align: right;\">\n",
       "      <th></th>\n",
       "      <th>Wind_speed_tower</th>\n",
       "      <th>Active_Power</th>\n",
       "    </tr>\n",
       "    <tr>\n",
       "      <th>time</th>\n",
       "      <th></th>\n",
       "      <th></th>\n",
       "    </tr>\n",
       "  </thead>\n",
       "  <tbody>\n",
       "    <tr>\n",
       "      <th>2022-09-01 00:00:00</th>\n",
       "      <td>9.057124</td>\n",
       "      <td>2505.482200</td>\n",
       "    </tr>\n",
       "    <tr>\n",
       "      <th>2022-09-01 01:00:00</th>\n",
       "      <td>8.078237</td>\n",
       "      <td>1762.242100</td>\n",
       "    </tr>\n",
       "    <tr>\n",
       "      <th>2022-09-01 02:00:00</th>\n",
       "      <td>7.712017</td>\n",
       "      <td>1460.835600</td>\n",
       "    </tr>\n",
       "    <tr>\n",
       "      <th>2022-09-01 03:00:00</th>\n",
       "      <td>6.672135</td>\n",
       "      <td>926.810060</td>\n",
       "    </tr>\n",
       "    <tr>\n",
       "      <th>2022-09-01 04:00:00</th>\n",
       "      <td>6.100095</td>\n",
       "      <td>671.345900</td>\n",
       "    </tr>\n",
       "    <tr>\n",
       "      <th>...</th>\n",
       "      <td>...</td>\n",
       "      <td>...</td>\n",
       "    </tr>\n",
       "    <tr>\n",
       "      <th>2023-04-30 11:00:00</th>\n",
       "      <td>4.004780</td>\n",
       "      <td>150.152160</td>\n",
       "    </tr>\n",
       "    <tr>\n",
       "      <th>2023-04-30 12:00:00</th>\n",
       "      <td>3.007964</td>\n",
       "      <td>0.000000</td>\n",
       "    </tr>\n",
       "    <tr>\n",
       "      <th>2023-04-30 13:00:00</th>\n",
       "      <td>1.408475</td>\n",
       "      <td>8.929723</td>\n",
       "    </tr>\n",
       "    <tr>\n",
       "      <th>2023-04-30 14:00:00</th>\n",
       "      <td>1.616868</td>\n",
       "      <td>13.570722</td>\n",
       "    </tr>\n",
       "    <tr>\n",
       "      <th>2023-04-30 15:00:00</th>\n",
       "      <td>2.700079</td>\n",
       "      <td>0.000000</td>\n",
       "    </tr>\n",
       "  </tbody>\n",
       "</table>\n",
       "<p>5800 rows × 2 columns</p>\n",
       "</div>"
      ],
      "text/plain": [
       "                     Wind_speed_tower  Active_Power\n",
       "time                                               \n",
       "2022-09-01 00:00:00          9.057124   2505.482200\n",
       "2022-09-01 01:00:00          8.078237   1762.242100\n",
       "2022-09-01 02:00:00          7.712017   1460.835600\n",
       "2022-09-01 03:00:00          6.672135    926.810060\n",
       "2022-09-01 04:00:00          6.100095    671.345900\n",
       "...                               ...           ...\n",
       "2023-04-30 11:00:00          4.004780    150.152160\n",
       "2023-04-30 12:00:00          3.007964      0.000000\n",
       "2023-04-30 13:00:00          1.408475      8.929723\n",
       "2023-04-30 14:00:00          1.616868     13.570722\n",
       "2023-04-30 15:00:00          2.700079      0.000000\n",
       "\n",
       "[5800 rows x 2 columns]"
      ]
     },
     "execution_count": 12,
     "metadata": {},
     "output_type": "execute_result"
    }
   ],
   "source": [
    "train_df = df.iloc[:train_len]\n",
    "train_df"
   ]
  },
  {
   "cell_type": "code",
   "execution_count": 13,
   "id": "63842b76",
   "metadata": {},
   "outputs": [
    {
     "data": {
      "text/html": [
       "<div>\n",
       "<style scoped>\n",
       "    .dataframe tbody tr th:only-of-type {\n",
       "        vertical-align: middle;\n",
       "    }\n",
       "\n",
       "    .dataframe tbody tr th {\n",
       "        vertical-align: top;\n",
       "    }\n",
       "\n",
       "    .dataframe thead th {\n",
       "        text-align: right;\n",
       "    }\n",
       "</style>\n",
       "<table border=\"1\" class=\"dataframe\">\n",
       "  <thead>\n",
       "    <tr style=\"text-align: right;\">\n",
       "      <th></th>\n",
       "      <th>Wind_speed_tower</th>\n",
       "      <th>Active_Power</th>\n",
       "    </tr>\n",
       "    <tr>\n",
       "      <th>time</th>\n",
       "      <th></th>\n",
       "      <th></th>\n",
       "    </tr>\n",
       "  </thead>\n",
       "  <tbody>\n",
       "    <tr>\n",
       "      <th>2023-04-30 16:00:00</th>\n",
       "      <td>3.812496</td>\n",
       "      <td>178.24010</td>\n",
       "    </tr>\n",
       "    <tr>\n",
       "      <th>2023-04-30 17:00:00</th>\n",
       "      <td>3.483967</td>\n",
       "      <td>0.00000</td>\n",
       "    </tr>\n",
       "    <tr>\n",
       "      <th>2023-04-30 18:00:00</th>\n",
       "      <td>4.239082</td>\n",
       "      <td>147.56505</td>\n",
       "    </tr>\n",
       "    <tr>\n",
       "      <th>2023-04-30 19:00:00</th>\n",
       "      <td>4.626727</td>\n",
       "      <td>274.05078</td>\n",
       "    </tr>\n",
       "    <tr>\n",
       "      <th>2023-04-30 20:00:00</th>\n",
       "      <td>5.066225</td>\n",
       "      <td>449.61557</td>\n",
       "    </tr>\n",
       "    <tr>\n",
       "      <th>...</th>\n",
       "      <td>...</td>\n",
       "      <td>...</td>\n",
       "    </tr>\n",
       "    <tr>\n",
       "      <th>2023-05-30 15:00:00</th>\n",
       "      <td>3.378462</td>\n",
       "      <td>0.00000</td>\n",
       "    </tr>\n",
       "    <tr>\n",
       "      <th>2023-05-30 16:00:00</th>\n",
       "      <td>3.660170</td>\n",
       "      <td>158.17046</td>\n",
       "    </tr>\n",
       "    <tr>\n",
       "      <th>2023-05-30 17:00:00</th>\n",
       "      <td>3.581221</td>\n",
       "      <td>148.18813</td>\n",
       "    </tr>\n",
       "    <tr>\n",
       "      <th>2023-05-30 18:00:00</th>\n",
       "      <td>2.826163</td>\n",
       "      <td>0.00000</td>\n",
       "    </tr>\n",
       "    <tr>\n",
       "      <th>2023-05-30 19:00:00</th>\n",
       "      <td>2.957112</td>\n",
       "      <td>0.00000</td>\n",
       "    </tr>\n",
       "  </tbody>\n",
       "</table>\n",
       "<p>724 rows × 2 columns</p>\n",
       "</div>"
      ],
      "text/plain": [
       "                     Wind_speed_tower  Active_Power\n",
       "time                                               \n",
       "2023-04-30 16:00:00          3.812496     178.24010\n",
       "2023-04-30 17:00:00          3.483967       0.00000\n",
       "2023-04-30 18:00:00          4.239082     147.56505\n",
       "2023-04-30 19:00:00          4.626727     274.05078\n",
       "2023-04-30 20:00:00          5.066225     449.61557\n",
       "...                               ...           ...\n",
       "2023-05-30 15:00:00          3.378462       0.00000\n",
       "2023-05-30 16:00:00          3.660170     158.17046\n",
       "2023-05-30 17:00:00          3.581221     148.18813\n",
       "2023-05-30 18:00:00          2.826163       0.00000\n",
       "2023-05-30 19:00:00          2.957112       0.00000\n",
       "\n",
       "[724 rows x 2 columns]"
      ]
     },
     "execution_count": 13,
     "metadata": {},
     "output_type": "execute_result"
    }
   ],
   "source": [
    "val_df = df.iloc[train_len:(train_len + val_len)]\n",
    "val_df"
   ]
  },
  {
   "cell_type": "code",
   "execution_count": 14,
   "id": "0ea97e80",
   "metadata": {},
   "outputs": [
    {
     "data": {
      "text/html": [
       "<div>\n",
       "<style scoped>\n",
       "    .dataframe tbody tr th:only-of-type {\n",
       "        vertical-align: middle;\n",
       "    }\n",
       "\n",
       "    .dataframe tbody tr th {\n",
       "        vertical-align: top;\n",
       "    }\n",
       "\n",
       "    .dataframe thead th {\n",
       "        text-align: right;\n",
       "    }\n",
       "</style>\n",
       "<table border=\"1\" class=\"dataframe\">\n",
       "  <thead>\n",
       "    <tr style=\"text-align: right;\">\n",
       "      <th></th>\n",
       "      <th>Wind_speed_tower</th>\n",
       "      <th>Active_Power</th>\n",
       "    </tr>\n",
       "    <tr>\n",
       "      <th>time</th>\n",
       "      <th></th>\n",
       "      <th></th>\n",
       "    </tr>\n",
       "  </thead>\n",
       "  <tbody>\n",
       "    <tr>\n",
       "      <th>2023-05-30 20:00:00</th>\n",
       "      <td>3.526134</td>\n",
       "      <td>141.81660</td>\n",
       "    </tr>\n",
       "    <tr>\n",
       "      <th>2023-05-30 21:00:00</th>\n",
       "      <td>3.746263</td>\n",
       "      <td>170.12517</td>\n",
       "    </tr>\n",
       "    <tr>\n",
       "      <th>2023-05-30 22:00:00</th>\n",
       "      <td>2.346617</td>\n",
       "      <td>0.00000</td>\n",
       "    </tr>\n",
       "    <tr>\n",
       "      <th>2023-05-30 23:00:00</th>\n",
       "      <td>2.987464</td>\n",
       "      <td>0.00000</td>\n",
       "    </tr>\n",
       "    <tr>\n",
       "      <th>2023-05-31 00:00:00</th>\n",
       "      <td>3.670265</td>\n",
       "      <td>159.70273</td>\n",
       "    </tr>\n",
       "    <tr>\n",
       "      <th>...</th>\n",
       "      <td>...</td>\n",
       "      <td>...</td>\n",
       "    </tr>\n",
       "    <tr>\n",
       "      <th>2023-06-29 19:00:00</th>\n",
       "      <td>6.510803</td>\n",
       "      <td>843.02400</td>\n",
       "    </tr>\n",
       "    <tr>\n",
       "      <th>2023-06-29 20:00:00</th>\n",
       "      <td>6.739559</td>\n",
       "      <td>954.61980</td>\n",
       "    </tr>\n",
       "    <tr>\n",
       "      <th>2023-06-29 21:00:00</th>\n",
       "      <td>5.570358</td>\n",
       "      <td>530.78204</td>\n",
       "    </tr>\n",
       "    <tr>\n",
       "      <th>2023-06-29 22:00:00</th>\n",
       "      <td>5.017759</td>\n",
       "      <td>316.17050</td>\n",
       "    </tr>\n",
       "    <tr>\n",
       "      <th>2023-06-29 23:00:00</th>\n",
       "      <td>4.197770</td>\n",
       "      <td>118.98179</td>\n",
       "    </tr>\n",
       "  </tbody>\n",
       "</table>\n",
       "<p>724 rows × 2 columns</p>\n",
       "</div>"
      ],
      "text/plain": [
       "                     Wind_speed_tower  Active_Power\n",
       "time                                               \n",
       "2023-05-30 20:00:00          3.526134     141.81660\n",
       "2023-05-30 21:00:00          3.746263     170.12517\n",
       "2023-05-30 22:00:00          2.346617       0.00000\n",
       "2023-05-30 23:00:00          2.987464       0.00000\n",
       "2023-05-31 00:00:00          3.670265     159.70273\n",
       "...                               ...           ...\n",
       "2023-06-29 19:00:00          6.510803     843.02400\n",
       "2023-06-29 20:00:00          6.739559     954.61980\n",
       "2023-06-29 21:00:00          5.570358     530.78204\n",
       "2023-06-29 22:00:00          5.017759     316.17050\n",
       "2023-06-29 23:00:00          4.197770     118.98179\n",
       "\n",
       "[724 rows x 2 columns]"
      ]
     },
     "execution_count": 14,
     "metadata": {},
     "output_type": "execute_result"
    }
   ],
   "source": [
    "test_df = df.iloc[(train_len + val_len):]\n",
    "test_df"
   ]
  },
  {
   "cell_type": "markdown",
   "id": "7c2f158f",
   "metadata": {},
   "source": [
    "## Time series split visualization"
   ]
  },
  {
   "cell_type": "code",
   "execution_count": 15,
   "id": "6b7998f2",
   "metadata": {},
   "outputs": [
    {
     "data": {
      "text/plain": [
       "<matplotlib.legend.Legend at 0x78b56d583c10>"
      ]
     },
     "execution_count": 15,
     "metadata": {},
     "output_type": "execute_result"
    },
    {
     "data": {
      "image/png": "[encoded data removed]",
      "text/plain": [
       "<Figure size 1600x600 with 1 Axes>"
      ]
     },
     "metadata": {},
     "output_type": "display_data"
    }
   ],
   "source": [
    "plt.figure(figsize=(16, 6))\n",
    "plt.plot(train_df[\"Active_Power\"], label=\"Training Data\", color='blue')\n",
    "plt.plot(val_df[\"Active_Power\"], label=\"Validation Data\", color='green')\n",
    "plt.plot(test_df[\"Active_Power\"], label=\"Test Data\", color='red')\n",
    "plt.title(\"Active Power Time Series\")\n",
    "plt.xlabel(\"Time\")\n",
    "plt.ylabel(\"Active Power\")\n",
    "plt.legend(fontsize='small')"
   ]
  },
  {
   "cell_type": "markdown",
   "id": "c899be75",
   "metadata": {},
   "source": [
    "We will also create copies of the train, validation, and test sets to use them later in the notebook."
   ]
  },
  {
   "cell_type": "code",
   "execution_count": 16,
   "id": "12e603c8",
   "metadata": {},
   "outputs": [],
   "source": [
    "train_df_original = train_df.copy()\n",
    "val_df_original = val_df.copy()\n",
    "test_df_original = test_df.copy()"
   ]
  },
  {
   "cell_type": "markdown",
   "id": "158e571e",
   "metadata": {},
   "source": [
    "## Data scaling\n",
    "\n",
    "We apply the min-max scaler fitted to the training set to the train, validation, and test sets (to avoid data leakage). "
   ]
  },
  {
   "cell_type": "code",
   "execution_count": 17,
   "id": "17f39e15",
   "metadata": {},
   "outputs": [],
   "source": [
    "from sklearn.preprocessing import MinMaxScaler\n",
    "\n",
    "scaler = MinMaxScaler()\n",
    "scaler.set_output(transform='pandas')\n",
    "\n",
    "scaler.fit(train_df)\n",
    "train_df = scaler.transform(train_df)\n",
    "\n",
    "val_df = scaler.transform(val_df)\n",
    "test_df = scaler.transform(test_df)"
   ]
  },
  {
   "cell_type": "markdown",
   "id": "205b675f",
   "metadata": {},
   "source": [
    "Let us check the result"
   ]
  },
  {
   "cell_type": "code",
   "execution_count": 18,
   "id": "71cdfb22",
   "metadata": {},
   "outputs": [
    {
     "data": {
      "text/html": [
       "<div>\n",
       "<style scoped>\n",
       "    .dataframe tbody tr th:only-of-type {\n",
       "        vertical-align: middle;\n",
       "    }\n",
       "\n",
       "    .dataframe tbody tr th {\n",
       "        vertical-align: top;\n",
       "    }\n",
       "\n",
       "    .dataframe thead th {\n",
       "        text-align: right;\n",
       "    }\n",
       "</style>\n",
       "<table border=\"1\" class=\"dataframe\">\n",
       "  <thead>\n",
       "    <tr style=\"text-align: right;\">\n",
       "      <th></th>\n",
       "      <th>count</th>\n",
       "      <th>mean</th>\n",
       "      <th>std</th>\n",
       "      <th>min</th>\n",
       "      <th>25%</th>\n",
       "      <th>50%</th>\n",
       "      <th>75%</th>\n",
       "      <th>max</th>\n",
       "    </tr>\n",
       "  </thead>\n",
       "  <tbody>\n",
       "    <tr>\n",
       "      <th>Wind_speed_tower</th>\n",
       "      <td>5800.0</td>\n",
       "      <td>0.370283</td>\n",
       "      <td>0.181766</td>\n",
       "      <td>0.0</td>\n",
       "      <td>0.230103</td>\n",
       "      <td>0.341549</td>\n",
       "      <td>0.499679</td>\n",
       "      <td>1.0</td>\n",
       "    </tr>\n",
       "    <tr>\n",
       "      <th>Active_Power</th>\n",
       "      <td>5800.0</td>\n",
       "      <td>0.502231</td>\n",
       "      <td>0.396148</td>\n",
       "      <td>0.0</td>\n",
       "      <td>0.112238</td>\n",
       "      <td>0.416912</td>\n",
       "      <td>1.000000</td>\n",
       "      <td>1.0</td>\n",
       "    </tr>\n",
       "  </tbody>\n",
       "</table>\n",
       "</div>"
      ],
      "text/plain": [
       "                   count      mean       std  min       25%       50%  \\\n",
       "Wind_speed_tower  5800.0  0.370283  0.181766  0.0  0.230103  0.341549   \n",
       "Active_Power      5800.0  0.502231  0.396148  0.0  0.112238  0.416912   \n",
       "\n",
       "                       75%  max  \n",
       "Wind_speed_tower  0.499679  1.0  \n",
       "Active_Power      1.000000  1.0  "
      ]
     },
     "execution_count": 18,
     "metadata": {},
     "output_type": "execute_result"
    }
   ],
   "source": [
    "train_df.describe().transpose()"
   ]
  },
  {
   "cell_type": "markdown",
   "id": "6d9b6a88",
   "metadata": {},
   "source": [
    "## Nixtla Dataset Format\n",
    "\n",
    "Convert to NeuralForecast format (ds, y, unique_id)"
   ]
  },
  {
   "cell_type": "code",
   "execution_count": 19,
   "id": "3302ded9",
   "metadata": {},
   "outputs": [],
   "source": [
    "train_df_nf = train_df.copy()\n",
    "\n",
    "train_df_nf = train_df_nf.rename(columns={target: 'y'})\n",
    "\n",
    "train_df_nf['ds'] = train_df_nf.index\n",
    "\n",
    "train_df_nf['unique_id'] = 'series_1'\n"
   ]
  },
  {
   "cell_type": "markdown",
   "id": "431bef79",
   "metadata": {},
   "source": [
    "Move ds and unique_id to front"
   ]
  },
  {
   "cell_type": "code",
   "execution_count": 20,
   "id": "89504d61",
   "metadata": {},
   "outputs": [
    {
     "data": {
      "text/html": [
       "<div>\n",
       "<style scoped>\n",
       "    .dataframe tbody tr th:only-of-type {\n",
       "        vertical-align: middle;\n",
       "    }\n",
       "\n",
       "    .dataframe tbody tr th {\n",
       "        vertical-align: top;\n",
       "    }\n",
       "\n",
       "    .dataframe thead th {\n",
       "        text-align: right;\n",
       "    }\n",
       "</style>\n",
       "<table border=\"1\" class=\"dataframe\">\n",
       "  <thead>\n",
       "    <tr style=\"text-align: right;\">\n",
       "      <th></th>\n",
       "      <th>unique_id</th>\n",
       "      <th>ds</th>\n",
       "      <th>y</th>\n",
       "      <th>Wind_speed_tower</th>\n",
       "    </tr>\n",
       "    <tr>\n",
       "      <th>time</th>\n",
       "      <th></th>\n",
       "      <th></th>\n",
       "      <th></th>\n",
       "      <th></th>\n",
       "    </tr>\n",
       "  </thead>\n",
       "  <tbody>\n",
       "    <tr>\n",
       "      <th>2022-09-01 00:00:00</th>\n",
       "      <td>series_1</td>\n",
       "      <td>2022-09-01 00:00:00</td>\n",
       "      <td>0.501096</td>\n",
       "      <td>0.372027</td>\n",
       "    </tr>\n",
       "    <tr>\n",
       "      <th>2022-09-01 01:00:00</th>\n",
       "      <td>series_1</td>\n",
       "      <td>2022-09-01 01:00:00</td>\n",
       "      <td>0.352448</td>\n",
       "      <td>0.331578</td>\n",
       "    </tr>\n",
       "    <tr>\n",
       "      <th>2022-09-01 02:00:00</th>\n",
       "      <td>series_1</td>\n",
       "      <td>2022-09-01 02:00:00</td>\n",
       "      <td>0.292167</td>\n",
       "      <td>0.316446</td>\n",
       "    </tr>\n",
       "    <tr>\n",
       "      <th>2022-09-01 03:00:00</th>\n",
       "      <td>series_1</td>\n",
       "      <td>2022-09-01 03:00:00</td>\n",
       "      <td>0.185362</td>\n",
       "      <td>0.273476</td>\n",
       "    </tr>\n",
       "    <tr>\n",
       "      <th>2022-09-01 04:00:00</th>\n",
       "      <td>series_1</td>\n",
       "      <td>2022-09-01 04:00:00</td>\n",
       "      <td>0.134269</td>\n",
       "      <td>0.249839</td>\n",
       "    </tr>\n",
       "    <tr>\n",
       "      <th>...</th>\n",
       "      <td>...</td>\n",
       "      <td>...</td>\n",
       "      <td>...</td>\n",
       "      <td>...</td>\n",
       "    </tr>\n",
       "    <tr>\n",
       "      <th>2023-04-30 11:00:00</th>\n",
       "      <td>series_1</td>\n",
       "      <td>2023-04-30 11:00:00</td>\n",
       "      <td>0.030030</td>\n",
       "      <td>0.163258</td>\n",
       "    </tr>\n",
       "    <tr>\n",
       "      <th>2023-04-30 12:00:00</th>\n",
       "      <td>series_1</td>\n",
       "      <td>2023-04-30 12:00:00</td>\n",
       "      <td>0.000000</td>\n",
       "      <td>0.122068</td>\n",
       "    </tr>\n",
       "    <tr>\n",
       "      <th>2023-04-30 13:00:00</th>\n",
       "      <td>series_1</td>\n",
       "      <td>2023-04-30 13:00:00</td>\n",
       "      <td>0.001786</td>\n",
       "      <td>0.055975</td>\n",
       "    </tr>\n",
       "    <tr>\n",
       "      <th>2023-04-30 14:00:00</th>\n",
       "      <td>series_1</td>\n",
       "      <td>2023-04-30 14:00:00</td>\n",
       "      <td>0.002714</td>\n",
       "      <td>0.064586</td>\n",
       "    </tr>\n",
       "    <tr>\n",
       "      <th>2023-04-30 15:00:00</th>\n",
       "      <td>series_1</td>\n",
       "      <td>2023-04-30 15:00:00</td>\n",
       "      <td>0.000000</td>\n",
       "      <td>0.109346</td>\n",
       "    </tr>\n",
       "  </tbody>\n",
       "</table>\n",
       "<p>5800 rows × 4 columns</p>\n",
       "</div>"
      ],
      "text/plain": [
       "                    unique_id                  ds         y  Wind_speed_tower\n",
       "time                                                                         \n",
       "2022-09-01 00:00:00  series_1 2022-09-01 00:00:00  0.501096          0.372027\n",
       "2022-09-01 01:00:00  series_1 2022-09-01 01:00:00  0.352448          0.331578\n",
       "2022-09-01 02:00:00  series_1 2022-09-01 02:00:00  0.292167          0.316446\n",
       "2022-09-01 03:00:00  series_1 2022-09-01 03:00:00  0.185362          0.273476\n",
       "2022-09-01 04:00:00  series_1 2022-09-01 04:00:00  0.134269          0.249839\n",
       "...                       ...                 ...       ...               ...\n",
       "2023-04-30 11:00:00  series_1 2023-04-30 11:00:00  0.030030          0.163258\n",
       "2023-04-30 12:00:00  series_1 2023-04-30 12:00:00  0.000000          0.122068\n",
       "2023-04-30 13:00:00  series_1 2023-04-30 13:00:00  0.001786          0.055975\n",
       "2023-04-30 14:00:00  series_1 2023-04-30 14:00:00  0.002714          0.064586\n",
       "2023-04-30 15:00:00  series_1 2023-04-30 15:00:00  0.000000          0.109346\n",
       "\n",
       "[5800 rows x 4 columns]"
      ]
     },
     "execution_count": 20,
     "metadata": {},
     "output_type": "execute_result"
    }
   ],
   "source": [
    "train_df_nf = train_df_nf[['unique_id', 'ds', 'y'] + features]\n",
    "train_df_nf"
   ]
  },
  {
   "cell_type": "markdown",
   "id": "2aeb0a1b",
   "metadata": {},
   "source": [
    "Same for validation and test sets"
   ]
  },
  {
   "cell_type": "code",
   "execution_count": 21,
   "id": "1e294927",
   "metadata": {},
   "outputs": [
    {
     "data": {
      "text/html": [
       "<div>\n",
       "<style scoped>\n",
       "    .dataframe tbody tr th:only-of-type {\n",
       "        vertical-align: middle;\n",
       "    }\n",
       "\n",
       "    .dataframe tbody tr th {\n",
       "        vertical-align: top;\n",
       "    }\n",
       "\n",
       "    .dataframe thead th {\n",
       "        text-align: right;\n",
       "    }\n",
       "</style>\n",
       "<table border=\"1\" class=\"dataframe\">\n",
       "  <thead>\n",
       "    <tr style=\"text-align: right;\">\n",
       "      <th></th>\n",
       "      <th>unique_id</th>\n",
       "      <th>ds</th>\n",
       "      <th>y</th>\n",
       "      <th>Wind_speed_tower</th>\n",
       "    </tr>\n",
       "    <tr>\n",
       "      <th>time</th>\n",
       "      <th></th>\n",
       "      <th></th>\n",
       "      <th></th>\n",
       "      <th></th>\n",
       "    </tr>\n",
       "  </thead>\n",
       "  <tbody>\n",
       "    <tr>\n",
       "      <th>2023-04-30 16:00:00</th>\n",
       "      <td>series_1</td>\n",
       "      <td>2023-04-30 16:00:00</td>\n",
       "      <td>0.035648</td>\n",
       "      <td>0.155312</td>\n",
       "    </tr>\n",
       "    <tr>\n",
       "      <th>2023-04-30 17:00:00</th>\n",
       "      <td>series_1</td>\n",
       "      <td>2023-04-30 17:00:00</td>\n",
       "      <td>0.000000</td>\n",
       "      <td>0.141737</td>\n",
       "    </tr>\n",
       "    <tr>\n",
       "      <th>2023-04-30 18:00:00</th>\n",
       "      <td>series_1</td>\n",
       "      <td>2023-04-30 18:00:00</td>\n",
       "      <td>0.029513</td>\n",
       "      <td>0.172939</td>\n",
       "    </tr>\n",
       "    <tr>\n",
       "      <th>2023-04-30 19:00:00</th>\n",
       "      <td>series_1</td>\n",
       "      <td>2023-04-30 19:00:00</td>\n",
       "      <td>0.054810</td>\n",
       "      <td>0.188957</td>\n",
       "    </tr>\n",
       "    <tr>\n",
       "      <th>2023-04-30 20:00:00</th>\n",
       "      <td>series_1</td>\n",
       "      <td>2023-04-30 20:00:00</td>\n",
       "      <td>0.089923</td>\n",
       "      <td>0.207118</td>\n",
       "    </tr>\n",
       "    <tr>\n",
       "      <th>...</th>\n",
       "      <td>...</td>\n",
       "      <td>...</td>\n",
       "      <td>...</td>\n",
       "      <td>...</td>\n",
       "    </tr>\n",
       "    <tr>\n",
       "      <th>2023-05-30 15:00:00</th>\n",
       "      <td>series_1</td>\n",
       "      <td>2023-05-30 15:00:00</td>\n",
       "      <td>0.000000</td>\n",
       "      <td>0.137377</td>\n",
       "    </tr>\n",
       "    <tr>\n",
       "      <th>2023-05-30 16:00:00</th>\n",
       "      <td>series_1</td>\n",
       "      <td>2023-05-30 16:00:00</td>\n",
       "      <td>0.031634</td>\n",
       "      <td>0.149018</td>\n",
       "    </tr>\n",
       "    <tr>\n",
       "      <th>2023-05-30 17:00:00</th>\n",
       "      <td>series_1</td>\n",
       "      <td>2023-05-30 17:00:00</td>\n",
       "      <td>0.029638</td>\n",
       "      <td>0.145756</td>\n",
       "    </tr>\n",
       "    <tr>\n",
       "      <th>2023-05-30 18:00:00</th>\n",
       "      <td>series_1</td>\n",
       "      <td>2023-05-30 18:00:00</td>\n",
       "      <td>0.000000</td>\n",
       "      <td>0.114555</td>\n",
       "    </tr>\n",
       "    <tr>\n",
       "      <th>2023-05-30 19:00:00</th>\n",
       "      <td>series_1</td>\n",
       "      <td>2023-05-30 19:00:00</td>\n",
       "      <td>0.000000</td>\n",
       "      <td>0.119966</td>\n",
       "    </tr>\n",
       "  </tbody>\n",
       "</table>\n",
       "<p>724 rows × 4 columns</p>\n",
       "</div>"
      ],
      "text/plain": [
       "                    unique_id                  ds         y  Wind_speed_tower\n",
       "time                                                                         \n",
       "2023-04-30 16:00:00  series_1 2023-04-30 16:00:00  0.035648          0.155312\n",
       "2023-04-30 17:00:00  series_1 2023-04-30 17:00:00  0.000000          0.141737\n",
       "2023-04-30 18:00:00  series_1 2023-04-30 18:00:00  0.029513          0.172939\n",
       "2023-04-30 19:00:00  series_1 2023-04-30 19:00:00  0.054810          0.188957\n",
       "2023-04-30 20:00:00  series_1 2023-04-30 20:00:00  0.089923          0.207118\n",
       "...                       ...                 ...       ...               ...\n",
       "2023-05-30 15:00:00  series_1 2023-05-30 15:00:00  0.000000          0.137377\n",
       "2023-05-30 16:00:00  series_1 2023-05-30 16:00:00  0.031634          0.149018\n",
       "2023-05-30 17:00:00  series_1 2023-05-30 17:00:00  0.029638          0.145756\n",
       "2023-05-30 18:00:00  series_1 2023-05-30 18:00:00  0.000000          0.114555\n",
       "2023-05-30 19:00:00  series_1 2023-05-30 19:00:00  0.000000          0.119966\n",
       "\n",
       "[724 rows x 4 columns]"
      ]
     },
     "execution_count": 21,
     "metadata": {},
     "output_type": "execute_result"
    }
   ],
   "source": [
    "val_df_nf = val_df.copy()\n",
    "val_df_nf = val_df_nf.rename(columns={target: 'y'})\n",
    "val_df_nf['ds'] = val_df_nf.index\n",
    "\n",
    "val_df_nf['unique_id'] = 'series_1'\n",
    "\n",
    "val_df_nf = val_df_nf[['unique_id', 'ds', 'y'] + features]\n",
    "val_df_nf"
   ]
  },
  {
   "cell_type": "code",
   "execution_count": 22,
   "id": "822175e7",
   "metadata": {},
   "outputs": [
    {
     "data": {
      "text/html": [
       "<div>\n",
       "<style scoped>\n",
       "    .dataframe tbody tr th:only-of-type {\n",
       "        vertical-align: middle;\n",
       "    }\n",
       "\n",
       "    .dataframe tbody tr th {\n",
       "        vertical-align: top;\n",
       "    }\n",
       "\n",
       "    .dataframe thead th {\n",
       "        text-align: right;\n",
       "    }\n",
       "</style>\n",
       "<table border=\"1\" class=\"dataframe\">\n",
       "  <thead>\n",
       "    <tr style=\"text-align: right;\">\n",
       "      <th></th>\n",
       "      <th>unique_id</th>\n",
       "      <th>ds</th>\n",
       "      <th>y</th>\n",
       "      <th>Wind_speed_tower</th>\n",
       "    </tr>\n",
       "    <tr>\n",
       "      <th>time</th>\n",
       "      <th></th>\n",
       "      <th></th>\n",
       "      <th></th>\n",
       "      <th></th>\n",
       "    </tr>\n",
       "  </thead>\n",
       "  <tbody>\n",
       "    <tr>\n",
       "      <th>2023-05-30 20:00:00</th>\n",
       "      <td>series_1</td>\n",
       "      <td>2023-05-30 20:00:00</td>\n",
       "      <td>0.028363</td>\n",
       "      <td>0.143479</td>\n",
       "    </tr>\n",
       "    <tr>\n",
       "      <th>2023-05-30 21:00:00</th>\n",
       "      <td>series_1</td>\n",
       "      <td>2023-05-30 21:00:00</td>\n",
       "      <td>0.034025</td>\n",
       "      <td>0.152575</td>\n",
       "    </tr>\n",
       "    <tr>\n",
       "      <th>2023-05-30 22:00:00</th>\n",
       "      <td>series_1</td>\n",
       "      <td>2023-05-30 22:00:00</td>\n",
       "      <td>0.000000</td>\n",
       "      <td>0.094740</td>\n",
       "    </tr>\n",
       "    <tr>\n",
       "      <th>2023-05-30 23:00:00</th>\n",
       "      <td>series_1</td>\n",
       "      <td>2023-05-30 23:00:00</td>\n",
       "      <td>0.000000</td>\n",
       "      <td>0.121221</td>\n",
       "    </tr>\n",
       "    <tr>\n",
       "      <th>2023-05-31 00:00:00</th>\n",
       "      <td>series_1</td>\n",
       "      <td>2023-05-31 00:00:00</td>\n",
       "      <td>0.031941</td>\n",
       "      <td>0.149435</td>\n",
       "    </tr>\n",
       "    <tr>\n",
       "      <th>...</th>\n",
       "      <td>...</td>\n",
       "      <td>...</td>\n",
       "      <td>...</td>\n",
       "      <td>...</td>\n",
       "    </tr>\n",
       "    <tr>\n",
       "      <th>2023-06-29 19:00:00</th>\n",
       "      <td>series_1</td>\n",
       "      <td>2023-06-29 19:00:00</td>\n",
       "      <td>0.168605</td>\n",
       "      <td>0.266810</td>\n",
       "    </tr>\n",
       "    <tr>\n",
       "      <th>2023-06-29 20:00:00</th>\n",
       "      <td>series_1</td>\n",
       "      <td>2023-06-29 20:00:00</td>\n",
       "      <td>0.190924</td>\n",
       "      <td>0.276262</td>\n",
       "    </tr>\n",
       "    <tr>\n",
       "      <th>2023-06-29 21:00:00</th>\n",
       "      <td>series_1</td>\n",
       "      <td>2023-06-29 21:00:00</td>\n",
       "      <td>0.106156</td>\n",
       "      <td>0.227949</td>\n",
       "    </tr>\n",
       "    <tr>\n",
       "      <th>2023-06-29 22:00:00</th>\n",
       "      <td>series_1</td>\n",
       "      <td>2023-06-29 22:00:00</td>\n",
       "      <td>0.063234</td>\n",
       "      <td>0.205115</td>\n",
       "    </tr>\n",
       "    <tr>\n",
       "      <th>2023-06-29 23:00:00</th>\n",
       "      <td>series_1</td>\n",
       "      <td>2023-06-29 23:00:00</td>\n",
       "      <td>0.023796</td>\n",
       "      <td>0.171232</td>\n",
       "    </tr>\n",
       "  </tbody>\n",
       "</table>\n",
       "<p>724 rows × 4 columns</p>\n",
       "</div>"
      ],
      "text/plain": [
       "                    unique_id                  ds         y  Wind_speed_tower\n",
       "time                                                                         \n",
       "2023-05-30 20:00:00  series_1 2023-05-30 20:00:00  0.028363          0.143479\n",
       "2023-05-30 21:00:00  series_1 2023-05-30 21:00:00  0.034025          0.152575\n",
       "2023-05-30 22:00:00  series_1 2023-05-30 22:00:00  0.000000          0.094740\n",
       "2023-05-30 23:00:00  series_1 2023-05-30 23:00:00  0.000000          0.121221\n",
       "2023-05-31 00:00:00  series_1 2023-05-31 00:00:00  0.031941          0.149435\n",
       "...                       ...                 ...       ...               ...\n",
       "2023-06-29 19:00:00  series_1 2023-06-29 19:00:00  0.168605          0.266810\n",
       "2023-06-29 20:00:00  series_1 2023-06-29 20:00:00  0.190924          0.276262\n",
       "2023-06-29 21:00:00  series_1 2023-06-29 21:00:00  0.106156          0.227949\n",
       "2023-06-29 22:00:00  series_1 2023-06-29 22:00:00  0.063234          0.205115\n",
       "2023-06-29 23:00:00  series_1 2023-06-29 23:00:00  0.023796          0.171232\n",
       "\n",
       "[724 rows x 4 columns]"
      ]
     },
     "execution_count": 22,
     "metadata": {},
     "output_type": "execute_result"
    }
   ],
   "source": [
    "test_df_nf = test_df.copy()\n",
    "test_df_nf = test_df_nf.rename(columns={target: 'y'})\n",
    "test_df_nf['ds'] = test_df_nf.index\n",
    "\n",
    "test_df_nf['unique_id'] = 'series_1'\n",
    "\n",
    "test_df_nf = test_df_nf[['unique_id', 'ds', 'y'] + features]\n",
    "test_df_nf"
   ]
  },
  {
   "cell_type": "markdown",
   "id": "84adfd35",
   "metadata": {},
   "source": [
    "Create a **joint dataset** with train and validation to fit into Nixtla's framework."
   ]
  },
  {
   "cell_type": "code",
   "execution_count": 23,
   "id": "f75c3abc",
   "metadata": {},
   "outputs": [
    {
     "name": "stdout",
     "output_type": "stream",
     "text": [
      "<class 'pandas.core.frame.DataFrame'>\n",
      "RangeIndex: 6524 entries, 0 to 6523\n",
      "Data columns (total 4 columns):\n",
      " #   Column            Non-Null Count  Dtype         \n",
      "---  ------            --------------  -----         \n",
      " 0   unique_id         6524 non-null   object        \n",
      " 1   ds                6524 non-null   datetime64[ns]\n",
      " 2   y                 6524 non-null   float64       \n",
      " 3   Wind_speed_tower  6524 non-null   float64       \n",
      "dtypes: datetime64[ns](1), float64(2), object(1)\n",
      "memory usage: 204.0+ KB\n"
     ]
    }
   ],
   "source": [
    "train_val_df = pd.concat([train_df_nf, val_df_nf], axis=0)\n",
    "train_val_df.reset_index(drop=True, inplace=True)\n",
    "train_val_df.info()"
   ]
  },
  {
   "cell_type": "markdown",
   "id": "78f5d4e4",
   "metadata": {},
   "source": [
    "And similarly a **full dataset** with train, validation and test sets."
   ]
  },
  {
   "cell_type": "code",
   "execution_count": 24,
   "id": "313782b9",
   "metadata": {},
   "outputs": [
    {
     "name": "stdout",
     "output_type": "stream",
     "text": [
      "<class 'pandas.core.frame.DataFrame'>\n",
      "RangeIndex: 7248 entries, 0 to 7247\n",
      "Data columns (total 4 columns):\n",
      " #   Column            Non-Null Count  Dtype         \n",
      "---  ------            --------------  -----         \n",
      " 0   unique_id         7248 non-null   object        \n",
      " 1   ds                7248 non-null   datetime64[ns]\n",
      " 2   y                 7248 non-null   float64       \n",
      " 3   Wind_speed_tower  7248 non-null   float64       \n",
      "dtypes: datetime64[ns](1), float64(2), object(1)\n",
      "memory usage: 226.6+ KB\n"
     ]
    }
   ],
   "source": [
    "full_df_nf = pd.concat([train_df_nf, val_df_nf, test_df_nf], axis=0)\n",
    "full_df_nf.reset_index(drop=True, inplace=True)\n",
    "full_df_nf.info()"
   ]
  },
  {
   "cell_type": "markdown",
   "id": "3ad4ee32",
   "metadata": {},
   "source": [
    "## Set the forecast horizon and input length"
   ]
  },
  {
   "cell_type": "code",
   "execution_count": 25,
   "id": "6e871733",
   "metadata": {},
   "outputs": [],
   "source": [
    "horizon = 3\n",
    "input_size = 6"
   ]
  },
  {
   "cell_type": "markdown",
   "id": "1e5be7bf",
   "metadata": {},
   "source": [
    "# AutoPatchTST"
   ]
  },
  {
   "cell_type": "code",
   "execution_count": 26,
   "id": "08830d34",
   "metadata": {},
   "outputs": [],
   "source": [
    "import logging\n",
    "\n",
    "import optuna\n",
    "# import ray.tune as tune\n",
    "import torch\n",
    "\n",
    "from neuralforecast import NeuralForecast\n",
    "\n",
    "from neuralforecast.losses.pytorch import MAE\n"
   ]
  },
  {
   "cell_type": "markdown",
   "id": "eba3c000",
   "metadata": {},
   "source": [
    "Check if CUDA is available (Linux machines)"
   ]
  },
  {
   "cell_type": "code",
   "execution_count": 27,
   "id": "6aa68de9",
   "metadata": {},
   "outputs": [],
   "source": [
    "optuna.logging.set_verbosity(optuna.logging.WARNING)\n",
    "logging.getLogger('pytorch_lightning').setLevel(logging.ERROR)\n",
    "torch.set_float32_matmul_precision('high')"
   ]
  },
  {
   "cell_type": "code",
   "execution_count": 28,
   "id": "07fc93ee",
   "metadata": {},
   "outputs": [],
   "source": [
    "if torch.cuda.is_available():\n",
    "    torch.cuda.device_count(), torch.cuda.current_device(),torch.cuda.get_device_name(0)"
   ]
  },
  {
   "cell_type": "markdown",
   "id": "710ffe8c",
   "metadata": {},
   "source": [
    "Define the hyperparameters for the model. The first group is fixed and shouldn't changed from model to model. The second group is the hyperparameters that are tuned by the AutoPatchTST algorithm using Optuna as backend and may be specific to the model's architecture. The documentations for the hyperparameters can be seen at the [PatchTST](https://nixtlaverse.nixtla.io/neuralforecast/models.patchtst.html#patchtst) and [AutoPatchTST](https://nixtlaverse.nixtla.io/neuralforecast/models.html#autopatchtst) documentation."
   ]
  },
  {
   "cell_type": "code",
   "execution_count": 29,
   "id": "8c334ba2",
   "metadata": {},
   "outputs": [],
   "source": [
    "def config_patch_tst(trial: optuna.Trial) -> dict:\n",
    "    return {\n",
    "        # Fixed\n",
    "\n",
    "        \"input_size\": input_size,\n",
    "        # \"hist_exog_list\": ['Wind_speed_tower'],\n",
    "        # \"scaler_type\":'standard',\n",
    "        \"max_steps\": 300,\n",
    "        \"val_check_steps\": 50,\n",
    "        \"random_seed\": 42,\n",
    "        \n",
    "        ##### Optuna, model specific\n",
    "        \n",
    "        # \"decoder_output_dim\": trial.suggest_categorical(\"decoder_output_dim\", [8, 16, 32, 64]),\n",
    "        \"encoder_layers\": trial.suggest_int(\"encoder_layers\", 1, 4),\n",
    "        \"n_heads\": trial.suggest_categorical(\"n_heads\", [8, 16, 32]),\n",
    "        \"hidden_size\": trial.suggest_categorical(\"hidden_size\", [64, 128, 256, 512]),\n",
    "        \"dropout\": trial.suggest_float(\"dropout\", 0.0, 0.3),\n",
    "        \"fc_dropout\": trial.suggest_float(\"fc_dropout\", 0.0, 0.3),\n",
    "        \"head_dropout\": trial.suggest_float(\"head_dropout\", 0.0, 0.3),\n",
    "        \"attn_dropout\": trial.suggest_float(\"attn_dropout\", 0.0, 0.3),\n",
    "        \"patch_len\": trial.suggest_categorical(\"patch_len\", [8, 16, 32]),\n",
    "        \"learning_rate\": trial.suggest_float(\"learning_rate\", 1e-4, 1e-2, log=True),\n",
    "    }\n"
   ]
  },
  {
   "cell_type": "markdown",
   "id": "a03c45a4",
   "metadata": {},
   "source": [
    "Next we define the AutoPatchTST object. This includes the num_samples parameter, which is the number of samples to be used for the Optuna search. The loss is also an essential parameter of this object."
   ]
  },
  {
   "cell_type": "code",
   "execution_count": 30,
   "id": "d8e91cf7",
   "metadata": {},
   "outputs": [],
   "source": [
    "from neuralforecast.auto import AutoPatchTST\n",
    "\n",
    "model = AutoPatchTST(\n",
    "    h=horizon,\n",
    "    config=config_patch_tst,\n",
    "    backend='optuna',    \n",
    "    search_alg=optuna.samplers.TPESampler(),\n",
    "    gpus=torch.cuda.device_count(),\n",
    "    ################\n",
    "    num_samples=100,\n",
    "    loss=MAE())\n"
   ]
  },
  {
   "cell_type": "markdown",
   "id": "3a56c3fa",
   "metadata": {},
   "source": [
    "With this we are ready to perform the search. We pass the size of the validation set to be used for Optuna in selecting the hyperparameters."
   ]
  },
  {
   "cell_type": "code",
   "execution_count": 31,
   "id": "dda4016e",
   "metadata": {},
   "outputs": [
    {
     "name": "stderr",
     "output_type": "stream",
     "text": [
      "2025-06-19 11:45:32.273266: E external/local_xla/xla/stream_executor/cuda/cuda_fft.cc:477] Unable to register cuFFT factory: Attempting to register factory for plugin cuFFT when one has already been registered\n",
      "WARNING: All log messages before absl::InitializeLog() is called are written to STDERR\n",
      "E0000 00:00:1750326332.287332   49235 cuda_dnn.cc:8310] Unable to register cuDNN factory: Attempting to register factory for plugin cuDNN when one has already been registered\n",
      "E0000 00:00:1750326332.291121   49235 cuda_blas.cc:1418] Unable to register cuBLAS factory: Attempting to register factory for plugin cuBLAS when one has already been registered\n",
      "2025-06-19 11:45:32.305372: I tensorflow/core/platform/cpu_feature_guard.cc:210] This TensorFlow binary is optimized to use available CPU instructions in performance-critical operations.\n",
      "To enable the following instructions: AVX2 FMA, in other operations, rebuild TensorFlow with the appropriate compiler flags.\n"
     ]
    }
   ],
   "source": [
    "%%capture\n",
    "\n",
    "logging.getLogger(\"lightning_fabric.utilities.seed\").setLevel(logging.WARNING)\n",
    "\n",
    "start_time = time.time()\n",
    "\n",
    "nf = NeuralForecast(models=[model], freq='H')\n",
    "nf.fit(df=train_val_df, val_size=val_df_nf.shape[0])\n",
    "\n",
    "end_time = time.time()\n",
    "elapsed_time = end_time - start_time\n"
   ]
  },
  {
   "cell_type": "code",
   "execution_count": 32,
   "id": "044e17e7",
   "metadata": {},
   "outputs": [
    {
     "name": "stdout",
     "output_type": "stream",
     "text": [
      "Elapsed time: 8.40 minutes\n"
     ]
    }
   ],
   "source": [
    "print(f\"Elapsed time: {elapsed_time / 60:.2f} minutes\")"
   ]
  },
  {
   "cell_type": "markdown",
   "id": "87939c3d",
   "metadata": {},
   "source": [
    "When the search is finished the final model is in  nf.models[0] and it has a results object that contains all  the fit information, including the Optuna study object. In particular, the best_trial attribute has in turn an attribute which is the dictionary of the best hyperparameters."
   ]
  },
  {
   "cell_type": "code",
   "execution_count": 33,
   "id": "6b376407",
   "metadata": {},
   "outputs": [
    {
     "data": {
      "text/plain": [
       "optuna.study.study.Study"
      ]
     },
     "execution_count": 33,
     "metadata": {},
     "output_type": "execute_result"
    }
   ],
   "source": [
    "type(nf.models[0].results)"
   ]
  },
  {
   "cell_type": "code",
   "execution_count": 34,
   "id": "cf9d48e2",
   "metadata": {},
   "outputs": [
    {
     "data": {
      "text/plain": [
       "{'encoder_layers': 2,\n",
       " 'n_heads': 16,\n",
       " 'hidden_size': 64,\n",
       " 'dropout': 0.2741348041683613,\n",
       " 'fc_dropout': 0.16749210017639665,\n",
       " 'head_dropout': 0.26894617404591986,\n",
       " 'attn_dropout': 0.299276257256751,\n",
       " 'patch_len': 32,\n",
       " 'learning_rate': 0.0011735637166779493}"
      ]
     },
     "execution_count": 34,
     "metadata": {},
     "output_type": "execute_result"
    }
   ],
   "source": [
    "best_params = nf.models[0].results.best_trial.params\n",
    "best_params"
   ]
  },
  {
   "cell_type": "markdown",
   "id": "94fb15ef",
   "metadata": {},
   "source": [
    "# PatchTST modeling"
   ]
  },
  {
   "cell_type": "markdown",
   "id": "eadc846b",
   "metadata": {},
   "source": [
    "Using the best hyperparameters we can now fit a final PatchTST model. This is done by passing the best hyperparameters to the model and then fitting it to the training + validation set. \n"
   ]
  },
  {
   "cell_type": "code",
   "execution_count": 35,
   "id": "6a6ddff6",
   "metadata": {},
   "outputs": [],
   "source": [
    "from neuralforecast.models import PatchTST\n"
   ]
  },
  {
   "cell_type": "code",
   "execution_count": 36,
   "id": "1271dde0",
   "metadata": {},
   "outputs": [],
   "source": [
    "start_time = time.time()"
   ]
  },
  {
   "cell_type": "code",
   "execution_count": 37,
   "id": "9179ecda",
   "metadata": {},
   "outputs": [],
   "source": [
    "%%capture\n",
    "\n",
    "logging.getLogger(\"lightning_fabric.utilities.seed\").setLevel(logging.WARNING)\n",
    "\n",
    "model = PatchTST(\n",
    "    h=horizon,\n",
    "    # hist_exog_list = ['Wind_speed_tower'],\n",
    "    # scaler_type='standard',\n",
    "    input_size=input_size,\n",
    "    loss=MAE(),\n",
    "    max_steps=300,\n",
    "    random_seed=42,\n",
    "    **best_params\n",
    ")\n",
    "\n",
    "nf = NeuralForecast(models=[model], freq='H')\n",
    "\n",
    "nf.fit(df=train_val_df)"
   ]
  },
  {
   "cell_type": "code",
   "execution_count": 38,
   "id": "78f3bb96",
   "metadata": {},
   "outputs": [
    {
     "name": "stdout",
     "output_type": "stream",
     "text": [
      "Elapsed time: 0.08 minutes\n"
     ]
    }
   ],
   "source": [
    "end_time = time.time()\n",
    "elapsed_time = end_time - start_time\n",
    "print(f\"Elapsed time: {elapsed_time / 60:.2f} minutes\")"
   ]
  },
  {
   "cell_type": "markdown",
   "id": "cbb65883",
   "metadata": {},
   "source": [
    "# Model Performance Evaluation"
   ]
  },
  {
   "cell_type": "markdown",
   "id": "efc51ca8",
   "metadata": {},
   "source": [
    "We create the rolling_df dataframe that contains the series data up to the time instant in which we make a prediction that corresponds to the first time instant in the test set. That prediction corresponds to the maximum value of the prediction horizon. "
   ]
  },
  {
   "cell_type": "code",
   "execution_count": 39,
   "id": "ba8d6077",
   "metadata": {},
   "outputs": [
    {
     "data": {
      "text/html": [
       "<div>\n",
       "<style scoped>\n",
       "    .dataframe tbody tr th:only-of-type {\n",
       "        vertical-align: middle;\n",
       "    }\n",
       "\n",
       "    .dataframe tbody tr th {\n",
       "        vertical-align: top;\n",
       "    }\n",
       "\n",
       "    .dataframe thead th {\n",
       "        text-align: right;\n",
       "    }\n",
       "</style>\n",
       "<table border=\"1\" class=\"dataframe\">\n",
       "  <thead>\n",
       "    <tr style=\"text-align: right;\">\n",
       "      <th></th>\n",
       "      <th>unique_id</th>\n",
       "      <th>ds</th>\n",
       "      <th>y</th>\n",
       "      <th>Wind_speed_tower</th>\n",
       "    </tr>\n",
       "  </thead>\n",
       "  <tbody>\n",
       "    <tr>\n",
       "      <th>6520</th>\n",
       "      <td>series_1</td>\n",
       "      <td>2023-05-30 16:00:00</td>\n",
       "      <td>0.031634</td>\n",
       "      <td>0.149018</td>\n",
       "    </tr>\n",
       "    <tr>\n",
       "      <th>6521</th>\n",
       "      <td>series_1</td>\n",
       "      <td>2023-05-30 17:00:00</td>\n",
       "      <td>0.029638</td>\n",
       "      <td>0.145756</td>\n",
       "    </tr>\n",
       "  </tbody>\n",
       "</table>\n",
       "</div>"
      ],
      "text/plain": [
       "     unique_id                  ds         y  Wind_speed_tower\n",
       "6520  series_1 2023-05-30 16:00:00  0.031634          0.149018\n",
       "6521  series_1 2023-05-30 17:00:00  0.029638          0.145756"
      ]
     },
     "execution_count": 39,
     "metadata": {},
     "output_type": "execute_result"
    }
   ],
   "source": [
    "rolling_df = full_df_nf.iloc[:(train_len + val_len + 1 - horizon)]\n",
    "rolling_df.tail(2)"
   ]
  },
  {
   "cell_type": "markdown",
   "id": "da4bfe26",
   "metadata": {},
   "source": [
    "Now to start the evaluation we fit the model to this dataset and get the predictions. We will not use all of them, only the last."
   ]
  },
  {
   "cell_type": "code",
   "execution_count": 40,
   "id": "4a10f5cc",
   "metadata": {},
   "outputs": [],
   "source": [
    "%%capture\n",
    "\n",
    "nf.fit(df=rolling_df)"
   ]
  },
  {
   "cell_type": "code",
   "execution_count": 41,
   "id": "dccbaa24",
   "metadata": {},
   "outputs": [],
   "source": [
    "%%capture\n",
    "\n",
    "rolling_preds = nf.predict()\n",
    "rolling_preds"
   ]
  },
  {
   "cell_type": "markdown",
   "id": "302b61d7",
   "metadata": {},
   "source": [
    "Note the last of these predictions corresponds to the first time instant in the test set. \n",
    "\n",
    "Now we create a dictionary (of dataframes) to store the predictions for each value k from 1 to the max of the prediction horizon. The weird (k-1):k bit below is to prevent pandas from collapsing the row into a series!"
   ]
  },
  {
   "cell_type": "code",
   "execution_count": 42,
   "id": "9ed79b23",
   "metadata": {},
   "outputs": [],
   "source": [
    "preds_df = {}\n",
    "for k in range(1, horizon + 1):\n",
    "    preds_df_name = str(k) + \"h\"  # String variable for the new name\n",
    "    preds_df[preds_df_name] = rolling_preds.copy().iloc[(k-1):k, :]\n",
    "\n"
   ]
  },
  {
   "cell_type": "markdown",
   "id": "d9c1c179",
   "metadata": {},
   "source": [
    "Initially we store the predictions we obtained above in the dictionary (only the last one of these will actually be useful for comparison with the test set, but the others serve the purpose of dictionary initialisation)."
   ]
  },
  {
   "cell_type": "code",
   "execution_count": 43,
   "id": "290f89b1",
   "metadata": {},
   "outputs": [
    {
     "data": {
      "text/html": [
       "<div>\n",
       "<style scoped>\n",
       "    .dataframe tbody tr th:only-of-type {\n",
       "        vertical-align: middle;\n",
       "    }\n",
       "\n",
       "    .dataframe tbody tr th {\n",
       "        vertical-align: top;\n",
       "    }\n",
       "\n",
       "    .dataframe thead th {\n",
       "        text-align: right;\n",
       "    }\n",
       "</style>\n",
       "<table border=\"1\" class=\"dataframe\">\n",
       "  <thead>\n",
       "    <tr style=\"text-align: right;\">\n",
       "      <th></th>\n",
       "      <th>unique_id</th>\n",
       "      <th>ds</th>\n",
       "      <th>PatchTST</th>\n",
       "    </tr>\n",
       "  </thead>\n",
       "  <tbody>\n",
       "    <tr>\n",
       "      <th>0</th>\n",
       "      <td>series_1</td>\n",
       "      <td>2023-05-30 18:00:00</td>\n",
       "      <td>0.029406</td>\n",
       "    </tr>\n",
       "  </tbody>\n",
       "</table>\n",
       "</div>"
      ],
      "text/plain": [
       "  unique_id                  ds  PatchTST\n",
       "0  series_1 2023-05-30 18:00:00  0.029406"
      ]
     },
     "execution_count": 43,
     "metadata": {},
     "output_type": "execute_result"
    }
   ],
   "source": [
    "preds_df['1h']"
   ]
  },
  {
   "cell_type": "code",
   "execution_count": 44,
   "id": "74119672",
   "metadata": {},
   "outputs": [
    {
     "data": {
      "text/html": [
       "<div>\n",
       "<style scoped>\n",
       "    .dataframe tbody tr th:only-of-type {\n",
       "        vertical-align: middle;\n",
       "    }\n",
       "\n",
       "    .dataframe tbody tr th {\n",
       "        vertical-align: top;\n",
       "    }\n",
       "\n",
       "    .dataframe thead th {\n",
       "        text-align: right;\n",
       "    }\n",
       "</style>\n",
       "<table border=\"1\" class=\"dataframe\">\n",
       "  <thead>\n",
       "    <tr style=\"text-align: right;\">\n",
       "      <th></th>\n",
       "      <th>unique_id</th>\n",
       "      <th>ds</th>\n",
       "      <th>PatchTST</th>\n",
       "    </tr>\n",
       "  </thead>\n",
       "  <tbody>\n",
       "    <tr>\n",
       "      <th>1</th>\n",
       "      <td>series_1</td>\n",
       "      <td>2023-05-30 19:00:00</td>\n",
       "      <td>0.029435</td>\n",
       "    </tr>\n",
       "  </tbody>\n",
       "</table>\n",
       "</div>"
      ],
      "text/plain": [
       "  unique_id                  ds  PatchTST\n",
       "1  series_1 2023-05-30 19:00:00  0.029435"
      ]
     },
     "execution_count": 44,
     "metadata": {},
     "output_type": "execute_result"
    }
   ],
   "source": [
    "preds_df['2h']"
   ]
  },
  {
   "cell_type": "code",
   "execution_count": 45,
   "id": "2684995e",
   "metadata": {},
   "outputs": [
    {
     "data": {
      "text/html": [
       "<div>\n",
       "<style scoped>\n",
       "    .dataframe tbody tr th:only-of-type {\n",
       "        vertical-align: middle;\n",
       "    }\n",
       "\n",
       "    .dataframe tbody tr th {\n",
       "        vertical-align: top;\n",
       "    }\n",
       "\n",
       "    .dataframe thead th {\n",
       "        text-align: right;\n",
       "    }\n",
       "</style>\n",
       "<table border=\"1\" class=\"dataframe\">\n",
       "  <thead>\n",
       "    <tr style=\"text-align: right;\">\n",
       "      <th></th>\n",
       "      <th>unique_id</th>\n",
       "      <th>ds</th>\n",
       "      <th>PatchTST</th>\n",
       "    </tr>\n",
       "  </thead>\n",
       "  <tbody>\n",
       "    <tr>\n",
       "      <th>2</th>\n",
       "      <td>series_1</td>\n",
       "      <td>2023-05-30 20:00:00</td>\n",
       "      <td>0.029107</td>\n",
       "    </tr>\n",
       "  </tbody>\n",
       "</table>\n",
       "</div>"
      ],
      "text/plain": [
       "  unique_id                  ds  PatchTST\n",
       "2  series_1 2023-05-30 20:00:00  0.029107"
      ]
     },
     "execution_count": 45,
     "metadata": {},
     "output_type": "execute_result"
    }
   ],
   "source": [
    "preds_df['3h']"
   ]
  },
  {
   "cell_type": "markdown",
   "id": "7c2190fe",
   "metadata": {},
   "source": [
    "The main tool for evaluation is the for loop below. In each iteration we add one time instant to the rolling_df dataframe and then we fit the model to this dataframe. We then obtain the predictions for this augmented dataset and our forecasting horizon. And we store each  of them in the corresponing dataframe inside the dictionary. "
   ]
  },
  {
   "cell_type": "code",
   "execution_count": 47,
   "id": "c7c704e1",
   "metadata": {},
   "outputs": [],
   "source": [
    "start_time = time.time()"
   ]
  },
  {
   "cell_type": "code",
   "execution_count": 48,
   "id": "99705b7a",
   "metadata": {},
   "outputs": [],
   "source": [
    "%%capture\n",
    "\n",
    "logging.getLogger(\"lightning_fabric.utilities.seed\").setLevel(logging.WARNING)\n",
    "\n",
    "# for k in range(2, 50): ## Testing\n",
    "for k in range(2, len(test_df_nf) + horizon):\n",
    "    # rolling_df = pd.concat([train_df_nf, val_df_nf, test_df_nf.iloc[:k]])\n",
    "    rolling_df = full_df_nf.iloc[:(train_len + val_len + k - horizon)]\n",
    "    # print(rolling_df.tail(1))\n",
    "    # print(rolling_df.shape)\n",
    "    nf.fit(df=rolling_df)\n",
    "    rolling_preds = nf.predict()\n",
    "    # print(rolling_preds)\n",
    "    for h in range(1, horizon + 1):\n",
    "        preds_df[f'{h}h'] = pd.concat([preds_df[f'{h}h'], rolling_preds.iloc[(h - 1):h,:]], axis=0)\n",
    "\n",
    "    print(f\"k =  {k}\")\n",
    "    print(\"#\" * 20)\n",
    "\n",
    "end_time = time.time()       "
   ]
  },
  {
   "cell_type": "code",
   "execution_count": 49,
   "id": "7e6da2fb",
   "metadata": {},
   "outputs": [
    {
     "name": "stdout",
     "output_type": "stream",
     "text": [
      "Elapsed time: 64.77 minutes\n"
     ]
    }
   ],
   "source": [
    "end_time = time.time()\n",
    "elapsed_time = end_time - start_time\n",
    "print(f\"Elapsed time: {elapsed_time / 60:.2f} minutes\")"
   ]
  },
  {
   "cell_type": "markdown",
   "id": "3a6bc595",
   "metadata": {},
   "source": [
    "For ease of comparison and plotting we reindex the predictions dataframes in the dictionary to use ds as index."
   ]
  },
  {
   "cell_type": "code",
   "execution_count": 50,
   "id": "b398ffee",
   "metadata": {},
   "outputs": [],
   "source": [
    "for h in range(1, horizon + 1):\n",
    "    preds_df[f'{h}h'].set_index('ds', inplace=True)"
   ]
  },
  {
   "cell_type": "markdown",
   "id": "3a31d2c0",
   "metadata": {},
   "source": [
    "After doing that they look like this:"
   ]
  },
  {
   "cell_type": "code",
   "execution_count": 51,
   "id": "47616da6",
   "metadata": {},
   "outputs": [
    {
     "data": {
      "text/html": [
       "<div>\n",
       "<style scoped>\n",
       "    .dataframe tbody tr th:only-of-type {\n",
       "        vertical-align: middle;\n",
       "    }\n",
       "\n",
       "    .dataframe tbody tr th {\n",
       "        vertical-align: top;\n",
       "    }\n",
       "\n",
       "    .dataframe thead th {\n",
       "        text-align: right;\n",
       "    }\n",
       "</style>\n",
       "<table border=\"1\" class=\"dataframe\">\n",
       "  <thead>\n",
       "    <tr style=\"text-align: right;\">\n",
       "      <th></th>\n",
       "      <th>unique_id</th>\n",
       "      <th>PatchTST</th>\n",
       "    </tr>\n",
       "    <tr>\n",
       "      <th>ds</th>\n",
       "      <th></th>\n",
       "      <th></th>\n",
       "    </tr>\n",
       "  </thead>\n",
       "  <tbody>\n",
       "    <tr>\n",
       "      <th>2023-05-30 18:00:00</th>\n",
       "      <td>series_1</td>\n",
       "      <td>0.029406</td>\n",
       "    </tr>\n",
       "    <tr>\n",
       "      <th>2023-05-30 19:00:00</th>\n",
       "      <td>series_1</td>\n",
       "      <td>-0.000865</td>\n",
       "    </tr>\n",
       "    <tr>\n",
       "      <th>2023-05-30 20:00:00</th>\n",
       "      <td>series_1</td>\n",
       "      <td>-0.000511</td>\n",
       "    </tr>\n",
       "    <tr>\n",
       "      <th>2023-05-30 21:00:00</th>\n",
       "      <td>series_1</td>\n",
       "      <td>0.028057</td>\n",
       "    </tr>\n",
       "    <tr>\n",
       "      <th>2023-05-30 22:00:00</th>\n",
       "      <td>series_1</td>\n",
       "      <td>0.034149</td>\n",
       "    </tr>\n",
       "    <tr>\n",
       "      <th>...</th>\n",
       "      <td>...</td>\n",
       "      <td>...</td>\n",
       "    </tr>\n",
       "    <tr>\n",
       "      <th>2023-06-29 19:00:00</th>\n",
       "      <td>series_1</td>\n",
       "      <td>0.154367</td>\n",
       "    </tr>\n",
       "    <tr>\n",
       "      <th>2023-06-29 20:00:00</th>\n",
       "      <td>series_1</td>\n",
       "      <td>0.163511</td>\n",
       "    </tr>\n",
       "    <tr>\n",
       "      <th>2023-06-29 21:00:00</th>\n",
       "      <td>series_1</td>\n",
       "      <td>0.189492</td>\n",
       "    </tr>\n",
       "    <tr>\n",
       "      <th>2023-06-29 22:00:00</th>\n",
       "      <td>series_1</td>\n",
       "      <td>0.107346</td>\n",
       "    </tr>\n",
       "    <tr>\n",
       "      <th>2023-06-29 23:00:00</th>\n",
       "      <td>series_1</td>\n",
       "      <td>0.058792</td>\n",
       "    </tr>\n",
       "  </tbody>\n",
       "</table>\n",
       "<p>726 rows × 2 columns</p>\n",
       "</div>"
      ],
      "text/plain": [
       "                    unique_id  PatchTST\n",
       "ds                                     \n",
       "2023-05-30 18:00:00  series_1  0.029406\n",
       "2023-05-30 19:00:00  series_1 -0.000865\n",
       "2023-05-30 20:00:00  series_1 -0.000511\n",
       "2023-05-30 21:00:00  series_1  0.028057\n",
       "2023-05-30 22:00:00  series_1  0.034149\n",
       "...                       ...       ...\n",
       "2023-06-29 19:00:00  series_1  0.154367\n",
       "2023-06-29 20:00:00  series_1  0.163511\n",
       "2023-06-29 21:00:00  series_1  0.189492\n",
       "2023-06-29 22:00:00  series_1  0.107346\n",
       "2023-06-29 23:00:00  series_1  0.058792\n",
       "\n",
       "[726 rows x 2 columns]"
      ]
     },
     "execution_count": 51,
     "metadata": {},
     "output_type": "execute_result"
    }
   ],
   "source": [
    "preds_df['1h'] "
   ]
  },
  {
   "cell_type": "code",
   "execution_count": 52,
   "id": "d43f59b8",
   "metadata": {},
   "outputs": [
    {
     "data": {
      "text/html": [
       "<div>\n",
       "<style scoped>\n",
       "    .dataframe tbody tr th:only-of-type {\n",
       "        vertical-align: middle;\n",
       "    }\n",
       "\n",
       "    .dataframe tbody tr th {\n",
       "        vertical-align: top;\n",
       "    }\n",
       "\n",
       "    .dataframe thead th {\n",
       "        text-align: right;\n",
       "    }\n",
       "</style>\n",
       "<table border=\"1\" class=\"dataframe\">\n",
       "  <thead>\n",
       "    <tr style=\"text-align: right;\">\n",
       "      <th></th>\n",
       "      <th>unique_id</th>\n",
       "      <th>PatchTST</th>\n",
       "    </tr>\n",
       "    <tr>\n",
       "      <th>ds</th>\n",
       "      <th></th>\n",
       "      <th></th>\n",
       "    </tr>\n",
       "  </thead>\n",
       "  <tbody>\n",
       "    <tr>\n",
       "      <th>2023-05-30 19:00:00</th>\n",
       "      <td>series_1</td>\n",
       "      <td>0.029435</td>\n",
       "    </tr>\n",
       "    <tr>\n",
       "      <th>2023-05-30 20:00:00</th>\n",
       "      <td>series_1</td>\n",
       "      <td>-0.001148</td>\n",
       "    </tr>\n",
       "    <tr>\n",
       "      <th>2023-05-30 21:00:00</th>\n",
       "      <td>series_1</td>\n",
       "      <td>-0.000667</td>\n",
       "    </tr>\n",
       "    <tr>\n",
       "      <th>2023-05-30 22:00:00</th>\n",
       "      <td>series_1</td>\n",
       "      <td>0.027684</td>\n",
       "    </tr>\n",
       "    <tr>\n",
       "      <th>2023-05-30 23:00:00</th>\n",
       "      <td>series_1</td>\n",
       "      <td>0.034138</td>\n",
       "    </tr>\n",
       "    <tr>\n",
       "      <th>...</th>\n",
       "      <td>...</td>\n",
       "      <td>...</td>\n",
       "    </tr>\n",
       "    <tr>\n",
       "      <th>2023-06-29 20:00:00</th>\n",
       "      <td>series_1</td>\n",
       "      <td>0.149433</td>\n",
       "    </tr>\n",
       "    <tr>\n",
       "      <th>2023-06-29 21:00:00</th>\n",
       "      <td>series_1</td>\n",
       "      <td>0.163535</td>\n",
       "    </tr>\n",
       "    <tr>\n",
       "      <th>2023-06-29 22:00:00</th>\n",
       "      <td>series_1</td>\n",
       "      <td>0.187819</td>\n",
       "    </tr>\n",
       "    <tr>\n",
       "      <th>2023-06-29 23:00:00</th>\n",
       "      <td>series_1</td>\n",
       "      <td>0.107390</td>\n",
       "    </tr>\n",
       "    <tr>\n",
       "      <th>2023-06-30 00:00:00</th>\n",
       "      <td>series_1</td>\n",
       "      <td>0.053313</td>\n",
       "    </tr>\n",
       "  </tbody>\n",
       "</table>\n",
       "<p>726 rows × 2 columns</p>\n",
       "</div>"
      ],
      "text/plain": [
       "                    unique_id  PatchTST\n",
       "ds                                     \n",
       "2023-05-30 19:00:00  series_1  0.029435\n",
       "2023-05-30 20:00:00  series_1 -0.001148\n",
       "2023-05-30 21:00:00  series_1 -0.000667\n",
       "2023-05-30 22:00:00  series_1  0.027684\n",
       "2023-05-30 23:00:00  series_1  0.034138\n",
       "...                       ...       ...\n",
       "2023-06-29 20:00:00  series_1  0.149433\n",
       "2023-06-29 21:00:00  series_1  0.163535\n",
       "2023-06-29 22:00:00  series_1  0.187819\n",
       "2023-06-29 23:00:00  series_1  0.107390\n",
       "2023-06-30 00:00:00  series_1  0.053313\n",
       "\n",
       "[726 rows x 2 columns]"
      ]
     },
     "execution_count": 52,
     "metadata": {},
     "output_type": "execute_result"
    }
   ],
   "source": [
    "preds_df['2h'] "
   ]
  },
  {
   "cell_type": "code",
   "execution_count": 53,
   "id": "e72aef2a",
   "metadata": {},
   "outputs": [
    {
     "data": {
      "text/html": [
       "<div>\n",
       "<style scoped>\n",
       "    .dataframe tbody tr th:only-of-type {\n",
       "        vertical-align: middle;\n",
       "    }\n",
       "\n",
       "    .dataframe tbody tr th {\n",
       "        vertical-align: top;\n",
       "    }\n",
       "\n",
       "    .dataframe thead th {\n",
       "        text-align: right;\n",
       "    }\n",
       "</style>\n",
       "<table border=\"1\" class=\"dataframe\">\n",
       "  <thead>\n",
       "    <tr style=\"text-align: right;\">\n",
       "      <th></th>\n",
       "      <th>unique_id</th>\n",
       "      <th>PatchTST</th>\n",
       "    </tr>\n",
       "    <tr>\n",
       "      <th>ds</th>\n",
       "      <th></th>\n",
       "      <th></th>\n",
       "    </tr>\n",
       "  </thead>\n",
       "  <tbody>\n",
       "    <tr>\n",
       "      <th>2023-05-30 20:00:00</th>\n",
       "      <td>series_1</td>\n",
       "      <td>0.029107</td>\n",
       "    </tr>\n",
       "    <tr>\n",
       "      <th>2023-05-30 21:00:00</th>\n",
       "      <td>series_1</td>\n",
       "      <td>-0.000434</td>\n",
       "    </tr>\n",
       "    <tr>\n",
       "      <th>2023-05-30 22:00:00</th>\n",
       "      <td>series_1</td>\n",
       "      <td>-0.001139</td>\n",
       "    </tr>\n",
       "    <tr>\n",
       "      <th>2023-05-30 23:00:00</th>\n",
       "      <td>series_1</td>\n",
       "      <td>0.027229</td>\n",
       "    </tr>\n",
       "    <tr>\n",
       "      <th>2023-05-31 00:00:00</th>\n",
       "      <td>series_1</td>\n",
       "      <td>0.034091</td>\n",
       "    </tr>\n",
       "    <tr>\n",
       "      <th>...</th>\n",
       "      <td>...</td>\n",
       "      <td>...</td>\n",
       "    </tr>\n",
       "    <tr>\n",
       "      <th>2023-06-29 21:00:00</th>\n",
       "      <td>series_1</td>\n",
       "      <td>0.151136</td>\n",
       "    </tr>\n",
       "    <tr>\n",
       "      <th>2023-06-29 22:00:00</th>\n",
       "      <td>series_1</td>\n",
       "      <td>0.164064</td>\n",
       "    </tr>\n",
       "    <tr>\n",
       "      <th>2023-06-29 23:00:00</th>\n",
       "      <td>series_1</td>\n",
       "      <td>0.190313</td>\n",
       "    </tr>\n",
       "    <tr>\n",
       "      <th>2023-06-30 00:00:00</th>\n",
       "      <td>series_1</td>\n",
       "      <td>0.107547</td>\n",
       "    </tr>\n",
       "    <tr>\n",
       "      <th>2023-06-30 01:00:00</th>\n",
       "      <td>series_1</td>\n",
       "      <td>0.048598</td>\n",
       "    </tr>\n",
       "  </tbody>\n",
       "</table>\n",
       "<p>726 rows × 2 columns</p>\n",
       "</div>"
      ],
      "text/plain": [
       "                    unique_id  PatchTST\n",
       "ds                                     \n",
       "2023-05-30 20:00:00  series_1  0.029107\n",
       "2023-05-30 21:00:00  series_1 -0.000434\n",
       "2023-05-30 22:00:00  series_1 -0.001139\n",
       "2023-05-30 23:00:00  series_1  0.027229\n",
       "2023-05-31 00:00:00  series_1  0.034091\n",
       "...                       ...       ...\n",
       "2023-06-29 21:00:00  series_1  0.151136\n",
       "2023-06-29 22:00:00  series_1  0.164064\n",
       "2023-06-29 23:00:00  series_1  0.190313\n",
       "2023-06-30 00:00:00  series_1  0.107547\n",
       "2023-06-30 01:00:00  series_1  0.048598\n",
       "\n",
       "[726 rows x 2 columns]"
      ]
     },
     "execution_count": 53,
     "metadata": {},
     "output_type": "execute_result"
    }
   ],
   "source": [
    "preds_df['3h'] "
   ]
  },
  {
   "cell_type": "code",
   "execution_count": 54,
   "id": "b9f53371",
   "metadata": {},
   "outputs": [],
   "source": [
    "# test_df_nf.tail(3)"
   ]
  },
  {
   "cell_type": "markdown",
   "id": "25337bbc",
   "metadata": {},
   "source": [
    "Let us plot the predictions against the test set values."
   ]
  },
  {
   "cell_type": "code",
   "execution_count": 55,
   "id": "a692bb49",
   "metadata": {},
   "outputs": [
    {
     "data": {
      "image/png": "[encoded data removed]",
      "text/plain": [
       "<Figure size 1200x600 with 1 Axes>"
      ]
     },
     "metadata": {},
     "output_type": "display_data"
    }
   ],
   "source": [
    "%matplotlib inline\n",
    "\n",
    "plt.figure(figsize=(12, 6))\n",
    "# plt.plot(val_df_nf[\"y\"].tail(20), label=\"Actual Active Power (training)\", color='magenta')\n",
    "# plt.plot(test_df_nf[\"y\"].head(20), label=\"Actual Active Power (test)\", color='blue')\n",
    "plt.plot(val_df_nf[\"y\"], label=\"Actual Active Power (training)\", color='magenta')\n",
    "plt.plot(test_df_nf[\"y\"], label=\"Actual Active Power (test)\", color='blue')\n",
    "plt.plot(preds_df['1h']['PatchTST'][2:], label=\"Predicted Active Power 1h\", color='red')\n",
    "plt.plot(preds_df['2h']['PatchTST'][1:], label=\"Predicted Active Power 2h\", color='green')\n",
    "plt.plot(preds_df['3h']['PatchTST'], label=\"Predicted Active Power 3h\", color='orange')\n",
    "\n",
    "plt.legend()\n",
    "plt.show();plt.close()\n"
   ]
  },
  {
   "cell_type": "markdown",
   "id": "34a051f6",
   "metadata": {},
   "source": [
    "And also let us zoom in on the first time instants of the test set."
   ]
  },
  {
   "cell_type": "code",
   "execution_count": 56,
   "id": "4ca65da9",
   "metadata": {},
   "outputs": [
    {
     "data": {
      "image/png": "[encoded data removed]",
      "text/plain": [
       "<Figure size 1200x600 with 1 Axes>"
      ]
     },
     "metadata": {},
     "output_type": "display_data"
    }
   ],
   "source": [
    "%matplotlib inline\n",
    "\n",
    "plt.figure(figsize=(12, 6))\n",
    "plt.plot(val_df_nf[\"y\"].tail(20), label=\"Actual Active Power (training)\", color='magenta')\n",
    "plt.plot(test_df_nf[\"y\"].head(50), label=\"Actual Active Power (test)\", color='blue')\n",
    "# plt.plot(val_df_nf[\"y\"], label=\"Actual Active Power (training)\", color='magenta')\n",
    "# plt.plot(test_df_nf[\"y\"], label=\"Actual Active Power (test)\", color='blue')\n",
    "plt.plot(preds_df['1h']['PatchTST'].head(50)[2:], label=\"Predicted Active Power 1h\", color='red')\n",
    "plt.plot(preds_df['2h']['PatchTST'].head(50)[1:], label=\"Predicted Active Power 2h\", color='green')\n",
    "plt.plot(preds_df['3h']['PatchTST'].head(50), label=\"Predicted Active Power 3h\", color='orange')\n",
    "\n",
    "plt.legend()\n",
    "plt.show();plt.close()\n"
   ]
  },
  {
   "cell_type": "markdown",
   "id": "ae967d39",
   "metadata": {},
   "source": [
    "### MAE computation"
   ]
  },
  {
   "cell_type": "markdown",
   "id": "853ba2db",
   "metadata": {},
   "source": [
    "We will next compute the MAE for each of the predictions in the dictionary. The trickiest part here is to ensure that the predictions are aligned with the test set. "
   ]
  },
  {
   "cell_type": "code",
   "execution_count": 57,
   "id": "5a7f989d",
   "metadata": {},
   "outputs": [],
   "source": [
    "from sklearn.metrics import mean_absolute_error"
   ]
  },
  {
   "cell_type": "code",
   "execution_count": 58,
   "id": "61d01d33",
   "metadata": {},
   "outputs": [
    {
     "data": {
      "text/plain": [
       "(Timestamp('2023-05-30 20:00:00'), Timestamp('2023-06-29 23:00:00'))"
      ]
     },
     "execution_count": 58,
     "metadata": {},
     "output_type": "execute_result"
    }
   ],
   "source": [
    "test_df_nf.index.min(), test_df_nf.index.max()"
   ]
  },
  {
   "cell_type": "code",
   "execution_count": 59,
   "id": "007feae4",
   "metadata": {},
   "outputs": [
    {
     "data": {
      "text/plain": [
       "time\n",
       "2023-05-30 20:00:00    0.143479\n",
       "2023-05-30 21:00:00    0.152575\n",
       "2023-05-30 22:00:00    0.094740\n",
       "2023-05-30 23:00:00    0.121221\n",
       "2023-05-31 00:00:00    0.149435\n",
       "                         ...   \n",
       "2023-06-29 19:00:00    0.266810\n",
       "2023-06-29 20:00:00    0.276262\n",
       "2023-06-29 21:00:00    0.227949\n",
       "2023-06-29 22:00:00    0.205115\n",
       "2023-06-29 23:00:00    0.171232\n",
       "Name: Wind_speed_tower, Length: 724, dtype: float64"
      ]
     },
     "execution_count": 59,
     "metadata": {},
     "output_type": "execute_result"
    }
   ],
   "source": [
    "test_df_nf['Wind_speed_tower']"
   ]
  },
  {
   "cell_type": "code",
   "execution_count": 60,
   "id": "53fc44ff",
   "metadata": {},
   "outputs": [
    {
     "data": {
      "text/html": [
       "<div>\n",
       "<style scoped>\n",
       "    .dataframe tbody tr th:only-of-type {\n",
       "        vertical-align: middle;\n",
       "    }\n",
       "\n",
       "    .dataframe tbody tr th {\n",
       "        vertical-align: top;\n",
       "    }\n",
       "\n",
       "    .dataframe thead th {\n",
       "        text-align: right;\n",
       "    }\n",
       "</style>\n",
       "<table border=\"1\" class=\"dataframe\">\n",
       "  <thead>\n",
       "    <tr style=\"text-align: right;\">\n",
       "      <th></th>\n",
       "      <th>PatchTST</th>\n",
       "    </tr>\n",
       "    <tr>\n",
       "      <th>ds</th>\n",
       "      <th></th>\n",
       "    </tr>\n",
       "  </thead>\n",
       "  <tbody>\n",
       "    <tr>\n",
       "      <th>2023-05-30 20:00:00</th>\n",
       "      <td>-0.000511</td>\n",
       "    </tr>\n",
       "    <tr>\n",
       "      <th>2023-05-30 21:00:00</th>\n",
       "      <td>0.028057</td>\n",
       "    </tr>\n",
       "    <tr>\n",
       "      <th>2023-05-30 22:00:00</th>\n",
       "      <td>0.034149</td>\n",
       "    </tr>\n",
       "    <tr>\n",
       "      <th>2023-05-30 23:00:00</th>\n",
       "      <td>0.002569</td>\n",
       "    </tr>\n",
       "    <tr>\n",
       "      <th>2023-05-31 00:00:00</th>\n",
       "      <td>0.000739</td>\n",
       "    </tr>\n",
       "    <tr>\n",
       "      <th>...</th>\n",
       "      <td>...</td>\n",
       "    </tr>\n",
       "    <tr>\n",
       "      <th>2023-06-29 19:00:00</th>\n",
       "      <td>0.154367</td>\n",
       "    </tr>\n",
       "    <tr>\n",
       "      <th>2023-06-29 20:00:00</th>\n",
       "      <td>0.163511</td>\n",
       "    </tr>\n",
       "    <tr>\n",
       "      <th>2023-06-29 21:00:00</th>\n",
       "      <td>0.189492</td>\n",
       "    </tr>\n",
       "    <tr>\n",
       "      <th>2023-06-29 22:00:00</th>\n",
       "      <td>0.107346</td>\n",
       "    </tr>\n",
       "    <tr>\n",
       "      <th>2023-06-29 23:00:00</th>\n",
       "      <td>0.058792</td>\n",
       "    </tr>\n",
       "  </tbody>\n",
       "</table>\n",
       "<p>724 rows × 1 columns</p>\n",
       "</div>"
      ],
      "text/plain": [
       "                     PatchTST\n",
       "ds                           \n",
       "2023-05-30 20:00:00 -0.000511\n",
       "2023-05-30 21:00:00  0.028057\n",
       "2023-05-30 22:00:00  0.034149\n",
       "2023-05-30 23:00:00  0.002569\n",
       "2023-05-31 00:00:00  0.000739\n",
       "...                       ...\n",
       "2023-06-29 19:00:00  0.154367\n",
       "2023-06-29 20:00:00  0.163511\n",
       "2023-06-29 21:00:00  0.189492\n",
       "2023-06-29 22:00:00  0.107346\n",
       "2023-06-29 23:00:00  0.058792\n",
       "\n",
       "[724 rows x 1 columns]"
      ]
     },
     "execution_count": 60,
     "metadata": {},
     "output_type": "execute_result"
    }
   ],
   "source": [
    "mae1h_df = preds_df['1h'].copy()[2:][['PatchTST']]\n",
    "mae1h_df\n"
   ]
  },
  {
   "cell_type": "markdown",
   "id": "822b05ba",
   "metadata": {},
   "source": [
    "We need to add the exogenous variables as they were used by the scaler. "
   ]
  },
  {
   "cell_type": "code",
   "execution_count": 61,
   "id": "b1cdb3df",
   "metadata": {},
   "outputs": [
    {
     "data": {
      "text/html": [
       "<div>\n",
       "<style scoped>\n",
       "    .dataframe tbody tr th:only-of-type {\n",
       "        vertical-align: middle;\n",
       "    }\n",
       "\n",
       "    .dataframe tbody tr th {\n",
       "        vertical-align: top;\n",
       "    }\n",
       "\n",
       "    .dataframe thead th {\n",
       "        text-align: right;\n",
       "    }\n",
       "</style>\n",
       "<table border=\"1\" class=\"dataframe\">\n",
       "  <thead>\n",
       "    <tr style=\"text-align: right;\">\n",
       "      <th></th>\n",
       "      <th>Wind_speed_tower</th>\n",
       "      <th>PatchTST</th>\n",
       "    </tr>\n",
       "    <tr>\n",
       "      <th>ds</th>\n",
       "      <th></th>\n",
       "      <th></th>\n",
       "    </tr>\n",
       "  </thead>\n",
       "  <tbody>\n",
       "    <tr>\n",
       "      <th>2023-05-30 20:00:00</th>\n",
       "      <td>0.143479</td>\n",
       "      <td>-0.000511</td>\n",
       "    </tr>\n",
       "    <tr>\n",
       "      <th>2023-05-30 21:00:00</th>\n",
       "      <td>0.152575</td>\n",
       "      <td>0.028057</td>\n",
       "    </tr>\n",
       "    <tr>\n",
       "      <th>2023-05-30 22:00:00</th>\n",
       "      <td>0.094740</td>\n",
       "      <td>0.034149</td>\n",
       "    </tr>\n",
       "    <tr>\n",
       "      <th>2023-05-30 23:00:00</th>\n",
       "      <td>0.121221</td>\n",
       "      <td>0.002569</td>\n",
       "    </tr>\n",
       "    <tr>\n",
       "      <th>2023-05-31 00:00:00</th>\n",
       "      <td>0.149435</td>\n",
       "      <td>0.000739</td>\n",
       "    </tr>\n",
       "    <tr>\n",
       "      <th>...</th>\n",
       "      <td>...</td>\n",
       "      <td>...</td>\n",
       "    </tr>\n",
       "    <tr>\n",
       "      <th>2023-06-29 19:00:00</th>\n",
       "      <td>0.266810</td>\n",
       "      <td>0.154367</td>\n",
       "    </tr>\n",
       "    <tr>\n",
       "      <th>2023-06-29 20:00:00</th>\n",
       "      <td>0.276262</td>\n",
       "      <td>0.163511</td>\n",
       "    </tr>\n",
       "    <tr>\n",
       "      <th>2023-06-29 21:00:00</th>\n",
       "      <td>0.227949</td>\n",
       "      <td>0.189492</td>\n",
       "    </tr>\n",
       "    <tr>\n",
       "      <th>2023-06-29 22:00:00</th>\n",
       "      <td>0.205115</td>\n",
       "      <td>0.107346</td>\n",
       "    </tr>\n",
       "    <tr>\n",
       "      <th>2023-06-29 23:00:00</th>\n",
       "      <td>0.171232</td>\n",
       "      <td>0.058792</td>\n",
       "    </tr>\n",
       "  </tbody>\n",
       "</table>\n",
       "<p>724 rows × 2 columns</p>\n",
       "</div>"
      ],
      "text/plain": [
       "                     Wind_speed_tower  PatchTST\n",
       "ds                                             \n",
       "2023-05-30 20:00:00          0.143479 -0.000511\n",
       "2023-05-30 21:00:00          0.152575  0.028057\n",
       "2023-05-30 22:00:00          0.094740  0.034149\n",
       "2023-05-30 23:00:00          0.121221  0.002569\n",
       "2023-05-31 00:00:00          0.149435  0.000739\n",
       "...                               ...       ...\n",
       "2023-06-29 19:00:00          0.266810  0.154367\n",
       "2023-06-29 20:00:00          0.276262  0.163511\n",
       "2023-06-29 21:00:00          0.227949  0.189492\n",
       "2023-06-29 22:00:00          0.205115  0.107346\n",
       "2023-06-29 23:00:00          0.171232  0.058792\n",
       "\n",
       "[724 rows x 2 columns]"
      ]
     },
     "execution_count": 61,
     "metadata": {},
     "output_type": "execute_result"
    }
   ],
   "source": [
    "mae1h_df.insert(0, 'Wind_speed_tower', test_df_nf['Wind_speed_tower'].values)\n",
    "mae1h_df"
   ]
  },
  {
   "cell_type": "code",
   "execution_count": 62,
   "id": "20263843",
   "metadata": {},
   "outputs": [
    {
     "data": {
      "text/plain": [
       "241.38919619253247"
      ]
     },
     "execution_count": 62,
     "metadata": {},
     "output_type": "execute_result"
    }
   ],
   "source": [
    "# mae1h_df.columns = [\"Wind_speed_tower\", \"Active_Power\"]\n",
    "mean_absolute_error(scaler.inverse_transform(mae1h_df)[:,1], test_df_original[\"Active_Power\"])"
   ]
  },
  {
   "cell_type": "markdown",
   "id": "297efffa",
   "metadata": {},
   "source": [
    "#### Mae for 2h preddictions"
   ]
  },
  {
   "cell_type": "code",
   "execution_count": 63,
   "id": "f8ad8efc",
   "metadata": {},
   "outputs": [
    {
     "data": {
      "text/html": [
       "<div>\n",
       "<style scoped>\n",
       "    .dataframe tbody tr th:only-of-type {\n",
       "        vertical-align: middle;\n",
       "    }\n",
       "\n",
       "    .dataframe tbody tr th {\n",
       "        vertical-align: top;\n",
       "    }\n",
       "\n",
       "    .dataframe thead th {\n",
       "        text-align: right;\n",
       "    }\n",
       "</style>\n",
       "<table border=\"1\" class=\"dataframe\">\n",
       "  <thead>\n",
       "    <tr style=\"text-align: right;\">\n",
       "      <th></th>\n",
       "      <th>PatchTST</th>\n",
       "    </tr>\n",
       "    <tr>\n",
       "      <th>ds</th>\n",
       "      <th></th>\n",
       "    </tr>\n",
       "  </thead>\n",
       "  <tbody>\n",
       "    <tr>\n",
       "      <th>2023-05-30 20:00:00</th>\n",
       "      <td>-0.001148</td>\n",
       "    </tr>\n",
       "    <tr>\n",
       "      <th>2023-05-30 21:00:00</th>\n",
       "      <td>-0.000667</td>\n",
       "    </tr>\n",
       "    <tr>\n",
       "      <th>2023-05-30 22:00:00</th>\n",
       "      <td>0.027684</td>\n",
       "    </tr>\n",
       "    <tr>\n",
       "      <th>2023-05-30 23:00:00</th>\n",
       "      <td>0.034138</td>\n",
       "    </tr>\n",
       "    <tr>\n",
       "      <th>2023-05-31 00:00:00</th>\n",
       "      <td>0.000689</td>\n",
       "    </tr>\n",
       "    <tr>\n",
       "      <th>...</th>\n",
       "      <td>...</td>\n",
       "    </tr>\n",
       "    <tr>\n",
       "      <th>2023-06-29 19:00:00</th>\n",
       "      <td>0.207365</td>\n",
       "    </tr>\n",
       "    <tr>\n",
       "      <th>2023-06-29 20:00:00</th>\n",
       "      <td>0.149433</td>\n",
       "    </tr>\n",
       "    <tr>\n",
       "      <th>2023-06-29 21:00:00</th>\n",
       "      <td>0.163535</td>\n",
       "    </tr>\n",
       "    <tr>\n",
       "      <th>2023-06-29 22:00:00</th>\n",
       "      <td>0.187819</td>\n",
       "    </tr>\n",
       "    <tr>\n",
       "      <th>2023-06-29 23:00:00</th>\n",
       "      <td>0.107390</td>\n",
       "    </tr>\n",
       "  </tbody>\n",
       "</table>\n",
       "<p>724 rows × 1 columns</p>\n",
       "</div>"
      ],
      "text/plain": [
       "                     PatchTST\n",
       "ds                           \n",
       "2023-05-30 20:00:00 -0.001148\n",
       "2023-05-30 21:00:00 -0.000667\n",
       "2023-05-30 22:00:00  0.027684\n",
       "2023-05-30 23:00:00  0.034138\n",
       "2023-05-31 00:00:00  0.000689\n",
       "...                       ...\n",
       "2023-06-29 19:00:00  0.207365\n",
       "2023-06-29 20:00:00  0.149433\n",
       "2023-06-29 21:00:00  0.163535\n",
       "2023-06-29 22:00:00  0.187819\n",
       "2023-06-29 23:00:00  0.107390\n",
       "\n",
       "[724 rows x 1 columns]"
      ]
     },
     "execution_count": 63,
     "metadata": {},
     "output_type": "execute_result"
    }
   ],
   "source": [
    "mae2h_df = preds_df['2h'].copy()[1:][:-1][['PatchTST']]\n",
    "mae2h_df\n"
   ]
  },
  {
   "cell_type": "code",
   "execution_count": 64,
   "id": "8d242083",
   "metadata": {},
   "outputs": [
    {
     "data": {
      "text/html": [
       "<div>\n",
       "<style scoped>\n",
       "    .dataframe tbody tr th:only-of-type {\n",
       "        vertical-align: middle;\n",
       "    }\n",
       "\n",
       "    .dataframe tbody tr th {\n",
       "        vertical-align: top;\n",
       "    }\n",
       "\n",
       "    .dataframe thead th {\n",
       "        text-align: right;\n",
       "    }\n",
       "</style>\n",
       "<table border=\"1\" class=\"dataframe\">\n",
       "  <thead>\n",
       "    <tr style=\"text-align: right;\">\n",
       "      <th></th>\n",
       "      <th>Wind_speed_tower</th>\n",
       "      <th>PatchTST</th>\n",
       "    </tr>\n",
       "    <tr>\n",
       "      <th>ds</th>\n",
       "      <th></th>\n",
       "      <th></th>\n",
       "    </tr>\n",
       "  </thead>\n",
       "  <tbody>\n",
       "    <tr>\n",
       "      <th>2023-05-30 20:00:00</th>\n",
       "      <td>0.143479</td>\n",
       "      <td>-0.001148</td>\n",
       "    </tr>\n",
       "    <tr>\n",
       "      <th>2023-05-30 21:00:00</th>\n",
       "      <td>0.152575</td>\n",
       "      <td>-0.000667</td>\n",
       "    </tr>\n",
       "    <tr>\n",
       "      <th>2023-05-30 22:00:00</th>\n",
       "      <td>0.094740</td>\n",
       "      <td>0.027684</td>\n",
       "    </tr>\n",
       "    <tr>\n",
       "      <th>2023-05-30 23:00:00</th>\n",
       "      <td>0.121221</td>\n",
       "      <td>0.034138</td>\n",
       "    </tr>\n",
       "    <tr>\n",
       "      <th>2023-05-31 00:00:00</th>\n",
       "      <td>0.149435</td>\n",
       "      <td>0.000689</td>\n",
       "    </tr>\n",
       "    <tr>\n",
       "      <th>...</th>\n",
       "      <td>...</td>\n",
       "      <td>...</td>\n",
       "    </tr>\n",
       "    <tr>\n",
       "      <th>2023-06-29 19:00:00</th>\n",
       "      <td>0.266810</td>\n",
       "      <td>0.207365</td>\n",
       "    </tr>\n",
       "    <tr>\n",
       "      <th>2023-06-29 20:00:00</th>\n",
       "      <td>0.276262</td>\n",
       "      <td>0.149433</td>\n",
       "    </tr>\n",
       "    <tr>\n",
       "      <th>2023-06-29 21:00:00</th>\n",
       "      <td>0.227949</td>\n",
       "      <td>0.163535</td>\n",
       "    </tr>\n",
       "    <tr>\n",
       "      <th>2023-06-29 22:00:00</th>\n",
       "      <td>0.205115</td>\n",
       "      <td>0.187819</td>\n",
       "    </tr>\n",
       "    <tr>\n",
       "      <th>2023-06-29 23:00:00</th>\n",
       "      <td>0.171232</td>\n",
       "      <td>0.107390</td>\n",
       "    </tr>\n",
       "  </tbody>\n",
       "</table>\n",
       "<p>724 rows × 2 columns</p>\n",
       "</div>"
      ],
      "text/plain": [
       "                     Wind_speed_tower  PatchTST\n",
       "ds                                             \n",
       "2023-05-30 20:00:00          0.143479 -0.001148\n",
       "2023-05-30 21:00:00          0.152575 -0.000667\n",
       "2023-05-30 22:00:00          0.094740  0.027684\n",
       "2023-05-30 23:00:00          0.121221  0.034138\n",
       "2023-05-31 00:00:00          0.149435  0.000689\n",
       "...                               ...       ...\n",
       "2023-06-29 19:00:00          0.266810  0.207365\n",
       "2023-06-29 20:00:00          0.276262  0.149433\n",
       "2023-06-29 21:00:00          0.227949  0.163535\n",
       "2023-06-29 22:00:00          0.205115  0.187819\n",
       "2023-06-29 23:00:00          0.171232  0.107390\n",
       "\n",
       "[724 rows x 2 columns]"
      ]
     },
     "execution_count": 64,
     "metadata": {},
     "output_type": "execute_result"
    }
   ],
   "source": [
    "mae2h_df.insert(0, 'Wind_speed_tower', test_df_nf['Wind_speed_tower'].values)\n",
    "mae2h_df"
   ]
  },
  {
   "cell_type": "code",
   "execution_count": 65,
   "id": "e68b0f73",
   "metadata": {},
   "outputs": [
    {
     "data": {
      "text/plain": [
       "384.12100082376713"
      ]
     },
     "execution_count": 65,
     "metadata": {},
     "output_type": "execute_result"
    }
   ],
   "source": [
    "# mae1h_df.columns = [\"Wind_speed_tower\", \"Active_Power\"]\n",
    "mean_absolute_error(scaler.inverse_transform(mae2h_df)[:,1], test_df_original[\"Active_Power\"])"
   ]
  },
  {
   "cell_type": "markdown",
   "id": "9285da47",
   "metadata": {},
   "source": [
    "#### Mae for 3h preddictions"
   ]
  },
  {
   "cell_type": "code",
   "execution_count": 66,
   "id": "1071bb31",
   "metadata": {},
   "outputs": [
    {
     "data": {
      "text/html": [
       "<div>\n",
       "<style scoped>\n",
       "    .dataframe tbody tr th:only-of-type {\n",
       "        vertical-align: middle;\n",
       "    }\n",
       "\n",
       "    .dataframe tbody tr th {\n",
       "        vertical-align: top;\n",
       "    }\n",
       "\n",
       "    .dataframe thead th {\n",
       "        text-align: right;\n",
       "    }\n",
       "</style>\n",
       "<table border=\"1\" class=\"dataframe\">\n",
       "  <thead>\n",
       "    <tr style=\"text-align: right;\">\n",
       "      <th></th>\n",
       "      <th>PatchTST</th>\n",
       "    </tr>\n",
       "    <tr>\n",
       "      <th>ds</th>\n",
       "      <th></th>\n",
       "    </tr>\n",
       "  </thead>\n",
       "  <tbody>\n",
       "    <tr>\n",
       "      <th>2023-05-30 20:00:00</th>\n",
       "      <td>0.029107</td>\n",
       "    </tr>\n",
       "    <tr>\n",
       "      <th>2023-05-30 21:00:00</th>\n",
       "      <td>-0.000434</td>\n",
       "    </tr>\n",
       "    <tr>\n",
       "      <th>2023-05-30 22:00:00</th>\n",
       "      <td>-0.001139</td>\n",
       "    </tr>\n",
       "    <tr>\n",
       "      <th>2023-05-30 23:00:00</th>\n",
       "      <td>0.027229</td>\n",
       "    </tr>\n",
       "    <tr>\n",
       "      <th>2023-05-31 00:00:00</th>\n",
       "      <td>0.034091</td>\n",
       "    </tr>\n",
       "    <tr>\n",
       "      <th>...</th>\n",
       "      <td>...</td>\n",
       "    </tr>\n",
       "    <tr>\n",
       "      <th>2023-06-29 19:00:00</th>\n",
       "      <td>0.270326</td>\n",
       "    </tr>\n",
       "    <tr>\n",
       "      <th>2023-06-29 20:00:00</th>\n",
       "      <td>0.200167</td>\n",
       "    </tr>\n",
       "    <tr>\n",
       "      <th>2023-06-29 21:00:00</th>\n",
       "      <td>0.151136</td>\n",
       "    </tr>\n",
       "    <tr>\n",
       "      <th>2023-06-29 22:00:00</th>\n",
       "      <td>0.164064</td>\n",
       "    </tr>\n",
       "    <tr>\n",
       "      <th>2023-06-29 23:00:00</th>\n",
       "      <td>0.190313</td>\n",
       "    </tr>\n",
       "  </tbody>\n",
       "</table>\n",
       "<p>724 rows × 1 columns</p>\n",
       "</div>"
      ],
      "text/plain": [
       "                     PatchTST\n",
       "ds                           \n",
       "2023-05-30 20:00:00  0.029107\n",
       "2023-05-30 21:00:00 -0.000434\n",
       "2023-05-30 22:00:00 -0.001139\n",
       "2023-05-30 23:00:00  0.027229\n",
       "2023-05-31 00:00:00  0.034091\n",
       "...                       ...\n",
       "2023-06-29 19:00:00  0.270326\n",
       "2023-06-29 20:00:00  0.200167\n",
       "2023-06-29 21:00:00  0.151136\n",
       "2023-06-29 22:00:00  0.164064\n",
       "2023-06-29 23:00:00  0.190313\n",
       "\n",
       "[724 rows x 1 columns]"
      ]
     },
     "execution_count": 66,
     "metadata": {},
     "output_type": "execute_result"
    }
   ],
   "source": [
    "mae3h_df = preds_df['3h'].copy()[:-2][['PatchTST']]\n",
    "mae3h_df\n"
   ]
  },
  {
   "cell_type": "code",
   "execution_count": 67,
   "id": "fde11320",
   "metadata": {},
   "outputs": [
    {
     "data": {
      "text/html": [
       "<div>\n",
       "<style scoped>\n",
       "    .dataframe tbody tr th:only-of-type {\n",
       "        vertical-align: middle;\n",
       "    }\n",
       "\n",
       "    .dataframe tbody tr th {\n",
       "        vertical-align: top;\n",
       "    }\n",
       "\n",
       "    .dataframe thead th {\n",
       "        text-align: right;\n",
       "    }\n",
       "</style>\n",
       "<table border=\"1\" class=\"dataframe\">\n",
       "  <thead>\n",
       "    <tr style=\"text-align: right;\">\n",
       "      <th></th>\n",
       "      <th>Wind_speed_tower</th>\n",
       "      <th>PatchTST</th>\n",
       "    </tr>\n",
       "    <tr>\n",
       "      <th>ds</th>\n",
       "      <th></th>\n",
       "      <th></th>\n",
       "    </tr>\n",
       "  </thead>\n",
       "  <tbody>\n",
       "    <tr>\n",
       "      <th>2023-05-30 20:00:00</th>\n",
       "      <td>0.143479</td>\n",
       "      <td>0.029107</td>\n",
       "    </tr>\n",
       "    <tr>\n",
       "      <th>2023-05-30 21:00:00</th>\n",
       "      <td>0.152575</td>\n",
       "      <td>-0.000434</td>\n",
       "    </tr>\n",
       "    <tr>\n",
       "      <th>2023-05-30 22:00:00</th>\n",
       "      <td>0.094740</td>\n",
       "      <td>-0.001139</td>\n",
       "    </tr>\n",
       "    <tr>\n",
       "      <th>2023-05-30 23:00:00</th>\n",
       "      <td>0.121221</td>\n",
       "      <td>0.027229</td>\n",
       "    </tr>\n",
       "    <tr>\n",
       "      <th>2023-05-31 00:00:00</th>\n",
       "      <td>0.149435</td>\n",
       "      <td>0.034091</td>\n",
       "    </tr>\n",
       "    <tr>\n",
       "      <th>...</th>\n",
       "      <td>...</td>\n",
       "      <td>...</td>\n",
       "    </tr>\n",
       "    <tr>\n",
       "      <th>2023-06-29 19:00:00</th>\n",
       "      <td>0.266810</td>\n",
       "      <td>0.270326</td>\n",
       "    </tr>\n",
       "    <tr>\n",
       "      <th>2023-06-29 20:00:00</th>\n",
       "      <td>0.276262</td>\n",
       "      <td>0.200167</td>\n",
       "    </tr>\n",
       "    <tr>\n",
       "      <th>2023-06-29 21:00:00</th>\n",
       "      <td>0.227949</td>\n",
       "      <td>0.151136</td>\n",
       "    </tr>\n",
       "    <tr>\n",
       "      <th>2023-06-29 22:00:00</th>\n",
       "      <td>0.205115</td>\n",
       "      <td>0.164064</td>\n",
       "    </tr>\n",
       "    <tr>\n",
       "      <th>2023-06-29 23:00:00</th>\n",
       "      <td>0.171232</td>\n",
       "      <td>0.190313</td>\n",
       "    </tr>\n",
       "  </tbody>\n",
       "</table>\n",
       "<p>724 rows × 2 columns</p>\n",
       "</div>"
      ],
      "text/plain": [
       "                     Wind_speed_tower  PatchTST\n",
       "ds                                             \n",
       "2023-05-30 20:00:00          0.143479  0.029107\n",
       "2023-05-30 21:00:00          0.152575 -0.000434\n",
       "2023-05-30 22:00:00          0.094740 -0.001139\n",
       "2023-05-30 23:00:00          0.121221  0.027229\n",
       "2023-05-31 00:00:00          0.149435  0.034091\n",
       "...                               ...       ...\n",
       "2023-06-29 19:00:00          0.266810  0.270326\n",
       "2023-06-29 20:00:00          0.276262  0.200167\n",
       "2023-06-29 21:00:00          0.227949  0.151136\n",
       "2023-06-29 22:00:00          0.205115  0.164064\n",
       "2023-06-29 23:00:00          0.171232  0.190313\n",
       "\n",
       "[724 rows x 2 columns]"
      ]
     },
     "execution_count": 67,
     "metadata": {},
     "output_type": "execute_result"
    }
   ],
   "source": [
    "mae3h_df.insert(0, 'Wind_speed_tower', test_df_nf['Wind_speed_tower'].values)\n",
    "mae3h_df"
   ]
  },
  {
   "cell_type": "code",
   "execution_count": 68,
   "id": "6253faeb",
   "metadata": {},
   "outputs": [
    {
     "data": {
      "text/plain": [
       "490.0217602602875"
      ]
     },
     "execution_count": 68,
     "metadata": {},
     "output_type": "execute_result"
    }
   ],
   "source": [
    "mean_absolute_error(scaler.inverse_transform(mae3h_df)[:,1], test_df_original[\"Active_Power\"])"
   ]
  }
 ],
 "metadata": {
  "kernelspec": {
   "display_name": "tfm_cc",
   "language": "python",
   "name": "python3"
  },
  "language_info": {
   "codemirror_mode": {
    "name": "ipython",
    "version": 3
   },
   "file_extension": ".py",
   "mimetype": "text/x-python",
   "name": "python",
   "nbconvert_exporter": "python",
   "pygments_lexer": "ipython3",
   "version": "3.10.16"
  }
 },
 "nbformat": 4,
 "nbformat_minor": 5
}
