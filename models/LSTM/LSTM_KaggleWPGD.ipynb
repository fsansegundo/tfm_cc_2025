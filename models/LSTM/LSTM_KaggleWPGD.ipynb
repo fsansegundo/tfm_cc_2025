{
 "cells": [
  {
   "cell_type": "markdown",
   "id": "50ef451e",
   "metadata": {},
   "source": [
    "# LSTM Forecasting with Nixtla's NeuralForecast"
   ]
  },
  {
   "cell_type": "markdown",
   "id": "68234bc2",
   "metadata": {},
   "source": [
    "## Dataset: KaggleWPGD"
   ]
  },
  {
   "cell_type": "markdown",
   "id": "1b0bfb3a",
   "metadata": {},
   "source": [
    "This notebook demonstrates how to use the classic LTM forecasting model described in:\n",
    "\n",
    "\n",
    "\n",
    "The implementation we use is provided by Nixtla's NeuralForecast library:\n",
    "\n",
    "+ for the base model [`LSTM`](https://nixtlaverse.nixtla.io/neuralforecast/models.lstm.html#lstm)\n",
    "+ for the automodel [`AutoLSTM`](https://nixtlaverse.nixtla.io/neuralforecast/models.html#autolstm)\n",
    "\n",
    "## Important note:\n",
    "\n",
    "This notebook uses the following conda environments:\n",
    "\n",
    "+ Under linux: tfm_cc, described in the tfm_cc.yml file (see environments folder).\n",
    "+ Under macOS: tfm_cc_nixtla, described in the tfm_cc_nixtla.yml file (see environments folder). \n",
    "\n",
    "## Execution Notes:\n",
    "\n",
    "The run times that appear below correspond to the execution of the notebook in a Linux machine under Ubuntu 22.04 LTS with Intel Core i7-10870H CPU (2.20GHz), 64GB of RAM, NVIDIA GeForce RTX 3060 Laptop GPU with 6Gb VRAM."
   ]
  },
  {
   "cell_type": "markdown",
   "id": "2686166e",
   "metadata": {},
   "source": [
    "## Load basic libraries\n",
    "\n",
    "**Warning:** Model specific libraries will be loaded below."
   ]
  },
  {
   "cell_type": "code",
   "execution_count": 1,
   "id": "b8f9a3e9",
   "metadata": {},
   "outputs": [],
   "source": [
    "import pandas as pd\n",
    "import numpy as np\n",
    "import matplotlib.pyplot as plt\n",
    "\n",
    "import time\n",
    "import logging\n",
    "\n",
    "\n",
    "\n",
    "from sklearn.preprocessing import MinMaxScaler\n",
    "from sklearn.preprocessing import StandardScaler\n",
    "from sklearn.model_selection import train_test_split\n",
    "from sklearn.metrics import mean_absolute_error\n"
   ]
  },
  {
   "cell_type": "markdown",
   "id": "e09a52be",
   "metadata": {},
   "source": [
    "## Load dataset"
   ]
  },
  {
   "cell_type": "markdown",
   "id": "a39e23fc",
   "metadata": {},
   "source": [
    "The data in this notebook comes from the Kaggle dataset:\n",
    "\n",
    "[Wind Power Generation Data - Forecasting](https://www.kaggle.com/datasets/mubashirrahim/wind-power-generation-data-forecasting/data)"
   ]
  },
  {
   "cell_type": "code",
   "execution_count": 2,
   "id": "4c104580",
   "metadata": {},
   "outputs": [
    {
     "data": {
      "text/html": [
       "<div>\n",
       "<style scoped>\n",
       "    .dataframe tbody tr th:only-of-type {\n",
       "        vertical-align: middle;\n",
       "    }\n",
       "\n",
       "    .dataframe tbody tr th {\n",
       "        vertical-align: top;\n",
       "    }\n",
       "\n",
       "    .dataframe thead th {\n",
       "        text-align: right;\n",
       "    }\n",
       "</style>\n",
       "<table border=\"1\" class=\"dataframe\">\n",
       "  <thead>\n",
       "    <tr style=\"text-align: right;\">\n",
       "      <th></th>\n",
       "      <th>Time</th>\n",
       "      <th>temperature_2m</th>\n",
       "      <th>relativehumidity_2m</th>\n",
       "      <th>dewpoint_2m</th>\n",
       "      <th>windspeed_10m</th>\n",
       "      <th>windspeed_100m</th>\n",
       "      <th>winddirection_10m</th>\n",
       "      <th>winddirection_100m</th>\n",
       "      <th>windgusts_10m</th>\n",
       "      <th>Power</th>\n",
       "    </tr>\n",
       "  </thead>\n",
       "  <tbody>\n",
       "    <tr>\n",
       "      <th>0</th>\n",
       "      <td>2017-01-02 00:00:00</td>\n",
       "      <td>28.5</td>\n",
       "      <td>85</td>\n",
       "      <td>24.5</td>\n",
       "      <td>1.44</td>\n",
       "      <td>1.26</td>\n",
       "      <td>146</td>\n",
       "      <td>162</td>\n",
       "      <td>1.4</td>\n",
       "      <td>0.1635</td>\n",
       "    </tr>\n",
       "    <tr>\n",
       "      <th>1</th>\n",
       "      <td>2017-01-02 01:00:00</td>\n",
       "      <td>28.4</td>\n",
       "      <td>86</td>\n",
       "      <td>24.7</td>\n",
       "      <td>2.06</td>\n",
       "      <td>3.99</td>\n",
       "      <td>151</td>\n",
       "      <td>158</td>\n",
       "      <td>4.4</td>\n",
       "      <td>0.1424</td>\n",
       "    </tr>\n",
       "    <tr>\n",
       "      <th>2</th>\n",
       "      <td>2017-01-02 02:00:00</td>\n",
       "      <td>26.8</td>\n",
       "      <td>91</td>\n",
       "      <td>24.5</td>\n",
       "      <td>1.30</td>\n",
       "      <td>2.78</td>\n",
       "      <td>148</td>\n",
       "      <td>150</td>\n",
       "      <td>3.2</td>\n",
       "      <td>0.1214</td>\n",
       "    </tr>\n",
       "    <tr>\n",
       "      <th>3</th>\n",
       "      <td>2017-01-02 03:00:00</td>\n",
       "      <td>27.4</td>\n",
       "      <td>88</td>\n",
       "      <td>24.3</td>\n",
       "      <td>1.30</td>\n",
       "      <td>2.69</td>\n",
       "      <td>58</td>\n",
       "      <td>105</td>\n",
       "      <td>1.6</td>\n",
       "      <td>0.1003</td>\n",
       "    </tr>\n",
       "    <tr>\n",
       "      <th>4</th>\n",
       "      <td>2017-01-02 04:00:00</td>\n",
       "      <td>27.3</td>\n",
       "      <td>88</td>\n",
       "      <td>24.1</td>\n",
       "      <td>2.47</td>\n",
       "      <td>4.43</td>\n",
       "      <td>58</td>\n",
       "      <td>84</td>\n",
       "      <td>4.0</td>\n",
       "      <td>0.0793</td>\n",
       "    </tr>\n",
       "  </tbody>\n",
       "</table>\n",
       "</div>"
      ],
      "text/plain": [
       "                  Time  temperature_2m  relativehumidity_2m  dewpoint_2m  \\\n",
       "0  2017-01-02 00:00:00            28.5                   85         24.5   \n",
       "1  2017-01-02 01:00:00            28.4                   86         24.7   \n",
       "2  2017-01-02 02:00:00            26.8                   91         24.5   \n",
       "3  2017-01-02 03:00:00            27.4                   88         24.3   \n",
       "4  2017-01-02 04:00:00            27.3                   88         24.1   \n",
       "\n",
       "   windspeed_10m  windspeed_100m  winddirection_10m  winddirection_100m  \\\n",
       "0           1.44            1.26                146                 162   \n",
       "1           2.06            3.99                151                 158   \n",
       "2           1.30            2.78                148                 150   \n",
       "3           1.30            2.69                 58                 105   \n",
       "4           2.47            4.43                 58                  84   \n",
       "\n",
       "   windgusts_10m   Power  \n",
       "0            1.4  0.1635  \n",
       "1            4.4  0.1424  \n",
       "2            3.2  0.1214  \n",
       "3            1.6  0.1003  \n",
       "4            4.0  0.0793  "
      ]
     },
     "execution_count": 2,
     "metadata": {},
     "output_type": "execute_result"
    }
   ],
   "source": [
    "file_path = \"../../data/kaggleWPGD/Location1.csv\"\n",
    "df = pd.read_csv(file_path, delimiter=',')\n",
    "df.head()"
   ]
  },
  {
   "cell_type": "markdown",
   "id": "a20ce445",
   "metadata": {},
   "source": [
    "### Set datetime format and index"
   ]
  },
  {
   "cell_type": "code",
   "execution_count": 3,
   "id": "a4e5b23c",
   "metadata": {},
   "outputs": [
    {
     "data": {
      "text/html": [
       "<div>\n",
       "<style scoped>\n",
       "    .dataframe tbody tr th:only-of-type {\n",
       "        vertical-align: middle;\n",
       "    }\n",
       "\n",
       "    .dataframe tbody tr th {\n",
       "        vertical-align: top;\n",
       "    }\n",
       "\n",
       "    .dataframe thead th {\n",
       "        text-align: right;\n",
       "    }\n",
       "</style>\n",
       "<table border=\"1\" class=\"dataframe\">\n",
       "  <thead>\n",
       "    <tr style=\"text-align: right;\">\n",
       "      <th></th>\n",
       "      <th>temperature_2m</th>\n",
       "      <th>relativehumidity_2m</th>\n",
       "      <th>dewpoint_2m</th>\n",
       "      <th>windspeed_10m</th>\n",
       "      <th>windspeed_100m</th>\n",
       "      <th>winddirection_10m</th>\n",
       "      <th>winddirection_100m</th>\n",
       "      <th>windgusts_10m</th>\n",
       "      <th>Power</th>\n",
       "    </tr>\n",
       "    <tr>\n",
       "      <th>time</th>\n",
       "      <th></th>\n",
       "      <th></th>\n",
       "      <th></th>\n",
       "      <th></th>\n",
       "      <th></th>\n",
       "      <th></th>\n",
       "      <th></th>\n",
       "      <th></th>\n",
       "      <th></th>\n",
       "    </tr>\n",
       "  </thead>\n",
       "  <tbody>\n",
       "    <tr>\n",
       "      <th>2017-01-02 00:00:00</th>\n",
       "      <td>28.5</td>\n",
       "      <td>85</td>\n",
       "      <td>24.5</td>\n",
       "      <td>1.44</td>\n",
       "      <td>1.26</td>\n",
       "      <td>146</td>\n",
       "      <td>162</td>\n",
       "      <td>1.4</td>\n",
       "      <td>0.1635</td>\n",
       "    </tr>\n",
       "    <tr>\n",
       "      <th>2017-01-02 01:00:00</th>\n",
       "      <td>28.4</td>\n",
       "      <td>86</td>\n",
       "      <td>24.7</td>\n",
       "      <td>2.06</td>\n",
       "      <td>3.99</td>\n",
       "      <td>151</td>\n",
       "      <td>158</td>\n",
       "      <td>4.4</td>\n",
       "      <td>0.1424</td>\n",
       "    </tr>\n",
       "    <tr>\n",
       "      <th>2017-01-02 02:00:00</th>\n",
       "      <td>26.8</td>\n",
       "      <td>91</td>\n",
       "      <td>24.5</td>\n",
       "      <td>1.30</td>\n",
       "      <td>2.78</td>\n",
       "      <td>148</td>\n",
       "      <td>150</td>\n",
       "      <td>3.2</td>\n",
       "      <td>0.1214</td>\n",
       "    </tr>\n",
       "    <tr>\n",
       "      <th>2017-01-02 03:00:00</th>\n",
       "      <td>27.4</td>\n",
       "      <td>88</td>\n",
       "      <td>24.3</td>\n",
       "      <td>1.30</td>\n",
       "      <td>2.69</td>\n",
       "      <td>58</td>\n",
       "      <td>105</td>\n",
       "      <td>1.6</td>\n",
       "      <td>0.1003</td>\n",
       "    </tr>\n",
       "    <tr>\n",
       "      <th>2017-01-02 04:00:00</th>\n",
       "      <td>27.3</td>\n",
       "      <td>88</td>\n",
       "      <td>24.1</td>\n",
       "      <td>2.47</td>\n",
       "      <td>4.43</td>\n",
       "      <td>58</td>\n",
       "      <td>84</td>\n",
       "      <td>4.0</td>\n",
       "      <td>0.0793</td>\n",
       "    </tr>\n",
       "  </tbody>\n",
       "</table>\n",
       "</div>"
      ],
      "text/plain": [
       "                     temperature_2m  relativehumidity_2m  dewpoint_2m  \\\n",
       "time                                                                    \n",
       "2017-01-02 00:00:00            28.5                   85         24.5   \n",
       "2017-01-02 01:00:00            28.4                   86         24.7   \n",
       "2017-01-02 02:00:00            26.8                   91         24.5   \n",
       "2017-01-02 03:00:00            27.4                   88         24.3   \n",
       "2017-01-02 04:00:00            27.3                   88         24.1   \n",
       "\n",
       "                     windspeed_10m  windspeed_100m  winddirection_10m  \\\n",
       "time                                                                    \n",
       "2017-01-02 00:00:00           1.44            1.26                146   \n",
       "2017-01-02 01:00:00           2.06            3.99                151   \n",
       "2017-01-02 02:00:00           1.30            2.78                148   \n",
       "2017-01-02 03:00:00           1.30            2.69                 58   \n",
       "2017-01-02 04:00:00           2.47            4.43                 58   \n",
       "\n",
       "                     winddirection_100m  windgusts_10m   Power  \n",
       "time                                                            \n",
       "2017-01-02 00:00:00                 162            1.4  0.1635  \n",
       "2017-01-02 01:00:00                 158            4.4  0.1424  \n",
       "2017-01-02 02:00:00                 150            3.2  0.1214  \n",
       "2017-01-02 03:00:00                 105            1.6  0.1003  \n",
       "2017-01-02 04:00:00                  84            4.0  0.0793  "
      ]
     },
     "execution_count": 3,
     "metadata": {},
     "output_type": "execute_result"
    }
   ],
   "source": [
    "df['time'] = pd.to_datetime(df['Time'], format='%Y-%m-%d %H:%M:00')\n",
    "df.drop(columns=['Time'], inplace=True)\n",
    "df.set_index('time', inplace=True)\n",
    "df.head()"
   ]
  },
  {
   "cell_type": "code",
   "execution_count": 4,
   "id": "9c90ee1d",
   "metadata": {},
   "outputs": [
    {
     "name": "stdout",
     "output_type": "stream",
     "text": [
      "<class 'pandas.core.frame.DataFrame'>\n",
      "DatetimeIndex: 43800 entries, 2017-01-02 00:00:00 to 2021-12-31 23:00:00\n",
      "Data columns (total 9 columns):\n",
      " #   Column               Non-Null Count  Dtype  \n",
      "---  ------               --------------  -----  \n",
      " 0   temperature_2m       43800 non-null  float64\n",
      " 1   relativehumidity_2m  43800 non-null  int64  \n",
      " 2   dewpoint_2m          43800 non-null  float64\n",
      " 3   windspeed_10m        43800 non-null  float64\n",
      " 4   windspeed_100m       43800 non-null  float64\n",
      " 5   winddirection_10m    43800 non-null  int64  \n",
      " 6   winddirection_100m   43800 non-null  int64  \n",
      " 7   windgusts_10m        43800 non-null  float64\n",
      " 8   Power                43800 non-null  float64\n",
      "dtypes: float64(6), int64(3)\n",
      "memory usage: 3.3 MB\n"
     ]
    }
   ],
   "source": [
    "df.info()"
   ]
  },
  {
   "cell_type": "markdown",
   "id": "92c2a710",
   "metadata": {},
   "source": [
    "### Select a subset of the data\n"
   ]
  },
  {
   "cell_type": "code",
   "execution_count": 5,
   "id": "5cbb56bd",
   "metadata": {},
   "outputs": [],
   "source": [
    "df = df.head(7248)"
   ]
  },
  {
   "cell_type": "markdown",
   "id": "56694b75",
   "metadata": {},
   "source": [
    "### Rename the columns"
   ]
  },
  {
   "cell_type": "code",
   "execution_count": 6,
   "id": "bd29e3c5",
   "metadata": {},
   "outputs": [
    {
     "data": {
      "text/plain": [
       "['temperature_2m',\n",
       " 'relativehumidity_2m',\n",
       " 'dewpoint_2m',\n",
       " 'windspeed_10m',\n",
       " 'windspeed_100m',\n",
       " 'winddirection_10m',\n",
       " 'winddirection_100m',\n",
       " 'windgusts_10m',\n",
       " 'Power']"
      ]
     },
     "execution_count": 6,
     "metadata": {},
     "output_type": "execute_result"
    }
   ],
   "source": [
    "initial_columns = df.columns.tolist()\n",
    "initial_columns"
   ]
  },
  {
   "cell_type": "code",
   "execution_count": 7,
   "id": "6ba3119d",
   "metadata": {},
   "outputs": [
    {
     "data": {
      "text/html": [
       "<div>\n",
       "<style scoped>\n",
       "    .dataframe tbody tr th:only-of-type {\n",
       "        vertical-align: middle;\n",
       "    }\n",
       "\n",
       "    .dataframe tbody tr th {\n",
       "        vertical-align: top;\n",
       "    }\n",
       "\n",
       "    .dataframe thead th {\n",
       "        text-align: right;\n",
       "    }\n",
       "</style>\n",
       "<table border=\"1\" class=\"dataframe\">\n",
       "  <thead>\n",
       "    <tr style=\"text-align: right;\">\n",
       "      <th></th>\n",
       "      <th>Active_Power</th>\n",
       "      <th>Wind_speed_tower</th>\n",
       "    </tr>\n",
       "    <tr>\n",
       "      <th>time</th>\n",
       "      <th></th>\n",
       "      <th></th>\n",
       "    </tr>\n",
       "  </thead>\n",
       "  <tbody>\n",
       "    <tr>\n",
       "      <th>2017-01-02 00:00:00</th>\n",
       "      <td>0.1635</td>\n",
       "      <td>1.44</td>\n",
       "    </tr>\n",
       "    <tr>\n",
       "      <th>2017-01-02 01:00:00</th>\n",
       "      <td>0.1424</td>\n",
       "      <td>2.06</td>\n",
       "    </tr>\n",
       "    <tr>\n",
       "      <th>2017-01-02 02:00:00</th>\n",
       "      <td>0.1214</td>\n",
       "      <td>1.30</td>\n",
       "    </tr>\n",
       "    <tr>\n",
       "      <th>2017-01-02 03:00:00</th>\n",
       "      <td>0.1003</td>\n",
       "      <td>1.30</td>\n",
       "    </tr>\n",
       "    <tr>\n",
       "      <th>2017-01-02 04:00:00</th>\n",
       "      <td>0.0793</td>\n",
       "      <td>2.47</td>\n",
       "    </tr>\n",
       "    <tr>\n",
       "      <th>...</th>\n",
       "      <td>...</td>\n",
       "      <td>...</td>\n",
       "    </tr>\n",
       "    <tr>\n",
       "      <th>2017-10-30 19:00:00</th>\n",
       "      <td>0.6847</td>\n",
       "      <td>5.89</td>\n",
       "    </tr>\n",
       "    <tr>\n",
       "      <th>2017-10-30 20:00:00</th>\n",
       "      <td>0.6841</td>\n",
       "      <td>6.32</td>\n",
       "    </tr>\n",
       "    <tr>\n",
       "      <th>2017-10-30 21:00:00</th>\n",
       "      <td>0.6834</td>\n",
       "      <td>6.52</td>\n",
       "    </tr>\n",
       "    <tr>\n",
       "      <th>2017-10-30 22:00:00</th>\n",
       "      <td>0.6828</td>\n",
       "      <td>6.33</td>\n",
       "    </tr>\n",
       "    <tr>\n",
       "      <th>2017-10-30 23:00:00</th>\n",
       "      <td>0.6822</td>\n",
       "      <td>6.15</td>\n",
       "    </tr>\n",
       "  </tbody>\n",
       "</table>\n",
       "<p>7248 rows × 2 columns</p>\n",
       "</div>"
      ],
      "text/plain": [
       "                     Active_Power  Wind_speed_tower\n",
       "time                                               \n",
       "2017-01-02 00:00:00        0.1635              1.44\n",
       "2017-01-02 01:00:00        0.1424              2.06\n",
       "2017-01-02 02:00:00        0.1214              1.30\n",
       "2017-01-02 03:00:00        0.1003              1.30\n",
       "2017-01-02 04:00:00        0.0793              2.47\n",
       "...                           ...               ...\n",
       "2017-10-30 19:00:00        0.6847              5.89\n",
       "2017-10-30 20:00:00        0.6841              6.32\n",
       "2017-10-30 21:00:00        0.6834              6.52\n",
       "2017-10-30 22:00:00        0.6828              6.33\n",
       "2017-10-30 23:00:00        0.6822              6.15\n",
       "\n",
       "[7248 rows x 2 columns]"
      ]
     },
     "execution_count": 7,
     "metadata": {},
     "output_type": "execute_result"
    }
   ],
   "source": [
    "df.rename(columns={'Power' : 'Active_Power', 'windspeed_10m' : 'Wind_speed_tower'}, inplace=True)\n",
    "df = df[['Active_Power', 'Wind_speed_tower']]\n",
    "df"
   ]
  },
  {
   "cell_type": "markdown",
   "id": "8bdacce4",
   "metadata": {},
   "source": [
    "### Check for missing values and duplicated dates"
   ]
  },
  {
   "cell_type": "markdown",
   "id": "81dbd57a",
   "metadata": {},
   "source": [
    "There are no missing data in this dataset"
   ]
  },
  {
   "cell_type": "code",
   "execution_count": 8,
   "id": "bde9644d",
   "metadata": {},
   "outputs": [
    {
     "name": "stdout",
     "output_type": "stream",
     "text": [
      "Active_Power        0\n",
      "Wind_speed_tower    0\n",
      "dtype: int64\n"
     ]
    }
   ],
   "source": [
    "print(df.isna().sum())"
   ]
  },
  {
   "cell_type": "code",
   "execution_count": 9,
   "id": "1af2bf35",
   "metadata": {},
   "outputs": [
    {
     "name": "stdout",
     "output_type": "stream",
     "text": [
      "Number of duplicate timestamps: 0\n",
      "DatetimeIndex([], dtype='datetime64[ns]', name='time', freq=None)\n"
     ]
    }
   ],
   "source": [
    "duplicate_dates = df.index[df.index.duplicated(keep='first')]\n",
    "print(f\"Number of duplicate timestamps: {len(duplicate_dates)}\")\n",
    "print(duplicate_dates)"
   ]
  },
  {
   "cell_type": "code",
   "execution_count": 10,
   "id": "29e13e6f",
   "metadata": {},
   "outputs": [
    {
     "name": "stdout",
     "output_type": "stream",
     "text": [
      "Missing timestamps: DatetimeIndex([], dtype='datetime64[ns]', freq='h')\n"
     ]
    }
   ],
   "source": [
    "expected = pd.date_range(start=df.index.min(), end=df.index.max(), freq='h')\n",
    "missing = expected.difference(df.index)\n",
    "print(\"Missing timestamps:\", missing)\n",
    "\n"
   ]
  },
  {
   "cell_type": "code",
   "execution_count": 11,
   "id": "55b72534",
   "metadata": {},
   "outputs": [
    {
     "data": {
      "text/plain": [
       "Series([], Name: count, dtype: int64)"
      ]
     },
     "execution_count": 11,
     "metadata": {},
     "output_type": "execute_result"
    }
   ],
   "source": [
    "missing_df = pd.DataFrame({'missing':missing})\n",
    "missing_df['date'] = missing_df['missing'].dt.date\n",
    "missing_df.value_counts('date').sort_index()"
   ]
  },
  {
   "cell_type": "markdown",
   "id": "974340d3",
   "metadata": {},
   "source": [
    "### Target and exogenous variables"
   ]
  },
  {
   "cell_type": "code",
   "execution_count": 12,
   "id": "08e15c2f",
   "metadata": {},
   "outputs": [
    {
     "data": {
      "text/plain": [
       "['Wind_speed_tower']"
      ]
     },
     "execution_count": 12,
     "metadata": {},
     "output_type": "execute_result"
    }
   ],
   "source": [
    "target = 'Active_Power'\n",
    "\n",
    "features = [col for col in df.columns if col != target]\n",
    "features = features[:1]\n",
    "features\n"
   ]
  },
  {
   "cell_type": "code",
   "execution_count": 13,
   "id": "4fb46016",
   "metadata": {},
   "outputs": [
    {
     "data": {
      "text/html": [
       "<div>\n",
       "<style scoped>\n",
       "    .dataframe tbody tr th:only-of-type {\n",
       "        vertical-align: middle;\n",
       "    }\n",
       "\n",
       "    .dataframe tbody tr th {\n",
       "        vertical-align: top;\n",
       "    }\n",
       "\n",
       "    .dataframe thead th {\n",
       "        text-align: right;\n",
       "    }\n",
       "</style>\n",
       "<table border=\"1\" class=\"dataframe\">\n",
       "  <thead>\n",
       "    <tr style=\"text-align: right;\">\n",
       "      <th></th>\n",
       "      <th>Wind_speed_tower</th>\n",
       "      <th>Active_Power</th>\n",
       "    </tr>\n",
       "    <tr>\n",
       "      <th>time</th>\n",
       "      <th></th>\n",
       "      <th></th>\n",
       "    </tr>\n",
       "  </thead>\n",
       "  <tbody>\n",
       "    <tr>\n",
       "      <th>2017-01-02 00:00:00</th>\n",
       "      <td>1.44</td>\n",
       "      <td>0.1635</td>\n",
       "    </tr>\n",
       "    <tr>\n",
       "      <th>2017-01-02 01:00:00</th>\n",
       "      <td>2.06</td>\n",
       "      <td>0.1424</td>\n",
       "    </tr>\n",
       "    <tr>\n",
       "      <th>2017-01-02 02:00:00</th>\n",
       "      <td>1.30</td>\n",
       "      <td>0.1214</td>\n",
       "    </tr>\n",
       "    <tr>\n",
       "      <th>2017-01-02 03:00:00</th>\n",
       "      <td>1.30</td>\n",
       "      <td>0.1003</td>\n",
       "    </tr>\n",
       "    <tr>\n",
       "      <th>2017-01-02 04:00:00</th>\n",
       "      <td>2.47</td>\n",
       "      <td>0.0793</td>\n",
       "    </tr>\n",
       "    <tr>\n",
       "      <th>...</th>\n",
       "      <td>...</td>\n",
       "      <td>...</td>\n",
       "    </tr>\n",
       "    <tr>\n",
       "      <th>2017-10-30 19:00:00</th>\n",
       "      <td>5.89</td>\n",
       "      <td>0.6847</td>\n",
       "    </tr>\n",
       "    <tr>\n",
       "      <th>2017-10-30 20:00:00</th>\n",
       "      <td>6.32</td>\n",
       "      <td>0.6841</td>\n",
       "    </tr>\n",
       "    <tr>\n",
       "      <th>2017-10-30 21:00:00</th>\n",
       "      <td>6.52</td>\n",
       "      <td>0.6834</td>\n",
       "    </tr>\n",
       "    <tr>\n",
       "      <th>2017-10-30 22:00:00</th>\n",
       "      <td>6.33</td>\n",
       "      <td>0.6828</td>\n",
       "    </tr>\n",
       "    <tr>\n",
       "      <th>2017-10-30 23:00:00</th>\n",
       "      <td>6.15</td>\n",
       "      <td>0.6822</td>\n",
       "    </tr>\n",
       "  </tbody>\n",
       "</table>\n",
       "<p>7248 rows × 2 columns</p>\n",
       "</div>"
      ],
      "text/plain": [
       "                     Wind_speed_tower  Active_Power\n",
       "time                                               \n",
       "2017-01-02 00:00:00              1.44        0.1635\n",
       "2017-01-02 01:00:00              2.06        0.1424\n",
       "2017-01-02 02:00:00              1.30        0.1214\n",
       "2017-01-02 03:00:00              1.30        0.1003\n",
       "2017-01-02 04:00:00              2.47        0.0793\n",
       "...                               ...           ...\n",
       "2017-10-30 19:00:00              5.89        0.6847\n",
       "2017-10-30 20:00:00              6.32        0.6841\n",
       "2017-10-30 21:00:00              6.52        0.6834\n",
       "2017-10-30 22:00:00              6.33        0.6828\n",
       "2017-10-30 23:00:00              6.15        0.6822\n",
       "\n",
       "[7248 rows x 2 columns]"
      ]
     },
     "execution_count": 13,
     "metadata": {},
     "output_type": "execute_result"
    }
   ],
   "source": [
    "df = df[features + [target]]\n",
    "df"
   ]
  },
  {
   "cell_type": "markdown",
   "id": "7e8d7469",
   "metadata": {},
   "source": [
    "## Train / Validation / Test split"
   ]
  },
  {
   "cell_type": "markdown",
   "id": "fa330a38",
   "metadata": {},
   "source": [
    "We select the following lengths for the train, validation, and test sets:"
   ]
  },
  {
   "cell_type": "code",
   "execution_count": 14,
   "id": "c16a3f0f",
   "metadata": {},
   "outputs": [
    {
     "data": {
      "text/plain": [
       "5799"
      ]
     },
     "execution_count": 14,
     "metadata": {},
     "output_type": "execute_result"
    }
   ],
   "source": [
    "int(np.ceil(df.shape[0] * 0.8))"
   ]
  },
  {
   "cell_type": "code",
   "execution_count": 15,
   "id": "25c30ff0",
   "metadata": {},
   "outputs": [
    {
     "name": "stdout",
     "output_type": "stream",
     "text": [
      "Train length: 5800\n",
      "Validation length: 724\n",
      "Test length: 724\n"
     ]
    }
   ],
   "source": [
    "train_len = 5800\n",
    "print(f\"Train length: {train_len}\")\n",
    "\n",
    "val_len = (df.shape[0] - train_len) // 2\n",
    "print(f\"Validation length: {val_len}\")\n",
    "\n",
    "test_len = df.shape[0] - train_len - val_len\n",
    "print(f\"Test length: {test_len}\")"
   ]
  },
  {
   "cell_type": "markdown",
   "id": "ccc7a2e7",
   "metadata": {},
   "source": [
    "And we split the time series into train, validation, and test sets:"
   ]
  },
  {
   "cell_type": "code",
   "execution_count": 16,
   "id": "b816cd9a",
   "metadata": {},
   "outputs": [
    {
     "data": {
      "text/html": [
       "<div>\n",
       "<style scoped>\n",
       "    .dataframe tbody tr th:only-of-type {\n",
       "        vertical-align: middle;\n",
       "    }\n",
       "\n",
       "    .dataframe tbody tr th {\n",
       "        vertical-align: top;\n",
       "    }\n",
       "\n",
       "    .dataframe thead th {\n",
       "        text-align: right;\n",
       "    }\n",
       "</style>\n",
       "<table border=\"1\" class=\"dataframe\">\n",
       "  <thead>\n",
       "    <tr style=\"text-align: right;\">\n",
       "      <th></th>\n",
       "      <th>Wind_speed_tower</th>\n",
       "      <th>Active_Power</th>\n",
       "    </tr>\n",
       "    <tr>\n",
       "      <th>time</th>\n",
       "      <th></th>\n",
       "      <th></th>\n",
       "    </tr>\n",
       "  </thead>\n",
       "  <tbody>\n",
       "    <tr>\n",
       "      <th>2017-01-02 00:00:00</th>\n",
       "      <td>1.44</td>\n",
       "      <td>0.1635</td>\n",
       "    </tr>\n",
       "    <tr>\n",
       "      <th>2017-01-02 01:00:00</th>\n",
       "      <td>2.06</td>\n",
       "      <td>0.1424</td>\n",
       "    </tr>\n",
       "    <tr>\n",
       "      <th>2017-01-02 02:00:00</th>\n",
       "      <td>1.30</td>\n",
       "      <td>0.1214</td>\n",
       "    </tr>\n",
       "    <tr>\n",
       "      <th>2017-01-02 03:00:00</th>\n",
       "      <td>1.30</td>\n",
       "      <td>0.1003</td>\n",
       "    </tr>\n",
       "    <tr>\n",
       "      <th>2017-01-02 04:00:00</th>\n",
       "      <td>2.47</td>\n",
       "      <td>0.0793</td>\n",
       "    </tr>\n",
       "    <tr>\n",
       "      <th>...</th>\n",
       "      <td>...</td>\n",
       "      <td>...</td>\n",
       "    </tr>\n",
       "    <tr>\n",
       "      <th>2017-08-31 11:00:00</th>\n",
       "      <td>4.83</td>\n",
       "      <td>0.6155</td>\n",
       "    </tr>\n",
       "    <tr>\n",
       "      <th>2017-08-31 12:00:00</th>\n",
       "      <td>5.15</td>\n",
       "      <td>0.5935</td>\n",
       "    </tr>\n",
       "    <tr>\n",
       "      <th>2017-08-31 13:00:00</th>\n",
       "      <td>5.47</td>\n",
       "      <td>0.5536</td>\n",
       "    </tr>\n",
       "    <tr>\n",
       "      <th>2017-08-31 14:00:00</th>\n",
       "      <td>5.61</td>\n",
       "      <td>0.5137</td>\n",
       "    </tr>\n",
       "    <tr>\n",
       "      <th>2017-08-31 15:00:00</th>\n",
       "      <td>5.79</td>\n",
       "      <td>0.4738</td>\n",
       "    </tr>\n",
       "  </tbody>\n",
       "</table>\n",
       "<p>5800 rows × 2 columns</p>\n",
       "</div>"
      ],
      "text/plain": [
       "                     Wind_speed_tower  Active_Power\n",
       "time                                               \n",
       "2017-01-02 00:00:00              1.44        0.1635\n",
       "2017-01-02 01:00:00              2.06        0.1424\n",
       "2017-01-02 02:00:00              1.30        0.1214\n",
       "2017-01-02 03:00:00              1.30        0.1003\n",
       "2017-01-02 04:00:00              2.47        0.0793\n",
       "...                               ...           ...\n",
       "2017-08-31 11:00:00              4.83        0.6155\n",
       "2017-08-31 12:00:00              5.15        0.5935\n",
       "2017-08-31 13:00:00              5.47        0.5536\n",
       "2017-08-31 14:00:00              5.61        0.5137\n",
       "2017-08-31 15:00:00              5.79        0.4738\n",
       "\n",
       "[5800 rows x 2 columns]"
      ]
     },
     "execution_count": 16,
     "metadata": {},
     "output_type": "execute_result"
    }
   ],
   "source": [
    "train_df = df.iloc[:train_len]\n",
    "train_df"
   ]
  },
  {
   "cell_type": "code",
   "execution_count": 17,
   "id": "9a4e1679",
   "metadata": {},
   "outputs": [
    {
     "data": {
      "text/html": [
       "<div>\n",
       "<style scoped>\n",
       "    .dataframe tbody tr th:only-of-type {\n",
       "        vertical-align: middle;\n",
       "    }\n",
       "\n",
       "    .dataframe tbody tr th {\n",
       "        vertical-align: top;\n",
       "    }\n",
       "\n",
       "    .dataframe thead th {\n",
       "        text-align: right;\n",
       "    }\n",
       "</style>\n",
       "<table border=\"1\" class=\"dataframe\">\n",
       "  <thead>\n",
       "    <tr style=\"text-align: right;\">\n",
       "      <th></th>\n",
       "      <th>Wind_speed_tower</th>\n",
       "      <th>Active_Power</th>\n",
       "    </tr>\n",
       "    <tr>\n",
       "      <th>time</th>\n",
       "      <th></th>\n",
       "      <th></th>\n",
       "    </tr>\n",
       "  </thead>\n",
       "  <tbody>\n",
       "    <tr>\n",
       "      <th>2017-08-31 16:00:00</th>\n",
       "      <td>5.87</td>\n",
       "      <td>0.4339</td>\n",
       "    </tr>\n",
       "    <tr>\n",
       "      <th>2017-08-31 17:00:00</th>\n",
       "      <td>5.19</td>\n",
       "      <td>0.3940</td>\n",
       "    </tr>\n",
       "    <tr>\n",
       "      <th>2017-08-31 18:00:00</th>\n",
       "      <td>4.26</td>\n",
       "      <td>0.3605</td>\n",
       "    </tr>\n",
       "    <tr>\n",
       "      <th>2017-08-31 19:00:00</th>\n",
       "      <td>2.21</td>\n",
       "      <td>0.3334</td>\n",
       "    </tr>\n",
       "    <tr>\n",
       "      <th>2017-08-31 20:00:00</th>\n",
       "      <td>2.55</td>\n",
       "      <td>0.3063</td>\n",
       "    </tr>\n",
       "    <tr>\n",
       "      <th>...</th>\n",
       "      <td>...</td>\n",
       "      <td>...</td>\n",
       "    </tr>\n",
       "    <tr>\n",
       "      <th>2017-09-30 15:00:00</th>\n",
       "      <td>2.12</td>\n",
       "      <td>0.0907</td>\n",
       "    </tr>\n",
       "    <tr>\n",
       "      <th>2017-09-30 16:00:00</th>\n",
       "      <td>2.42</td>\n",
       "      <td>0.0991</td>\n",
       "    </tr>\n",
       "    <tr>\n",
       "      <th>2017-09-30 17:00:00</th>\n",
       "      <td>2.10</td>\n",
       "      <td>0.1076</td>\n",
       "    </tr>\n",
       "    <tr>\n",
       "      <th>2017-09-30 18:00:00</th>\n",
       "      <td>2.20</td>\n",
       "      <td>0.1166</td>\n",
       "    </tr>\n",
       "    <tr>\n",
       "      <th>2017-09-30 19:00:00</th>\n",
       "      <td>1.97</td>\n",
       "      <td>0.1262</td>\n",
       "    </tr>\n",
       "  </tbody>\n",
       "</table>\n",
       "<p>724 rows × 2 columns</p>\n",
       "</div>"
      ],
      "text/plain": [
       "                     Wind_speed_tower  Active_Power\n",
       "time                                               \n",
       "2017-08-31 16:00:00              5.87        0.4339\n",
       "2017-08-31 17:00:00              5.19        0.3940\n",
       "2017-08-31 18:00:00              4.26        0.3605\n",
       "2017-08-31 19:00:00              2.21        0.3334\n",
       "2017-08-31 20:00:00              2.55        0.3063\n",
       "...                               ...           ...\n",
       "2017-09-30 15:00:00              2.12        0.0907\n",
       "2017-09-30 16:00:00              2.42        0.0991\n",
       "2017-09-30 17:00:00              2.10        0.1076\n",
       "2017-09-30 18:00:00              2.20        0.1166\n",
       "2017-09-30 19:00:00              1.97        0.1262\n",
       "\n",
       "[724 rows x 2 columns]"
      ]
     },
     "execution_count": 17,
     "metadata": {},
     "output_type": "execute_result"
    }
   ],
   "source": [
    "val_df = df.iloc[train_len:(train_len + val_len)]\n",
    "val_df"
   ]
  },
  {
   "cell_type": "code",
   "execution_count": 18,
   "id": "c9e7e393",
   "metadata": {},
   "outputs": [
    {
     "data": {
      "text/html": [
       "<div>\n",
       "<style scoped>\n",
       "    .dataframe tbody tr th:only-of-type {\n",
       "        vertical-align: middle;\n",
       "    }\n",
       "\n",
       "    .dataframe tbody tr th {\n",
       "        vertical-align: top;\n",
       "    }\n",
       "\n",
       "    .dataframe thead th {\n",
       "        text-align: right;\n",
       "    }\n",
       "</style>\n",
       "<table border=\"1\" class=\"dataframe\">\n",
       "  <thead>\n",
       "    <tr style=\"text-align: right;\">\n",
       "      <th></th>\n",
       "      <th>Wind_speed_tower</th>\n",
       "      <th>Active_Power</th>\n",
       "    </tr>\n",
       "    <tr>\n",
       "      <th>time</th>\n",
       "      <th></th>\n",
       "      <th></th>\n",
       "    </tr>\n",
       "  </thead>\n",
       "  <tbody>\n",
       "    <tr>\n",
       "      <th>2017-09-30 20:00:00</th>\n",
       "      <td>1.80</td>\n",
       "      <td>0.1357</td>\n",
       "    </tr>\n",
       "    <tr>\n",
       "      <th>2017-09-30 21:00:00</th>\n",
       "      <td>1.71</td>\n",
       "      <td>0.1453</td>\n",
       "    </tr>\n",
       "    <tr>\n",
       "      <th>2017-09-30 22:00:00</th>\n",
       "      <td>1.44</td>\n",
       "      <td>0.1548</td>\n",
       "    </tr>\n",
       "    <tr>\n",
       "      <th>2017-09-30 23:00:00</th>\n",
       "      <td>1.40</td>\n",
       "      <td>0.1644</td>\n",
       "    </tr>\n",
       "    <tr>\n",
       "      <th>2017-10-01 00:00:00</th>\n",
       "      <td>2.20</td>\n",
       "      <td>0.1739</td>\n",
       "    </tr>\n",
       "    <tr>\n",
       "      <th>...</th>\n",
       "      <td>...</td>\n",
       "      <td>...</td>\n",
       "    </tr>\n",
       "    <tr>\n",
       "      <th>2017-10-30 19:00:00</th>\n",
       "      <td>5.89</td>\n",
       "      <td>0.6847</td>\n",
       "    </tr>\n",
       "    <tr>\n",
       "      <th>2017-10-30 20:00:00</th>\n",
       "      <td>6.32</td>\n",
       "      <td>0.6841</td>\n",
       "    </tr>\n",
       "    <tr>\n",
       "      <th>2017-10-30 21:00:00</th>\n",
       "      <td>6.52</td>\n",
       "      <td>0.6834</td>\n",
       "    </tr>\n",
       "    <tr>\n",
       "      <th>2017-10-30 22:00:00</th>\n",
       "      <td>6.33</td>\n",
       "      <td>0.6828</td>\n",
       "    </tr>\n",
       "    <tr>\n",
       "      <th>2017-10-30 23:00:00</th>\n",
       "      <td>6.15</td>\n",
       "      <td>0.6822</td>\n",
       "    </tr>\n",
       "  </tbody>\n",
       "</table>\n",
       "<p>724 rows × 2 columns</p>\n",
       "</div>"
      ],
      "text/plain": [
       "                     Wind_speed_tower  Active_Power\n",
       "time                                               \n",
       "2017-09-30 20:00:00              1.80        0.1357\n",
       "2017-09-30 21:00:00              1.71        0.1453\n",
       "2017-09-30 22:00:00              1.44        0.1548\n",
       "2017-09-30 23:00:00              1.40        0.1644\n",
       "2017-10-01 00:00:00              2.20        0.1739\n",
       "...                               ...           ...\n",
       "2017-10-30 19:00:00              5.89        0.6847\n",
       "2017-10-30 20:00:00              6.32        0.6841\n",
       "2017-10-30 21:00:00              6.52        0.6834\n",
       "2017-10-30 22:00:00              6.33        0.6828\n",
       "2017-10-30 23:00:00              6.15        0.6822\n",
       "\n",
       "[724 rows x 2 columns]"
      ]
     },
     "execution_count": 18,
     "metadata": {},
     "output_type": "execute_result"
    }
   ],
   "source": [
    "test_df = df.iloc[(train_len + val_len):]\n",
    "test_df"
   ]
  },
  {
   "cell_type": "markdown",
   "id": "fa9e7670",
   "metadata": {},
   "source": [
    "## Time series split visualization"
   ]
  },
  {
   "cell_type": "code",
   "execution_count": 19,
   "id": "e111f26e",
   "metadata": {},
   "outputs": [
    {
     "data": {
      "text/plain": [
       "<matplotlib.legend.Legend at 0x75fe3e691a80>"
      ]
     },
     "execution_count": 19,
     "metadata": {},
     "output_type": "execute_result"
    },
    {
     "data": {
      "image/png": "[encoded data removed]",
      "text/plain": [
       "<Figure size 1600x600 with 1 Axes>"
      ]
     },
     "metadata": {},
     "output_type": "display_data"
    }
   ],
   "source": [
    "plt.figure(figsize=(16, 6))\n",
    "plt.plot(train_df[\"Active_Power\"], label=\"Training Data\", color='blue')\n",
    "plt.plot(val_df[\"Active_Power\"], label=\"Validation Data\", color='green')\n",
    "plt.plot(test_df[\"Active_Power\"], label=\"Test Data\", color='red')\n",
    "plt.title(\"Active Power Time Series\")\n",
    "plt.xlabel(\"Time\")\n",
    "plt.ylabel(\"Active Power\")\n",
    "plt.legend(fontsize='small')"
   ]
  },
  {
   "cell_type": "code",
   "execution_count": 20,
   "id": "6040e458",
   "metadata": {},
   "outputs": [
    {
     "data": {
      "text/plain": [
       "<matplotlib.legend.Legend at 0x75fe3dd33e80>"
      ]
     },
     "execution_count": 20,
     "metadata": {},
     "output_type": "execute_result"
    },
    {
     "data": {
      "image/png": "[encoded data removed]",
      "text/plain": [
       "<Figure size 1600x600 with 1 Axes>"
      ]
     },
     "metadata": {},
     "output_type": "display_data"
    }
   ],
   "source": [
    "plt.figure(figsize=(16, 6))\n",
    "plt.plot(train_df[\"Active_Power\"].head(960), label=\"Training Data\", color='blue')\n",
    "# plt.plot(val_df[\"Active_Power\"].head(240), label=\"Validation Data\", color='green')\n",
    "# plt.plot(test_df[\"Active_Power\"], label=\"Test Data\", color='red')\n",
    "plt.title(\"Active Power Time Series\")\n",
    "plt.xlabel(\"Time\")\n",
    "plt.ylabel(\"Active Power\")\n",
    "plt.legend(fontsize='small')"
   ]
  },
  {
   "cell_type": "markdown",
   "id": "449e9240",
   "metadata": {},
   "source": [
    "We will also create copies of the train, validation, and test sets to use them later in the notebook."
   ]
  },
  {
   "cell_type": "code",
   "execution_count": 21,
   "id": "461b0239",
   "metadata": {},
   "outputs": [],
   "source": [
    "train_df_original = train_df.copy()\n",
    "val_df_original = val_df.copy()\n",
    "test_df_original = test_df.copy()"
   ]
  },
  {
   "cell_type": "markdown",
   "id": "a72fab06",
   "metadata": {},
   "source": [
    "## Data scaling\n",
    "\n",
    "We apply the min-max scaler fitted to the training set to the train, validation, and test sets (to avoid data leakage). "
   ]
  },
  {
   "cell_type": "code",
   "execution_count": 22,
   "id": "e04be938",
   "metadata": {},
   "outputs": [],
   "source": [
    "from sklearn.preprocessing import MinMaxScaler\n",
    "\n",
    "scaler = MinMaxScaler()\n",
    "scaler.set_output(transform='pandas')\n",
    "\n",
    "scaler.fit(train_df)\n",
    "train_df = scaler.transform(train_df)\n",
    "\n",
    "val_df = scaler.transform(val_df)\n",
    "test_df = scaler.transform(test_df)"
   ]
  },
  {
   "cell_type": "markdown",
   "id": "c555bfb4",
   "metadata": {},
   "source": [
    "Let us check the result"
   ]
  },
  {
   "cell_type": "code",
   "execution_count": 23,
   "id": "2a472acd",
   "metadata": {},
   "outputs": [
    {
     "data": {
      "text/html": [
       "<div>\n",
       "<style scoped>\n",
       "    .dataframe tbody tr th:only-of-type {\n",
       "        vertical-align: middle;\n",
       "    }\n",
       "\n",
       "    .dataframe tbody tr th {\n",
       "        vertical-align: top;\n",
       "    }\n",
       "\n",
       "    .dataframe thead th {\n",
       "        text-align: right;\n",
       "    }\n",
       "</style>\n",
       "<table border=\"1\" class=\"dataframe\">\n",
       "  <thead>\n",
       "    <tr style=\"text-align: right;\">\n",
       "      <th></th>\n",
       "      <th>count</th>\n",
       "      <th>mean</th>\n",
       "      <th>std</th>\n",
       "      <th>min</th>\n",
       "      <th>25%</th>\n",
       "      <th>50%</th>\n",
       "      <th>75%</th>\n",
       "      <th>max</th>\n",
       "    </tr>\n",
       "  </thead>\n",
       "  <tbody>\n",
       "    <tr>\n",
       "      <th>Wind_speed_tower</th>\n",
       "      <td>5800.0</td>\n",
       "      <td>0.275745</td>\n",
       "      <td>0.127310</td>\n",
       "      <td>0.0</td>\n",
       "      <td>0.184488</td>\n",
       "      <td>0.249247</td>\n",
       "      <td>0.348645</td>\n",
       "      <td>1.0</td>\n",
       "    </tr>\n",
       "    <tr>\n",
       "      <th>Active_Power</th>\n",
       "      <td>5800.0</td>\n",
       "      <td>0.407862</td>\n",
       "      <td>0.287194</td>\n",
       "      <td>0.0</td>\n",
       "      <td>0.149394</td>\n",
       "      <td>0.349394</td>\n",
       "      <td>0.669188</td>\n",
       "      <td>1.0</td>\n",
       "    </tr>\n",
       "  </tbody>\n",
       "</table>\n",
       "</div>"
      ],
      "text/plain": [
       "                   count      mean       std  min       25%       50%  \\\n",
       "Wind_speed_tower  5800.0  0.275745  0.127310  0.0  0.184488  0.249247   \n",
       "Active_Power      5800.0  0.407862  0.287194  0.0  0.149394  0.349394   \n",
       "\n",
       "                       75%  max  \n",
       "Wind_speed_tower  0.348645  1.0  \n",
       "Active_Power      0.669188  1.0  "
      ]
     },
     "execution_count": 23,
     "metadata": {},
     "output_type": "execute_result"
    }
   ],
   "source": [
    "train_df.describe().transpose()"
   ]
  },
  {
   "cell_type": "markdown",
   "id": "571ae905",
   "metadata": {},
   "source": [
    "## Nixtla Dataset Format\n",
    "\n",
    "Convert to NeuralForecast format (ds, y, unique_id)"
   ]
  },
  {
   "cell_type": "code",
   "execution_count": 24,
   "id": "67c174fc",
   "metadata": {},
   "outputs": [],
   "source": [
    "train_df_nf = train_df.copy()\n",
    "\n",
    "train_df_nf = train_df_nf.rename(columns={target: 'y'})\n",
    "\n",
    "train_df_nf['ds'] = train_df_nf.index\n",
    "\n",
    "train_df_nf['unique_id'] = 'series_1'\n"
   ]
  },
  {
   "cell_type": "markdown",
   "id": "9abc0268",
   "metadata": {},
   "source": [
    "Move ds and unique_id to front"
   ]
  },
  {
   "cell_type": "code",
   "execution_count": 25,
   "id": "a3c31967",
   "metadata": {},
   "outputs": [
    {
     "data": {
      "text/html": [
       "<div>\n",
       "<style scoped>\n",
       "    .dataframe tbody tr th:only-of-type {\n",
       "        vertical-align: middle;\n",
       "    }\n",
       "\n",
       "    .dataframe tbody tr th {\n",
       "        vertical-align: top;\n",
       "    }\n",
       "\n",
       "    .dataframe thead th {\n",
       "        text-align: right;\n",
       "    }\n",
       "</style>\n",
       "<table border=\"1\" class=\"dataframe\">\n",
       "  <thead>\n",
       "    <tr style=\"text-align: right;\">\n",
       "      <th></th>\n",
       "      <th>unique_id</th>\n",
       "      <th>ds</th>\n",
       "      <th>y</th>\n",
       "      <th>Wind_speed_tower</th>\n",
       "    </tr>\n",
       "    <tr>\n",
       "      <th>time</th>\n",
       "      <th></th>\n",
       "      <th></th>\n",
       "      <th></th>\n",
       "      <th></th>\n",
       "    </tr>\n",
       "  </thead>\n",
       "  <tbody>\n",
       "    <tr>\n",
       "      <th>2017-01-02 00:00:00</th>\n",
       "      <td>series_1</td>\n",
       "      <td>2017-01-02 00:00:00</td>\n",
       "      <td>0.172377</td>\n",
       "      <td>0.108434</td>\n",
       "    </tr>\n",
       "    <tr>\n",
       "      <th>2017-01-02 01:00:00</th>\n",
       "      <td>series_1</td>\n",
       "      <td>2017-01-02 01:00:00</td>\n",
       "      <td>0.150132</td>\n",
       "      <td>0.155120</td>\n",
       "    </tr>\n",
       "    <tr>\n",
       "      <th>2017-01-02 02:00:00</th>\n",
       "      <td>series_1</td>\n",
       "      <td>2017-01-02 02:00:00</td>\n",
       "      <td>0.127992</td>\n",
       "      <td>0.097892</td>\n",
       "    </tr>\n",
       "    <tr>\n",
       "      <th>2017-01-02 03:00:00</th>\n",
       "      <td>series_1</td>\n",
       "      <td>2017-01-02 03:00:00</td>\n",
       "      <td>0.105746</td>\n",
       "      <td>0.097892</td>\n",
       "    </tr>\n",
       "    <tr>\n",
       "      <th>2017-01-02 04:00:00</th>\n",
       "      <td>series_1</td>\n",
       "      <td>2017-01-02 04:00:00</td>\n",
       "      <td>0.083606</td>\n",
       "      <td>0.185994</td>\n",
       "    </tr>\n",
       "    <tr>\n",
       "      <th>...</th>\n",
       "      <td>...</td>\n",
       "      <td>...</td>\n",
       "      <td>...</td>\n",
       "      <td>...</td>\n",
       "    </tr>\n",
       "    <tr>\n",
       "      <th>2017-08-31 11:00:00</th>\n",
       "      <td>series_1</td>\n",
       "      <td>2017-08-31 11:00:00</td>\n",
       "      <td>0.648919</td>\n",
       "      <td>0.363705</td>\n",
       "    </tr>\n",
       "    <tr>\n",
       "      <th>2017-08-31 12:00:00</th>\n",
       "      <td>series_1</td>\n",
       "      <td>2017-08-31 12:00:00</td>\n",
       "      <td>0.625725</td>\n",
       "      <td>0.387801</td>\n",
       "    </tr>\n",
       "    <tr>\n",
       "      <th>2017-08-31 13:00:00</th>\n",
       "      <td>series_1</td>\n",
       "      <td>2017-08-31 13:00:00</td>\n",
       "      <td>0.583658</td>\n",
       "      <td>0.411898</td>\n",
       "    </tr>\n",
       "    <tr>\n",
       "      <th>2017-08-31 14:00:00</th>\n",
       "      <td>series_1</td>\n",
       "      <td>2017-08-31 14:00:00</td>\n",
       "      <td>0.541592</td>\n",
       "      <td>0.422440</td>\n",
       "    </tr>\n",
       "    <tr>\n",
       "      <th>2017-08-31 15:00:00</th>\n",
       "      <td>series_1</td>\n",
       "      <td>2017-08-31 15:00:00</td>\n",
       "      <td>0.499526</td>\n",
       "      <td>0.435994</td>\n",
       "    </tr>\n",
       "  </tbody>\n",
       "</table>\n",
       "<p>5800 rows × 4 columns</p>\n",
       "</div>"
      ],
      "text/plain": [
       "                    unique_id                  ds         y  Wind_speed_tower\n",
       "time                                                                         \n",
       "2017-01-02 00:00:00  series_1 2017-01-02 00:00:00  0.172377          0.108434\n",
       "2017-01-02 01:00:00  series_1 2017-01-02 01:00:00  0.150132          0.155120\n",
       "2017-01-02 02:00:00  series_1 2017-01-02 02:00:00  0.127992          0.097892\n",
       "2017-01-02 03:00:00  series_1 2017-01-02 03:00:00  0.105746          0.097892\n",
       "2017-01-02 04:00:00  series_1 2017-01-02 04:00:00  0.083606          0.185994\n",
       "...                       ...                 ...       ...               ...\n",
       "2017-08-31 11:00:00  series_1 2017-08-31 11:00:00  0.648919          0.363705\n",
       "2017-08-31 12:00:00  series_1 2017-08-31 12:00:00  0.625725          0.387801\n",
       "2017-08-31 13:00:00  series_1 2017-08-31 13:00:00  0.583658          0.411898\n",
       "2017-08-31 14:00:00  series_1 2017-08-31 14:00:00  0.541592          0.422440\n",
       "2017-08-31 15:00:00  series_1 2017-08-31 15:00:00  0.499526          0.435994\n",
       "\n",
       "[5800 rows x 4 columns]"
      ]
     },
     "execution_count": 25,
     "metadata": {},
     "output_type": "execute_result"
    }
   ],
   "source": [
    "train_df_nf = train_df_nf[['unique_id', 'ds', 'y'] + features]\n",
    "train_df_nf"
   ]
  },
  {
   "cell_type": "markdown",
   "id": "31c221f2",
   "metadata": {},
   "source": [
    "Same for validation and test sets"
   ]
  },
  {
   "cell_type": "code",
   "execution_count": 26,
   "id": "9c42c246",
   "metadata": {},
   "outputs": [
    {
     "data": {
      "text/html": [
       "<div>\n",
       "<style scoped>\n",
       "    .dataframe tbody tr th:only-of-type {\n",
       "        vertical-align: middle;\n",
       "    }\n",
       "\n",
       "    .dataframe tbody tr th {\n",
       "        vertical-align: top;\n",
       "    }\n",
       "\n",
       "    .dataframe thead th {\n",
       "        text-align: right;\n",
       "    }\n",
       "</style>\n",
       "<table border=\"1\" class=\"dataframe\">\n",
       "  <thead>\n",
       "    <tr style=\"text-align: right;\">\n",
       "      <th></th>\n",
       "      <th>unique_id</th>\n",
       "      <th>ds</th>\n",
       "      <th>y</th>\n",
       "      <th>Wind_speed_tower</th>\n",
       "    </tr>\n",
       "    <tr>\n",
       "      <th>time</th>\n",
       "      <th></th>\n",
       "      <th></th>\n",
       "      <th></th>\n",
       "      <th></th>\n",
       "    </tr>\n",
       "  </thead>\n",
       "  <tbody>\n",
       "    <tr>\n",
       "      <th>2017-08-31 16:00:00</th>\n",
       "      <td>series_1</td>\n",
       "      <td>2017-08-31 16:00:00</td>\n",
       "      <td>0.457459</td>\n",
       "      <td>0.442018</td>\n",
       "    </tr>\n",
       "    <tr>\n",
       "      <th>2017-08-31 17:00:00</th>\n",
       "      <td>series_1</td>\n",
       "      <td>2017-08-31 17:00:00</td>\n",
       "      <td>0.415393</td>\n",
       "      <td>0.390813</td>\n",
       "    </tr>\n",
       "    <tr>\n",
       "      <th>2017-08-31 18:00:00</th>\n",
       "      <td>series_1</td>\n",
       "      <td>2017-08-31 18:00:00</td>\n",
       "      <td>0.380074</td>\n",
       "      <td>0.320783</td>\n",
       "    </tr>\n",
       "    <tr>\n",
       "      <th>2017-08-31 19:00:00</th>\n",
       "      <td>series_1</td>\n",
       "      <td>2017-08-31 19:00:00</td>\n",
       "      <td>0.351502</td>\n",
       "      <td>0.166416</td>\n",
       "    </tr>\n",
       "    <tr>\n",
       "      <th>2017-08-31 20:00:00</th>\n",
       "      <td>series_1</td>\n",
       "      <td>2017-08-31 20:00:00</td>\n",
       "      <td>0.322931</td>\n",
       "      <td>0.192018</td>\n",
       "    </tr>\n",
       "    <tr>\n",
       "      <th>...</th>\n",
       "      <td>...</td>\n",
       "      <td>...</td>\n",
       "      <td>...</td>\n",
       "      <td>...</td>\n",
       "    </tr>\n",
       "    <tr>\n",
       "      <th>2017-09-30 15:00:00</th>\n",
       "      <td>series_1</td>\n",
       "      <td>2017-09-30 15:00:00</td>\n",
       "      <td>0.095625</td>\n",
       "      <td>0.159639</td>\n",
       "    </tr>\n",
       "    <tr>\n",
       "      <th>2017-09-30 16:00:00</th>\n",
       "      <td>series_1</td>\n",
       "      <td>2017-09-30 16:00:00</td>\n",
       "      <td>0.104481</td>\n",
       "      <td>0.182229</td>\n",
       "    </tr>\n",
       "    <tr>\n",
       "      <th>2017-09-30 17:00:00</th>\n",
       "      <td>series_1</td>\n",
       "      <td>2017-09-30 17:00:00</td>\n",
       "      <td>0.113442</td>\n",
       "      <td>0.158133</td>\n",
       "    </tr>\n",
       "    <tr>\n",
       "      <th>2017-09-30 18:00:00</th>\n",
       "      <td>series_1</td>\n",
       "      <td>2017-09-30 18:00:00</td>\n",
       "      <td>0.122931</td>\n",
       "      <td>0.165663</td>\n",
       "    </tr>\n",
       "    <tr>\n",
       "      <th>2017-09-30 19:00:00</th>\n",
       "      <td>series_1</td>\n",
       "      <td>2017-09-30 19:00:00</td>\n",
       "      <td>0.133052</td>\n",
       "      <td>0.148343</td>\n",
       "    </tr>\n",
       "  </tbody>\n",
       "</table>\n",
       "<p>724 rows × 4 columns</p>\n",
       "</div>"
      ],
      "text/plain": [
       "                    unique_id                  ds         y  Wind_speed_tower\n",
       "time                                                                         \n",
       "2017-08-31 16:00:00  series_1 2017-08-31 16:00:00  0.457459          0.442018\n",
       "2017-08-31 17:00:00  series_1 2017-08-31 17:00:00  0.415393          0.390813\n",
       "2017-08-31 18:00:00  series_1 2017-08-31 18:00:00  0.380074          0.320783\n",
       "2017-08-31 19:00:00  series_1 2017-08-31 19:00:00  0.351502          0.166416\n",
       "2017-08-31 20:00:00  series_1 2017-08-31 20:00:00  0.322931          0.192018\n",
       "...                       ...                 ...       ...               ...\n",
       "2017-09-30 15:00:00  series_1 2017-09-30 15:00:00  0.095625          0.159639\n",
       "2017-09-30 16:00:00  series_1 2017-09-30 16:00:00  0.104481          0.182229\n",
       "2017-09-30 17:00:00  series_1 2017-09-30 17:00:00  0.113442          0.158133\n",
       "2017-09-30 18:00:00  series_1 2017-09-30 18:00:00  0.122931          0.165663\n",
       "2017-09-30 19:00:00  series_1 2017-09-30 19:00:00  0.133052          0.148343\n",
       "\n",
       "[724 rows x 4 columns]"
      ]
     },
     "execution_count": 26,
     "metadata": {},
     "output_type": "execute_result"
    }
   ],
   "source": [
    "val_df_nf = val_df.copy()\n",
    "val_df_nf = val_df_nf.rename(columns={target: 'y'})\n",
    "val_df_nf['ds'] = val_df_nf.index\n",
    "\n",
    "val_df_nf['unique_id'] = 'series_1'\n",
    "\n",
    "val_df_nf = val_df_nf[['unique_id', 'ds', 'y'] + features]\n",
    "val_df_nf"
   ]
  },
  {
   "cell_type": "code",
   "execution_count": 27,
   "id": "23b23b1e",
   "metadata": {},
   "outputs": [
    {
     "data": {
      "text/html": [
       "<div>\n",
       "<style scoped>\n",
       "    .dataframe tbody tr th:only-of-type {\n",
       "        vertical-align: middle;\n",
       "    }\n",
       "\n",
       "    .dataframe tbody tr th {\n",
       "        vertical-align: top;\n",
       "    }\n",
       "\n",
       "    .dataframe thead th {\n",
       "        text-align: right;\n",
       "    }\n",
       "</style>\n",
       "<table border=\"1\" class=\"dataframe\">\n",
       "  <thead>\n",
       "    <tr style=\"text-align: right;\">\n",
       "      <th></th>\n",
       "      <th>unique_id</th>\n",
       "      <th>ds</th>\n",
       "      <th>y</th>\n",
       "      <th>Wind_speed_tower</th>\n",
       "    </tr>\n",
       "    <tr>\n",
       "      <th>time</th>\n",
       "      <th></th>\n",
       "      <th></th>\n",
       "      <th></th>\n",
       "      <th></th>\n",
       "    </tr>\n",
       "  </thead>\n",
       "  <tbody>\n",
       "    <tr>\n",
       "      <th>2017-09-30 20:00:00</th>\n",
       "      <td>series_1</td>\n",
       "      <td>2017-09-30 20:00:00</td>\n",
       "      <td>0.143068</td>\n",
       "      <td>0.135542</td>\n",
       "    </tr>\n",
       "    <tr>\n",
       "      <th>2017-09-30 21:00:00</th>\n",
       "      <td>series_1</td>\n",
       "      <td>2017-09-30 21:00:00</td>\n",
       "      <td>0.153189</td>\n",
       "      <td>0.128765</td>\n",
       "    </tr>\n",
       "    <tr>\n",
       "      <th>2017-09-30 22:00:00</th>\n",
       "      <td>series_1</td>\n",
       "      <td>2017-09-30 22:00:00</td>\n",
       "      <td>0.163205</td>\n",
       "      <td>0.108434</td>\n",
       "    </tr>\n",
       "    <tr>\n",
       "      <th>2017-09-30 23:00:00</th>\n",
       "      <td>series_1</td>\n",
       "      <td>2017-09-30 23:00:00</td>\n",
       "      <td>0.173326</td>\n",
       "      <td>0.105422</td>\n",
       "    </tr>\n",
       "    <tr>\n",
       "      <th>2017-10-01 00:00:00</th>\n",
       "      <td>series_1</td>\n",
       "      <td>2017-10-01 00:00:00</td>\n",
       "      <td>0.183342</td>\n",
       "      <td>0.165663</td>\n",
       "    </tr>\n",
       "    <tr>\n",
       "      <th>...</th>\n",
       "      <td>...</td>\n",
       "      <td>...</td>\n",
       "      <td>...</td>\n",
       "      <td>...</td>\n",
       "    </tr>\n",
       "    <tr>\n",
       "      <th>2017-10-30 19:00:00</th>\n",
       "      <td>series_1</td>\n",
       "      <td>2017-10-30 19:00:00</td>\n",
       "      <td>0.721877</td>\n",
       "      <td>0.443524</td>\n",
       "    </tr>\n",
       "    <tr>\n",
       "      <th>2017-10-30 20:00:00</th>\n",
       "      <td>series_1</td>\n",
       "      <td>2017-10-30 20:00:00</td>\n",
       "      <td>0.721244</td>\n",
       "      <td>0.475904</td>\n",
       "    </tr>\n",
       "    <tr>\n",
       "      <th>2017-10-30 21:00:00</th>\n",
       "      <td>series_1</td>\n",
       "      <td>2017-10-30 21:00:00</td>\n",
       "      <td>0.720506</td>\n",
       "      <td>0.490964</td>\n",
       "    </tr>\n",
       "    <tr>\n",
       "      <th>2017-10-30 22:00:00</th>\n",
       "      <td>series_1</td>\n",
       "      <td>2017-10-30 22:00:00</td>\n",
       "      <td>0.719873</td>\n",
       "      <td>0.476657</td>\n",
       "    </tr>\n",
       "    <tr>\n",
       "      <th>2017-10-30 23:00:00</th>\n",
       "      <td>series_1</td>\n",
       "      <td>2017-10-30 23:00:00</td>\n",
       "      <td>0.719241</td>\n",
       "      <td>0.463102</td>\n",
       "    </tr>\n",
       "  </tbody>\n",
       "</table>\n",
       "<p>724 rows × 4 columns</p>\n",
       "</div>"
      ],
      "text/plain": [
       "                    unique_id                  ds         y  Wind_speed_tower\n",
       "time                                                                         \n",
       "2017-09-30 20:00:00  series_1 2017-09-30 20:00:00  0.143068          0.135542\n",
       "2017-09-30 21:00:00  series_1 2017-09-30 21:00:00  0.153189          0.128765\n",
       "2017-09-30 22:00:00  series_1 2017-09-30 22:00:00  0.163205          0.108434\n",
       "2017-09-30 23:00:00  series_1 2017-09-30 23:00:00  0.173326          0.105422\n",
       "2017-10-01 00:00:00  series_1 2017-10-01 00:00:00  0.183342          0.165663\n",
       "...                       ...                 ...       ...               ...\n",
       "2017-10-30 19:00:00  series_1 2017-10-30 19:00:00  0.721877          0.443524\n",
       "2017-10-30 20:00:00  series_1 2017-10-30 20:00:00  0.721244          0.475904\n",
       "2017-10-30 21:00:00  series_1 2017-10-30 21:00:00  0.720506          0.490964\n",
       "2017-10-30 22:00:00  series_1 2017-10-30 22:00:00  0.719873          0.476657\n",
       "2017-10-30 23:00:00  series_1 2017-10-30 23:00:00  0.719241          0.463102\n",
       "\n",
       "[724 rows x 4 columns]"
      ]
     },
     "execution_count": 27,
     "metadata": {},
     "output_type": "execute_result"
    }
   ],
   "source": [
    "test_df_nf = test_df.copy()\n",
    "test_df_nf = test_df_nf.rename(columns={target: 'y'})\n",
    "test_df_nf['ds'] = test_df_nf.index\n",
    "\n",
    "test_df_nf['unique_id'] = 'series_1'\n",
    "\n",
    "test_df_nf = test_df_nf[['unique_id', 'ds', 'y'] + features]\n",
    "test_df_nf"
   ]
  },
  {
   "cell_type": "markdown",
   "id": "08a9b0cb",
   "metadata": {},
   "source": [
    "Create a **joint dataset** with train and validation to fit into Nixtla's framework."
   ]
  },
  {
   "cell_type": "code",
   "execution_count": 28,
   "id": "02b8a29b",
   "metadata": {},
   "outputs": [
    {
     "name": "stdout",
     "output_type": "stream",
     "text": [
      "<class 'pandas.core.frame.DataFrame'>\n",
      "RangeIndex: 6524 entries, 0 to 6523\n",
      "Data columns (total 4 columns):\n",
      " #   Column            Non-Null Count  Dtype         \n",
      "---  ------            --------------  -----         \n",
      " 0   unique_id         6524 non-null   object        \n",
      " 1   ds                6524 non-null   datetime64[ns]\n",
      " 2   y                 6524 non-null   float64       \n",
      " 3   Wind_speed_tower  6524 non-null   float64       \n",
      "dtypes: datetime64[ns](1), float64(2), object(1)\n",
      "memory usage: 204.0+ KB\n"
     ]
    }
   ],
   "source": [
    "train_val_df = pd.concat([train_df_nf, val_df_nf], axis=0)\n",
    "train_val_df.reset_index(drop=True, inplace=True)\n",
    "train_val_df.info()"
   ]
  },
  {
   "cell_type": "markdown",
   "id": "93081ec3",
   "metadata": {},
   "source": [
    "And similarly a **full dataset** with train, validation and test sets."
   ]
  },
  {
   "cell_type": "code",
   "execution_count": 29,
   "id": "190defac",
   "metadata": {},
   "outputs": [
    {
     "name": "stdout",
     "output_type": "stream",
     "text": [
      "<class 'pandas.core.frame.DataFrame'>\n",
      "RangeIndex: 7248 entries, 0 to 7247\n",
      "Data columns (total 4 columns):\n",
      " #   Column            Non-Null Count  Dtype         \n",
      "---  ------            --------------  -----         \n",
      " 0   unique_id         7248 non-null   object        \n",
      " 1   ds                7248 non-null   datetime64[ns]\n",
      " 2   y                 7248 non-null   float64       \n",
      " 3   Wind_speed_tower  7248 non-null   float64       \n",
      "dtypes: datetime64[ns](1), float64(2), object(1)\n",
      "memory usage: 226.6+ KB\n"
     ]
    }
   ],
   "source": [
    "full_df_nf = pd.concat([train_df_nf, val_df_nf, test_df_nf], axis=0)\n",
    "full_df_nf.reset_index(drop=True, inplace=True)\n",
    "full_df_nf.info()"
   ]
  },
  {
   "cell_type": "markdown",
   "id": "26ac4823",
   "metadata": {},
   "source": [
    "## Set the forecast horizon and input length"
   ]
  },
  {
   "cell_type": "code",
   "execution_count": 30,
   "id": "834484a9",
   "metadata": {},
   "outputs": [],
   "source": [
    "horizon = 3\n",
    "input_size = 6"
   ]
  },
  {
   "cell_type": "markdown",
   "id": "e610ec7c",
   "metadata": {},
   "source": [
    "# AutoLSTM"
   ]
  },
  {
   "cell_type": "code",
   "execution_count": 31,
   "id": "3986c5d5",
   "metadata": {},
   "outputs": [],
   "source": [
    "import logging\n",
    "\n",
    "import optuna\n",
    "\n",
    "import torch\n",
    "\n",
    "from neuralforecast import NeuralForecast\n",
    "\n",
    "from neuralforecast.losses.pytorch import MAE\n"
   ]
  },
  {
   "cell_type": "markdown",
   "id": "9bd405f9",
   "metadata": {},
   "source": [
    "Check if CUDA is available (Linux machines)"
   ]
  },
  {
   "cell_type": "code",
   "execution_count": 32,
   "id": "4c56cf9b",
   "metadata": {},
   "outputs": [],
   "source": [
    "optuna.logging.set_verbosity(optuna.logging.WARNING)\n",
    "logging.getLogger('pytorch_lightning').setLevel(logging.ERROR)\n",
    "torch.set_float32_matmul_precision('high')"
   ]
  },
  {
   "cell_type": "code",
   "execution_count": 33,
   "id": "fb96ae36",
   "metadata": {},
   "outputs": [
    {
     "name": "stdout",
     "output_type": "stream",
     "text": [
      "1 0 NVIDIA GeForce RTX 3060 Laptop GPU\n"
     ]
    }
   ],
   "source": [
    "if torch.cuda.is_available():\n",
    "    print(torch.cuda.device_count(), torch.cuda.current_device(),torch.cuda.get_device_name(0))"
   ]
  },
  {
   "cell_type": "markdown",
   "id": "0a562b91",
   "metadata": {},
   "source": [
    "Define the hyperparameters for the model. The first group is fixed and shouldn't changed from model to model. The second group is the hyperparameters that are tuned by the AutoTimeXer algorithm using Optuna as backend and may be specific to the model's architecture. The documentations for the hyperparameters can be seen at the [TimeXer](https://nixtlaverse.nixtla.io/neuralforecast/models.TimeXer.html#TimeXer) and [AutoTimeXer](https://nixtlaverse.nixtla.io/neuralforecast/models.html#autoTimeXer) documentation."
   ]
  },
  {
   "cell_type": "code",
   "execution_count": 34,
   "id": "ad8c3a28",
   "metadata": {},
   "outputs": [],
   "source": [
    "def config_LSTM(trial: optuna.Trial) -> dict:\n",
    "    return {\n",
    "        # Fixed\n",
    "\n",
    "        \"input_size\": input_size,\n",
    "        \"futr_exog_list\": ['Wind_speed_tower'],\n",
    "        # \"scaler_type\":'standard',\n",
    "        \"max_steps\": 300,\n",
    "        \"val_check_steps\": 50,\n",
    "        \"random_seed\": 42,\n",
    "        \n",
    "        ##### Optuna, model specific\n",
    "        # \"n_series\": 1,  # Number of time series \n",
    "        \"encoder_n_layers\": trial.suggest_int(\"encoder_n_layers\", 1, 4),\n",
    "        \"encoder_hidden_size\": trial.suggest_categorical(\"encoder_hidden_size\", [64, 128, 256]),\n",
    "        \"encoder_dropout\": trial.suggest_float(\"encoder_dropout\", 0.0, 0.3),\n",
    "        \"decoder_layers\": trial.suggest_int(\"decoder_layers\", 1, 4),\n",
    "        \"decoder_hidden_size\": trial.suggest_categorical(\"decoder_hidden_size\", [64, 128, 256]),\n",
    "        \"learning_rate\": trial.suggest_float(\"learning_rate\", 1e-4, 1e-2, log=True)        \n",
    "    }\n"
   ]
  },
  {
   "cell_type": "markdown",
   "id": "0b7ff27a",
   "metadata": {},
   "source": [
    "Next we define the AutoLSTM object. This includes the num_samples parameter, which is the number of samples to be used for the Optuna search. The loss is also an essential parameter of this object."
   ]
  },
  {
   "cell_type": "code",
   "execution_count": 35,
   "id": "e378c4b3",
   "metadata": {},
   "outputs": [],
   "source": [
    "from neuralforecast.auto import AutoLSTM\n",
    "\n",
    "model = AutoLSTM(\n",
    "    h=horizon,\n",
    "    config=config_LSTM,\n",
    "    backend='optuna',    \n",
    "    search_alg=optuna.samplers.TPESampler(),\n",
    "    gpus=torch.cuda.device_count(),\n",
    "    ################\n",
    "    num_samples=100,\n",
    "    loss=MAE())\n",
    "    \n",
    "\n"
   ]
  },
  {
   "cell_type": "markdown",
   "id": "fab86e7d",
   "metadata": {},
   "source": [
    "With this we are ready to perform the search. We pass the size of the validation set to be used for Optuna in selecting the hyperparameters."
   ]
  },
  {
   "cell_type": "code",
   "execution_count": 36,
   "id": "812ed625",
   "metadata": {},
   "outputs": [
    {
     "name": "stderr",
     "output_type": "stream",
     "text": [
      "2025-06-19 21:57:42.806680: E external/local_xla/xla/stream_executor/cuda/cuda_fft.cc:477] Unable to register cuFFT factory: Attempting to register factory for plugin cuFFT when one has already been registered\n",
      "WARNING: All log messages before absl::InitializeLog() is called are written to STDERR\n",
      "E0000 00:00:1750363062.820895   64371 cuda_dnn.cc:8310] Unable to register cuDNN factory: Attempting to register factory for plugin cuDNN when one has already been registered\n",
      "E0000 00:00:1750363062.825111   64371 cuda_blas.cc:1418] Unable to register cuBLAS factory: Attempting to register factory for plugin cuBLAS when one has already been registered\n",
      "2025-06-19 21:57:42.839331: I tensorflow/core/platform/cpu_feature_guard.cc:210] This TensorFlow binary is optimized to use available CPU instructions in performance-critical operations.\n",
      "To enable the following instructions: AVX2 FMA, in other operations, rebuild TensorFlow with the appropriate compiler flags.\n"
     ]
    }
   ],
   "source": [
    "%%capture\n",
    "\n",
    "logging.getLogger(\"lightning_fabric.utilities.seed\").setLevel(logging.WARNING)\n",
    "\n",
    "start_time = time.time()\n",
    "\n",
    "nf = NeuralForecast(models=[model], freq='H')\n",
    "nf.fit(df=train_val_df, val_size=val_df_nf.shape[0])\n",
    "\n",
    "end_time = time.time()\n",
    "elapsed_time = end_time - start_time"
   ]
  },
  {
   "cell_type": "code",
   "execution_count": 37,
   "id": "8d07b10d",
   "metadata": {},
   "outputs": [
    {
     "name": "stdout",
     "output_type": "stream",
     "text": [
      "Elapsed time: 6.22 minutes\n"
     ]
    }
   ],
   "source": [
    "print(f\"Elapsed time: {elapsed_time / 60:.2f} minutes\")"
   ]
  },
  {
   "cell_type": "markdown",
   "id": "ac42c64d",
   "metadata": {},
   "source": [
    "When the search is finished the final model is in  nf.models[0] and it has a results object that contains all  the fit information, including the Optuna study object. In particular, the best_trial attribute has in turn an attribute which is the dictionary of the best hyperparameters."
   ]
  },
  {
   "cell_type": "code",
   "execution_count": 38,
   "id": "44034575",
   "metadata": {},
   "outputs": [
    {
     "data": {
      "text/plain": [
       "optuna.study.study.Study"
      ]
     },
     "execution_count": 38,
     "metadata": {},
     "output_type": "execute_result"
    }
   ],
   "source": [
    "type(nf.models[0].results)"
   ]
  },
  {
   "cell_type": "code",
   "execution_count": 39,
   "id": "aea314c8",
   "metadata": {},
   "outputs": [
    {
     "data": {
      "text/plain": [
       "{'encoder_n_layers': 2,\n",
       " 'encoder_hidden_size': 256,\n",
       " 'encoder_dropout': 0.10396472628943397,\n",
       " 'decoder_layers': 1,\n",
       " 'decoder_hidden_size': 64,\n",
       " 'learning_rate': 0.00593147707693589}"
      ]
     },
     "execution_count": 39,
     "metadata": {},
     "output_type": "execute_result"
    }
   ],
   "source": [
    "best_params = nf.models[0].results.best_trial.params\n",
    "best_params"
   ]
  },
  {
   "cell_type": "markdown",
   "id": "f86cbb96",
   "metadata": {},
   "source": [
    "# LSTM modeling"
   ]
  },
  {
   "cell_type": "markdown",
   "id": "1495fc71",
   "metadata": {},
   "source": [
    "Using the best hyperparameters we can now fit a final model. This is done by passing the best hyperparameters to the model and then fitting it to the training + validation set. \n"
   ]
  },
  {
   "cell_type": "code",
   "execution_count": 42,
   "id": "afa5d6a3",
   "metadata": {},
   "outputs": [],
   "source": [
    "from neuralforecast.models.lstm import LSTM\n",
    "\n",
    "model = LSTM(\n",
    "    h=horizon,\n",
    "    n_series=1,\n",
    "    input_size=input_size,\n",
    "    loss=MAE(),\n",
    "    max_steps=600,\n",
    "    random_seed=42,\n",
    "    **best_params\n",
    ")\n"
   ]
  },
  {
   "cell_type": "markdown",
   "id": "e41b4b94",
   "metadata": {},
   "source": [
    "**NOTE:** We need to set the `EXOGENOUS_HIST` attribute to `True` because the current Nixtla implementation of TimeXer does not expose this attibute in the class argument list.\n"
   ]
  },
  {
   "cell_type": "code",
   "execution_count": 43,
   "id": "22f73727",
   "metadata": {},
   "outputs": [],
   "source": [
    "model.EXOGENOUS_HIST = True\n",
    "model.hist_exog_list= ['Wind_speed_tower']"
   ]
  },
  {
   "cell_type": "code",
   "execution_count": 44,
   "id": "cadb592b",
   "metadata": {},
   "outputs": [],
   "source": [
    "%%capture\n",
    "\n",
    "logging.getLogger(\"lightning_fabric.utilities.seed\").setLevel(logging.WARNING)\n",
    "\n",
    "start_time = time.time()\n",
    "\n",
    "nf = NeuralForecast(models=[model], freq='H')\n",
    "\n",
    "nf.fit(df=train_val_df)\n",
    "\n",
    "end_time = time.time()\n",
    "elapsed_time = end_time - start_time"
   ]
  },
  {
   "cell_type": "code",
   "execution_count": 45,
   "id": "9bd64b20",
   "metadata": {},
   "outputs": [
    {
     "name": "stdout",
     "output_type": "stream",
     "text": [
      "Elapsed time: 0.13 minutes\n"
     ]
    }
   ],
   "source": [
    "print(f\"Elapsed time: {elapsed_time / 60:.2f} minutes\")"
   ]
  },
  {
   "cell_type": "markdown",
   "id": "9074bfcd",
   "metadata": {},
   "source": [
    "# Model Performance Evaluation"
   ]
  },
  {
   "cell_type": "markdown",
   "id": "5d66dafa",
   "metadata": {},
   "source": [
    "We create the rolling_df dataframe that contains the series data up to the time instant in which we make a prediction that corresponds to the first time instant in the test set. That prediction corresponds to the maximum value of the prediction horizon. "
   ]
  },
  {
   "cell_type": "code",
   "execution_count": 46,
   "id": "ab75f4ef",
   "metadata": {},
   "outputs": [
    {
     "data": {
      "text/html": [
       "<div>\n",
       "<style scoped>\n",
       "    .dataframe tbody tr th:only-of-type {\n",
       "        vertical-align: middle;\n",
       "    }\n",
       "\n",
       "    .dataframe tbody tr th {\n",
       "        vertical-align: top;\n",
       "    }\n",
       "\n",
       "    .dataframe thead th {\n",
       "        text-align: right;\n",
       "    }\n",
       "</style>\n",
       "<table border=\"1\" class=\"dataframe\">\n",
       "  <thead>\n",
       "    <tr style=\"text-align: right;\">\n",
       "      <th></th>\n",
       "      <th>unique_id</th>\n",
       "      <th>ds</th>\n",
       "      <th>y</th>\n",
       "      <th>Wind_speed_tower</th>\n",
       "    </tr>\n",
       "  </thead>\n",
       "  <tbody>\n",
       "    <tr>\n",
       "      <th>6520</th>\n",
       "      <td>series_1</td>\n",
       "      <td>2017-09-30 16:00:00</td>\n",
       "      <td>0.104481</td>\n",
       "      <td>0.182229</td>\n",
       "    </tr>\n",
       "    <tr>\n",
       "      <th>6521</th>\n",
       "      <td>series_1</td>\n",
       "      <td>2017-09-30 17:00:00</td>\n",
       "      <td>0.113442</td>\n",
       "      <td>0.158133</td>\n",
       "    </tr>\n",
       "  </tbody>\n",
       "</table>\n",
       "</div>"
      ],
      "text/plain": [
       "     unique_id                  ds         y  Wind_speed_tower\n",
       "6520  series_1 2017-09-30 16:00:00  0.104481          0.182229\n",
       "6521  series_1 2017-09-30 17:00:00  0.113442          0.158133"
      ]
     },
     "execution_count": 46,
     "metadata": {},
     "output_type": "execute_result"
    }
   ],
   "source": [
    "rolling_df = full_df_nf.iloc[:(train_len + val_len + 1 - horizon)]\n",
    "rolling_df.tail(2)"
   ]
  },
  {
   "cell_type": "markdown",
   "id": "3d28c164",
   "metadata": {},
   "source": [
    "Now to start the evaluation we fit the model to this dataset and get the predictions. We will not use all of them, only the last."
   ]
  },
  {
   "cell_type": "code",
   "execution_count": 47,
   "id": "a8934497",
   "metadata": {},
   "outputs": [],
   "source": [
    "%%capture\n",
    "\n",
    "nf.fit(df=rolling_df)"
   ]
  },
  {
   "cell_type": "code",
   "execution_count": 48,
   "id": "59839911",
   "metadata": {},
   "outputs": [],
   "source": [
    "%%capture\n",
    "\n",
    "rolling_preds = nf.predict()\n",
    "rolling_preds"
   ]
  },
  {
   "cell_type": "markdown",
   "id": "ed010ea1",
   "metadata": {},
   "source": [
    "Note the last of these predictions corresponds to the first time instant in the test set. \n",
    "\n",
    "Now we create a dictionary (of dataframes) to store the predictions for each value k from 1 to the max of the prediction horizon. The weird (k-1):k bit below is to prevent pandas from collapsing the row into a series!"
   ]
  },
  {
   "cell_type": "code",
   "execution_count": 49,
   "id": "028a0ee2",
   "metadata": {},
   "outputs": [],
   "source": [
    "preds_df = {}\n",
    "for k in range(1, horizon + 1):\n",
    "    preds_df_name = str(k) + \"h\"  # String variable for the new name\n",
    "    preds_df[preds_df_name] = rolling_preds.copy().iloc[(k-1):k, :]\n",
    "\n"
   ]
  },
  {
   "cell_type": "markdown",
   "id": "5ffa479b",
   "metadata": {},
   "source": [
    "Initially we store the predictions we obtained above in the dictionary (only the last one of these will actually be useful for comparison with the test set, but the others serve the purpose of dictionary initialisation)."
   ]
  },
  {
   "cell_type": "code",
   "execution_count": 50,
   "id": "1662a7df",
   "metadata": {},
   "outputs": [
    {
     "data": {
      "text/html": [
       "<div>\n",
       "<style scoped>\n",
       "    .dataframe tbody tr th:only-of-type {\n",
       "        vertical-align: middle;\n",
       "    }\n",
       "\n",
       "    .dataframe tbody tr th {\n",
       "        vertical-align: top;\n",
       "    }\n",
       "\n",
       "    .dataframe thead th {\n",
       "        text-align: right;\n",
       "    }\n",
       "</style>\n",
       "<table border=\"1\" class=\"dataframe\">\n",
       "  <thead>\n",
       "    <tr style=\"text-align: right;\">\n",
       "      <th></th>\n",
       "      <th>unique_id</th>\n",
       "      <th>ds</th>\n",
       "      <th>LSTM</th>\n",
       "    </tr>\n",
       "  </thead>\n",
       "  <tbody>\n",
       "    <tr>\n",
       "      <th>0</th>\n",
       "      <td>series_1</td>\n",
       "      <td>2017-09-30 18:00:00</td>\n",
       "      <td>0.121203</td>\n",
       "    </tr>\n",
       "  </tbody>\n",
       "</table>\n",
       "</div>"
      ],
      "text/plain": [
       "  unique_id                  ds      LSTM\n",
       "0  series_1 2017-09-30 18:00:00  0.121203"
      ]
     },
     "execution_count": 50,
     "metadata": {},
     "output_type": "execute_result"
    }
   ],
   "source": [
    "preds_df['1h']"
   ]
  },
  {
   "cell_type": "code",
   "execution_count": 51,
   "id": "97839798",
   "metadata": {},
   "outputs": [
    {
     "data": {
      "text/html": [
       "<div>\n",
       "<style scoped>\n",
       "    .dataframe tbody tr th:only-of-type {\n",
       "        vertical-align: middle;\n",
       "    }\n",
       "\n",
       "    .dataframe tbody tr th {\n",
       "        vertical-align: top;\n",
       "    }\n",
       "\n",
       "    .dataframe thead th {\n",
       "        text-align: right;\n",
       "    }\n",
       "</style>\n",
       "<table border=\"1\" class=\"dataframe\">\n",
       "  <thead>\n",
       "    <tr style=\"text-align: right;\">\n",
       "      <th></th>\n",
       "      <th>unique_id</th>\n",
       "      <th>ds</th>\n",
       "      <th>LSTM</th>\n",
       "    </tr>\n",
       "  </thead>\n",
       "  <tbody>\n",
       "    <tr>\n",
       "      <th>1</th>\n",
       "      <td>series_1</td>\n",
       "      <td>2017-09-30 19:00:00</td>\n",
       "      <td>0.128256</td>\n",
       "    </tr>\n",
       "  </tbody>\n",
       "</table>\n",
       "</div>"
      ],
      "text/plain": [
       "  unique_id                  ds      LSTM\n",
       "1  series_1 2017-09-30 19:00:00  0.128256"
      ]
     },
     "execution_count": 51,
     "metadata": {},
     "output_type": "execute_result"
    }
   ],
   "source": [
    "preds_df['2h']"
   ]
  },
  {
   "cell_type": "code",
   "execution_count": 52,
   "id": "0cd7160c",
   "metadata": {},
   "outputs": [
    {
     "data": {
      "text/html": [
       "<div>\n",
       "<style scoped>\n",
       "    .dataframe tbody tr th:only-of-type {\n",
       "        vertical-align: middle;\n",
       "    }\n",
       "\n",
       "    .dataframe tbody tr th {\n",
       "        vertical-align: top;\n",
       "    }\n",
       "\n",
       "    .dataframe thead th {\n",
       "        text-align: right;\n",
       "    }\n",
       "</style>\n",
       "<table border=\"1\" class=\"dataframe\">\n",
       "  <thead>\n",
       "    <tr style=\"text-align: right;\">\n",
       "      <th></th>\n",
       "      <th>unique_id</th>\n",
       "      <th>ds</th>\n",
       "      <th>LSTM</th>\n",
       "    </tr>\n",
       "  </thead>\n",
       "  <tbody>\n",
       "    <tr>\n",
       "      <th>2</th>\n",
       "      <td>series_1</td>\n",
       "      <td>2017-09-30 20:00:00</td>\n",
       "      <td>0.137296</td>\n",
       "    </tr>\n",
       "  </tbody>\n",
       "</table>\n",
       "</div>"
      ],
      "text/plain": [
       "  unique_id                  ds      LSTM\n",
       "2  series_1 2017-09-30 20:00:00  0.137296"
      ]
     },
     "execution_count": 52,
     "metadata": {},
     "output_type": "execute_result"
    }
   ],
   "source": [
    "preds_df['3h']"
   ]
  },
  {
   "cell_type": "markdown",
   "id": "590e4b61",
   "metadata": {},
   "source": [
    "The main tool for evaluation is the for loop below. In each iteration we add one time instant to the rolling_df dataframe and then we fit the model to this dataframe. We then obtain the predictions for this augmented dataset and our forecasting horizon. And we store each  of them in the corresponing dataframe inside the dictionary. "
   ]
  },
  {
   "cell_type": "code",
   "execution_count": 54,
   "id": "8ed7d3ea",
   "metadata": {},
   "outputs": [],
   "source": [
    "start_time = time.time()"
   ]
  },
  {
   "cell_type": "code",
   "execution_count": 55,
   "id": "d5c03b01",
   "metadata": {},
   "outputs": [],
   "source": [
    "%%capture\n",
    "\n",
    "logging.getLogger(\"lightning_fabric.utilities.seed\").setLevel(logging.WARNING)\n",
    "\n",
    "# for k in range(2, 50): ## Testing\n",
    "for k in range(2, len(test_df_nf) + horizon):\n",
    "    rolling_df = full_df_nf.iloc[:(train_len + val_len + k - horizon)]\n",
    "    nf.fit(df=rolling_df)\n",
    "    rolling_preds = nf.predict()\n",
    "    for h in range(1, horizon + 1):\n",
    "        preds_df[f'{h}h'] = pd.concat([preds_df[f'{h}h'], rolling_preds.iloc[(h - 1):h,:]], axis=0)\n",
    "\n",
    "    print(f\"k =  {k}\")\n",
    "    print(\"#\" * 20)\n",
    "\n",
    "end_time = time.time()       "
   ]
  },
  {
   "cell_type": "code",
   "execution_count": 56,
   "id": "6fba5c1b",
   "metadata": {},
   "outputs": [
    {
     "name": "stdout",
     "output_type": "stream",
     "text": [
      "Elapsed time: 88.15 minutes\n"
     ]
    }
   ],
   "source": [
    "\n",
    "elapsed_time = end_time - start_time\n",
    "print(f\"Elapsed time: {elapsed_time / 60:.2f} minutes\")"
   ]
  },
  {
   "cell_type": "markdown",
   "id": "296a77e4",
   "metadata": {},
   "source": [
    "For ease of comparison and plotting we reindex the predictions dataframes in the dictionary to use ds as index."
   ]
  },
  {
   "cell_type": "code",
   "execution_count": 57,
   "id": "fd9ef239",
   "metadata": {},
   "outputs": [],
   "source": [
    "for h in range(1, horizon + 1):\n",
    "    preds_df[f'{h}h'].set_index('ds', inplace=True)"
   ]
  },
  {
   "cell_type": "markdown",
   "id": "e4268330",
   "metadata": {},
   "source": [
    "After doing that they look like this:"
   ]
  },
  {
   "cell_type": "code",
   "execution_count": 58,
   "id": "b3b63861",
   "metadata": {},
   "outputs": [
    {
     "data": {
      "text/html": [
       "<div>\n",
       "<style scoped>\n",
       "    .dataframe tbody tr th:only-of-type {\n",
       "        vertical-align: middle;\n",
       "    }\n",
       "\n",
       "    .dataframe tbody tr th {\n",
       "        vertical-align: top;\n",
       "    }\n",
       "\n",
       "    .dataframe thead th {\n",
       "        text-align: right;\n",
       "    }\n",
       "</style>\n",
       "<table border=\"1\" class=\"dataframe\">\n",
       "  <thead>\n",
       "    <tr style=\"text-align: right;\">\n",
       "      <th></th>\n",
       "      <th>unique_id</th>\n",
       "      <th>LSTM</th>\n",
       "    </tr>\n",
       "    <tr>\n",
       "      <th>ds</th>\n",
       "      <th></th>\n",
       "      <th></th>\n",
       "    </tr>\n",
       "  </thead>\n",
       "  <tbody>\n",
       "    <tr>\n",
       "      <th>2017-09-30 18:00:00</th>\n",
       "      <td>series_1</td>\n",
       "      <td>0.121203</td>\n",
       "    </tr>\n",
       "    <tr>\n",
       "      <th>2017-09-30 19:00:00</th>\n",
       "      <td>series_1</td>\n",
       "      <td>0.131454</td>\n",
       "    </tr>\n",
       "    <tr>\n",
       "      <th>2017-09-30 20:00:00</th>\n",
       "      <td>series_1</td>\n",
       "      <td>0.139156</td>\n",
       "    </tr>\n",
       "    <tr>\n",
       "      <th>2017-09-30 21:00:00</th>\n",
       "      <td>series_1</td>\n",
       "      <td>0.150833</td>\n",
       "    </tr>\n",
       "    <tr>\n",
       "      <th>2017-09-30 22:00:00</th>\n",
       "      <td>series_1</td>\n",
       "      <td>0.162948</td>\n",
       "    </tr>\n",
       "    <tr>\n",
       "      <th>...</th>\n",
       "      <td>...</td>\n",
       "      <td>...</td>\n",
       "    </tr>\n",
       "    <tr>\n",
       "      <th>2017-10-30 19:00:00</th>\n",
       "      <td>series_1</td>\n",
       "      <td>0.722733</td>\n",
       "    </tr>\n",
       "    <tr>\n",
       "      <th>2017-10-30 20:00:00</th>\n",
       "      <td>series_1</td>\n",
       "      <td>0.722740</td>\n",
       "    </tr>\n",
       "    <tr>\n",
       "      <th>2017-10-30 21:00:00</th>\n",
       "      <td>series_1</td>\n",
       "      <td>0.720238</td>\n",
       "    </tr>\n",
       "    <tr>\n",
       "      <th>2017-10-30 22:00:00</th>\n",
       "      <td>series_1</td>\n",
       "      <td>0.719984</td>\n",
       "    </tr>\n",
       "    <tr>\n",
       "      <th>2017-10-30 23:00:00</th>\n",
       "      <td>series_1</td>\n",
       "      <td>0.719033</td>\n",
       "    </tr>\n",
       "  </tbody>\n",
       "</table>\n",
       "<p>726 rows × 2 columns</p>\n",
       "</div>"
      ],
      "text/plain": [
       "                    unique_id      LSTM\n",
       "ds                                     \n",
       "2017-09-30 18:00:00  series_1  0.121203\n",
       "2017-09-30 19:00:00  series_1  0.131454\n",
       "2017-09-30 20:00:00  series_1  0.139156\n",
       "2017-09-30 21:00:00  series_1  0.150833\n",
       "2017-09-30 22:00:00  series_1  0.162948\n",
       "...                       ...       ...\n",
       "2017-10-30 19:00:00  series_1  0.722733\n",
       "2017-10-30 20:00:00  series_1  0.722740\n",
       "2017-10-30 21:00:00  series_1  0.720238\n",
       "2017-10-30 22:00:00  series_1  0.719984\n",
       "2017-10-30 23:00:00  series_1  0.719033\n",
       "\n",
       "[726 rows x 2 columns]"
      ]
     },
     "execution_count": 58,
     "metadata": {},
     "output_type": "execute_result"
    }
   ],
   "source": [
    "preds_df['1h'] "
   ]
  },
  {
   "cell_type": "code",
   "execution_count": 59,
   "id": "f831f945",
   "metadata": {},
   "outputs": [
    {
     "data": {
      "text/html": [
       "<div>\n",
       "<style scoped>\n",
       "    .dataframe tbody tr th:only-of-type {\n",
       "        vertical-align: middle;\n",
       "    }\n",
       "\n",
       "    .dataframe tbody tr th {\n",
       "        vertical-align: top;\n",
       "    }\n",
       "\n",
       "    .dataframe thead th {\n",
       "        text-align: right;\n",
       "    }\n",
       "</style>\n",
       "<table border=\"1\" class=\"dataframe\">\n",
       "  <thead>\n",
       "    <tr style=\"text-align: right;\">\n",
       "      <th></th>\n",
       "      <th>unique_id</th>\n",
       "      <th>LSTM</th>\n",
       "    </tr>\n",
       "    <tr>\n",
       "      <th>ds</th>\n",
       "      <th></th>\n",
       "      <th></th>\n",
       "    </tr>\n",
       "  </thead>\n",
       "  <tbody>\n",
       "    <tr>\n",
       "      <th>2017-09-30 19:00:00</th>\n",
       "      <td>series_1</td>\n",
       "      <td>0.128256</td>\n",
       "    </tr>\n",
       "    <tr>\n",
       "      <th>2017-09-30 20:00:00</th>\n",
       "      <td>series_1</td>\n",
       "      <td>0.139272</td>\n",
       "    </tr>\n",
       "    <tr>\n",
       "      <th>2017-09-30 21:00:00</th>\n",
       "      <td>series_1</td>\n",
       "      <td>0.149933</td>\n",
       "    </tr>\n",
       "    <tr>\n",
       "      <th>2017-09-30 22:00:00</th>\n",
       "      <td>series_1</td>\n",
       "      <td>0.162912</td>\n",
       "    </tr>\n",
       "    <tr>\n",
       "      <th>2017-09-30 23:00:00</th>\n",
       "      <td>series_1</td>\n",
       "      <td>0.172205</td>\n",
       "    </tr>\n",
       "    <tr>\n",
       "      <th>...</th>\n",
       "      <td>...</td>\n",
       "      <td>...</td>\n",
       "    </tr>\n",
       "    <tr>\n",
       "      <th>2017-10-30 20:00:00</th>\n",
       "      <td>series_1</td>\n",
       "      <td>0.722617</td>\n",
       "    </tr>\n",
       "    <tr>\n",
       "      <th>2017-10-30 21:00:00</th>\n",
       "      <td>series_1</td>\n",
       "      <td>0.723108</td>\n",
       "    </tr>\n",
       "    <tr>\n",
       "      <th>2017-10-30 22:00:00</th>\n",
       "      <td>series_1</td>\n",
       "      <td>0.719754</td>\n",
       "    </tr>\n",
       "    <tr>\n",
       "      <th>2017-10-30 23:00:00</th>\n",
       "      <td>series_1</td>\n",
       "      <td>0.719344</td>\n",
       "    </tr>\n",
       "    <tr>\n",
       "      <th>2017-10-31 00:00:00</th>\n",
       "      <td>series_1</td>\n",
       "      <td>0.718277</td>\n",
       "    </tr>\n",
       "  </tbody>\n",
       "</table>\n",
       "<p>726 rows × 2 columns</p>\n",
       "</div>"
      ],
      "text/plain": [
       "                    unique_id      LSTM\n",
       "ds                                     \n",
       "2017-09-30 19:00:00  series_1  0.128256\n",
       "2017-09-30 20:00:00  series_1  0.139272\n",
       "2017-09-30 21:00:00  series_1  0.149933\n",
       "2017-09-30 22:00:00  series_1  0.162912\n",
       "2017-09-30 23:00:00  series_1  0.172205\n",
       "...                       ...       ...\n",
       "2017-10-30 20:00:00  series_1  0.722617\n",
       "2017-10-30 21:00:00  series_1  0.723108\n",
       "2017-10-30 22:00:00  series_1  0.719754\n",
       "2017-10-30 23:00:00  series_1  0.719344\n",
       "2017-10-31 00:00:00  series_1  0.718277\n",
       "\n",
       "[726 rows x 2 columns]"
      ]
     },
     "execution_count": 59,
     "metadata": {},
     "output_type": "execute_result"
    }
   ],
   "source": [
    "preds_df['2h'] "
   ]
  },
  {
   "cell_type": "code",
   "execution_count": 60,
   "id": "f3eda489",
   "metadata": {},
   "outputs": [
    {
     "data": {
      "text/html": [
       "<div>\n",
       "<style scoped>\n",
       "    .dataframe tbody tr th:only-of-type {\n",
       "        vertical-align: middle;\n",
       "    }\n",
       "\n",
       "    .dataframe tbody tr th {\n",
       "        vertical-align: top;\n",
       "    }\n",
       "\n",
       "    .dataframe thead th {\n",
       "        text-align: right;\n",
       "    }\n",
       "</style>\n",
       "<table border=\"1\" class=\"dataframe\">\n",
       "  <thead>\n",
       "    <tr style=\"text-align: right;\">\n",
       "      <th></th>\n",
       "      <th>unique_id</th>\n",
       "      <th>LSTM</th>\n",
       "    </tr>\n",
       "    <tr>\n",
       "      <th>ds</th>\n",
       "      <th></th>\n",
       "      <th></th>\n",
       "    </tr>\n",
       "  </thead>\n",
       "  <tbody>\n",
       "    <tr>\n",
       "      <th>2017-09-30 20:00:00</th>\n",
       "      <td>series_1</td>\n",
       "      <td>0.137296</td>\n",
       "    </tr>\n",
       "    <tr>\n",
       "      <th>2017-09-30 21:00:00</th>\n",
       "      <td>series_1</td>\n",
       "      <td>0.149222</td>\n",
       "    </tr>\n",
       "    <tr>\n",
       "      <th>2017-09-30 22:00:00</th>\n",
       "      <td>series_1</td>\n",
       "      <td>0.159134</td>\n",
       "    </tr>\n",
       "    <tr>\n",
       "      <th>2017-09-30 23:00:00</th>\n",
       "      <td>series_1</td>\n",
       "      <td>0.172501</td>\n",
       "    </tr>\n",
       "    <tr>\n",
       "      <th>2017-10-01 00:00:00</th>\n",
       "      <td>series_1</td>\n",
       "      <td>0.182359</td>\n",
       "    </tr>\n",
       "    <tr>\n",
       "      <th>...</th>\n",
       "      <td>...</td>\n",
       "      <td>...</td>\n",
       "    </tr>\n",
       "    <tr>\n",
       "      <th>2017-10-30 21:00:00</th>\n",
       "      <td>series_1</td>\n",
       "      <td>0.722523</td>\n",
       "    </tr>\n",
       "    <tr>\n",
       "      <th>2017-10-30 22:00:00</th>\n",
       "      <td>series_1</td>\n",
       "      <td>0.722999</td>\n",
       "    </tr>\n",
       "    <tr>\n",
       "      <th>2017-10-30 23:00:00</th>\n",
       "      <td>series_1</td>\n",
       "      <td>0.719209</td>\n",
       "    </tr>\n",
       "    <tr>\n",
       "      <th>2017-10-31 00:00:00</th>\n",
       "      <td>series_1</td>\n",
       "      <td>0.718721</td>\n",
       "    </tr>\n",
       "    <tr>\n",
       "      <th>2017-10-31 01:00:00</th>\n",
       "      <td>series_1</td>\n",
       "      <td>0.717636</td>\n",
       "    </tr>\n",
       "  </tbody>\n",
       "</table>\n",
       "<p>726 rows × 2 columns</p>\n",
       "</div>"
      ],
      "text/plain": [
       "                    unique_id      LSTM\n",
       "ds                                     \n",
       "2017-09-30 20:00:00  series_1  0.137296\n",
       "2017-09-30 21:00:00  series_1  0.149222\n",
       "2017-09-30 22:00:00  series_1  0.159134\n",
       "2017-09-30 23:00:00  series_1  0.172501\n",
       "2017-10-01 00:00:00  series_1  0.182359\n",
       "...                       ...       ...\n",
       "2017-10-30 21:00:00  series_1  0.722523\n",
       "2017-10-30 22:00:00  series_1  0.722999\n",
       "2017-10-30 23:00:00  series_1  0.719209\n",
       "2017-10-31 00:00:00  series_1  0.718721\n",
       "2017-10-31 01:00:00  series_1  0.717636\n",
       "\n",
       "[726 rows x 2 columns]"
      ]
     },
     "execution_count": 60,
     "metadata": {},
     "output_type": "execute_result"
    }
   ],
   "source": [
    "preds_df['3h'] "
   ]
  },
  {
   "cell_type": "markdown",
   "id": "e4c0f744",
   "metadata": {},
   "source": [
    "Let us plot the predictions against the test set values."
   ]
  },
  {
   "cell_type": "code",
   "execution_count": 63,
   "id": "f7c145c5",
   "metadata": {},
   "outputs": [
    {
     "data": {
      "image/png": "[encoded data removed]",
      "text/plain": [
       "<Figure size 1200x600 with 1 Axes>"
      ]
     },
     "metadata": {},
     "output_type": "display_data"
    }
   ],
   "source": [
    "%matplotlib inline\n",
    "\n",
    "plt.figure(figsize=(12, 6))\n",
    "# plt.plot(val_df_nf[\"y\"].tail(20), label=\"Actual Active Power (training)\", color='magenta')\n",
    "# plt.plot(test_df_nf[\"y\"].head(20), label=\"Actual Active Power (test)\", color='blue')\n",
    "plt.plot(val_df_nf[\"y\"], label=\"Actual Active Power (training)\", color='magenta')\n",
    "plt.plot(test_df_nf[\"y\"], label=\"Actual Active Power (test)\", color='blue')\n",
    "plt.plot(preds_df['1h']['LSTM'][2:], label=\"Predicted Active Power 1h\", color='red')\n",
    "plt.plot(preds_df['2h']['LSTM'][1:], label=\"Predicted Active Power 2h\", color='green')\n",
    "plt.plot(preds_df['3h']['LSTM'], label=\"Predicted Active Power 3h\", color='orange')\n",
    "\n",
    "plt.legend()\n",
    "plt.show();plt.close()\n"
   ]
  },
  {
   "cell_type": "markdown",
   "id": "bb4711f0",
   "metadata": {},
   "source": [
    "### MAE computation"
   ]
  },
  {
   "cell_type": "markdown",
   "id": "315b80e0",
   "metadata": {},
   "source": [
    "We will next compute the MAE for each of the predictions in the dictionary. The trickiest part here is to ensure that the predictions are aligned with the test set. "
   ]
  },
  {
   "cell_type": "code",
   "execution_count": 64,
   "id": "3fd02257",
   "metadata": {},
   "outputs": [],
   "source": [
    "from sklearn.metrics import mean_absolute_error"
   ]
  },
  {
   "cell_type": "code",
   "execution_count": 65,
   "id": "4614bb41",
   "metadata": {},
   "outputs": [
    {
     "data": {
      "text/plain": [
       "(Timestamp('2017-09-30 20:00:00'), Timestamp('2017-10-30 23:00:00'))"
      ]
     },
     "execution_count": 65,
     "metadata": {},
     "output_type": "execute_result"
    }
   ],
   "source": [
    "test_df_nf.index.min(), test_df_nf.index.max()"
   ]
  },
  {
   "cell_type": "code",
   "execution_count": 66,
   "id": "c89faff2",
   "metadata": {},
   "outputs": [
    {
     "data": {
      "text/plain": [
       "time\n",
       "2017-09-30 20:00:00    0.135542\n",
       "2017-09-30 21:00:00    0.128765\n",
       "2017-09-30 22:00:00    0.108434\n",
       "2017-09-30 23:00:00    0.105422\n",
       "2017-10-01 00:00:00    0.165663\n",
       "                         ...   \n",
       "2017-10-30 19:00:00    0.443524\n",
       "2017-10-30 20:00:00    0.475904\n",
       "2017-10-30 21:00:00    0.490964\n",
       "2017-10-30 22:00:00    0.476657\n",
       "2017-10-30 23:00:00    0.463102\n",
       "Name: Wind_speed_tower, Length: 724, dtype: float64"
      ]
     },
     "execution_count": 66,
     "metadata": {},
     "output_type": "execute_result"
    }
   ],
   "source": [
    "test_df_nf['Wind_speed_tower']"
   ]
  },
  {
   "cell_type": "code",
   "execution_count": 68,
   "id": "8bb710d2",
   "metadata": {},
   "outputs": [
    {
     "data": {
      "text/html": [
       "<div>\n",
       "<style scoped>\n",
       "    .dataframe tbody tr th:only-of-type {\n",
       "        vertical-align: middle;\n",
       "    }\n",
       "\n",
       "    .dataframe tbody tr th {\n",
       "        vertical-align: top;\n",
       "    }\n",
       "\n",
       "    .dataframe thead th {\n",
       "        text-align: right;\n",
       "    }\n",
       "</style>\n",
       "<table border=\"1\" class=\"dataframe\">\n",
       "  <thead>\n",
       "    <tr style=\"text-align: right;\">\n",
       "      <th></th>\n",
       "      <th>LSTM</th>\n",
       "    </tr>\n",
       "    <tr>\n",
       "      <th>ds</th>\n",
       "      <th></th>\n",
       "    </tr>\n",
       "  </thead>\n",
       "  <tbody>\n",
       "    <tr>\n",
       "      <th>2017-09-30 20:00:00</th>\n",
       "      <td>0.139156</td>\n",
       "    </tr>\n",
       "    <tr>\n",
       "      <th>2017-09-30 21:00:00</th>\n",
       "      <td>0.150833</td>\n",
       "    </tr>\n",
       "    <tr>\n",
       "      <th>2017-09-30 22:00:00</th>\n",
       "      <td>0.162948</td>\n",
       "    </tr>\n",
       "    <tr>\n",
       "      <th>2017-09-30 23:00:00</th>\n",
       "      <td>0.175065</td>\n",
       "    </tr>\n",
       "    <tr>\n",
       "      <th>2017-10-01 00:00:00</th>\n",
       "      <td>0.183004</td>\n",
       "    </tr>\n",
       "    <tr>\n",
       "      <th>...</th>\n",
       "      <td>...</td>\n",
       "    </tr>\n",
       "    <tr>\n",
       "      <th>2017-10-30 19:00:00</th>\n",
       "      <td>0.722733</td>\n",
       "    </tr>\n",
       "    <tr>\n",
       "      <th>2017-10-30 20:00:00</th>\n",
       "      <td>0.722740</td>\n",
       "    </tr>\n",
       "    <tr>\n",
       "      <th>2017-10-30 21:00:00</th>\n",
       "      <td>0.720238</td>\n",
       "    </tr>\n",
       "    <tr>\n",
       "      <th>2017-10-30 22:00:00</th>\n",
       "      <td>0.719984</td>\n",
       "    </tr>\n",
       "    <tr>\n",
       "      <th>2017-10-30 23:00:00</th>\n",
       "      <td>0.719033</td>\n",
       "    </tr>\n",
       "  </tbody>\n",
       "</table>\n",
       "<p>724 rows × 1 columns</p>\n",
       "</div>"
      ],
      "text/plain": [
       "                         LSTM\n",
       "ds                           \n",
       "2017-09-30 20:00:00  0.139156\n",
       "2017-09-30 21:00:00  0.150833\n",
       "2017-09-30 22:00:00  0.162948\n",
       "2017-09-30 23:00:00  0.175065\n",
       "2017-10-01 00:00:00  0.183004\n",
       "...                       ...\n",
       "2017-10-30 19:00:00  0.722733\n",
       "2017-10-30 20:00:00  0.722740\n",
       "2017-10-30 21:00:00  0.720238\n",
       "2017-10-30 22:00:00  0.719984\n",
       "2017-10-30 23:00:00  0.719033\n",
       "\n",
       "[724 rows x 1 columns]"
      ]
     },
     "execution_count": 68,
     "metadata": {},
     "output_type": "execute_result"
    }
   ],
   "source": [
    "mape1h_df = preds_df['1h'].copy()[2:][['LSTM']]\n",
    "mape1h_df\n"
   ]
  },
  {
   "cell_type": "markdown",
   "id": "a296401e",
   "metadata": {},
   "source": [
    "We need to add the exogenous variables as they were used by the scaler. "
   ]
  },
  {
   "cell_type": "code",
   "execution_count": 69,
   "id": "e53f92ea",
   "metadata": {},
   "outputs": [
    {
     "data": {
      "text/html": [
       "<div>\n",
       "<style scoped>\n",
       "    .dataframe tbody tr th:only-of-type {\n",
       "        vertical-align: middle;\n",
       "    }\n",
       "\n",
       "    .dataframe tbody tr th {\n",
       "        vertical-align: top;\n",
       "    }\n",
       "\n",
       "    .dataframe thead th {\n",
       "        text-align: right;\n",
       "    }\n",
       "</style>\n",
       "<table border=\"1\" class=\"dataframe\">\n",
       "  <thead>\n",
       "    <tr style=\"text-align: right;\">\n",
       "      <th></th>\n",
       "      <th>Wind_speed_tower</th>\n",
       "      <th>LSTM</th>\n",
       "    </tr>\n",
       "    <tr>\n",
       "      <th>ds</th>\n",
       "      <th></th>\n",
       "      <th></th>\n",
       "    </tr>\n",
       "  </thead>\n",
       "  <tbody>\n",
       "    <tr>\n",
       "      <th>2017-09-30 20:00:00</th>\n",
       "      <td>0.135542</td>\n",
       "      <td>0.139156</td>\n",
       "    </tr>\n",
       "    <tr>\n",
       "      <th>2017-09-30 21:00:00</th>\n",
       "      <td>0.128765</td>\n",
       "      <td>0.150833</td>\n",
       "    </tr>\n",
       "    <tr>\n",
       "      <th>2017-09-30 22:00:00</th>\n",
       "      <td>0.108434</td>\n",
       "      <td>0.162948</td>\n",
       "    </tr>\n",
       "    <tr>\n",
       "      <th>2017-09-30 23:00:00</th>\n",
       "      <td>0.105422</td>\n",
       "      <td>0.175065</td>\n",
       "    </tr>\n",
       "    <tr>\n",
       "      <th>2017-10-01 00:00:00</th>\n",
       "      <td>0.165663</td>\n",
       "      <td>0.183004</td>\n",
       "    </tr>\n",
       "    <tr>\n",
       "      <th>...</th>\n",
       "      <td>...</td>\n",
       "      <td>...</td>\n",
       "    </tr>\n",
       "    <tr>\n",
       "      <th>2017-10-30 19:00:00</th>\n",
       "      <td>0.443524</td>\n",
       "      <td>0.722733</td>\n",
       "    </tr>\n",
       "    <tr>\n",
       "      <th>2017-10-30 20:00:00</th>\n",
       "      <td>0.475904</td>\n",
       "      <td>0.722740</td>\n",
       "    </tr>\n",
       "    <tr>\n",
       "      <th>2017-10-30 21:00:00</th>\n",
       "      <td>0.490964</td>\n",
       "      <td>0.720238</td>\n",
       "    </tr>\n",
       "    <tr>\n",
       "      <th>2017-10-30 22:00:00</th>\n",
       "      <td>0.476657</td>\n",
       "      <td>0.719984</td>\n",
       "    </tr>\n",
       "    <tr>\n",
       "      <th>2017-10-30 23:00:00</th>\n",
       "      <td>0.463102</td>\n",
       "      <td>0.719033</td>\n",
       "    </tr>\n",
       "  </tbody>\n",
       "</table>\n",
       "<p>724 rows × 2 columns</p>\n",
       "</div>"
      ],
      "text/plain": [
       "                     Wind_speed_tower      LSTM\n",
       "ds                                             \n",
       "2017-09-30 20:00:00          0.135542  0.139156\n",
       "2017-09-30 21:00:00          0.128765  0.150833\n",
       "2017-09-30 22:00:00          0.108434  0.162948\n",
       "2017-09-30 23:00:00          0.105422  0.175065\n",
       "2017-10-01 00:00:00          0.165663  0.183004\n",
       "...                               ...       ...\n",
       "2017-10-30 19:00:00          0.443524  0.722733\n",
       "2017-10-30 20:00:00          0.475904  0.722740\n",
       "2017-10-30 21:00:00          0.490964  0.720238\n",
       "2017-10-30 22:00:00          0.476657  0.719984\n",
       "2017-10-30 23:00:00          0.463102  0.719033\n",
       "\n",
       "[724 rows x 2 columns]"
      ]
     },
     "execution_count": 69,
     "metadata": {},
     "output_type": "execute_result"
    }
   ],
   "source": [
    "mape1h_df.insert(0, 'Wind_speed_tower', test_df_nf['Wind_speed_tower'].values)\n",
    "mape1h_df"
   ]
  },
  {
   "cell_type": "code",
   "execution_count": 70,
   "id": "ce3b83f0",
   "metadata": {},
   "outputs": [
    {
     "data": {
      "text/plain": [
       "0.01700629482576366"
      ]
     },
     "execution_count": 70,
     "metadata": {},
     "output_type": "execute_result"
    }
   ],
   "source": [
    "# mape1h_df.columns = [\"Wind_speed_tower\", \"Active_Power\"]\n",
    "mean_absolute_error(scaler.inverse_transform(mape1h_df)[:,1], test_df_original[\"Active_Power\"])"
   ]
  },
  {
   "cell_type": "markdown",
   "id": "a1c86407",
   "metadata": {},
   "source": [
    "#### Mae for 2h preddictions"
   ]
  },
  {
   "cell_type": "code",
   "execution_count": 71,
   "id": "8aba1a0a",
   "metadata": {},
   "outputs": [
    {
     "data": {
      "text/html": [
       "<div>\n",
       "<style scoped>\n",
       "    .dataframe tbody tr th:only-of-type {\n",
       "        vertical-align: middle;\n",
       "    }\n",
       "\n",
       "    .dataframe tbody tr th {\n",
       "        vertical-align: top;\n",
       "    }\n",
       "\n",
       "    .dataframe thead th {\n",
       "        text-align: right;\n",
       "    }\n",
       "</style>\n",
       "<table border=\"1\" class=\"dataframe\">\n",
       "  <thead>\n",
       "    <tr style=\"text-align: right;\">\n",
       "      <th></th>\n",
       "      <th>LSTM</th>\n",
       "    </tr>\n",
       "    <tr>\n",
       "      <th>ds</th>\n",
       "      <th></th>\n",
       "    </tr>\n",
       "  </thead>\n",
       "  <tbody>\n",
       "    <tr>\n",
       "      <th>2017-09-30 20:00:00</th>\n",
       "      <td>0.139272</td>\n",
       "    </tr>\n",
       "    <tr>\n",
       "      <th>2017-09-30 21:00:00</th>\n",
       "      <td>0.149933</td>\n",
       "    </tr>\n",
       "    <tr>\n",
       "      <th>2017-09-30 22:00:00</th>\n",
       "      <td>0.162912</td>\n",
       "    </tr>\n",
       "    <tr>\n",
       "      <th>2017-09-30 23:00:00</th>\n",
       "      <td>0.172205</td>\n",
       "    </tr>\n",
       "    <tr>\n",
       "      <th>2017-10-01 00:00:00</th>\n",
       "      <td>0.183969</td>\n",
       "    </tr>\n",
       "    <tr>\n",
       "      <th>...</th>\n",
       "      <td>...</td>\n",
       "    </tr>\n",
       "    <tr>\n",
       "      <th>2017-10-30 19:00:00</th>\n",
       "      <td>0.722718</td>\n",
       "    </tr>\n",
       "    <tr>\n",
       "      <th>2017-10-30 20:00:00</th>\n",
       "      <td>0.722617</td>\n",
       "    </tr>\n",
       "    <tr>\n",
       "      <th>2017-10-30 21:00:00</th>\n",
       "      <td>0.723108</td>\n",
       "    </tr>\n",
       "    <tr>\n",
       "      <th>2017-10-30 22:00:00</th>\n",
       "      <td>0.719754</td>\n",
       "    </tr>\n",
       "    <tr>\n",
       "      <th>2017-10-30 23:00:00</th>\n",
       "      <td>0.719344</td>\n",
       "    </tr>\n",
       "  </tbody>\n",
       "</table>\n",
       "<p>724 rows × 1 columns</p>\n",
       "</div>"
      ],
      "text/plain": [
       "                         LSTM\n",
       "ds                           \n",
       "2017-09-30 20:00:00  0.139272\n",
       "2017-09-30 21:00:00  0.149933\n",
       "2017-09-30 22:00:00  0.162912\n",
       "2017-09-30 23:00:00  0.172205\n",
       "2017-10-01 00:00:00  0.183969\n",
       "...                       ...\n",
       "2017-10-30 19:00:00  0.722718\n",
       "2017-10-30 20:00:00  0.722617\n",
       "2017-10-30 21:00:00  0.723108\n",
       "2017-10-30 22:00:00  0.719754\n",
       "2017-10-30 23:00:00  0.719344\n",
       "\n",
       "[724 rows x 1 columns]"
      ]
     },
     "execution_count": 71,
     "metadata": {},
     "output_type": "execute_result"
    }
   ],
   "source": [
    "mape2h_df = preds_df['2h'].copy()[1:][:-1][['LSTM']]\n",
    "mape2h_df\n"
   ]
  },
  {
   "cell_type": "code",
   "execution_count": 72,
   "id": "086c5c7e",
   "metadata": {},
   "outputs": [
    {
     "data": {
      "text/html": [
       "<div>\n",
       "<style scoped>\n",
       "    .dataframe tbody tr th:only-of-type {\n",
       "        vertical-align: middle;\n",
       "    }\n",
       "\n",
       "    .dataframe tbody tr th {\n",
       "        vertical-align: top;\n",
       "    }\n",
       "\n",
       "    .dataframe thead th {\n",
       "        text-align: right;\n",
       "    }\n",
       "</style>\n",
       "<table border=\"1\" class=\"dataframe\">\n",
       "  <thead>\n",
       "    <tr style=\"text-align: right;\">\n",
       "      <th></th>\n",
       "      <th>Wind_speed_tower</th>\n",
       "      <th>LSTM</th>\n",
       "    </tr>\n",
       "    <tr>\n",
       "      <th>ds</th>\n",
       "      <th></th>\n",
       "      <th></th>\n",
       "    </tr>\n",
       "  </thead>\n",
       "  <tbody>\n",
       "    <tr>\n",
       "      <th>2017-09-30 20:00:00</th>\n",
       "      <td>0.135542</td>\n",
       "      <td>0.139272</td>\n",
       "    </tr>\n",
       "    <tr>\n",
       "      <th>2017-09-30 21:00:00</th>\n",
       "      <td>0.128765</td>\n",
       "      <td>0.149933</td>\n",
       "    </tr>\n",
       "    <tr>\n",
       "      <th>2017-09-30 22:00:00</th>\n",
       "      <td>0.108434</td>\n",
       "      <td>0.162912</td>\n",
       "    </tr>\n",
       "    <tr>\n",
       "      <th>2017-09-30 23:00:00</th>\n",
       "      <td>0.105422</td>\n",
       "      <td>0.172205</td>\n",
       "    </tr>\n",
       "    <tr>\n",
       "      <th>2017-10-01 00:00:00</th>\n",
       "      <td>0.165663</td>\n",
       "      <td>0.183969</td>\n",
       "    </tr>\n",
       "    <tr>\n",
       "      <th>...</th>\n",
       "      <td>...</td>\n",
       "      <td>...</td>\n",
       "    </tr>\n",
       "    <tr>\n",
       "      <th>2017-10-30 19:00:00</th>\n",
       "      <td>0.443524</td>\n",
       "      <td>0.722718</td>\n",
       "    </tr>\n",
       "    <tr>\n",
       "      <th>2017-10-30 20:00:00</th>\n",
       "      <td>0.475904</td>\n",
       "      <td>0.722617</td>\n",
       "    </tr>\n",
       "    <tr>\n",
       "      <th>2017-10-30 21:00:00</th>\n",
       "      <td>0.490964</td>\n",
       "      <td>0.723108</td>\n",
       "    </tr>\n",
       "    <tr>\n",
       "      <th>2017-10-30 22:00:00</th>\n",
       "      <td>0.476657</td>\n",
       "      <td>0.719754</td>\n",
       "    </tr>\n",
       "    <tr>\n",
       "      <th>2017-10-30 23:00:00</th>\n",
       "      <td>0.463102</td>\n",
       "      <td>0.719344</td>\n",
       "    </tr>\n",
       "  </tbody>\n",
       "</table>\n",
       "<p>724 rows × 2 columns</p>\n",
       "</div>"
      ],
      "text/plain": [
       "                     Wind_speed_tower      LSTM\n",
       "ds                                             \n",
       "2017-09-30 20:00:00          0.135542  0.139272\n",
       "2017-09-30 21:00:00          0.128765  0.149933\n",
       "2017-09-30 22:00:00          0.108434  0.162912\n",
       "2017-09-30 23:00:00          0.105422  0.172205\n",
       "2017-10-01 00:00:00          0.165663  0.183969\n",
       "...                               ...       ...\n",
       "2017-10-30 19:00:00          0.443524  0.722718\n",
       "2017-10-30 20:00:00          0.475904  0.722617\n",
       "2017-10-30 21:00:00          0.490964  0.723108\n",
       "2017-10-30 22:00:00          0.476657  0.719754\n",
       "2017-10-30 23:00:00          0.463102  0.719344\n",
       "\n",
       "[724 rows x 2 columns]"
      ]
     },
     "execution_count": 72,
     "metadata": {},
     "output_type": "execute_result"
    }
   ],
   "source": [
    "mape2h_df.insert(0, 'Wind_speed_tower', test_df_nf['Wind_speed_tower'].values)\n",
    "mape2h_df"
   ]
  },
  {
   "cell_type": "code",
   "execution_count": 73,
   "id": "1fd6cd7b",
   "metadata": {},
   "outputs": [
    {
     "data": {
      "text/plain": [
       "0.023646815081140877"
      ]
     },
     "execution_count": 73,
     "metadata": {},
     "output_type": "execute_result"
    }
   ],
   "source": [
    "# mape1h_df.columns = [\"Wind_speed_tower\", \"Active_Power\"]\n",
    "mean_absolute_error(scaler.inverse_transform(mape2h_df)[:,1], test_df_original[\"Active_Power\"])"
   ]
  },
  {
   "cell_type": "markdown",
   "id": "e08b6f48",
   "metadata": {},
   "source": [
    "#### Mae for 3h preddictions"
   ]
  },
  {
   "cell_type": "code",
   "execution_count": 74,
   "id": "2d3bce52",
   "metadata": {},
   "outputs": [
    {
     "data": {
      "text/html": [
       "<div>\n",
       "<style scoped>\n",
       "    .dataframe tbody tr th:only-of-type {\n",
       "        vertical-align: middle;\n",
       "    }\n",
       "\n",
       "    .dataframe tbody tr th {\n",
       "        vertical-align: top;\n",
       "    }\n",
       "\n",
       "    .dataframe thead th {\n",
       "        text-align: right;\n",
       "    }\n",
       "</style>\n",
       "<table border=\"1\" class=\"dataframe\">\n",
       "  <thead>\n",
       "    <tr style=\"text-align: right;\">\n",
       "      <th></th>\n",
       "      <th>LSTM</th>\n",
       "    </tr>\n",
       "    <tr>\n",
       "      <th>ds</th>\n",
       "      <th></th>\n",
       "    </tr>\n",
       "  </thead>\n",
       "  <tbody>\n",
       "    <tr>\n",
       "      <th>2017-09-30 20:00:00</th>\n",
       "      <td>0.137296</td>\n",
       "    </tr>\n",
       "    <tr>\n",
       "      <th>2017-09-30 21:00:00</th>\n",
       "      <td>0.149222</td>\n",
       "    </tr>\n",
       "    <tr>\n",
       "      <th>2017-09-30 22:00:00</th>\n",
       "      <td>0.159134</td>\n",
       "    </tr>\n",
       "    <tr>\n",
       "      <th>2017-09-30 23:00:00</th>\n",
       "      <td>0.172501</td>\n",
       "    </tr>\n",
       "    <tr>\n",
       "      <th>2017-10-01 00:00:00</th>\n",
       "      <td>0.182359</td>\n",
       "    </tr>\n",
       "    <tr>\n",
       "      <th>...</th>\n",
       "      <td>...</td>\n",
       "    </tr>\n",
       "    <tr>\n",
       "      <th>2017-10-30 19:00:00</th>\n",
       "      <td>0.722595</td>\n",
       "    </tr>\n",
       "    <tr>\n",
       "      <th>2017-10-30 20:00:00</th>\n",
       "      <td>0.722721</td>\n",
       "    </tr>\n",
       "    <tr>\n",
       "      <th>2017-10-30 21:00:00</th>\n",
       "      <td>0.722523</td>\n",
       "    </tr>\n",
       "    <tr>\n",
       "      <th>2017-10-30 22:00:00</th>\n",
       "      <td>0.722999</td>\n",
       "    </tr>\n",
       "    <tr>\n",
       "      <th>2017-10-30 23:00:00</th>\n",
       "      <td>0.719209</td>\n",
       "    </tr>\n",
       "  </tbody>\n",
       "</table>\n",
       "<p>724 rows × 1 columns</p>\n",
       "</div>"
      ],
      "text/plain": [
       "                         LSTM\n",
       "ds                           \n",
       "2017-09-30 20:00:00  0.137296\n",
       "2017-09-30 21:00:00  0.149222\n",
       "2017-09-30 22:00:00  0.159134\n",
       "2017-09-30 23:00:00  0.172501\n",
       "2017-10-01 00:00:00  0.182359\n",
       "...                       ...\n",
       "2017-10-30 19:00:00  0.722595\n",
       "2017-10-30 20:00:00  0.722721\n",
       "2017-10-30 21:00:00  0.722523\n",
       "2017-10-30 22:00:00  0.722999\n",
       "2017-10-30 23:00:00  0.719209\n",
       "\n",
       "[724 rows x 1 columns]"
      ]
     },
     "execution_count": 74,
     "metadata": {},
     "output_type": "execute_result"
    }
   ],
   "source": [
    "mape3h_df = preds_df['3h'].copy()[:-2][['LSTM']]\n",
    "mape3h_df\n"
   ]
  },
  {
   "cell_type": "code",
   "execution_count": 75,
   "id": "0c2d09de",
   "metadata": {},
   "outputs": [
    {
     "data": {
      "text/html": [
       "<div>\n",
       "<style scoped>\n",
       "    .dataframe tbody tr th:only-of-type {\n",
       "        vertical-align: middle;\n",
       "    }\n",
       "\n",
       "    .dataframe tbody tr th {\n",
       "        vertical-align: top;\n",
       "    }\n",
       "\n",
       "    .dataframe thead th {\n",
       "        text-align: right;\n",
       "    }\n",
       "</style>\n",
       "<table border=\"1\" class=\"dataframe\">\n",
       "  <thead>\n",
       "    <tr style=\"text-align: right;\">\n",
       "      <th></th>\n",
       "      <th>Wind_speed_tower</th>\n",
       "      <th>LSTM</th>\n",
       "    </tr>\n",
       "    <tr>\n",
       "      <th>ds</th>\n",
       "      <th></th>\n",
       "      <th></th>\n",
       "    </tr>\n",
       "  </thead>\n",
       "  <tbody>\n",
       "    <tr>\n",
       "      <th>2017-09-30 20:00:00</th>\n",
       "      <td>0.135542</td>\n",
       "      <td>0.137296</td>\n",
       "    </tr>\n",
       "    <tr>\n",
       "      <th>2017-09-30 21:00:00</th>\n",
       "      <td>0.128765</td>\n",
       "      <td>0.149222</td>\n",
       "    </tr>\n",
       "    <tr>\n",
       "      <th>2017-09-30 22:00:00</th>\n",
       "      <td>0.108434</td>\n",
       "      <td>0.159134</td>\n",
       "    </tr>\n",
       "    <tr>\n",
       "      <th>2017-09-30 23:00:00</th>\n",
       "      <td>0.105422</td>\n",
       "      <td>0.172501</td>\n",
       "    </tr>\n",
       "    <tr>\n",
       "      <th>2017-10-01 00:00:00</th>\n",
       "      <td>0.165663</td>\n",
       "      <td>0.182359</td>\n",
       "    </tr>\n",
       "    <tr>\n",
       "      <th>...</th>\n",
       "      <td>...</td>\n",
       "      <td>...</td>\n",
       "    </tr>\n",
       "    <tr>\n",
       "      <th>2017-10-30 19:00:00</th>\n",
       "      <td>0.443524</td>\n",
       "      <td>0.722595</td>\n",
       "    </tr>\n",
       "    <tr>\n",
       "      <th>2017-10-30 20:00:00</th>\n",
       "      <td>0.475904</td>\n",
       "      <td>0.722721</td>\n",
       "    </tr>\n",
       "    <tr>\n",
       "      <th>2017-10-30 21:00:00</th>\n",
       "      <td>0.490964</td>\n",
       "      <td>0.722523</td>\n",
       "    </tr>\n",
       "    <tr>\n",
       "      <th>2017-10-30 22:00:00</th>\n",
       "      <td>0.476657</td>\n",
       "      <td>0.722999</td>\n",
       "    </tr>\n",
       "    <tr>\n",
       "      <th>2017-10-30 23:00:00</th>\n",
       "      <td>0.463102</td>\n",
       "      <td>0.719209</td>\n",
       "    </tr>\n",
       "  </tbody>\n",
       "</table>\n",
       "<p>724 rows × 2 columns</p>\n",
       "</div>"
      ],
      "text/plain": [
       "                     Wind_speed_tower      LSTM\n",
       "ds                                             \n",
       "2017-09-30 20:00:00          0.135542  0.137296\n",
       "2017-09-30 21:00:00          0.128765  0.149222\n",
       "2017-09-30 22:00:00          0.108434  0.159134\n",
       "2017-09-30 23:00:00          0.105422  0.172501\n",
       "2017-10-01 00:00:00          0.165663  0.182359\n",
       "...                               ...       ...\n",
       "2017-10-30 19:00:00          0.443524  0.722595\n",
       "2017-10-30 20:00:00          0.475904  0.722721\n",
       "2017-10-30 21:00:00          0.490964  0.722523\n",
       "2017-10-30 22:00:00          0.476657  0.722999\n",
       "2017-10-30 23:00:00          0.463102  0.719209\n",
       "\n",
       "[724 rows x 2 columns]"
      ]
     },
     "execution_count": 75,
     "metadata": {},
     "output_type": "execute_result"
    }
   ],
   "source": [
    "mape3h_df.insert(0, 'Wind_speed_tower', test_df_nf['Wind_speed_tower'].values)\n",
    "mape3h_df"
   ]
  },
  {
   "cell_type": "code",
   "execution_count": 76,
   "id": "a190c500",
   "metadata": {},
   "outputs": [
    {
     "data": {
      "text/plain": [
       "0.02656912006494867"
      ]
     },
     "execution_count": 76,
     "metadata": {},
     "output_type": "execute_result"
    }
   ],
   "source": [
    "mean_absolute_error(scaler.inverse_transform(mape3h_df)[:,1], test_df_original[\"Active_Power\"])"
   ]
  }
 ],
 "metadata": {
  "kernelspec": {
   "display_name": "tfm_cc",
   "language": "python",
   "name": "python3"
  },
  "language_info": {
   "codemirror_mode": {
    "name": "ipython",
    "version": 3
   },
   "file_extension": ".py",
   "mimetype": "text/x-python",
   "name": "python",
   "nbconvert_exporter": "python",
   "pygments_lexer": "ipython3",
   "version": "3.10.16"
  }
 },
 "nbformat": 4,
 "nbformat_minor": 5
}
